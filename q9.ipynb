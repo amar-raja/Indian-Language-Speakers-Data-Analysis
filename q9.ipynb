{
 "cells": [
  {
   "cell_type": "code",
   "execution_count": 1,
   "id": "c3eba0aa",
   "metadata": {
    "execution": {
     "iopub.execute_input": "2021-11-09T11:10:15.534140Z",
     "iopub.status.busy": "2021-11-09T11:10:15.518520Z",
     "iopub.status.idle": "2021-11-09T11:10:15.549814Z",
     "shell.execute_reply": "2021-11-09T11:10:15.549814Z"
    }
   },
   "outputs": [],
   "source": [
    "#files used c19,c08"
   ]
  },
  {
   "cell_type": "code",
   "execution_count": 2,
   "id": "3777849b",
   "metadata": {
    "execution": {
     "iopub.execute_input": "2021-11-09T11:10:15.565407Z",
     "iopub.status.busy": "2021-11-09T11:10:15.565407Z",
     "iopub.status.idle": "2021-11-09T11:10:16.705739Z",
     "shell.execute_reply": "2021-11-09T11:10:16.705739Z"
    }
   },
   "outputs": [],
   "source": [
    "import numpy as np\n",
    "import pandas as pd\n",
    "import datetime as dt\n",
    "import warnings\n",
    "warnings.filterwarnings('ignore')"
   ]
  },
  {
   "cell_type": "code",
   "execution_count": 3,
   "id": "3a547509",
   "metadata": {
    "execution": {
     "iopub.execute_input": "2021-11-09T11:10:16.705739Z",
     "iopub.status.busy": "2021-11-09T11:10:16.705739Z",
     "iopub.status.idle": "2021-11-09T11:10:18.127295Z",
     "shell.execute_reply": "2021-11-09T11:10:18.127295Z"
    }
   },
   "outputs": [],
   "source": [
    "#ASSIGNING COL NAMES\n",
    "column_names = ['State', 'District', 'Name', 'TRU','Edu-level','Persons.2','Males.2','Females.2','Persons.3','Males.3','Females.3']\n",
    "#READING DATA\n",
    "df = pd.read_excel('DDW-C19-0000.xlsx',names=column_names,skiprows=5,skipfooter=3)"
   ]
  },
  {
   "cell_type": "code",
   "execution_count": 4,
   "id": "90716f4c",
   "metadata": {
    "execution": {
     "iopub.execute_input": "2021-11-09T11:10:18.142908Z",
     "iopub.status.busy": "2021-11-09T11:10:18.142908Z",
     "iopub.status.idle": "2021-11-09T11:10:18.158519Z",
     "shell.execute_reply": "2021-11-09T11:10:18.158519Z"
    }
   },
   "outputs": [
    {
     "data": {
      "text/plain": [
       "Index(['State', 'District', 'Name', 'TRU', 'Edu-level', 'Persons.2', 'Males.2',\n",
       "       'Females.2', 'Persons.3', 'Males.3', 'Females.3'],\n",
       "      dtype='object')"
      ]
     },
     "execution_count": 4,
     "metadata": {},
     "output_type": "execute_result"
    }
   ],
   "source": [
    "df.columns"
   ]
  },
  {
   "cell_type": "code",
   "execution_count": 5,
   "id": "b437be2b",
   "metadata": {
    "execution": {
     "iopub.execute_input": "2021-11-09T11:10:18.158519Z",
     "iopub.status.busy": "2021-11-09T11:10:18.158519Z",
     "iopub.status.idle": "2021-11-09T11:10:18.174157Z",
     "shell.execute_reply": "2021-11-09T11:10:18.174157Z"
    }
   },
   "outputs": [],
   "source": [
    "# df.head(20)"
   ]
  },
  {
   "cell_type": "code",
   "execution_count": 6,
   "id": "caf6c418",
   "metadata": {
    "execution": {
     "iopub.execute_input": "2021-11-09T11:10:18.174157Z",
     "iopub.status.busy": "2021-11-09T11:10:18.174157Z",
     "iopub.status.idle": "2021-11-09T11:10:18.189808Z",
     "shell.execute_reply": "2021-11-09T11:10:18.189808Z"
    }
   },
   "outputs": [
    {
     "data": {
      "text/plain": [
       "(864, 11)"
      ]
     },
     "execution_count": 6,
     "metadata": {},
     "output_type": "execute_result"
    }
   ],
   "source": [
    "df.shape"
   ]
  },
  {
   "cell_type": "code",
   "execution_count": 7,
   "id": "880df536",
   "metadata": {
    "execution": {
     "iopub.execute_input": "2021-11-09T11:10:18.189808Z",
     "iopub.status.busy": "2021-11-09T11:10:18.189808Z",
     "iopub.status.idle": "2021-11-09T11:10:18.205384Z",
     "shell.execute_reply": "2021-11-09T11:10:18.205384Z"
    }
   },
   "outputs": [
    {
     "data": {
      "text/plain": [
       "array(['Total', 'Illiterate', 'Literate', 'Literate but below primary',\n",
       "       'Primary but below middle', 'Middle but below matric/secondary',\n",
       "       'Matric/Secondary but below graduate', 'Graduate and above'],\n",
       "      dtype=object)"
      ]
     },
     "execution_count": 7,
     "metadata": {},
     "output_type": "execute_result"
    }
   ],
   "source": [
    "#UNIQUE LITERACY CATEGORIES \n",
    "df['Edu-level'].unique()"
   ]
  },
  {
   "cell_type": "code",
   "execution_count": 8,
   "id": "138ca87f",
   "metadata": {
    "execution": {
     "iopub.execute_input": "2021-11-09T11:10:18.221004Z",
     "iopub.status.busy": "2021-11-09T11:10:18.221004Z",
     "iopub.status.idle": "2021-11-09T11:10:18.236672Z",
     "shell.execute_reply": "2021-11-09T11:10:18.236672Z"
    }
   },
   "outputs": [],
   "source": [
    "# REMOVING URBAN AND RURAL ROWS and Edu-level TOTAL,LITERATE(it is removed as literacy has sub divisions)\n",
    "idx = df.loc[(df['TRU']!='Total') | (df['Edu-level'] == 'Total') |(df['Edu-level'] == 'Literate')].index\n",
    "df = df.drop(idx)"
   ]
  },
  {
   "cell_type": "code",
   "execution_count": 9,
   "id": "a0008c77",
   "metadata": {
    "execution": {
     "iopub.execute_input": "2021-11-09T11:10:18.236672Z",
     "iopub.status.busy": "2021-11-09T11:10:18.236672Z",
     "iopub.status.idle": "2021-11-09T11:10:18.252289Z",
     "shell.execute_reply": "2021-11-09T11:10:18.252289Z"
    }
   },
   "outputs": [],
   "source": [
    "# #EXACTLY TWO LANG\n",
    "# df['t_2_lang'] = df['Persons.2'] - df['Persons.3']\n",
    "# df['m_2_lang'] = df['Males.2'] - df['Males.3']\n",
    "# df['f_2_lang'] = df['Females.2'] - df['Females.3']\n"
   ]
  },
  {
   "cell_type": "code",
   "execution_count": 10,
   "id": "aff3aed9",
   "metadata": {
    "execution": {
     "iopub.execute_input": "2021-11-09T11:10:18.252289Z",
     "iopub.status.busy": "2021-11-09T11:10:18.252289Z",
     "iopub.status.idle": "2021-11-09T11:10:18.267912Z",
     "shell.execute_reply": "2021-11-09T11:10:18.267912Z"
    }
   },
   "outputs": [],
   "source": [
    "# df.reset_index(drop=True,inplace=True)"
   ]
  },
  {
   "cell_type": "code",
   "execution_count": null,
   "id": "25e76dd6",
   "metadata": {},
   "outputs": [],
   "source": []
  },
  {
   "cell_type": "markdown",
   "id": "5784ea1d",
   "metadata": {},
   "source": [
    "#### PREPROCESSING C08"
   ]
  },
  {
   "cell_type": "code",
   "execution_count": 11,
   "id": "67464aa1",
   "metadata": {
    "execution": {
     "iopub.execute_input": "2021-11-09T11:10:18.283490Z",
     "iopub.status.busy": "2021-11-09T11:10:18.267912Z",
     "iopub.status.idle": "2021-11-09T11:10:18.283490Z",
     "shell.execute_reply": "2021-11-09T11:10:18.283490Z"
    }
   },
   "outputs": [],
   "source": [
    "column_names = ['table_name', 'State','District', 'Name', 'TRU','Age-group', 'Persons', 'Males', 'Females', 'Persons.1', 'Males.1', 'Females.1', 'Persons.2', 'Males.2', 'Females.2', 'Persons.3', 'Males.3', 'Females.3', 'Persons.4', 'Males.4', 'Females.4', 'Persons.5', 'Males.5', 'Females.5', 'Persons.6', 'Males.6', 'Females.6', 'Persons.7', 'Males.7', 'Females.7', 'Persons.8',\n",
    "       'Males.8', 'Females.8', 'Persons.9', 'Males.9', 'Females.9', 'Persons.10', 'Males.10', 'Females.10', 'Persons.11', 'Males.11', 'Females.11', 'Persons.12', 'Males.12', 'Females.12']"
   ]
  },
  {
   "cell_type": "code",
   "execution_count": 12,
   "id": "eccb1419",
   "metadata": {
    "execution": {
     "iopub.execute_input": "2021-11-09T11:10:18.283490Z",
     "iopub.status.busy": "2021-11-09T11:10:18.283490Z",
     "iopub.status.idle": "2021-11-09T11:10:20.848353Z",
     "shell.execute_reply": "2021-11-09T11:10:20.848353Z"
    }
   },
   "outputs": [],
   "source": [
    "# DDW-0000C-08.xlsx\n",
    "lit_pop = pd.read_excel('DDW-0000C-08.xlsx',names=column_names,skiprows=6)"
   ]
  },
  {
   "cell_type": "code",
   "execution_count": 13,
   "id": "200a2066",
   "metadata": {
    "execution": {
     "iopub.execute_input": "2021-11-09T11:10:20.848353Z",
     "iopub.status.busy": "2021-11-09T11:10:20.848353Z",
     "iopub.status.idle": "2021-11-09T11:10:20.864006Z",
     "shell.execute_reply": "2021-11-09T11:10:20.864006Z"
    }
   },
   "outputs": [],
   "source": [
    "#Removing string \"State - \"\n",
    "lit_pop['Name'] = lit_pop['Name'].str.replace('State - ','')"
   ]
  },
  {
   "cell_type": "code",
   "execution_count": 14,
   "id": "da06ac8c",
   "metadata": {
    "execution": {
     "iopub.execute_input": "2021-11-09T11:10:20.864006Z",
     "iopub.status.busy": "2021-11-09T11:10:20.864006Z",
     "iopub.status.idle": "2021-11-09T11:10:20.879595Z",
     "shell.execute_reply": "2021-11-09T11:10:20.879595Z"
    }
   },
   "outputs": [],
   "source": [
    "# lit_pop.head(10)"
   ]
  },
  {
   "cell_type": "code",
   "execution_count": 15,
   "id": "0652b7e4",
   "metadata": {
    "execution": {
     "iopub.execute_input": "2021-11-09T11:10:20.879595Z",
     "iopub.status.busy": "2021-11-09T11:10:20.879595Z",
     "iopub.status.idle": "2021-11-09T11:10:20.895216Z",
     "shell.execute_reply": "2021-11-09T11:10:20.895216Z"
    }
   },
   "outputs": [
    {
     "data": {
      "text/plain": [
       "(3132, 45)"
      ]
     },
     "execution_count": 15,
     "metadata": {},
     "output_type": "execute_result"
    }
   ],
   "source": [
    "lit_pop.shape"
   ]
  },
  {
   "cell_type": "code",
   "execution_count": 16,
   "id": "f6306d68",
   "metadata": {
    "execution": {
     "iopub.execute_input": "2021-11-09T11:10:20.895216Z",
     "iopub.status.busy": "2021-11-09T11:10:20.895216Z",
     "iopub.status.idle": "2021-11-09T11:10:20.910838Z",
     "shell.execute_reply": "2021-11-09T11:10:20.910838Z"
    }
   },
   "outputs": [],
   "source": [
    "#DROPPING TRU = (URBAN,RURAL) and AGE-GROUP = (All ages) as they are not needed\n",
    "idx = lit_pop.loc[(lit_pop['TRU']!='Total') | (lit_pop['Age-group'] !='All ages')].index\n",
    "lit_pop = lit_pop.drop(idx)"
   ]
  },
  {
   "cell_type": "code",
   "execution_count": 17,
   "id": "2a3f96f1",
   "metadata": {
    "execution": {
     "iopub.execute_input": "2021-11-09T11:10:20.910838Z",
     "iopub.status.busy": "2021-11-09T11:10:20.910838Z",
     "iopub.status.idle": "2021-11-09T11:10:20.926459Z",
     "shell.execute_reply": "2021-11-09T11:10:20.926459Z"
    }
   },
   "outputs": [],
   "source": [
    "lit_pop.reset_index(drop=True,inplace=True)"
   ]
  },
  {
   "cell_type": "markdown",
   "id": "d03f8dfc",
   "metadata": {},
   "source": [
    "COMBINING BASED ON GROUPINGS WE NEED"
   ]
  },
  {
   "cell_type": "code",
   "execution_count": 18,
   "id": "aa528822",
   "metadata": {
    "execution": {
     "iopub.execute_input": "2021-11-09T11:10:20.957704Z",
     "iopub.status.busy": "2021-11-09T11:10:20.957704Z",
     "iopub.status.idle": "2021-11-09T11:10:20.973369Z",
     "shell.execute_reply": "2021-11-09T11:10:20.973369Z"
    }
   },
   "outputs": [],
   "source": [
    "newdf_m = pd.DataFrame()       #MALE DATAFRAME\n",
    "newdf_f = pd.DataFrame()        #FEMALE DATAFRAME\n",
    "\n",
    "# newdf_m['Name'] = lit_pop['Name']\n",
    "# newdf_f['Name'] = lit_pop['Name']\n",
    "\n",
    "newdf_m['ill'] = lit_pop['Males.1']                        #ILLITERACY\n",
    "newdf_f['ill'] = lit_pop['Females.1']\n",
    "\n",
    "# newdf['lbp'] = lit_pop['Persons.3'] + lit_pop['Persons.4']  #LITERACY BUT BELOW PRIMARY\n",
    "newdf_m['lbp_m'] = lit_pop['Persons.3']+lit_pop['Males.4']\n",
    "newdf_f['lbp_f'] = lit_pop['Persons.3']+lit_pop['Females.4']\n",
    "\n",
    "newdf_m['pbm_m'] = lit_pop['Males.5']                         #PRIMARY BUT BELOW MIDDLE\n",
    "newdf_f['pbm_f'] = lit_pop['Females.5']\n",
    "\n",
    "newdf_m['mbm_m'] = lit_pop['Males.6']                          # MIDDLE BUT BELOW MATRIC\n",
    "newdf_f['mbm_f'] = lit_pop['Females.6']\n",
    "\n",
    "#MATRIC BUT BELOW GRAD = Matric/Secondary  +     Higher secondary/Intermediate+ \n",
    "#                        Non-technical diploma   +    Technical diploma or certificate\n",
    "\n",
    "newdf_m['mbg_m'] = lit_pop['Males.7']+lit_pop['Males.8']+lit_pop['Males.9']+lit_pop['Males.10']     #MATRIC BUT BELOW GRAD\n",
    "newdf_f['mbg_f'] = lit_pop['Females.7']+lit_pop['Females.8']+lit_pop['Females.9']+lit_pop['Females.10']\n",
    "\n",
    "newdf_m['gaa_m'] = lit_pop['Males.11']                          #GRADUATE AND ABOVE\n",
    "newdf_f['gaa_f'] = lit_pop['Females.11']"
   ]
  },
  {
   "cell_type": "code",
   "execution_count": 19,
   "id": "7a346dfd",
   "metadata": {
    "execution": {
     "iopub.execute_input": "2021-11-09T11:10:20.973369Z",
     "iopub.status.busy": "2021-11-09T11:10:20.973369Z",
     "iopub.status.idle": "2021-11-09T11:10:20.988947Z",
     "shell.execute_reply": "2021-11-09T11:10:20.988947Z"
    }
   },
   "outputs": [],
   "source": [
    "# newdf_f"
   ]
  },
  {
   "cell_type": "code",
   "execution_count": 20,
   "id": "b59cbd58",
   "metadata": {
    "execution": {
     "iopub.execute_input": "2021-11-09T11:10:20.988947Z",
     "iopub.status.busy": "2021-11-09T11:10:20.988947Z",
     "iopub.status.idle": "2021-11-09T11:10:21.004566Z",
     "shell.execute_reply": "2021-11-09T11:10:21.004566Z"
    }
   },
   "outputs": [],
   "source": [
    "# COMMENT-->\n",
    "# BUT THERE IS A NOTE IN C19(last line of file) which says this\n",
    "#MATRIC BUT BELOW GRAD = Matric/Secondary  + Non-technical diploma   +    Technical diploma or certificate\n",
    "# (i.e) no HIGER SECONDARY\n",
    "# then we can use this instead of above matric but below graduate\n",
    "\n",
    "# newdf_m['mbg_m'] = lit_pop['Males.7']+lit_pop['Males.9']+lit_pop['Males.10']     #MATRIC BUT BELOW GRAD\n",
    "# newdf_f['mbg_f'] = lit_pop['Females.7']+lit_pop['Females.9']+lit_pop['Females.10']\n",
    "\n",
    "\n"
   ]
  },
  {
   "cell_type": "code",
   "execution_count": 21,
   "id": "2368fae9",
   "metadata": {
    "execution": {
     "iopub.execute_input": "2021-11-09T11:10:21.020226Z",
     "iopub.status.busy": "2021-11-09T11:10:21.020226Z",
     "iopub.status.idle": "2021-11-09T11:10:21.035811Z",
     "shell.execute_reply": "2021-11-09T11:10:21.035811Z"
    }
   },
   "outputs": [],
   "source": [
    "# TRANSPOSING MAKES each category values AS A ROW\n",
    "# and then we convert rows into columns to ease calculations\n",
    "# this will result in the format required for c19 file respectively\n",
    "\n",
    "conv_df_m = pd.melt(newdf_m.transpose())\n",
    "conv_df_f = pd.melt(newdf_f.transpose())"
   ]
  },
  {
   "cell_type": "code",
   "execution_count": 22,
   "id": "c344b31f",
   "metadata": {
    "execution": {
     "iopub.execute_input": "2021-11-09T11:10:21.035811Z",
     "iopub.status.busy": "2021-11-09T11:10:21.035811Z",
     "iopub.status.idle": "2021-11-09T11:10:21.051432Z",
     "shell.execute_reply": "2021-11-09T11:10:21.051432Z"
    }
   },
   "outputs": [],
   "source": [
    "# conv_df_f"
   ]
  },
  {
   "cell_type": "code",
   "execution_count": 23,
   "id": "defbe5da",
   "metadata": {
    "execution": {
     "iopub.execute_input": "2021-11-09T11:10:21.051432Z",
     "iopub.status.busy": "2021-11-09T11:10:21.051432Z",
     "iopub.status.idle": "2021-11-09T11:10:21.067102Z",
     "shell.execute_reply": "2021-11-09T11:10:21.067102Z"
    }
   },
   "outputs": [
    {
     "data": {
      "text/plain": [
       "((216, 11), (216, 2), (216, 2))"
      ]
     },
     "execution_count": 23,
     "metadata": {},
     "output_type": "execute_result"
    }
   ],
   "source": [
    "df.shape,conv_df_m.shape,conv_df_f.shape"
   ]
  },
  {
   "cell_type": "code",
   "execution_count": 24,
   "id": "a9efde68",
   "metadata": {
    "execution": {
     "iopub.execute_input": "2021-11-09T11:10:21.067102Z",
     "iopub.status.busy": "2021-11-09T11:10:21.067102Z",
     "iopub.status.idle": "2021-11-09T11:10:21.082673Z",
     "shell.execute_reply": "2021-11-09T11:10:21.082673Z"
    }
   },
   "outputs": [
    {
     "data": {
      "text/plain": [
       "Index(['State', 'District', 'Name', 'TRU', 'Edu-level', 'Persons.2', 'Males.2',\n",
       "       'Females.2', 'Persons.3', 'Males.3', 'Females.3'],\n",
       "      dtype='object')"
      ]
     },
     "execution_count": 24,
     "metadata": {},
     "output_type": "execute_result"
    }
   ],
   "source": [
    "df.columns"
   ]
  },
  {
   "cell_type": "code",
   "execution_count": 25,
   "id": "1cfa2c3d",
   "metadata": {
    "execution": {
     "iopub.execute_input": "2021-11-09T11:10:21.098295Z",
     "iopub.status.busy": "2021-11-09T11:10:21.098295Z",
     "iopub.status.idle": "2021-11-09T11:10:21.113966Z",
     "shell.execute_reply": "2021-11-09T11:10:21.113966Z"
    }
   },
   "outputs": [],
   "source": [
    "#EXACTLY TWO LANG\n",
    "df['t_2_lang'] = df['Persons.2'] - df['Persons.3']\n",
    "df['m_2_lang'] = df['Males.2'] - df['Males.3']\n",
    "df['f_2_lang'] = df['Females.2'] - df['Females.3']"
   ]
  },
  {
   "cell_type": "code",
   "execution_count": 26,
   "id": "39ec6679",
   "metadata": {
    "execution": {
     "iopub.execute_input": "2021-11-09T11:10:21.113966Z",
     "iopub.status.busy": "2021-11-09T11:10:21.113966Z",
     "iopub.status.idle": "2021-11-09T11:10:21.129583Z",
     "shell.execute_reply": "2021-11-09T11:10:21.129583Z"
    }
   },
   "outputs": [],
   "source": [
    "df.reset_index(drop=True,inplace=True)"
   ]
  },
  {
   "cell_type": "markdown",
   "id": "dead53f9",
   "metadata": {},
   "source": [
    "CALCULATING EXACTLY TWOLANG RATIO and THREE OR MORE LANG RATIOS FOR MALE AND FEMALE"
   ]
  },
  {
   "cell_type": "code",
   "execution_count": 27,
   "id": "bd1d053f",
   "metadata": {
    "execution": {
     "iopub.execute_input": "2021-11-09T11:10:21.145159Z",
     "iopub.status.busy": "2021-11-09T11:10:21.145159Z",
     "iopub.status.idle": "2021-11-09T11:10:21.160808Z",
     "shell.execute_reply": "2021-11-09T11:10:21.160808Z"
    }
   },
   "outputs": [],
   "source": [
    "#twolang male/female respectively\n",
    "df['tw_r_m'] = df['m_2_lang']/conv_df_m['value']\n",
    "df['tw_r_f'] = df['f_2_lang']/conv_df_f['value']\n",
    "#three lang male/female respectively\n",
    "df['th_r_m'] = df['Males.3']/conv_df_m['value']\n",
    "df['th_r_f'] = df['Females.3']/conv_df_f['value']"
   ]
  },
  {
   "cell_type": "code",
   "execution_count": 28,
   "id": "7bbc345a",
   "metadata": {
    "execution": {
     "iopub.execute_input": "2021-11-09T11:10:21.176403Z",
     "iopub.status.busy": "2021-11-09T11:10:21.176403Z",
     "iopub.status.idle": "2021-11-09T11:10:21.192021Z",
     "shell.execute_reply": "2021-11-09T11:10:21.192021Z"
    }
   },
   "outputs": [],
   "source": [
    "#calculating onelang ratios using twolang and three lang male/female respectively\n",
    "df['one_r_m'] = 1-(df['tw_r_m'] + df['th_r_m'])\n",
    "df['one_r_f'] = 1-(df['tw_r_f'] + df['th_r_f'])"
   ]
  },
  {
   "cell_type": "code",
   "execution_count": null,
   "id": "8e48cee6",
   "metadata": {},
   "outputs": [],
   "source": []
  },
  {
   "cell_type": "code",
   "execution_count": 29,
   "id": "73e6d9fb",
   "metadata": {
    "execution": {
     "iopub.execute_input": "2021-11-09T11:10:21.207645Z",
     "iopub.status.busy": "2021-11-09T11:10:21.192021Z",
     "iopub.status.idle": "2021-11-09T11:10:21.207645Z",
     "shell.execute_reply": "2021-11-09T11:10:21.207645Z"
    }
   },
   "outputs": [],
   "source": [
    "#TO CALCULATE \"iteracy group with highest ratio of population\"\n",
    "def the_func(df_new):\n",
    "    indexes = []\n",
    "    for i in range(36):     #iterating for states\n",
    "        t = i*6\n",
    "        indexes.append(df_new.iloc[t:t+6,-1].idxmax())   #finding index of maxratio\n",
    "        \n",
    "    df_new = df_new.iloc[indexes]      #taking only indexes of maxratio\n",
    "    return df_new"
   ]
  },
  {
   "cell_type": "markdown",
   "id": "d7647fed",
   "metadata": {},
   "source": [
    "creating SEPERATE DATAFRAMES FOR EACH CATEGORY OF LANG"
   ]
  },
  {
   "cell_type": "code",
   "execution_count": 30,
   "id": "07298beb",
   "metadata": {
    "execution": {
     "iopub.execute_input": "2021-11-09T11:10:21.254510Z",
     "iopub.status.busy": "2021-11-09T11:10:21.254510Z",
     "iopub.status.idle": "2021-11-09T11:10:21.270160Z",
     "shell.execute_reply": "2021-11-09T11:10:21.270160Z"
    }
   },
   "outputs": [],
   "source": [
    "df_one_lang_male = the_func(df[['State','Edu-level','one_r_m']])\n",
    "df_one_lang_female = the_func(df[['State','Edu-level','one_r_f']])\n",
    "\n",
    "df_one_lang_male.reset_index(inplace=True,drop=True)\n",
    "df_one_lang_female.reset_index(inplace=True,drop=True)\n",
    "\n",
    "#COMBINING MALE AND FEMALE INTOA SINGLE DATAFRAME\n",
    "df_one_lang = df_one_lang_male.copy()\n",
    "df_one_lang[['Edu-level-female','one_r_f']] = df_one_lang_female[['Edu-level','one_r_f']]"
   ]
  },
  {
   "cell_type": "code",
   "execution_count": 31,
   "id": "867cbb1d",
   "metadata": {
    "execution": {
     "iopub.execute_input": "2021-11-09T11:10:21.316997Z",
     "iopub.status.busy": "2021-11-09T11:10:21.316997Z",
     "iopub.status.idle": "2021-11-09T11:10:21.332616Z",
     "shell.execute_reply": "2021-11-09T11:10:21.332616Z"
    }
   },
   "outputs": [],
   "source": [
    "df_two_lang_male = the_func(df[['State','Edu-level','tw_r_m']])\n",
    "df_two_lang_female = the_func(df[['State','Edu-level','tw_r_f']])\n",
    "\n",
    "df_two_lang_male.reset_index(inplace=True,drop=True)\n",
    "df_two_lang_female.reset_index(inplace=True,drop=True)\n",
    "\n",
    "#COMBINING MALE AND FEMALE INTOA SINGLE DATAFRAME\n",
    "df_two_lang = df_two_lang_male.copy()\n",
    "df_two_lang[['Edu-level-female','tw_r_f']] = df_two_lang_female[['Edu-level','tw_r_f']]"
   ]
  },
  {
   "cell_type": "code",
   "execution_count": 32,
   "id": "870f42ce",
   "metadata": {
    "execution": {
     "iopub.execute_input": "2021-11-09T11:10:21.363858Z",
     "iopub.status.busy": "2021-11-09T11:10:21.363858Z",
     "iopub.status.idle": "2021-11-09T11:10:21.379479Z",
     "shell.execute_reply": "2021-11-09T11:10:21.379479Z"
    }
   },
   "outputs": [],
   "source": [
    "df_three_lang_male = the_func(df[['State','Edu-level','th_r_m']])\n",
    "df_three_lang_female = the_func(df[['State','Edu-level','th_r_f']])\n",
    "\n",
    "df_three_lang_male.reset_index(inplace=True,drop=True)\n",
    "df_three_lang_female.reset_index(inplace=True,drop=True)\n",
    "\n",
    "#COMBINING MALE AND FEMALE INTOA SINGLE DATAFRAME\n",
    "df_three_lang = df_three_lang_male.copy()\n",
    "df_three_lang[['Edu-level-female','th_r_f']] = df_three_lang_female[['Edu-level','th_r_f']]"
   ]
  },
  {
   "cell_type": "code",
   "execution_count": null,
   "id": "92dd38fa",
   "metadata": {},
   "outputs": [],
   "source": []
  },
  {
   "cell_type": "code",
   "execution_count": 33,
   "id": "7e577db3",
   "metadata": {
    "execution": {
     "iopub.execute_input": "2021-11-09T11:10:21.395099Z",
     "iopub.status.busy": "2021-11-09T11:10:21.395099Z",
     "iopub.status.idle": "2021-11-09T11:10:21.410724Z",
     "shell.execute_reply": "2021-11-09T11:10:21.410724Z"
    }
   },
   "outputs": [],
   "source": [
    "#CHANGING COLUMN NAMES\n",
    "df_one_lang.rename(columns={'State':'state/ut','Edu-level':'literacy-group-males','one_r_m':'ratio-males','Edu-level-female':'literacy-group-females','one_r_f':'ratio-females'}, inplace=True)\n",
    "df_two_lang.rename(columns={'State':'state/ut','Edu-level':'literacy-group-males','tw_r_m':'ratio-males','Edu-level-female':'literacy-group-females','tw_r_f':'ratio-females'}, inplace=True)\n",
    "df_three_lang.rename(columns={'State':'state/ut','Edu-level':'literacy-group-males','th_r_m':'ratio-males','Edu-level-female':'literacy-group-females','th_r_f':'ratio-females'}, inplace=True)"
   ]
  },
  {
   "cell_type": "code",
   "execution_count": 34,
   "id": "b931a60c",
   "metadata": {
    "execution": {
     "iopub.execute_input": "2021-11-09T11:10:21.410724Z",
     "iopub.status.busy": "2021-11-09T11:10:21.410724Z",
     "iopub.status.idle": "2021-11-09T11:10:21.426347Z",
     "shell.execute_reply": "2021-11-09T11:10:21.426347Z"
    }
   },
   "outputs": [
    {
     "data": {
      "text/plain": [
       "Index(['state/ut', 'literacy-group-males', 'ratio-males',\n",
       "       'literacy-group-females', 'ratio-females'],\n",
       "      dtype='object')"
      ]
     },
     "execution_count": 34,
     "metadata": {},
     "output_type": "execute_result"
    }
   ],
   "source": [
    "df_two_lang.columns"
   ]
  },
  {
   "cell_type": "code",
   "execution_count": 35,
   "id": "e377effa",
   "metadata": {
    "execution": {
     "iopub.execute_input": "2021-11-09T11:10:21.426347Z",
     "iopub.status.busy": "2021-11-09T11:10:21.426347Z",
     "iopub.status.idle": "2021-11-09T11:10:21.457611Z",
     "shell.execute_reply": "2021-11-09T11:10:21.457611Z"
    }
   },
   "outputs": [],
   "source": [
    "#WRTITNG TO CSVS\n",
    "\n",
    "df_one_lang.to_csv('literacy-gender-c.csv',index=False)\n",
    "df_two_lang.to_csv('literacy-gender-b.csv',index=False)\n",
    "df_three_lang.to_csv('literacy-gender-a.csv',index=False)"
   ]
  },
  {
   "cell_type": "code",
   "execution_count": null,
   "id": "d8610ae1",
   "metadata": {},
   "outputs": [],
   "source": []
  }
 ],
 "metadata": {
  "kernelspec": {
   "display_name": "Python 3",
   "language": "python",
   "name": "python3"
  },
  "language_info": {
   "codemirror_mode": {
    "name": "ipython",
    "version": 3
   },
   "file_extension": ".py",
   "mimetype": "text/x-python",
   "name": "python",
   "nbconvert_exporter": "python",
   "pygments_lexer": "ipython3",
   "version": "3.8.8"
  }
 },
 "nbformat": 4,
 "nbformat_minor": 5
}
