{
 "cells": [
  {
   "cell_type": "markdown",
   "id": "53376d28",
   "metadata": {},
   "source": [
    "### 4)TOP 3 STATES and WORST 3 STATES FOR -- 3-to-2 LANGUAGE RATIO  and 2-to-1 LANGUAGE RATIO"
   ]
  },
  {
   "cell_type": "code",
   "execution_count": 1,
   "id": "abd473be",
   "metadata": {
    "execution": {
     "iopub.execute_input": "2021-11-09T11:09:03.899478Z",
     "iopub.status.busy": "2021-11-09T11:09:03.899478Z",
     "iopub.status.idle": "2021-11-09T11:09:04.477503Z",
     "shell.execute_reply": "2021-11-09T11:09:04.477503Z"
    }
   },
   "outputs": [],
   "source": [
    "import numpy as np\n",
    "import pandas as pd\n",
    "import datetime as dt\n",
    "import warnings\n",
    "warnings.filterwarnings('ignore')"
   ]
  },
  {
   "cell_type": "code",
   "execution_count": 2,
   "id": "129d79a9",
   "metadata": {
    "execution": {
     "iopub.execute_input": "2021-11-09T11:09:04.477503Z",
     "iopub.status.busy": "2021-11-09T11:09:04.477503Z",
     "iopub.status.idle": "2021-11-09T11:09:05.664689Z",
     "shell.execute_reply": "2021-11-09T11:09:05.664689Z"
    }
   },
   "outputs": [],
   "source": [
    "#ASSIGNING COL NAMES\n",
    "column_names = ['State', 'District', 'Name', 'TRU','Age-group','Persons.2','Males.2','Females.2','Persons.3','Males.3','Females.3']\n",
    "#READING DATA\n",
    "df = pd.read_excel('DDW-C18-0000.xlsx',names=column_names,skiprows=5)"
   ]
  },
  {
   "cell_type": "code",
   "execution_count": 3,
   "id": "ec4a8a87",
   "metadata": {
    "execution": {
     "iopub.execute_input": "2021-11-09T11:09:05.680308Z",
     "iopub.status.busy": "2021-11-09T11:09:05.680308Z",
     "iopub.status.idle": "2021-11-09T11:09:05.695933Z",
     "shell.execute_reply": "2021-11-09T11:09:05.695933Z"
    }
   },
   "outputs": [],
   "source": [
    "#TAKING ONLY REQUIRED COLUMNS \"TWO or MORE LANGUAGES\" and \"THREE OR MORE LANGUAGES\"\n",
    "df = df[['State','Name','TRU','Age-group','Persons.2','Persons.3']]\n",
    "\n",
    "# REMOVING URBAN AND RURAL ROWS AND AGE-GROUP CATEGORIES OTHER THAN TOTAL\n",
    "idx = df.loc[(df['TRU']!='Total') | (df['Age-group'] !='Total')].index\n",
    "df = df.drop(idx)"
   ]
  },
  {
   "cell_type": "code",
   "execution_count": 4,
   "id": "b4f9a49c",
   "metadata": {
    "execution": {
     "iopub.execute_input": "2021-11-09T11:09:05.695933Z",
     "iopub.status.busy": "2021-11-09T11:09:05.695933Z",
     "iopub.status.idle": "2021-11-09T11:09:05.711550Z",
     "shell.execute_reply": "2021-11-09T11:09:05.711550Z"
    }
   },
   "outputs": [],
   "source": [
    "df.reset_index(inplace=True,drop=True)"
   ]
  },
  {
   "cell_type": "code",
   "execution_count": 5,
   "id": "64cf050c",
   "metadata": {
    "execution": {
     "iopub.execute_input": "2021-11-09T11:09:05.727173Z",
     "iopub.status.busy": "2021-11-09T11:09:05.727173Z",
     "iopub.status.idle": "2021-11-09T11:09:05.758446Z",
     "shell.execute_reply": "2021-11-09T11:09:05.758446Z"
    }
   },
   "outputs": [
    {
     "data": {
      "text/html": [
       "<div>\n",
       "<style scoped>\n",
       "    .dataframe tbody tr th:only-of-type {\n",
       "        vertical-align: middle;\n",
       "    }\n",
       "\n",
       "    .dataframe tbody tr th {\n",
       "        vertical-align: top;\n",
       "    }\n",
       "\n",
       "    .dataframe thead th {\n",
       "        text-align: right;\n",
       "    }\n",
       "</style>\n",
       "<table border=\"1\" class=\"dataframe\">\n",
       "  <thead>\n",
       "    <tr style=\"text-align: right;\">\n",
       "      <th></th>\n",
       "      <th>State</th>\n",
       "      <th>Name</th>\n",
       "      <th>TRU</th>\n",
       "      <th>Age-group</th>\n",
       "      <th>Persons.2</th>\n",
       "      <th>Persons.3</th>\n",
       "    </tr>\n",
       "  </thead>\n",
       "  <tbody>\n",
       "    <tr>\n",
       "      <th>0</th>\n",
       "      <td>0</td>\n",
       "      <td>INDIA</td>\n",
       "      <td>Total</td>\n",
       "      <td>Total</td>\n",
       "      <td>314988770</td>\n",
       "      <td>86009580</td>\n",
       "    </tr>\n",
       "    <tr>\n",
       "      <th>1</th>\n",
       "      <td>1</td>\n",
       "      <td>JAMMU &amp; KASHMIR</td>\n",
       "      <td>Total</td>\n",
       "      <td>Total</td>\n",
       "      <td>6183190</td>\n",
       "      <td>2096220</td>\n",
       "    </tr>\n",
       "    <tr>\n",
       "      <th>2</th>\n",
       "      <td>2</td>\n",
       "      <td>HIMACHAL PRADESH</td>\n",
       "      <td>Total</td>\n",
       "      <td>Total</td>\n",
       "      <td>1242705</td>\n",
       "      <td>347286</td>\n",
       "    </tr>\n",
       "    <tr>\n",
       "      <th>3</th>\n",
       "      <td>3</td>\n",
       "      <td>PUNJAB</td>\n",
       "      <td>Total</td>\n",
       "      <td>Total</td>\n",
       "      <td>13035224</td>\n",
       "      <td>7829913</td>\n",
       "    </tr>\n",
       "    <tr>\n",
       "      <th>4</th>\n",
       "      <td>4</td>\n",
       "      <td>CHANDIGARH</td>\n",
       "      <td>Total</td>\n",
       "      <td>Total</td>\n",
       "      <td>579920</td>\n",
       "      <td>321979</td>\n",
       "    </tr>\n",
       "  </tbody>\n",
       "</table>\n",
       "</div>"
      ],
      "text/plain": [
       "   State              Name    TRU Age-group  Persons.2  Persons.3\n",
       "0      0             INDIA  Total     Total  314988770   86009580\n",
       "1      1   JAMMU & KASHMIR  Total     Total    6183190    2096220\n",
       "2      2  HIMACHAL PRADESH  Total     Total    1242705     347286\n",
       "3      3            PUNJAB  Total     Total   13035224    7829913\n",
       "4      4        CHANDIGARH  Total     Total     579920     321979"
      ]
     },
     "execution_count": 5,
     "metadata": {},
     "output_type": "execute_result"
    }
   ],
   "source": [
    "df.head()"
   ]
  },
  {
   "cell_type": "code",
   "execution_count": 6,
   "id": "a7e24424",
   "metadata": {
    "execution": {
     "iopub.execute_input": "2021-11-09T11:09:05.758446Z",
     "iopub.status.busy": "2021-11-09T11:09:05.758446Z",
     "iopub.status.idle": "2021-11-09T11:09:05.774066Z",
     "shell.execute_reply": "2021-11-09T11:09:05.774066Z"
    }
   },
   "outputs": [],
   "source": [
    "# CALCULATING EXACTLY TWO-LANG\n",
    "df['only2lang'] = df['Persons.2'] - df['Persons.3']"
   ]
  },
  {
   "cell_type": "code",
   "execution_count": 7,
   "id": "f4c02b28",
   "metadata": {
    "execution": {
     "iopub.execute_input": "2021-11-09T11:09:05.774066Z",
     "iopub.status.busy": "2021-11-09T11:09:05.774066Z",
     "iopub.status.idle": "2021-11-09T11:09:05.789658Z",
     "shell.execute_reply": "2021-11-09T11:09:05.789658Z"
    }
   },
   "outputs": [],
   "source": [
    "#CALCULATING RATIO 3 to 2 lang\n",
    "df['r3to2'] = df['Persons.3'] / df['only2lang']"
   ]
  },
  {
   "cell_type": "code",
   "execution_count": 8,
   "id": "e4536498",
   "metadata": {
    "execution": {
     "iopub.execute_input": "2021-11-09T11:09:05.789658Z",
     "iopub.status.busy": "2021-11-09T11:09:05.789658Z",
     "iopub.status.idle": "2021-11-09T11:09:05.805279Z",
     "shell.execute_reply": "2021-11-09T11:09:05.805279Z"
    }
   },
   "outputs": [],
   "source": [
    "df = df.sort_values(['r3to2'])   #SORTING DATAFRAME IN ASCENDING ORDER OF RATIOS"
   ]
  },
  {
   "cell_type": "code",
   "execution_count": 9,
   "id": "92fab86a",
   "metadata": {
    "execution": {
     "iopub.execute_input": "2021-11-09T11:09:05.820901Z",
     "iopub.status.busy": "2021-11-09T11:09:05.820901Z",
     "iopub.status.idle": "2021-11-09T11:09:05.836522Z",
     "shell.execute_reply": "2021-11-09T11:09:05.836522Z"
    }
   },
   "outputs": [
    {
     "data": {
      "text/html": [
       "<div>\n",
       "<style scoped>\n",
       "    .dataframe tbody tr th:only-of-type {\n",
       "        vertical-align: middle;\n",
       "    }\n",
       "\n",
       "    .dataframe tbody tr th {\n",
       "        vertical-align: top;\n",
       "    }\n",
       "\n",
       "    .dataframe thead th {\n",
       "        text-align: right;\n",
       "    }\n",
       "</style>\n",
       "<table border=\"1\" class=\"dataframe\">\n",
       "  <thead>\n",
       "    <tr style=\"text-align: right;\">\n",
       "      <th></th>\n",
       "      <th>State</th>\n",
       "      <th>Name</th>\n",
       "      <th>TRU</th>\n",
       "      <th>Age-group</th>\n",
       "      <th>Persons.2</th>\n",
       "      <th>Persons.3</th>\n",
       "      <th>only2lang</th>\n",
       "      <th>r3to2</th>\n",
       "    </tr>\n",
       "  </thead>\n",
       "  <tbody>\n",
       "    <tr>\n",
       "      <th>10</th>\n",
       "      <td>10</td>\n",
       "      <td>BIHAR</td>\n",
       "      <td>Total</td>\n",
       "      <td>Total</td>\n",
       "      <td>16761785</td>\n",
       "      <td>1682572</td>\n",
       "      <td>15079213</td>\n",
       "      <td>0.111582</td>\n",
       "    </tr>\n",
       "    <tr>\n",
       "      <th>5</th>\n",
       "      <td>5</td>\n",
       "      <td>UTTARAKHAND</td>\n",
       "      <td>Total</td>\n",
       "      <td>Total</td>\n",
       "      <td>1757756</td>\n",
       "      <td>187822</td>\n",
       "      <td>1569934</td>\n",
       "      <td>0.119637</td>\n",
       "    </tr>\n",
       "    <tr>\n",
       "      <th>9</th>\n",
       "      <td>9</td>\n",
       "      <td>UTTAR PRADESH</td>\n",
       "      <td>Total</td>\n",
       "      <td>Total</td>\n",
       "      <td>22873609</td>\n",
       "      <td>2585664</td>\n",
       "      <td>20287945</td>\n",
       "      <td>0.127448</td>\n",
       "    </tr>\n",
       "    <tr>\n",
       "      <th>33</th>\n",
       "      <td>33</td>\n",
       "      <td>TAMIL NADU</td>\n",
       "      <td>Total</td>\n",
       "      <td>Total</td>\n",
       "      <td>20416270</td>\n",
       "      <td>2447163</td>\n",
       "      <td>17969107</td>\n",
       "      <td>0.136187</td>\n",
       "    </tr>\n",
       "    <tr>\n",
       "      <th>22</th>\n",
       "      <td>22</td>\n",
       "      <td>CHHATTISGARH</td>\n",
       "      <td>Total</td>\n",
       "      <td>Total</td>\n",
       "      <td>3384223</td>\n",
       "      <td>422569</td>\n",
       "      <td>2961654</td>\n",
       "      <td>0.142680</td>\n",
       "    </tr>\n",
       "  </tbody>\n",
       "</table>\n",
       "</div>"
      ],
      "text/plain": [
       "    State           Name    TRU Age-group  Persons.2  Persons.3  only2lang  \\\n",
       "10     10          BIHAR  Total     Total   16761785    1682572   15079213   \n",
       "5       5    UTTARAKHAND  Total     Total    1757756     187822    1569934   \n",
       "9       9  UTTAR PRADESH  Total     Total   22873609    2585664   20287945   \n",
       "33     33     TAMIL NADU  Total     Total   20416270    2447163   17969107   \n",
       "22     22   CHHATTISGARH  Total     Total    3384223     422569    2961654   \n",
       "\n",
       "       r3to2  \n",
       "10  0.111582  \n",
       "5   0.119637  \n",
       "9   0.127448  \n",
       "33  0.136187  \n",
       "22  0.142680  "
      ]
     },
     "execution_count": 9,
     "metadata": {},
     "output_type": "execute_result"
    }
   ],
   "source": [
    "df.head()"
   ]
  },
  {
   "cell_type": "code",
   "execution_count": 10,
   "id": "43c6fa8a",
   "metadata": {
    "execution": {
     "iopub.execute_input": "2021-11-09T11:09:05.836522Z",
     "iopub.status.busy": "2021-11-09T11:09:05.836522Z",
     "iopub.status.idle": "2021-11-09T11:09:05.852183Z",
     "shell.execute_reply": "2021-11-09T11:09:05.852183Z"
    }
   },
   "outputs": [],
   "source": [
    "#AN EMPTY DATAFRAME\n",
    "newdf = pd.DataFrame()"
   ]
  },
  {
   "cell_type": "code",
   "execution_count": 11,
   "id": "fa8bc2b0",
   "metadata": {
    "execution": {
     "iopub.execute_input": "2021-11-09T11:09:05.867764Z",
     "iopub.status.busy": "2021-11-09T11:09:05.852183Z",
     "iopub.status.idle": "2021-11-09T11:09:05.867764Z",
     "shell.execute_reply": "2021-11-09T11:09:05.867764Z"
    }
   },
   "outputs": [],
   "source": [
    "high = df.iloc[[-1,-2,-3],[0,-1]]            # SELECTING TOP 3 RATIOS as data is sorted and selecting columns statecode and ratio\n",
    "low = df.iloc[[0,1,2],[0,-1]]                # SELECTING LEAST 3 RATIOS and selecting columns statecode and ratio"
   ]
  },
  {
   "cell_type": "code",
   "execution_count": 12,
   "id": "5d3d2576",
   "metadata": {
    "execution": {
     "iopub.execute_input": "2021-11-09T11:09:05.867764Z",
     "iopub.status.busy": "2021-11-09T11:09:05.867764Z",
     "iopub.status.idle": "2021-11-09T11:09:05.883386Z",
     "shell.execute_reply": "2021-11-09T11:09:05.883386Z"
    }
   },
   "outputs": [],
   "source": [
    "#high\n",
    "#low"
   ]
  },
  {
   "cell_type": "code",
   "execution_count": 13,
   "id": "83c94718",
   "metadata": {
    "execution": {
     "iopub.execute_input": "2021-11-09T11:09:05.883386Z",
     "iopub.status.busy": "2021-11-09T11:09:05.883386Z",
     "iopub.status.idle": "2021-11-09T11:09:05.899006Z",
     "shell.execute_reply": "2021-11-09T11:09:05.899006Z"
    }
   },
   "outputs": [],
   "source": [
    "#APPENDING INTO A SINGLE DATAFRAME\n",
    "newdf = newdf.append([high,low])\n",
    "\n",
    "newdf.reset_index(inplace=True,drop=True)"
   ]
  },
  {
   "cell_type": "code",
   "execution_count": 14,
   "id": "8c9ad11f",
   "metadata": {
    "execution": {
     "iopub.execute_input": "2021-11-09T11:09:05.914627Z",
     "iopub.status.busy": "2021-11-09T11:09:05.914627Z",
     "iopub.status.idle": "2021-11-09T11:09:05.930299Z",
     "shell.execute_reply": "2021-11-09T11:09:05.930299Z"
    }
   },
   "outputs": [
    {
     "data": {
      "text/html": [
       "<div>\n",
       "<style scoped>\n",
       "    .dataframe tbody tr th:only-of-type {\n",
       "        vertical-align: middle;\n",
       "    }\n",
       "\n",
       "    .dataframe tbody tr th {\n",
       "        vertical-align: top;\n",
       "    }\n",
       "\n",
       "    .dataframe thead th {\n",
       "        text-align: right;\n",
       "    }\n",
       "</style>\n",
       "<table border=\"1\" class=\"dataframe\">\n",
       "  <thead>\n",
       "    <tr style=\"text-align: right;\">\n",
       "      <th></th>\n",
       "      <th>State</th>\n",
       "      <th>r3to2</th>\n",
       "    </tr>\n",
       "  </thead>\n",
       "  <tbody>\n",
       "    <tr>\n",
       "      <th>0</th>\n",
       "      <td>30</td>\n",
       "      <td>1.925807</td>\n",
       "    </tr>\n",
       "    <tr>\n",
       "      <th>1</th>\n",
       "      <td>3</td>\n",
       "      <td>1.504216</td>\n",
       "    </tr>\n",
       "    <tr>\n",
       "      <th>2</th>\n",
       "      <td>4</td>\n",
       "      <td>1.248266</td>\n",
       "    </tr>\n",
       "    <tr>\n",
       "      <th>3</th>\n",
       "      <td>10</td>\n",
       "      <td>0.111582</td>\n",
       "    </tr>\n",
       "    <tr>\n",
       "      <th>4</th>\n",
       "      <td>5</td>\n",
       "      <td>0.119637</td>\n",
       "    </tr>\n",
       "    <tr>\n",
       "      <th>5</th>\n",
       "      <td>9</td>\n",
       "      <td>0.127448</td>\n",
       "    </tr>\n",
       "  </tbody>\n",
       "</table>\n",
       "</div>"
      ],
      "text/plain": [
       "   State     r3to2\n",
       "0     30  1.925807\n",
       "1      3  1.504216\n",
       "2      4  1.248266\n",
       "3     10  0.111582\n",
       "4      5  0.119637\n",
       "5      9  0.127448"
      ]
     },
     "execution_count": 14,
     "metadata": {},
     "output_type": "execute_result"
    }
   ],
   "source": [
    "newdf "
   ]
  },
  {
   "cell_type": "code",
   "execution_count": 15,
   "id": "b4a89fb0",
   "metadata": {
    "execution": {
     "iopub.execute_input": "2021-11-09T11:09:05.930299Z",
     "iopub.status.busy": "2021-11-09T11:09:05.930299Z",
     "iopub.status.idle": "2021-11-09T11:09:05.961534Z",
     "shell.execute_reply": "2021-11-09T11:09:05.961534Z"
    }
   },
   "outputs": [],
   "source": [
    "#WRITING TO CSV\n",
    "newdf.to_csv('3-to-2-ratio.csv',index = False)\n"
   ]
  },
  {
   "cell_type": "code",
   "execution_count": null,
   "id": "96fafbca",
   "metadata": {},
   "outputs": [],
   "source": []
  }
 ],
 "metadata": {
  "kernelspec": {
   "display_name": "Python 3",
   "language": "python",
   "name": "python3"
  },
  "language_info": {
   "codemirror_mode": {
    "name": "ipython",
    "version": 3
   },
   "file_extension": ".py",
   "mimetype": "text/x-python",
   "name": "python",
   "nbconvert_exporter": "python",
   "pygments_lexer": "ipython3",
   "version": "3.9.6"
  }
 },
 "nbformat": 4,
 "nbformat_minor": 5
}
