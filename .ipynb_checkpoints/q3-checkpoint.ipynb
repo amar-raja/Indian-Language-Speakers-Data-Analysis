{
 "cells": [
  {
   "cell_type": "markdown",
   "id": "130021cd",
   "metadata": {},
   "source": [
    "## 3)RURAL and URBAN population speaking who speaks only one language, exactly two languages, and  three languages or more"
   ]
  },
  {
   "cell_type": "code",
   "execution_count": 1,
   "id": "d20f0a8a",
   "metadata": {
    "execution": {
     "iopub.execute_input": "2021-11-09T10:43:11.592780Z",
     "iopub.status.busy": "2021-11-09T10:43:11.592780Z",
     "iopub.status.idle": "2021-11-09T10:43:12.859153Z",
     "shell.execute_reply": "2021-11-09T10:43:12.859153Z"
    }
   },
   "outputs": [],
   "source": [
    "import numpy as np\n",
    "import pandas as pd\n",
    "import datetime as dt\n",
    "import warnings\n",
    "from scipy import stats\n",
    "warnings.filterwarnings('ignore')"
   ]
  },
  {
   "cell_type": "code",
   "execution_count": 2,
   "id": "130761a5",
   "metadata": {
    "execution": {
     "iopub.execute_input": "2021-11-09T10:43:12.859153Z",
     "iopub.status.busy": "2021-11-09T10:43:12.859153Z",
     "iopub.status.idle": "2021-11-09T10:43:14.278449Z",
     "shell.execute_reply": "2021-11-09T10:43:14.284958Z"
    }
   },
   "outputs": [],
   "source": [
    "pd.set_option('display.max_columns',30)\n",
    "pd.set_option('display.max_rows',10000)\n",
    "pd.set_option('display.width',400)\n",
    "\n",
    "#ASSIGNING COL NAMES\n",
    "column_names = ['State', 'District', 'Name', 'TRU','Age-group','Persons.2','Males.2','Females.2','Persons.3','Males.3','Females.3']\n",
    "#READING DATA\n",
    "df = pd.read_excel('DDW-C18-0000.xlsx',names=column_names,skiprows=5)"
   ]
  },
  {
   "cell_type": "code",
   "execution_count": 3,
   "id": "fd1a751f",
   "metadata": {
    "execution": {
     "iopub.execute_input": "2021-11-09T10:43:14.300630Z",
     "iopub.status.busy": "2021-11-09T10:43:14.300630Z",
     "iopub.status.idle": "2021-11-09T10:43:14.316210Z",
     "shell.execute_reply": "2021-11-09T10:43:14.316210Z"
    }
   },
   "outputs": [
    {
     "data": {
      "text/plain": [
       "Index(['State', 'District', 'Name', 'TRU', 'Age-group', 'Persons.2', 'Males.2', 'Females.2', 'Persons.3', 'Males.3', 'Females.3'], dtype='object')"
      ]
     },
     "execution_count": 3,
     "metadata": {},
     "output_type": "execute_result"
    }
   ],
   "source": [
    "df.columns"
   ]
  },
  {
   "cell_type": "code",
   "execution_count": 4,
   "id": "737a4aae",
   "metadata": {
    "execution": {
     "iopub.execute_input": "2021-11-09T10:43:14.331833Z",
     "iopub.status.busy": "2021-11-09T10:43:14.331833Z",
     "iopub.status.idle": "2021-11-09T10:43:14.347452Z",
     "shell.execute_reply": "2021-11-09T10:43:14.347452Z"
    }
   },
   "outputs": [],
   "source": [
    "#TAKING ONLY REQUIRED COLUMNS\n",
    "df = df[['State','Name','TRU','Age-group','Persons.2','Persons.3']]\n",
    "# REMOVING URBAN AND RURAL ROWS\n",
    "idx = df.loc[(df['TRU']=='Total') | (df['Age-group'] !='Total')].index\n",
    "df = df.drop(idx)"
   ]
  },
  {
   "cell_type": "code",
   "execution_count": 5,
   "id": "8e7e33d5",
   "metadata": {
    "execution": {
     "iopub.execute_input": "2021-11-09T10:43:14.347452Z",
     "iopub.status.busy": "2021-11-09T10:43:14.347452Z",
     "iopub.status.idle": "2021-11-09T10:43:14.363073Z",
     "shell.execute_reply": "2021-11-09T10:43:14.363073Z"
    }
   },
   "outputs": [],
   "source": [
    "df.reset_index(inplace=True,drop=True)"
   ]
  },
  {
   "cell_type": "code",
   "execution_count": 6,
   "id": "ddbdff42",
   "metadata": {
    "execution": {
     "iopub.execute_input": "2021-11-09T10:43:14.378697Z",
     "iopub.status.busy": "2021-11-09T10:43:14.378697Z",
     "iopub.status.idle": "2021-11-09T10:43:14.400941Z",
     "shell.execute_reply": "2021-11-09T10:43:14.400941Z"
    }
   },
   "outputs": [
    {
     "data": {
      "text/html": [
       "<div>\n",
       "<style scoped>\n",
       "    .dataframe tbody tr th:only-of-type {\n",
       "        vertical-align: middle;\n",
       "    }\n",
       "\n",
       "    .dataframe tbody tr th {\n",
       "        vertical-align: top;\n",
       "    }\n",
       "\n",
       "    .dataframe thead th {\n",
       "        text-align: right;\n",
       "    }\n",
       "</style>\n",
       "<table border=\"1\" class=\"dataframe\">\n",
       "  <thead>\n",
       "    <tr style=\"text-align: right;\">\n",
       "      <th></th>\n",
       "      <th>State</th>\n",
       "      <th>Name</th>\n",
       "      <th>TRU</th>\n",
       "      <th>Age-group</th>\n",
       "      <th>Persons.2</th>\n",
       "      <th>Persons.3</th>\n",
       "    </tr>\n",
       "  </thead>\n",
       "  <tbody>\n",
       "    <tr>\n",
       "      <th>0</th>\n",
       "      <td>0</td>\n",
       "      <td>INDIA</td>\n",
       "      <td>Rural</td>\n",
       "      <td>Total</td>\n",
       "      <td>162641485</td>\n",
       "      <td>35383989</td>\n",
       "    </tr>\n",
       "    <tr>\n",
       "      <th>1</th>\n",
       "      <td>0</td>\n",
       "      <td>INDIA</td>\n",
       "      <td>Urban</td>\n",
       "      <td>Total</td>\n",
       "      <td>152347285</td>\n",
       "      <td>50625591</td>\n",
       "    </tr>\n",
       "    <tr>\n",
       "      <th>2</th>\n",
       "      <td>1</td>\n",
       "      <td>JAMMU &amp; KASHMIR</td>\n",
       "      <td>Rural</td>\n",
       "      <td>Total</td>\n",
       "      <td>4167238</td>\n",
       "      <td>1258724</td>\n",
       "    </tr>\n",
       "    <tr>\n",
       "      <th>3</th>\n",
       "      <td>1</td>\n",
       "      <td>JAMMU &amp; KASHMIR</td>\n",
       "      <td>Urban</td>\n",
       "      <td>Total</td>\n",
       "      <td>2015952</td>\n",
       "      <td>837496</td>\n",
       "    </tr>\n",
       "    <tr>\n",
       "      <th>4</th>\n",
       "      <td>2</td>\n",
       "      <td>HIMACHAL PRADESH</td>\n",
       "      <td>Rural</td>\n",
       "      <td>Total</td>\n",
       "      <td>981518</td>\n",
       "      <td>280817</td>\n",
       "    </tr>\n",
       "  </tbody>\n",
       "</table>\n",
       "</div>"
      ],
      "text/plain": [
       "   State              Name    TRU Age-group  Persons.2  Persons.3\n",
       "0      0             INDIA  Rural     Total  162641485   35383989\n",
       "1      0             INDIA  Urban     Total  152347285   50625591\n",
       "2      1   JAMMU & KASHMIR  Rural     Total    4167238    1258724\n",
       "3      1   JAMMU & KASHMIR  Urban     Total    2015952     837496\n",
       "4      2  HIMACHAL PRADESH  Rural     Total     981518     280817"
      ]
     },
     "execution_count": 6,
     "metadata": {},
     "output_type": "execute_result"
    }
   ],
   "source": [
    "df.head()"
   ]
  },
  {
   "cell_type": "code",
   "execution_count": null,
   "id": "ebbe6dce",
   "metadata": {},
   "outputs": [],
   "source": []
  },
  {
   "cell_type": "markdown",
   "id": "a166e230",
   "metadata": {},
   "source": [
    "PREPROCESSING CENSUS POPULATION DATA"
   ]
  },
  {
   "cell_type": "code",
   "execution_count": 7,
   "id": "337b4e65",
   "metadata": {
    "execution": {
     "iopub.execute_input": "2021-11-09T10:43:14.400941Z",
     "iopub.status.busy": "2021-11-09T10:43:14.400941Z",
     "iopub.status.idle": "2021-11-09T10:43:17.767957Z",
     "shell.execute_reply": "2021-11-09T10:43:17.765821Z"
    }
   },
   "outputs": [],
   "source": [
    "censuscols = ['State','Level','Name','TRU','TOT_P']\n",
    "census_data = pd.read_excel(r'DDW_PCA0000_2011_Indiastatedist.xlsx',usecols=censuscols)"
   ]
  },
  {
   "cell_type": "code",
   "execution_count": 8,
   "id": "192ca5d2",
   "metadata": {
    "execution": {
     "iopub.execute_input": "2021-11-09T10:43:17.767957Z",
     "iopub.status.busy": "2021-11-09T10:43:17.767957Z",
     "iopub.status.idle": "2021-11-09T10:43:17.788782Z",
     "shell.execute_reply": "2021-11-09T10:43:17.788782Z"
    }
   },
   "outputs": [],
   "source": [
    "#dropping rows OF TRU =(rural,urban)  and LEVEL = (district)as not needed\n",
    "a = census_data.loc[(census_data['TRU']=='Total') | (census_data['Level'] == 'DISTRICT')].index\n",
    "census_data = census_data.drop(a)"
   ]
  },
  {
   "cell_type": "code",
   "execution_count": 9,
   "id": "80a6c92e",
   "metadata": {
    "execution": {
     "iopub.execute_input": "2021-11-09T10:43:17.788782Z",
     "iopub.status.busy": "2021-11-09T10:43:17.788782Z",
     "iopub.status.idle": "2021-11-09T10:43:17.809661Z",
     "shell.execute_reply": "2021-11-09T10:43:17.809561Z"
    }
   },
   "outputs": [],
   "source": [
    "census_data.reset_index(inplace=True,drop=True)"
   ]
  },
  {
   "cell_type": "code",
   "execution_count": 10,
   "id": "b3e551ac",
   "metadata": {
    "execution": {
     "iopub.execute_input": "2021-11-09T10:43:17.809661Z",
     "iopub.status.busy": "2021-11-09T10:43:17.809661Z",
     "iopub.status.idle": "2021-11-09T10:43:17.830694Z",
     "shell.execute_reply": "2021-11-09T10:43:17.830592Z"
    }
   },
   "outputs": [
    {
     "data": {
      "text/html": [
       "<div>\n",
       "<style scoped>\n",
       "    .dataframe tbody tr th:only-of-type {\n",
       "        vertical-align: middle;\n",
       "    }\n",
       "\n",
       "    .dataframe tbody tr th {\n",
       "        vertical-align: top;\n",
       "    }\n",
       "\n",
       "    .dataframe thead th {\n",
       "        text-align: right;\n",
       "    }\n",
       "</style>\n",
       "<table border=\"1\" class=\"dataframe\">\n",
       "  <thead>\n",
       "    <tr style=\"text-align: right;\">\n",
       "      <th></th>\n",
       "      <th>State</th>\n",
       "      <th>Level</th>\n",
       "      <th>Name</th>\n",
       "      <th>TRU</th>\n",
       "      <th>TOT_P</th>\n",
       "    </tr>\n",
       "  </thead>\n",
       "  <tbody>\n",
       "    <tr>\n",
       "      <th>0</th>\n",
       "      <td>0</td>\n",
       "      <td>India</td>\n",
       "      <td>India</td>\n",
       "      <td>Rural</td>\n",
       "      <td>833748852</td>\n",
       "    </tr>\n",
       "    <tr>\n",
       "      <th>1</th>\n",
       "      <td>0</td>\n",
       "      <td>India</td>\n",
       "      <td>India</td>\n",
       "      <td>Urban</td>\n",
       "      <td>377106125</td>\n",
       "    </tr>\n",
       "    <tr>\n",
       "      <th>2</th>\n",
       "      <td>1</td>\n",
       "      <td>STATE</td>\n",
       "      <td>JAMMU &amp; KASHMIR</td>\n",
       "      <td>Rural</td>\n",
       "      <td>9108060</td>\n",
       "    </tr>\n",
       "    <tr>\n",
       "      <th>3</th>\n",
       "      <td>1</td>\n",
       "      <td>STATE</td>\n",
       "      <td>JAMMU &amp; KASHMIR</td>\n",
       "      <td>Urban</td>\n",
       "      <td>3433242</td>\n",
       "    </tr>\n",
       "    <tr>\n",
       "      <th>4</th>\n",
       "      <td>2</td>\n",
       "      <td>STATE</td>\n",
       "      <td>HIMACHAL PRADESH</td>\n",
       "      <td>Rural</td>\n",
       "      <td>6176050</td>\n",
       "    </tr>\n",
       "  </tbody>\n",
       "</table>\n",
       "</div>"
      ],
      "text/plain": [
       "   State  Level              Name    TRU      TOT_P\n",
       "0      0  India             India  Rural  833748852\n",
       "1      0  India             India  Urban  377106125\n",
       "2      1  STATE   JAMMU & KASHMIR  Rural    9108060\n",
       "3      1  STATE   JAMMU & KASHMIR  Urban    3433242\n",
       "4      2  STATE  HIMACHAL PRADESH  Rural    6176050"
      ]
     },
     "execution_count": 10,
     "metadata": {},
     "output_type": "execute_result"
    }
   ],
   "source": [
    "census_data.head()"
   ]
  },
  {
   "cell_type": "code",
   "execution_count": 11,
   "id": "cb2d0777",
   "metadata": {
    "execution": {
     "iopub.execute_input": "2021-11-09T10:43:17.830694Z",
     "iopub.status.busy": "2021-11-09T10:43:17.830694Z",
     "iopub.status.idle": "2021-11-09T10:43:17.852145Z",
     "shell.execute_reply": "2021-11-09T10:43:17.852145Z"
    }
   },
   "outputs": [
    {
     "data": {
      "text/plain": [
       "0.4523018221799003"
      ]
     },
     "execution_count": 11,
     "metadata": {},
     "output_type": "execute_result"
    }
   ],
   "source": [
    "# census_data.iloc[1,-1]/census_data.iloc[0,-1]\n",
    "census_data.iloc[1,-1]/census_data.iloc[0,-1]"
   ]
  },
  {
   "cell_type": "markdown",
   "id": "3dedb19e",
   "metadata": {},
   "source": [
    "### CALCULATING PERCENTAGES OF LANGUAGE SPEAKERS"
   ]
  },
  {
   "cell_type": "code",
   "execution_count": 12,
   "id": "04af5688",
   "metadata": {
    "execution": {
     "iopub.execute_input": "2021-11-09T10:43:17.852145Z",
     "iopub.status.busy": "2021-11-09T10:43:17.852145Z",
     "iopub.status.idle": "2021-11-09T10:43:17.873359Z",
     "shell.execute_reply": "2021-11-09T10:43:17.873359Z"
    }
   },
   "outputs": [],
   "source": [
    "#CREATING A COPY OF DATAFRAME\n",
    "newdf = df.copy()"
   ]
  },
  {
   "cell_type": "code",
   "execution_count": 13,
   "id": "09ac0395",
   "metadata": {
    "execution": {
     "iopub.execute_input": "2021-11-09T10:43:17.881402Z",
     "iopub.status.busy": "2021-11-09T10:43:17.881402Z",
     "iopub.status.idle": "2021-11-09T10:43:17.894071Z",
     "shell.execute_reply": "2021-11-09T10:43:17.894071Z"
    }
   },
   "outputs": [],
   "source": [
    "#NUMBER OF SPEAKERS OF EACH CATEGORY\n",
    "newdf['only1lang'] = census_data['TOT_P'] - newdf['Persons.2']   #EXACTLY ONE LANG\n",
    "newdf['only2lang'] = newdf['Persons.2'] - newdf['Persons.3']    #EXACTLY TWO LANGUAGES"
   ]
  },
  {
   "cell_type": "code",
   "execution_count": 14,
   "id": "688eb7f8",
   "metadata": {
    "execution": {
     "iopub.execute_input": "2021-11-09T10:43:17.902232Z",
     "iopub.status.busy": "2021-11-09T10:43:17.902232Z",
     "iopub.status.idle": "2021-11-09T10:43:17.935902Z",
     "shell.execute_reply": "2021-11-09T10:43:17.935902Z"
    }
   },
   "outputs": [
    {
     "data": {
      "text/html": [
       "<div>\n",
       "<style scoped>\n",
       "    .dataframe tbody tr th:only-of-type {\n",
       "        vertical-align: middle;\n",
       "    }\n",
       "\n",
       "    .dataframe tbody tr th {\n",
       "        vertical-align: top;\n",
       "    }\n",
       "\n",
       "    .dataframe thead th {\n",
       "        text-align: right;\n",
       "    }\n",
       "</style>\n",
       "<table border=\"1\" class=\"dataframe\">\n",
       "  <thead>\n",
       "    <tr style=\"text-align: right;\">\n",
       "      <th></th>\n",
       "      <th>State</th>\n",
       "      <th>Name</th>\n",
       "      <th>TRU</th>\n",
       "      <th>Age-group</th>\n",
       "      <th>Persons.2</th>\n",
       "      <th>Persons.3</th>\n",
       "      <th>only1lang</th>\n",
       "      <th>only2lang</th>\n",
       "    </tr>\n",
       "  </thead>\n",
       "  <tbody>\n",
       "    <tr>\n",
       "      <th>0</th>\n",
       "      <td>0</td>\n",
       "      <td>INDIA</td>\n",
       "      <td>Rural</td>\n",
       "      <td>Total</td>\n",
       "      <td>162641485</td>\n",
       "      <td>35383989</td>\n",
       "      <td>671107367</td>\n",
       "      <td>127257496</td>\n",
       "    </tr>\n",
       "    <tr>\n",
       "      <th>1</th>\n",
       "      <td>0</td>\n",
       "      <td>INDIA</td>\n",
       "      <td>Urban</td>\n",
       "      <td>Total</td>\n",
       "      <td>152347285</td>\n",
       "      <td>50625591</td>\n",
       "      <td>224758840</td>\n",
       "      <td>101721694</td>\n",
       "    </tr>\n",
       "    <tr>\n",
       "      <th>2</th>\n",
       "      <td>1</td>\n",
       "      <td>JAMMU &amp; KASHMIR</td>\n",
       "      <td>Rural</td>\n",
       "      <td>Total</td>\n",
       "      <td>4167238</td>\n",
       "      <td>1258724</td>\n",
       "      <td>4940822</td>\n",
       "      <td>2908514</td>\n",
       "    </tr>\n",
       "    <tr>\n",
       "      <th>3</th>\n",
       "      <td>1</td>\n",
       "      <td>JAMMU &amp; KASHMIR</td>\n",
       "      <td>Urban</td>\n",
       "      <td>Total</td>\n",
       "      <td>2015952</td>\n",
       "      <td>837496</td>\n",
       "      <td>1417290</td>\n",
       "      <td>1178456</td>\n",
       "    </tr>\n",
       "    <tr>\n",
       "      <th>4</th>\n",
       "      <td>2</td>\n",
       "      <td>HIMACHAL PRADESH</td>\n",
       "      <td>Rural</td>\n",
       "      <td>Total</td>\n",
       "      <td>981518</td>\n",
       "      <td>280817</td>\n",
       "      <td>5194532</td>\n",
       "      <td>700701</td>\n",
       "    </tr>\n",
       "  </tbody>\n",
       "</table>\n",
       "</div>"
      ],
      "text/plain": [
       "   State              Name    TRU Age-group  Persons.2  Persons.3  only1lang  only2lang\n",
       "0      0             INDIA  Rural     Total  162641485   35383989  671107367  127257496\n",
       "1      0             INDIA  Urban     Total  152347285   50625591  224758840  101721694\n",
       "2      1   JAMMU & KASHMIR  Rural     Total    4167238    1258724    4940822    2908514\n",
       "3      1   JAMMU & KASHMIR  Urban     Total    2015952     837496    1417290    1178456\n",
       "4      2  HIMACHAL PRADESH  Rural     Total     981518     280817    5194532     700701"
      ]
     },
     "execution_count": 14,
     "metadata": {},
     "output_type": "execute_result"
    }
   ],
   "source": [
    "newdf.head()"
   ]
  },
  {
   "cell_type": "code",
   "execution_count": 15,
   "id": "81a617f0",
   "metadata": {
    "execution": {
     "iopub.execute_input": "2021-11-09T10:43:17.943930Z",
     "iopub.status.busy": "2021-11-09T10:43:17.943930Z",
     "iopub.status.idle": "2021-11-09T10:43:17.956578Z",
     "shell.execute_reply": "2021-11-09T10:43:17.956578Z"
    }
   },
   "outputs": [
    {
     "data": {
      "text/plain": [
       "Index(['State', 'Name', 'TRU', 'Age-group', 'Persons.2', 'Persons.3', 'only1lang', 'only2lang'], dtype='object')"
      ]
     },
     "execution_count": 15,
     "metadata": {},
     "output_type": "execute_result"
    }
   ],
   "source": [
    "newdf.columns"
   ]
  },
  {
   "cell_type": "code",
   "execution_count": 16,
   "id": "2e998490",
   "metadata": {
    "execution": {
     "iopub.execute_input": "2021-11-09T10:43:17.964735Z",
     "iopub.status.busy": "2021-11-09T10:43:17.964735Z",
     "iopub.status.idle": "2021-11-09T10:43:17.975234Z",
     "shell.execute_reply": "2021-11-09T10:43:17.975234Z"
    }
   },
   "outputs": [],
   "source": [
    "#CALCULATING RURAL and URBAN percentages ROWWISE\n",
    "newdf['rp1'] = (newdf['only1lang'] / census_data['TOT_P'])*100\n",
    "newdf['rp2'] = (newdf['only2lang'] / census_data['TOT_P'])*100\n",
    "newdf['rp3'] = (newdf['Persons.3'] / census_data['TOT_P'])*100"
   ]
  },
  {
   "cell_type": "code",
   "execution_count": null,
   "id": "e9cb4420",
   "metadata": {},
   "outputs": [],
   "source": []
  },
  {
   "cell_type": "code",
   "execution_count": 17,
   "id": "00aed04b",
   "metadata": {
    "execution": {
     "iopub.execute_input": "2021-11-09T10:43:17.990903Z",
     "iopub.status.busy": "2021-11-09T10:43:17.975234Z",
     "iopub.status.idle": "2021-11-09T10:43:17.990903Z",
     "shell.execute_reply": "2021-11-09T10:43:17.990903Z"
    }
   },
   "outputs": [],
   "source": [
    "#CONVERTING rural and urban as columns(to ease calculation) and calculating URBAN TO RURAL RATIOS\n",
    "def f1(df1,lang=''):               #\"lang\" parameter is used in naming URBAN TO RURAL RATIO CALCULATION COLUMN\n",
    "    s = df1.State.unique()\n",
    "    n =  df1.Name.unique()\n",
    "    \n",
    "    rp = df1.iloc[::2,-2].values  #evenrows for rural percentage\n",
    "    up = df1.iloc[1::2,-2].values  #oddrows for urban percentage\n",
    "    \n",
    "    r = df1.iloc[::2,-1].values  #evenrows for rural percentage\n",
    "    u = df1.iloc[1::2,-1].values  #oddrows for urban percentage\n",
    "    \n",
    "    fd = pd.DataFrame()             #CREATING A NEWDATAFRAME AND ADDING COLUMNS\n",
    "    fd['State'] = s\n",
    "    fd['Name'] = n\n",
    "    \n",
    "    fd['rural-percentage'] = rp\n",
    "    fd['urban-percentage'] = up\n",
    "    \n",
    "    fd['rural'] = r\n",
    "    fd['urban'] = u\n",
    "    \n",
    "    fd['ru'+lang] = fd['urban']/fd['rural']         ##URBAN TO RURAL PERCENTAGE\n",
    "    \n",
    "    return fd"
   ]
  },
  {
   "cell_type": "code",
   "execution_count": 18,
   "id": "f17b0386",
   "metadata": {
    "execution": {
     "iopub.execute_input": "2021-11-09T10:43:17.990903Z",
     "iopub.status.busy": "2021-11-09T10:43:17.990903Z",
     "iopub.status.idle": "2021-11-09T10:43:18.006905Z",
     "shell.execute_reply": "2021-11-09T10:43:18.006905Z"
    }
   },
   "outputs": [],
   "source": [
    "#SELECTING ONLY REQUIRED COLUMNS\n",
    "one_lang_df = newdf[['State', 'Name','rp1','only1lang']]\n",
    "two_lang_df = newdf[['State', 'Name','rp2','only2lang']]\n",
    "three_lang_df = newdf[['State', 'Name','rp3','Persons.3']]"
   ]
  },
  {
   "cell_type": "code",
   "execution_count": 19,
   "id": "fe81eb87",
   "metadata": {
    "execution": {
     "iopub.execute_input": "2021-11-09T10:43:18.022105Z",
     "iopub.status.busy": "2021-11-09T10:43:18.006905Z",
     "iopub.status.idle": "2021-11-09T10:43:18.038352Z",
     "shell.execute_reply": "2021-11-09T10:43:18.038352Z"
    }
   },
   "outputs": [],
   "source": [
    "#CALLING THE ABOVE FUNC\n",
    "one_lang_df = f1(one_lang_df,'1')\n",
    "two_lang_df = f1(two_lang_df,'2')\n",
    "three_lang_df = f1(three_lang_df,'3')\n",
    "census_data = f1(census_data)"
   ]
  },
  {
   "cell_type": "markdown",
   "id": "6404b916",
   "metadata": {},
   "source": [
    "### P-val calculation"
   ]
  },
  {
   "cell_type": "code",
   "execution_count": 20,
   "id": "8b4d7dd5",
   "metadata": {
    "execution": {
     "iopub.execute_input": "2021-11-09T10:43:18.038352Z",
     "iopub.status.busy": "2021-11-09T10:43:18.038352Z",
     "iopub.status.idle": "2021-11-09T10:43:18.053991Z",
     "shell.execute_reply": "2021-11-09T10:43:18.053991Z"
    }
   },
   "outputs": [],
   "source": [
    "#STORING URBAN TO RURAL RATIOS IN A LIST\n",
    "ru1 = one_lang_df['ru1'].values\n",
    "ru2 = two_lang_df['ru2'].values\n",
    "ru3 = three_lang_df['ru3'].values\n",
    "ru = census_data['ru'].values"
   ]
  },
  {
   "cell_type": "code",
   "execution_count": 21,
   "id": "d4e5a3d1",
   "metadata": {
    "execution": {
     "iopub.execute_input": "2021-11-09T10:43:18.053991Z",
     "iopub.status.busy": "2021-11-09T10:43:18.053991Z",
     "iopub.status.idle": "2021-11-09T10:43:18.075522Z",
     "shell.execute_reply": "2021-11-09T10:43:18.075522Z"
    }
   },
   "outputs": [],
   "source": [
    "#CALCULATING P-VALUE\n",
    "ls_p = stats.ttest_1samp([ru1,ru2,ru3],popmean=ru)[1]"
   ]
  },
  {
   "cell_type": "code",
   "execution_count": 22,
   "id": "19d88f33",
   "metadata": {
    "execution": {
     "iopub.execute_input": "2021-11-09T10:43:18.075522Z",
     "iopub.status.busy": "2021-11-09T10:43:18.075522Z",
     "iopub.status.idle": "2021-11-09T10:43:18.091147Z",
     "shell.execute_reply": "2021-11-09T10:43:18.091147Z"
    }
   },
   "outputs": [],
   "source": [
    "#ADDING P-VALUE COLUMN\n",
    "one_lang_df['p-value'] = ls_p\n",
    "two_lang_df['p-value'] = ls_p\n",
    "three_lang_df['p-value'] = ls_p"
   ]
  },
  {
   "cell_type": "code",
   "execution_count": 23,
   "id": "eb3c0f86",
   "metadata": {
    "execution": {
     "iopub.execute_input": "2021-11-09T10:43:18.091147Z",
     "iopub.status.busy": "2021-11-09T10:43:18.091147Z",
     "iopub.status.idle": "2021-11-09T10:43:18.106769Z",
     "shell.execute_reply": "2021-11-09T10:43:18.106769Z"
    }
   },
   "outputs": [],
   "source": [
    "#SELECTING COLUMNS IN REQUIRED FORMAT\n",
    "one_lang_df = one_lang_df[['State', 'urban-percentage','rural-percentage','p-value']]\n",
    "two_lang_df = two_lang_df[['State', 'urban-percentage','rural-percentage','p-value']]\n",
    "three_lang_df = three_lang_df[['State', 'urban-percentage','rural-percentage','p-value']]"
   ]
  },
  {
   "cell_type": "code",
   "execution_count": null,
   "id": "eb0912c1",
   "metadata": {},
   "outputs": [],
   "source": []
  },
  {
   "cell_type": "code",
   "execution_count": 24,
   "id": "342a514e",
   "metadata": {
    "execution": {
     "iopub.execute_input": "2021-11-09T10:43:18.106769Z",
     "iopub.status.busy": "2021-11-09T10:43:18.106769Z",
     "iopub.status.idle": "2021-11-09T10:43:18.123035Z",
     "shell.execute_reply": "2021-11-09T10:43:18.123035Z"
    }
   },
   "outputs": [],
   "source": [
    "#WRTITNG TO CSVS\n",
    "\n",
    "one_lang_df.to_csv('geography-india-a.csv',index=False)\n",
    "two_lang_df.to_csv('geography-india-b.csv',index=False)\n",
    "three_lang_df.to_csv('geography-india-c.csv',index=False)"
   ]
  },
  {
   "cell_type": "code",
   "execution_count": null,
   "id": "2f283f93",
   "metadata": {},
   "outputs": [],
   "source": []
  },
  {
   "cell_type": "markdown",
   "id": "3c0f5118",
   "metadata": {},
   "source": [
    "### TEST ANALYSIS"
   ]
  },
  {
   "cell_type": "markdown",
   "id": "56ca3a2e",
   "metadata": {},
   "source": [
    "NULL HYPOTHESIS:  URBAN/RURAL SPEAKERS RATIO OF STATES IS SAME AS THAT OF URBAN/RURAL SPEAKERS RATIO OF INDIA\n",
    "ALTERNATE HYPOTHESIS: URBAN/RURAL SPEAKERS RATIO OF STATES IS \"NOT\" SAME AS THAT OF URBAN/RURAL SPEAKERS RATIO OF INDIA\n",
    "\n",
    "cond of analysis:\n",
    "(i) if p <= alpha  then we REJECT NULL HYPOTHESIS\n",
    "(ii) if p > alpha  then we fail to reject NULL HYPOTHESIS with level of significance(alpha)"
   ]
  },
  {
   "cell_type": "code",
   "execution_count": 25,
   "id": "58091370",
   "metadata": {},
   "outputs": [],
   "source": [
    "#storing STATEIDS AND P-val\n",
    "data = one_lang_df[['State','p-value']]"
   ]
  },
  {
   "cell_type": "code",
   "execution_count": 28,
   "id": "2d31ef9c",
   "metadata": {},
   "outputs": [
    {
     "name": "stdout",
     "output_type": "stream",
     "text": [
      "ALL STATES-- HAVE FAIL TO REJECT NULL HYPOTHESIS with LEVEL OF SIGINFICANCE: 0.05\n",
      "*****************\n",
      "\n",
      "ALL STATES-- HAVE FAIL TO REJECT NULL HYPOTHESIS with LEVEL OF SIGINFICANCE: 0.2\n",
      "*****************\n",
      "\n",
      "2 STATE-ID HAS REJECTED NULL HYPOTHESIS with LEVEL OF SIGINFICANCE: 0.3\n",
      "5 STATE-ID HAS REJECTED NULL HYPOTHESIS with LEVEL OF SIGINFICANCE: 0.3\n",
      "6 STATE-ID HAS REJECTED NULL HYPOTHESIS with LEVEL OF SIGINFICANCE: 0.3\n",
      "8 STATE-ID HAS REJECTED NULL HYPOTHESIS with LEVEL OF SIGINFICANCE: 0.3\n",
      "9 STATE-ID HAS REJECTED NULL HYPOTHESIS with LEVEL OF SIGINFICANCE: 0.3\n",
      "23 STATE-ID HAS REJECTED NULL HYPOTHESIS with LEVEL OF SIGINFICANCE: 0.3\n",
      "*****************\n",
      "\n",
      "0 STATE-ID HAS REJECTED NULL HYPOTHESIS with LEVEL OF SIGINFICANCE: 0.4\n",
      "2 STATE-ID HAS REJECTED NULL HYPOTHESIS with LEVEL OF SIGINFICANCE: 0.4\n",
      "5 STATE-ID HAS REJECTED NULL HYPOTHESIS with LEVEL OF SIGINFICANCE: 0.4\n",
      "6 STATE-ID HAS REJECTED NULL HYPOTHESIS with LEVEL OF SIGINFICANCE: 0.4\n",
      "7 STATE-ID HAS REJECTED NULL HYPOTHESIS with LEVEL OF SIGINFICANCE: 0.4\n",
      "8 STATE-ID HAS REJECTED NULL HYPOTHESIS with LEVEL OF SIGINFICANCE: 0.4\n",
      "9 STATE-ID HAS REJECTED NULL HYPOTHESIS with LEVEL OF SIGINFICANCE: 0.4\n",
      "10 STATE-ID HAS REJECTED NULL HYPOTHESIS with LEVEL OF SIGINFICANCE: 0.4\n",
      "15 STATE-ID HAS REJECTED NULL HYPOTHESIS with LEVEL OF SIGINFICANCE: 0.4\n",
      "17 STATE-ID HAS REJECTED NULL HYPOTHESIS with LEVEL OF SIGINFICANCE: 0.4\n",
      "19 STATE-ID HAS REJECTED NULL HYPOTHESIS with LEVEL OF SIGINFICANCE: 0.4\n",
      "20 STATE-ID HAS REJECTED NULL HYPOTHESIS with LEVEL OF SIGINFICANCE: 0.4\n",
      "22 STATE-ID HAS REJECTED NULL HYPOTHESIS with LEVEL OF SIGINFICANCE: 0.4\n",
      "23 STATE-ID HAS REJECTED NULL HYPOTHESIS with LEVEL OF SIGINFICANCE: 0.4\n",
      "28 STATE-ID HAS REJECTED NULL HYPOTHESIS with LEVEL OF SIGINFICANCE: 0.4\n",
      "31 STATE-ID HAS REJECTED NULL HYPOTHESIS with LEVEL OF SIGINFICANCE: 0.4\n",
      "32 STATE-ID HAS REJECTED NULL HYPOTHESIS with LEVEL OF SIGINFICANCE: 0.4\n",
      "33 STATE-ID HAS REJECTED NULL HYPOTHESIS with LEVEL OF SIGINFICANCE: 0.4\n",
      "34 STATE-ID HAS REJECTED NULL HYPOTHESIS with LEVEL OF SIGINFICANCE: 0.4\n",
      "*****************\n",
      "\n"
     ]
    }
   ],
   "source": [
    "#level of Significance list and computing for different alphas\n",
    "alpha = [0.05,0.2,0.3,0.4]\n",
    "for i in alpha:\n",
    "    st = data[data['p-value'] <= i]['State'].values      #condition checking\n",
    "    if len(st) == 0:\n",
    "        print('ALL STATES-- HAVE FAIL TO REJECT NULL HYPOTHESIS with LEVEL OF SIGINFICANCE: {}'.format(i))\n",
    "    else:\n",
    "        for z in st:\n",
    "            print('{} STATE-ID HAS REJECTED NULL HYPOTHESIS with LEVEL OF SIGINFICANCE: {}'.format(z,i))\n",
    "    print('*****************')\n",
    "    print()\n",
    "        "
   ]
  },
  {
   "cell_type": "code",
   "execution_count": null,
   "id": "1a998b3c",
   "metadata": {},
   "outputs": [],
   "source": []
  },
  {
   "cell_type": "code",
   "execution_count": 27,
   "id": "7b80e368",
   "metadata": {
    "execution": {
     "iopub.execute_input": "2021-11-09T10:43:18.123035Z",
     "iopub.status.busy": "2021-11-09T10:43:18.123035Z",
     "iopub.status.idle": "2021-11-09T10:43:18.138653Z",
     "shell.execute_reply": "2021-11-09T10:43:18.138653Z"
    }
   },
   "outputs": [],
   "source": [
    "#FINISHED"
   ]
  },
  {
   "cell_type": "code",
   "execution_count": null,
   "id": "ea3da6ec",
   "metadata": {
    "execution": {
     "iopub.execute_input": "2021-11-09T10:17:32.811212Z",
     "iopub.status.busy": "2021-11-09T10:17:32.811212Z",
     "iopub.status.idle": "2021-11-09T10:17:32.826831Z",
     "shell.execute_reply": "2021-11-09T10:17:32.826831Z"
    }
   },
   "outputs": [],
   "source": []
  },
  {
   "cell_type": "code",
   "execution_count": null,
   "id": "bc084be4",
   "metadata": {},
   "outputs": [],
   "source": []
  }
 ],
 "metadata": {
  "kernelspec": {
   "display_name": "Python 3",
   "language": "python",
   "name": "python3"
  },
  "language_info": {
   "codemirror_mode": {
    "name": "ipython",
    "version": 3
   },
   "file_extension": ".py",
   "mimetype": "text/x-python",
   "name": "python",
   "nbconvert_exporter": "python",
   "pygments_lexer": "ipython3",
   "version": "3.8.8"
  }
 },
 "nbformat": 4,
 "nbformat_minor": 5
}
