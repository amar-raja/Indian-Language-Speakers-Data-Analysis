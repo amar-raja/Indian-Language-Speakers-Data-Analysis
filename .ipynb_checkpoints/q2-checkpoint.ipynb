{
 "cells": [
  {
   "cell_type": "markdown",
   "id": "9236fe01",
   "metadata": {},
   "source": [
    "# 2)males and females speaking who speaks only one language, exactly two languages, and  three languages or more"
   ]
  },
  {
   "cell_type": "code",
   "execution_count": 1,
   "id": "aafe05e0",
   "metadata": {
    "execution": {
     "iopub.execute_input": "2021-11-09T10:43:01.623193Z",
     "iopub.status.busy": "2021-11-09T10:43:01.623193Z",
     "iopub.status.idle": "2021-11-09T10:43:02.855295Z",
     "shell.execute_reply": "2021-11-09T10:43:02.855295Z"
    }
   },
   "outputs": [],
   "source": [
    "import numpy as np\n",
    "import pandas as pd\n",
    "import datetime as dt\n",
    "import warnings\n",
    "from scipy import stats\n",
    "warnings.filterwarnings('ignore')"
   ]
  },
  {
   "cell_type": "code",
   "execution_count": 2,
   "id": "53254b67",
   "metadata": {
    "execution": {
     "iopub.execute_input": "2021-11-09T10:43:02.855295Z",
     "iopub.status.busy": "2021-11-09T10:43:02.855295Z",
     "iopub.status.idle": "2021-11-09T10:43:02.870916Z",
     "shell.execute_reply": "2021-11-09T10:43:02.870916Z"
    }
   },
   "outputs": [],
   "source": [
    "pd.set_option('display.max_columns',30)\n",
    "pd.set_option('display.max_rows',10000)\n",
    "pd.set_option('display.width',400)"
   ]
  },
  {
   "cell_type": "code",
   "execution_count": 3,
   "id": "fe531a48",
   "metadata": {
    "execution": {
     "iopub.execute_input": "2021-11-09T10:43:02.870916Z",
     "iopub.status.busy": "2021-11-09T10:43:02.870916Z",
     "iopub.status.idle": "2021-11-09T10:43:03.558513Z",
     "shell.execute_reply": "2021-11-09T10:43:03.558513Z"
    }
   },
   "outputs": [],
   "source": [
    "#ASSIGNING COL NAMES\n",
    "column_names = ['State', 'District', 'Name', 'TRU','Age-group','Persons.2','Males.2','Females.2','Persons.3','Males.3','Females.3']\n",
    "#READING DATA\n",
    "df = pd.read_excel('DDW-C18-0000.xlsx',names=column_names,skiprows=5)"
   ]
  },
  {
   "cell_type": "code",
   "execution_count": 4,
   "id": "bf254c29",
   "metadata": {
    "execution": {
     "iopub.execute_input": "2021-11-09T10:43:03.558513Z",
     "iopub.status.busy": "2021-11-09T10:43:03.558513Z",
     "iopub.status.idle": "2021-11-09T10:43:03.574134Z",
     "shell.execute_reply": "2021-11-09T10:43:03.574134Z"
    }
   },
   "outputs": [
    {
     "data": {
      "text/plain": [
       "Index(['State', 'District', 'Name', 'TRU', 'Age-group', 'Persons.2', 'Males.2', 'Females.2', 'Persons.3', 'Males.3', 'Females.3'], dtype='object')"
      ]
     },
     "execution_count": 4,
     "metadata": {},
     "output_type": "execute_result"
    }
   ],
   "source": [
    "df.columns"
   ]
  },
  {
   "cell_type": "code",
   "execution_count": 5,
   "id": "5c434193",
   "metadata": {
    "execution": {
     "iopub.execute_input": "2021-11-09T10:43:03.574134Z",
     "iopub.status.busy": "2021-11-09T10:43:03.574134Z",
     "iopub.status.idle": "2021-11-09T10:43:03.589755Z",
     "shell.execute_reply": "2021-11-09T10:43:03.589755Z"
    }
   },
   "outputs": [],
   "source": [
    "#TAKING ONLY REQUIRED COLUMNS\n",
    "df = df[['State','Name','TRU','Age-group', 'Males.2', 'Females.2','Males.3', 'Females.3']]\n",
    "# REMOVING URBAN AND RURAL ROWS\n",
    "idx = df.loc[(df['TRU']!='Total') | (df['Age-group'] !='Total')].index\n",
    "df = df.drop(idx)"
   ]
  },
  {
   "cell_type": "code",
   "execution_count": 6,
   "id": "cdf10ff7",
   "metadata": {
    "execution": {
     "iopub.execute_input": "2021-11-09T10:43:03.589755Z",
     "iopub.status.busy": "2021-11-09T10:43:03.589755Z",
     "iopub.status.idle": "2021-11-09T10:43:03.605377Z",
     "shell.execute_reply": "2021-11-09T10:43:03.605377Z"
    }
   },
   "outputs": [],
   "source": [
    "df.reset_index(inplace=True,drop=True)"
   ]
  },
  {
   "cell_type": "code",
   "execution_count": 7,
   "id": "99fdc9b3",
   "metadata": {
    "execution": {
     "iopub.execute_input": "2021-11-09T10:43:03.611884Z",
     "iopub.status.busy": "2021-11-09T10:43:03.605377Z",
     "iopub.status.idle": "2021-11-09T10:43:03.627556Z",
     "shell.execute_reply": "2021-11-09T10:43:03.627556Z"
    }
   },
   "outputs": [],
   "source": [
    "# df.head()"
   ]
  },
  {
   "cell_type": "code",
   "execution_count": null,
   "id": "d2f34bce",
   "metadata": {},
   "outputs": [],
   "source": []
  },
  {
   "cell_type": "markdown",
   "id": "58ecda74",
   "metadata": {},
   "source": [
    "PREPROCESSING CENSUS POPULATION DATA"
   ]
  },
  {
   "cell_type": "code",
   "execution_count": 8,
   "id": "032a1944",
   "metadata": {
    "execution": {
     "iopub.execute_input": "2021-11-09T10:43:03.627556Z",
     "iopub.status.busy": "2021-11-09T10:43:03.627556Z",
     "iopub.status.idle": "2021-11-09T10:43:07.817738Z",
     "shell.execute_reply": "2021-11-09T10:43:07.815602Z"
    }
   },
   "outputs": [],
   "source": [
    "censuscols = ['State','Level','Name','TRU','TOT_P','TOT_M','TOT_F']\n",
    "census_data = pd.read_excel(r'DDW_PCA0000_2011_Indiastatedist.xlsx',usecols=censuscols)"
   ]
  },
  {
   "cell_type": "code",
   "execution_count": 9,
   "id": "c86ee5b6",
   "metadata": {
    "execution": {
     "iopub.execute_input": "2021-11-09T10:43:07.817738Z",
     "iopub.status.busy": "2021-11-09T10:43:07.817738Z",
     "iopub.status.idle": "2021-11-09T10:43:07.838517Z",
     "shell.execute_reply": "2021-11-09T10:43:07.838618Z"
    }
   },
   "outputs": [],
   "source": [
    "#dropping rows OF TRU =(rural,urban)  and LEVEL = (district)as not needed\n",
    "a = census_data.loc[(census_data['TRU']=='Rural') | (census_data['TRU']=='Urban') | (census_data['Level'] == 'DISTRICT')].index\n",
    "census_data = census_data.drop(a)"
   ]
  },
  {
   "cell_type": "code",
   "execution_count": 10,
   "id": "e6f946e1",
   "metadata": {
    "execution": {
     "iopub.execute_input": "2021-11-09T10:43:07.838618Z",
     "iopub.status.busy": "2021-11-09T10:43:07.838618Z",
     "iopub.status.idle": "2021-11-09T10:43:07.859438Z",
     "shell.execute_reply": "2021-11-09T10:43:07.859537Z"
    }
   },
   "outputs": [],
   "source": [
    "census_data.reset_index(inplace=True,drop=True)"
   ]
  },
  {
   "cell_type": "code",
   "execution_count": 11,
   "id": "f31dd669",
   "metadata": {
    "execution": {
     "iopub.execute_input": "2021-11-09T10:43:07.859537Z",
     "iopub.status.busy": "2021-11-09T10:43:07.859537Z",
     "iopub.status.idle": "2021-11-09T10:43:07.881158Z",
     "shell.execute_reply": "2021-11-09T10:43:07.881158Z"
    }
   },
   "outputs": [],
   "source": [
    "# census_data.head()"
   ]
  },
  {
   "cell_type": "code",
   "execution_count": null,
   "id": "102319d5",
   "metadata": {},
   "outputs": [],
   "source": []
  },
  {
   "cell_type": "code",
   "execution_count": 12,
   "id": "5cfb5bf3",
   "metadata": {
    "execution": {
     "iopub.execute_input": "2021-11-09T10:43:07.881158Z",
     "iopub.status.busy": "2021-11-09T10:43:07.881158Z",
     "iopub.status.idle": "2021-11-09T10:43:07.902582Z",
     "shell.execute_reply": "2021-11-09T10:43:07.902582Z"
    }
   },
   "outputs": [],
   "source": [
    "census_data['mf'] = census_data['TOT_M']/census_data['TOT_F']  #MALE/FEMALE RATIO\n"
   ]
  },
  {
   "cell_type": "markdown",
   "id": "b78ea873",
   "metadata": {},
   "source": [
    "CALCULATING PERCENTAGES OF LANGUAGE SPEAKERS"
   ]
  },
  {
   "cell_type": "code",
   "execution_count": 13,
   "id": "cd3577e1",
   "metadata": {
    "execution": {
     "iopub.execute_input": "2021-11-09T10:43:07.902582Z",
     "iopub.status.busy": "2021-11-09T10:43:07.902582Z",
     "iopub.status.idle": "2021-11-09T10:43:07.923821Z",
     "shell.execute_reply": "2021-11-09T10:43:07.923821Z"
    }
   },
   "outputs": [],
   "source": [
    "#CREATING A COPY OF DATAFRAME\n",
    "newdf = df.copy()"
   ]
  },
  {
   "cell_type": "code",
   "execution_count": 14,
   "id": "d7cedf6a",
   "metadata": {
    "execution": {
     "iopub.execute_input": "2021-11-09T10:43:07.931982Z",
     "iopub.status.busy": "2021-11-09T10:43:07.931982Z",
     "iopub.status.idle": "2021-11-09T10:43:07.945037Z",
     "shell.execute_reply": "2021-11-09T10:43:07.945138Z"
    }
   },
   "outputs": [],
   "source": [
    "#NUMBER OF SPEAKERS OF EACH CATEGORY\n",
    "newdf['only1lang_m'] = census_data['TOT_M'] - newdf['Males.2']   #EXACTLY ONE LANG MALE\n",
    "newdf['only1lang_f'] = census_data['TOT_F'] - newdf['Females.2']   #EXACTLY ONE LANG FEMALE\n",
    "\n",
    "newdf['only2lang_m'] = newdf['Males.2'] - newdf['Males.3']   #EXACTLY TWO LANGUAGES MALE\n",
    "newdf['only2lang_f'] = newdf['Females.2'] - newdf['Females.3']   #EXACTLY TWO LANGUAGES FEMALE\n"
   ]
  },
  {
   "cell_type": "code",
   "execution_count": 15,
   "id": "4d498175",
   "metadata": {
    "execution": {
     "iopub.execute_input": "2021-11-09T10:43:07.945138Z",
     "iopub.status.busy": "2021-11-09T10:43:07.945138Z",
     "iopub.status.idle": "2021-11-09T10:43:07.966780Z",
     "shell.execute_reply": "2021-11-09T10:43:07.966780Z"
    }
   },
   "outputs": [],
   "source": [
    "# df.shape,census_data.shape"
   ]
  },
  {
   "cell_type": "code",
   "execution_count": 16,
   "id": "f378f1d3",
   "metadata": {
    "execution": {
     "iopub.execute_input": "2021-11-09T10:43:07.966780Z",
     "iopub.status.busy": "2021-11-09T10:43:07.966780Z",
     "iopub.status.idle": "2021-11-09T10:43:07.988194Z",
     "shell.execute_reply": "2021-11-09T10:43:07.988194Z"
    }
   },
   "outputs": [],
   "source": [
    "#AS STATES HAVE RELATIVE ORDER IN BOTH FILES WE CAN DIRECTLY PERFORM OPERATIONS"
   ]
  },
  {
   "cell_type": "code",
   "execution_count": 17,
   "id": "c440bacf",
   "metadata": {
    "execution": {
     "iopub.execute_input": "2021-11-09T10:43:07.996310Z",
     "iopub.status.busy": "2021-11-09T10:43:07.996310Z",
     "iopub.status.idle": "2021-11-09T10:43:08.008729Z",
     "shell.execute_reply": "2021-11-09T10:43:08.008729Z"
    }
   },
   "outputs": [],
   "source": [
    "newdf['mp-1'] = (newdf['only1lang_m'] / census_data['TOT_M'])*100\n",
    "newdf['fp-1'] = (newdf['only1lang_f'] / census_data['TOT_F'])*100\n",
    "\n",
    "\n",
    "newdf['mp-2'] = (newdf['only2lang_m'] / census_data['TOT_M'])*100\n",
    "newdf['fp-2'] = (newdf['only2lang_f'] / census_data['TOT_F'])*100\n",
    "\n",
    "newdf['mp-3'] = (newdf['Males.3'] / census_data['TOT_M'])*100\n",
    "newdf['fp-3'] = (newdf['Females.3'] / census_data['TOT_F'])*100"
   ]
  },
  {
   "cell_type": "code",
   "execution_count": 18,
   "id": "935e8e92",
   "metadata": {
    "execution": {
     "iopub.execute_input": "2021-11-09T10:43:08.008729Z",
     "iopub.status.busy": "2021-11-09T10:43:08.008729Z",
     "iopub.status.idle": "2021-11-09T10:43:08.028980Z",
     "shell.execute_reply": "2021-11-09T10:43:08.028879Z"
    }
   },
   "outputs": [
    {
     "data": {
      "text/plain": [
       "Index(['State', 'Name', 'TRU', 'Age-group', 'Males.2', 'Females.2', 'Males.3', 'Females.3', 'only1lang_m', 'only1lang_f', 'only2lang_m', 'only2lang_f', 'mp-1', 'fp-1', 'mp-2', 'fp-2', 'mp-3', 'fp-3'], dtype='object')"
      ]
     },
     "execution_count": 18,
     "metadata": {},
     "output_type": "execute_result"
    }
   ],
   "source": [
    "newdf.columns"
   ]
  },
  {
   "cell_type": "code",
   "execution_count": 19,
   "id": "8727bc21",
   "metadata": {
    "execution": {
     "iopub.execute_input": "2021-11-09T10:43:08.028980Z",
     "iopub.status.busy": "2021-11-09T10:43:08.028980Z",
     "iopub.status.idle": "2021-11-09T10:43:08.050196Z",
     "shell.execute_reply": "2021-11-09T10:43:08.050196Z"
    }
   },
   "outputs": [],
   "source": [
    "#calculating MALE/FEMALE RATIO FOR ALL LANGUAGE CATEGORIES\n",
    "newdf['mf1'] = newdf['only1lang_m']/newdf['only1lang_f']\n",
    "newdf['mf2'] = newdf['only2lang_m']/newdf['only2lang_f']\n",
    "newdf['mf3'] = newdf['Males.3']/newdf['Females.3']\n",
    "newdf['mf'] = census_data['mf']        #ADDING ORIGINAL POPULATION M/F RATIO AS A COLUMN"
   ]
  },
  {
   "cell_type": "code",
   "execution_count": 20,
   "id": "fd6a00a5",
   "metadata": {
    "execution": {
     "iopub.execute_input": "2021-11-09T10:43:08.058332Z",
     "iopub.status.busy": "2021-11-09T10:43:08.058332Z",
     "iopub.status.idle": "2021-11-09T10:43:08.068654Z",
     "shell.execute_reply": "2021-11-09T10:43:08.068654Z"
    }
   },
   "outputs": [],
   "source": [
    "newdf['p-value'] = newdf.apply(lambda row:stats.ttest_1samp([row.mf1,row.mf2,row.mf3],popmean=row.mf)[1],axis=1)"
   ]
  },
  {
   "cell_type": "code",
   "execution_count": 21,
   "id": "aca427c5",
   "metadata": {
    "execution": {
     "iopub.execute_input": "2021-11-09T10:43:08.070801Z",
     "iopub.status.busy": "2021-11-09T10:43:08.070801Z",
     "iopub.status.idle": "2021-11-09T10:43:08.092295Z",
     "shell.execute_reply": "2021-11-09T10:43:08.092396Z"
    }
   },
   "outputs": [],
   "source": [
    "# newdf['p-value']"
   ]
  },
  {
   "cell_type": "code",
   "execution_count": 22,
   "id": "68759543",
   "metadata": {
    "execution": {
     "iopub.execute_input": "2021-11-09T10:43:08.092396Z",
     "iopub.status.busy": "2021-11-09T10:43:08.092396Z",
     "iopub.status.idle": "2021-11-09T10:43:08.113865Z",
     "shell.execute_reply": "2021-11-09T10:43:08.113865Z"
    }
   },
   "outputs": [],
   "source": [
    "# newdf"
   ]
  },
  {
   "cell_type": "code",
   "execution_count": 23,
   "id": "ecc36486",
   "metadata": {
    "execution": {
     "iopub.execute_input": "2021-11-09T10:43:08.113865Z",
     "iopub.status.busy": "2021-11-09T10:43:08.113865Z",
     "iopub.status.idle": "2021-11-09T10:43:08.135226Z",
     "shell.execute_reply": "2021-11-09T10:43:08.135226Z"
    }
   },
   "outputs": [],
   "source": [
    "one_lang_df = newdf[['State','mp-1', 'fp-1','p-value']]\n",
    "two_lang_df = newdf[['State','mp-2', 'fp-2','p-value']]\n",
    "three_lang_df = newdf[['State','mp-3', 'fp-3','p-value']]"
   ]
  },
  {
   "cell_type": "code",
   "execution_count": 24,
   "id": "79e6f57c",
   "metadata": {
    "execution": {
     "iopub.execute_input": "2021-11-09T10:43:08.135226Z",
     "iopub.status.busy": "2021-11-09T10:43:08.135226Z",
     "iopub.status.idle": "2021-11-09T10:43:08.156617Z",
     "shell.execute_reply": "2021-11-09T10:43:08.156617Z"
    }
   },
   "outputs": [],
   "source": [
    "one_lang_df.columns = ['State','male-percentage','female-percentage', 'p-value']\n",
    "two_lang_df.columns = ['State','male-percentage','female-percentage', 'p-value']\n",
    "three_lang_df.columns = ['State','male-percentage','female-percentage', 'p-value']"
   ]
  },
  {
   "cell_type": "code",
   "execution_count": 25,
   "id": "c650bc8a",
   "metadata": {
    "execution": {
     "iopub.execute_input": "2021-11-09T10:43:08.156617Z",
     "iopub.status.busy": "2021-11-09T10:43:08.156617Z",
     "iopub.status.idle": "2021-11-09T10:43:08.177934Z",
     "shell.execute_reply": "2021-11-09T10:43:08.177934Z"
    }
   },
   "outputs": [],
   "source": [
    "# three_lang_df.head()"
   ]
  },
  {
   "cell_type": "code",
   "execution_count": null,
   "id": "868f89d1",
   "metadata": {},
   "outputs": [],
   "source": []
  },
  {
   "cell_type": "code",
   "execution_count": 26,
   "id": "b514e924",
   "metadata": {
    "execution": {
     "iopub.execute_input": "2021-11-09T10:43:08.177934Z",
     "iopub.status.busy": "2021-11-09T10:43:08.177934Z",
     "iopub.status.idle": "2021-11-09T10:43:08.198857Z",
     "shell.execute_reply": "2021-11-09T10:43:08.196725Z"
    }
   },
   "outputs": [],
   "source": [
    "#WRTITNG TO CSVS\n",
    "\n",
    "one_lang_df.to_csv('gender-india-a.csv',index=False)\n",
    "two_lang_df.to_csv('gender-india-b.csv',index=False)\n",
    "three_lang_df.to_csv('gender-india-c.csv',index=False)"
   ]
  },
  {
   "cell_type": "code",
   "execution_count": null,
   "id": "b65a3854",
   "metadata": {},
   "outputs": [],
   "source": []
  },
  {
   "cell_type": "markdown",
   "id": "477df1da",
   "metadata": {},
   "source": [
    "#### TEST ANALYSIS"
   ]
  },
  {
   "cell_type": "markdown",
   "id": "cee93cc6",
   "metadata": {},
   "source": [
    "NULL HYPOTHESIS:  MALE/FEMALE SPEAKERS RATIO OF STATES IS SAME AS THAT OF MALE/FEMALE SPEAKERS RATIO OF INDIA\n",
    "ALTERNATE HYPOTHESIS: MALE/FEMALE SPEAKERS RATIO OF STATES IS NOT SAME AS THAT OF MALE/FEMALE SPEAKERS RATIO OF INDIA\n",
    "\n",
    "cond of analysis:\n",
    "(i) if p <= alpha  then we REJECT NULL HYPOTHESIS\n",
    "(ii) if p > alpha  then we fail to reject NULL HYPOTHESIS with level of significance(alpha)"
   ]
  },
  {
   "cell_type": "code",
   "execution_count": 29,
   "id": "33578a81",
   "metadata": {},
   "outputs": [],
   "source": [
    "#storing STATEIDS AND P-val\n",
    "data = one_lang_df[['State','p-value']]"
   ]
  },
  {
   "cell_type": "code",
   "execution_count": 34,
   "id": "043cc906",
   "metadata": {},
   "outputs": [
    {
     "name": "stdout",
     "output_type": "stream",
     "text": [
      "ALL STATES-- HAVE FAIL TO REJECT NULL HYPOTHESIS with LEVEL OF SIGINFICANCE: 0.05\n",
      "*****************\n",
      "\n",
      "ALL STATES-- HAVE FAIL TO REJECT NULL HYPOTHESIS with LEVEL OF SIGINFICANCE: 0.2\n",
      "*****************\n",
      "\n",
      "5 STATE-ID HAS REJECTED NULL HYPOTHESIS with LEVEL OF SIGINFICANCE: 0.3\n",
      "6 STATE-ID HAS REJECTED NULL HYPOTHESIS with LEVEL OF SIGINFICANCE: 0.3\n",
      "8 STATE-ID HAS REJECTED NULL HYPOTHESIS with LEVEL OF SIGINFICANCE: 0.3\n",
      "9 STATE-ID HAS REJECTED NULL HYPOTHESIS with LEVEL OF SIGINFICANCE: 0.3\n",
      "19 STATE-ID HAS REJECTED NULL HYPOTHESIS with LEVEL OF SIGINFICANCE: 0.3\n",
      "23 STATE-ID HAS REJECTED NULL HYPOTHESIS with LEVEL OF SIGINFICANCE: 0.3\n",
      "*****************\n",
      "\n",
      "0 STATE-ID HAS REJECTED NULL HYPOTHESIS with LEVEL OF SIGINFICANCE: 0.4\n",
      "2 STATE-ID HAS REJECTED NULL HYPOTHESIS with LEVEL OF SIGINFICANCE: 0.4\n",
      "5 STATE-ID HAS REJECTED NULL HYPOTHESIS with LEVEL OF SIGINFICANCE: 0.4\n",
      "6 STATE-ID HAS REJECTED NULL HYPOTHESIS with LEVEL OF SIGINFICANCE: 0.4\n",
      "8 STATE-ID HAS REJECTED NULL HYPOTHESIS with LEVEL OF SIGINFICANCE: 0.4\n",
      "9 STATE-ID HAS REJECTED NULL HYPOTHESIS with LEVEL OF SIGINFICANCE: 0.4\n",
      "10 STATE-ID HAS REJECTED NULL HYPOTHESIS with LEVEL OF SIGINFICANCE: 0.4\n",
      "15 STATE-ID HAS REJECTED NULL HYPOTHESIS with LEVEL OF SIGINFICANCE: 0.4\n",
      "19 STATE-ID HAS REJECTED NULL HYPOTHESIS with LEVEL OF SIGINFICANCE: 0.4\n",
      "20 STATE-ID HAS REJECTED NULL HYPOTHESIS with LEVEL OF SIGINFICANCE: 0.4\n",
      "22 STATE-ID HAS REJECTED NULL HYPOTHESIS with LEVEL OF SIGINFICANCE: 0.4\n",
      "23 STATE-ID HAS REJECTED NULL HYPOTHESIS with LEVEL OF SIGINFICANCE: 0.4\n",
      "28 STATE-ID HAS REJECTED NULL HYPOTHESIS with LEVEL OF SIGINFICANCE: 0.4\n",
      "31 STATE-ID HAS REJECTED NULL HYPOTHESIS with LEVEL OF SIGINFICANCE: 0.4\n",
      "32 STATE-ID HAS REJECTED NULL HYPOTHESIS with LEVEL OF SIGINFICANCE: 0.4\n",
      "33 STATE-ID HAS REJECTED NULL HYPOTHESIS with LEVEL OF SIGINFICANCE: 0.4\n",
      "34 STATE-ID HAS REJECTED NULL HYPOTHESIS with LEVEL OF SIGINFICANCE: 0.4\n",
      "*****************\n",
      "\n"
     ]
    }
   ],
   "source": [
    "#level of Significance list and computing for different alphas\n",
    "alpha = [0.05,0.2,0.3,0.4]\n",
    "for i in alpha:\n",
    "    st = data[data['p-value'] <= i]['State'].values      #condition checking\n",
    "    if len(st) == 0:\n",
    "        print('ALL STATES-- HAVE FAIL TO REJECT NULL HYPOTHESIS with LEVEL OF SIGINFICANCE: {}'.format(i))\n",
    "    else:\n",
    "        for z in st:\n",
    "            print('{} STATE-ID HAS REJECTED NULL HYPOTHESIS with LEVEL OF SIGINFICANCE: {}'.format(z,i))\n",
    "    print('*****************')\n",
    "    print()\n",
    "        "
   ]
  },
  {
   "cell_type": "code",
   "execution_count": 28,
   "id": "8640013f",
   "metadata": {
    "execution": {
     "iopub.execute_input": "2021-11-09T10:43:08.198857Z",
     "iopub.status.busy": "2021-11-09T10:43:08.198857Z",
     "iopub.status.idle": "2021-11-09T10:43:08.220457Z",
     "shell.execute_reply": "2021-11-09T10:43:08.218319Z"
    }
   },
   "outputs": [],
   "source": [
    "#FINISHED"
   ]
  },
  {
   "cell_type": "code",
   "execution_count": null,
   "id": "79992cdf",
   "metadata": {},
   "outputs": [],
   "source": []
  }
 ],
 "metadata": {
  "kernelspec": {
   "display_name": "Python 3",
   "language": "python",
   "name": "python3"
  },
  "language_info": {
   "codemirror_mode": {
    "name": "ipython",
    "version": 3
   },
   "file_extension": ".py",
   "mimetype": "text/x-python",
   "name": "python",
   "nbconvert_exporter": "python",
   "pygments_lexer": "ipython3",
   "version": "3.8.8"
  }
 },
 "nbformat": 4,
 "nbformat_minor": 5
}
