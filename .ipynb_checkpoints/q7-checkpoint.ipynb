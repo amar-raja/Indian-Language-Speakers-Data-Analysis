{
 "cells": [
  {
   "cell_type": "markdown",
   "id": "6658f320",
   "metadata": {},
   "source": [
    "## 7)the top three most spoken languages in a region"
   ]
  },
  {
   "cell_type": "code",
   "execution_count": 1,
   "id": "fa3202c3",
   "metadata": {
    "execution": {
     "iopub.execute_input": "2021-11-09T10:18:20.613114Z",
     "iopub.status.busy": "2021-11-09T10:18:20.613114Z",
     "iopub.status.idle": "2021-11-09T10:18:21.159860Z",
     "shell.execute_reply": "2021-11-09T10:18:21.159860Z"
    }
   },
   "outputs": [],
   "source": [
    "import numpy as np\n",
    "import pandas as pd\n",
    "import datetime as dt\n",
    "import warnings\n",
    "warnings.filterwarnings('ignore')"
   ]
  },
  {
   "cell_type": "code",
   "execution_count": 2,
   "id": "d13cd726",
   "metadata": {
    "execution": {
     "iopub.execute_input": "2021-11-09T10:18:21.159860Z",
     "iopub.status.busy": "2021-11-09T10:18:21.159860Z",
     "iopub.status.idle": "2021-11-09T10:18:21.175482Z",
     "shell.execute_reply": "2021-11-09T10:18:21.175482Z"
    }
   },
   "outputs": [],
   "source": [
    "#file codes BASED ON REGION\n",
    "north_c = ['0100','0200','0300','0400','0500','0600','0700']\n",
    "west_c =  ['0800','2400','2500','2600','2700','3000']\n",
    "central_c = ['0900','2200','2300']\n",
    "east_c = ['1000','1900','2000','2100']\n",
    "south_c = ['2800','2900','3100','3200','3300','3400']\n",
    "north_east_c = ['1100','1200','1300','1400','1500','1600','1700','1800','3500']"
   ]
  },
  {
   "cell_type": "code",
   "execution_count": 3,
   "id": "6e2bfe54",
   "metadata": {
    "execution": {
     "iopub.execute_input": "2021-11-09T10:18:21.175482Z",
     "iopub.status.busy": "2021-11-09T10:18:21.175482Z",
     "iopub.status.idle": "2021-11-09T10:18:21.191104Z",
     "shell.execute_reply": "2021-11-09T10:18:21.191104Z"
    }
   },
   "outputs": [
    {
     "name": "stdout",
     "output_type": "stream",
     "text": [
      "TOTAL NO.OF STATES:  35\n"
     ]
    }
   ],
   "source": [
    "print('TOTAL NO.OF STATES: ',len(north_c)+len(west_c)+len(central_c)+len(east_c)+len(south_c)+len(north_east_c))"
   ]
  },
  {
   "cell_type": "code",
   "execution_count": 4,
   "id": "d9b59f05",
   "metadata": {
    "execution": {
     "iopub.execute_input": "2021-11-09T10:18:21.191104Z",
     "iopub.status.busy": "2021-11-09T10:18:21.191104Z",
     "iopub.status.idle": "2021-11-09T10:18:21.206723Z",
     "shell.execute_reply": "2021-11-09T10:18:21.206723Z"
    }
   },
   "outputs": [],
   "source": [
    "#STORING ALL FILECODES INTO A SINGLE LIST\n",
    "region_codes = [north_c,west_c,central_c,east_c,south_c,north_east_c]"
   ]
  },
  {
   "cell_type": "code",
   "execution_count": 5,
   "id": "494ca527",
   "metadata": {
    "execution": {
     "iopub.execute_input": "2021-11-09T10:18:21.206723Z",
     "iopub.status.busy": "2021-11-09T10:18:21.206723Z",
     "iopub.status.idle": "2021-11-09T10:18:21.222346Z",
     "shell.execute_reply": "2021-11-09T10:18:21.222346Z"
    }
   },
   "outputs": [
    {
     "data": {
      "text/plain": [
       "[['0100', '0200', '0300', '0400', '0500', '0600', '0700'],\n",
       " ['0800', '2400', '2500', '2600', '2700', '3000'],\n",
       " ['0900', '2200', '2300'],\n",
       " ['1000', '1900', '2000', '2100'],\n",
       " ['2800', '2900', '3100', '3200', '3300', '3400'],\n",
       " ['1100', '1200', '1300', '1400', '1500', '1600', '1700', '1800', '3500']]"
      ]
     },
     "execution_count": 5,
     "metadata": {},
     "output_type": "execute_result"
    }
   ],
   "source": [
    "region_codes"
   ]
  },
  {
   "cell_type": "markdown",
   "id": "053b9b37",
   "metadata": {},
   "source": [
    "## READING ALL STATE/UT FILES "
   ]
  },
  {
   "cell_type": "code",
   "execution_count": 6,
   "id": "d9ff653e",
   "metadata": {
    "execution": {
     "iopub.execute_input": "2021-11-09T10:18:21.222346Z",
     "iopub.status.busy": "2021-11-09T10:18:21.222346Z",
     "iopub.status.idle": "2021-11-09T10:18:21.237966Z",
     "shell.execute_reply": "2021-11-09T10:18:21.237966Z"
    }
   },
   "outputs": [],
   "source": [
    "#NAMES OF COLUMNS\n",
    "col_names = ['Code', 'region', 'Code.1', 'Name', 'Persons', 'Males', 'Females', 'Code.2', '1 st subsidiary languages', 'Persons.2', 'Males.2', 'Females.2', 'Code.3', '2nd subsidiary languages', 'Persons.3', 'Males.3', 'Females.3']"
   ]
  },
  {
   "cell_type": "code",
   "execution_count": 7,
   "id": "befcaca9",
   "metadata": {
    "execution": {
     "iopub.execute_input": "2021-11-09T10:18:21.237966Z",
     "iopub.status.busy": "2021-11-09T10:18:21.237966Z",
     "iopub.status.idle": "2021-11-09T10:18:21.253588Z",
     "shell.execute_reply": "2021-11-09T10:18:21.253588Z"
    }
   },
   "outputs": [],
   "source": [
    "#STORING ALL STATE/UT DATAFRAMES INTO A LIST OF DATAFRAMES\n",
    "mother_tongue_df = []    # for part-a\n",
    "all_df = [] # for part-b"
   ]
  },
  {
   "cell_type": "markdown",
   "id": "86118392",
   "metadata": {},
   "source": [
    "READING FILES AND PERFORMING SUMS OF SPEAKERS AS NEEDED"
   ]
  },
  {
   "cell_type": "code",
   "execution_count": 8,
   "id": "d1910212",
   "metadata": {
    "execution": {
     "iopub.execute_input": "2021-11-09T10:18:21.253588Z",
     "iopub.status.busy": "2021-11-09T10:18:21.253588Z",
     "iopub.status.idle": "2021-11-09T10:18:41.747944Z",
     "shell.execute_reply": "2021-11-09T10:18:41.747944Z"
    }
   },
   "outputs": [],
   "source": [
    "for i in region_codes:\n",
    "    for c in i:\n",
    "        f_name = 'c17\\DDW-C17-'+c+'.XLSX'                 #NAME OF THE FILE\n",
    "        file = pd.read_excel(f_name,skiprows=5,names=col_names)    # READING FILE ONE BY ONE\n",
    "        \n",
    "        l2 = file[['Code.2','Persons.2']]               #SECOND LANG SPEAKERS\n",
    "        l3 = file[['Code.3','Persons.3']]               #THIRD LANG SPEAKERS\n",
    "        \n",
    "        file = file[['Code', 'region', 'Code.1', 'Name', 'Persons']]  #TAKING ONLY REQUIRED COLUMN(TOTAL SPEAKERS OF LANGUAGE)\n",
    "        \n",
    "        file.dropna(inplace=True)              #DROPPING NA values\n",
    "        only_mt = file.copy()                    #storing COPY OF DATAFRAME FOR MOTHERTONGUE CALCULATION\n",
    "        \n",
    "        l2.dropna(inplace=True)\n",
    "        l3.dropna(inplace=True)\n",
    "        \n",
    "        l2 = l2.groupby(['Code.2']).agg({'Persons.2':sum})\n",
    "        l3 = l3.groupby(['Code.3']).agg({'Persons.3':sum})\n",
    "        \n",
    "        l2.reset_index(inplace=True)\n",
    "        l3.reset_index(inplace=True)\n",
    "        \n",
    "        file = pd.merge(file,l2,how='left',left_on='Code.1',right_on='Code.2')    #GROUPING ON LANGUAGE\n",
    "        file = pd.merge(file,l3,how='left',left_on='Code.1',right_on='Code.3')\n",
    "        \n",
    "        file['Persons'] = file['Persons'] + file['Persons.2'] + file['Persons.3']   #ADDING SPEAKERS OF RESPECTIVE LANG\n",
    "        \n",
    "        \n",
    "        \n",
    "        file = file.sort_values('Persons',ascending=False)    # SORTING BASED ON NUMBER OF SPEAKERS\n",
    "        only_mt = only_mt.sort_values('Persons',ascending=False) \n",
    "        \n",
    "        all_df.append(file)                #APPENDING DF TO A LIST for partB\n",
    "        mother_tongue_df.append(only_mt)   #APPENDING DF TO A LIST for partA"
   ]
  },
  {
   "cell_type": "code",
   "execution_count": null,
   "id": "00add76d",
   "metadata": {},
   "outputs": [],
   "source": []
  },
  {
   "cell_type": "markdown",
   "id": "e54d1f21",
   "metadata": {},
   "source": [
    "### CLASSIFYING STATES/UT DATAFRAMES INTO RESPECTIVE REGIONS"
   ]
  },
  {
   "cell_type": "code",
   "execution_count": 9,
   "id": "8b1bbe0a",
   "metadata": {
    "execution": {
     "iopub.execute_input": "2021-11-09T10:18:41.747944Z",
     "iopub.status.busy": "2021-11-09T10:18:41.747944Z",
     "iopub.status.idle": "2021-11-09T10:18:41.763588Z",
     "shell.execute_reply": "2021-11-09T10:18:41.763588Z"
    }
   },
   "outputs": [],
   "source": [
    "#REGION SLICING\n",
    "regions = [slice(0,7),slice(7,13),slice(13,16),slice(16,20),slice(20,26),slice(26,35)]"
   ]
  },
  {
   "cell_type": "code",
   "execution_count": 10,
   "id": "bdca9f95",
   "metadata": {
    "execution": {
     "iopub.execute_input": "2021-11-09T10:18:41.763588Z",
     "iopub.status.busy": "2021-11-09T10:18:41.763588Z",
     "iopub.status.idle": "2021-11-09T10:18:41.779198Z",
     "shell.execute_reply": "2021-11-09T10:18:41.779198Z"
    }
   },
   "outputs": [],
   "source": [
    "#COLLECTING TOP THREE LANGUAGES FOR EACH REGION\n",
    "newdf = []\n",
    "newdf_mt = []"
   ]
  },
  {
   "cell_type": "code",
   "execution_count": 11,
   "id": "d0b5c8e1",
   "metadata": {
    "execution": {
     "iopub.execute_input": "2021-11-09T10:18:41.794703Z",
     "iopub.status.busy": "2021-11-09T10:18:41.794703Z",
     "iopub.status.idle": "2021-11-09T10:18:41.904167Z",
     "shell.execute_reply": "2021-11-09T10:18:41.904167Z"
    }
   },
   "outputs": [],
   "source": [
    "for i in range(len(regions)):\n",
    "    names = ['North', 'West', 'Central', 'East', 'South', 'North-East']\n",
    "    #CONCATENITING RESPECTIVE REGION STATES\n",
    "    r1 = pd.concat(all_df[regions[i]])               #PARTB\n",
    "    r2 = pd.concat(mother_tongue_df[regions[i]])     #PARTA\n",
    "    \n",
    "    #SUMMING SPEAKERS\n",
    "    r1 = r1.groupby(['Name']).agg({'Persons':sum})\n",
    "    r1 = r1.sort_values('Persons',ascending=False)\n",
    "    r1.reset_index(inplace=True)\n",
    "    \n",
    "    r2 = r2.groupby(['Name']).agg({'Persons':sum})\n",
    "    r2 = r2.sort_values('Persons',ascending=False)\n",
    "    r2.reset_index(inplace=True)\n",
    "    \n",
    "    #GETTTING TOP 3 HIGHEST SPOKEN LANGUAGE IN THAT REGION\n",
    "    r1 = r1[0:3]\n",
    "    r2 = r2[0:3]\n",
    "    \n",
    "    r1['region'] = names[i]\n",
    "    r2['region'] = names[i]\n",
    "    \n",
    "    newdf.append(r1)\n",
    "    newdf_mt.append(r2)"
   ]
  },
  {
   "cell_type": "code",
   "execution_count": 12,
   "id": "e5ed7a12",
   "metadata": {
    "execution": {
     "iopub.execute_input": "2021-11-09T10:18:41.904167Z",
     "iopub.status.busy": "2021-11-09T10:18:41.904167Z",
     "iopub.status.idle": "2021-11-09T10:18:41.919671Z",
     "shell.execute_reply": "2021-11-09T10:18:41.919671Z"
    }
   },
   "outputs": [],
   "source": [
    "#CONCATINATING ALL REGIONS INTO A SINGLE DATAFRAME\n",
    "finaldf = pd.concat(newdf)\n",
    "finaldf_mt = pd.concat(newdf_mt)"
   ]
  },
  {
   "cell_type": "markdown",
   "id": "9b96b0b2",
   "metadata": {},
   "source": [
    "### CREATING THE RESULTANT DATAFRAME"
   ]
  },
  {
   "cell_type": "code",
   "execution_count": 13,
   "id": "307ee0bf",
   "metadata": {
    "execution": {
     "iopub.execute_input": "2021-11-09T10:18:41.919671Z",
     "iopub.status.busy": "2021-11-09T10:18:41.919671Z",
     "iopub.status.idle": "2021-11-09T10:18:41.935414Z",
     "shell.execute_reply": "2021-11-09T10:18:41.935414Z"
    }
   },
   "outputs": [],
   "source": [
    "reg = finaldf.region.unique()   #STORING REGIONS FOR PARTB\n",
    "t = finaldf.Name.values         # STORING LANGUAGES AS A LIST\n",
    "# ----\n",
    "reg_mt = finaldf_mt.region.unique()   #STORING REGIONS  FOR PARTA\n",
    "t_mt = finaldf_mt.Name.values         # STORING LANGUAGES AS A LIST"
   ]
  },
  {
   "cell_type": "code",
   "execution_count": 14,
   "id": "d95f5461",
   "metadata": {
    "execution": {
     "iopub.execute_input": "2021-11-09T10:18:41.950914Z",
     "iopub.status.busy": "2021-11-09T10:18:41.950914Z",
     "iopub.status.idle": "2021-11-09T10:18:41.950914Z",
     "shell.execute_reply": "2021-11-09T10:18:41.950914Z"
    }
   },
   "outputs": [],
   "source": [
    "#RESULTANT DATAFRAME\n",
    "resultdf = pd.DataFrame(columns=['region','language-1','language-2', 'language-3'])\n",
    "resultdf_mt = pd.DataFrame(columns=['region','language-1','language-2', 'language-3'])"
   ]
  },
  {
   "cell_type": "code",
   "execution_count": 15,
   "id": "7c01f73b",
   "metadata": {
    "execution": {
     "iopub.execute_input": "2021-11-09T10:18:41.982199Z",
     "iopub.status.busy": "2021-11-09T10:18:41.982199Z",
     "iopub.status.idle": "2021-11-09T10:18:42.013518Z",
     "shell.execute_reply": "2021-11-09T10:18:42.013518Z"
    }
   },
   "outputs": [],
   "source": [
    "for i in range(6):\n",
    "    resultdf.loc[i] = [reg[i],t[i*3+0],t[i*3+1],t[i*3+2]]     #APPENDING EACH REGION WITH 3 LANGUAGES TO \"resultdf\"\n",
    "    resultdf_mt.loc[i] = [reg_mt[i],t_mt[i*3+0],t_mt[i*3+1],t_mt[i*3+2]]     #APPENDING EACH REGION WITH 3 LANGUAGES TO \"resultdf\""
   ]
  },
  {
   "cell_type": "code",
   "execution_count": 16,
   "id": "2f41d7fa",
   "metadata": {
    "execution": {
     "iopub.execute_input": "2021-11-09T10:18:42.013518Z",
     "iopub.status.busy": "2021-11-09T10:18:42.013518Z",
     "iopub.status.idle": "2021-11-09T10:18:42.044762Z",
     "shell.execute_reply": "2021-11-09T10:18:42.044762Z"
    }
   },
   "outputs": [
    {
     "data": {
      "text/html": [
       "<div>\n",
       "<style scoped>\n",
       "    .dataframe tbody tr th:only-of-type {\n",
       "        vertical-align: middle;\n",
       "    }\n",
       "\n",
       "    .dataframe tbody tr th {\n",
       "        vertical-align: top;\n",
       "    }\n",
       "\n",
       "    .dataframe thead th {\n",
       "        text-align: right;\n",
       "    }\n",
       "</style>\n",
       "<table border=\"1\" class=\"dataframe\">\n",
       "  <thead>\n",
       "    <tr style=\"text-align: right;\">\n",
       "      <th></th>\n",
       "      <th>region</th>\n",
       "      <th>language-1</th>\n",
       "      <th>language-2</th>\n",
       "      <th>language-3</th>\n",
       "    </tr>\n",
       "  </thead>\n",
       "  <tbody>\n",
       "    <tr>\n",
       "      <th>0</th>\n",
       "      <td>North</td>\n",
       "      <td>HINDI</td>\n",
       "      <td>PUNJABI</td>\n",
       "      <td>ENGLISH</td>\n",
       "    </tr>\n",
       "    <tr>\n",
       "      <th>1</th>\n",
       "      <td>West</td>\n",
       "      <td>HINDI</td>\n",
       "      <td>MARATHI</td>\n",
       "      <td>GUJARATI</td>\n",
       "    </tr>\n",
       "    <tr>\n",
       "      <th>2</th>\n",
       "      <td>Central</td>\n",
       "      <td>HINDI</td>\n",
       "      <td>ENGLISH</td>\n",
       "      <td>URDU</td>\n",
       "    </tr>\n",
       "    <tr>\n",
       "      <th>3</th>\n",
       "      <td>East</td>\n",
       "      <td>HINDI</td>\n",
       "      <td>BENGALI</td>\n",
       "      <td>ODIA</td>\n",
       "    </tr>\n",
       "    <tr>\n",
       "      <th>4</th>\n",
       "      <td>South</td>\n",
       "      <td>TELUGU</td>\n",
       "      <td>TAMIL</td>\n",
       "      <td>KANNADA</td>\n",
       "    </tr>\n",
       "    <tr>\n",
       "      <th>5</th>\n",
       "      <td>North-East</td>\n",
       "      <td>ASSAMESE</td>\n",
       "      <td>BENGALI</td>\n",
       "      <td>HINDI</td>\n",
       "    </tr>\n",
       "  </tbody>\n",
       "</table>\n",
       "</div>"
      ],
      "text/plain": [
       "       region language-1 language-2 language-3\n",
       "0       North     HINDI    PUNJABI    ENGLISH \n",
       "1        West     HINDI    MARATHI    GUJARATI\n",
       "2     Central     HINDI    ENGLISH        URDU\n",
       "3        East     HINDI    BENGALI       ODIA \n",
       "4       South    TELUGU      TAMIL     KANNADA\n",
       "5  North-East   ASSAMESE   BENGALI      HINDI "
      ]
     },
     "execution_count": 16,
     "metadata": {},
     "output_type": "execute_result"
    }
   ],
   "source": [
    "# resultdf"
   ]
  },
  {
   "cell_type": "code",
   "execution_count": 17,
   "id": "87289fb2",
   "metadata": {
    "execution": {
     "iopub.execute_input": "2021-11-09T10:18:42.060307Z",
     "iopub.status.busy": "2021-11-09T10:18:42.060307Z",
     "iopub.status.idle": "2021-11-09T10:18:42.076348Z",
     "shell.execute_reply": "2021-11-09T10:18:42.076348Z"
    }
   },
   "outputs": [
    {
     "data": {
      "text/html": [
       "<div>\n",
       "<style scoped>\n",
       "    .dataframe tbody tr th:only-of-type {\n",
       "        vertical-align: middle;\n",
       "    }\n",
       "\n",
       "    .dataframe tbody tr th {\n",
       "        vertical-align: top;\n",
       "    }\n",
       "\n",
       "    .dataframe thead th {\n",
       "        text-align: right;\n",
       "    }\n",
       "</style>\n",
       "<table border=\"1\" class=\"dataframe\">\n",
       "  <thead>\n",
       "    <tr style=\"text-align: right;\">\n",
       "      <th></th>\n",
       "      <th>region</th>\n",
       "      <th>language-1</th>\n",
       "      <th>language-2</th>\n",
       "      <th>language-3</th>\n",
       "    </tr>\n",
       "  </thead>\n",
       "  <tbody>\n",
       "    <tr>\n",
       "      <th>0</th>\n",
       "      <td>North</td>\n",
       "      <td>HINDI</td>\n",
       "      <td>PUNJABI</td>\n",
       "      <td>KASHMIRI</td>\n",
       "    </tr>\n",
       "    <tr>\n",
       "      <th>1</th>\n",
       "      <td>West</td>\n",
       "      <td>HINDI</td>\n",
       "      <td>MARATHI</td>\n",
       "      <td>GUJARATI</td>\n",
       "    </tr>\n",
       "    <tr>\n",
       "      <th>2</th>\n",
       "      <td>Central</td>\n",
       "      <td>HINDI</td>\n",
       "      <td>URDU</td>\n",
       "      <td>BHILI/BHILODI</td>\n",
       "    </tr>\n",
       "    <tr>\n",
       "      <th>3</th>\n",
       "      <td>East</td>\n",
       "      <td>HINDI</td>\n",
       "      <td>BENGALI</td>\n",
       "      <td>ODIA</td>\n",
       "    </tr>\n",
       "    <tr>\n",
       "      <th>4</th>\n",
       "      <td>South</td>\n",
       "      <td>TELUGU</td>\n",
       "      <td>TAMIL</td>\n",
       "      <td>KANNADA</td>\n",
       "    </tr>\n",
       "    <tr>\n",
       "      <th>5</th>\n",
       "      <td>North-East</td>\n",
       "      <td>ASSAMESE</td>\n",
       "      <td>BENGALI</td>\n",
       "      <td>HINDI</td>\n",
       "    </tr>\n",
       "  </tbody>\n",
       "</table>\n",
       "</div>"
      ],
      "text/plain": [
       "       region language-1 language-2      language-3\n",
       "0       North     HINDI    PUNJABI        KASHMIRI \n",
       "1        West     HINDI    MARATHI         GUJARATI\n",
       "2     Central     HINDI        URDU  BHILI/BHILODI \n",
       "3        East     HINDI    BENGALI            ODIA \n",
       "4       South    TELUGU      TAMIL          KANNADA\n",
       "5  North-East   ASSAMESE   BENGALI           HINDI "
      ]
     },
     "execution_count": 17,
     "metadata": {},
     "output_type": "execute_result"
    }
   ],
   "source": [
    "# resultdf_mt"
   ]
  },
  {
   "cell_type": "code",
   "execution_count": 18,
   "id": "5b079005",
   "metadata": {
    "execution": {
     "iopub.execute_input": "2021-11-09T10:18:42.076348Z",
     "iopub.status.busy": "2021-11-09T10:18:42.076348Z",
     "iopub.status.idle": "2021-11-09T10:18:42.107624Z",
     "shell.execute_reply": "2021-11-09T10:18:42.107624Z"
    }
   },
   "outputs": [],
   "source": [
    "#WRITING TO CSV\n",
    "resultdf_mt.to_csv('region-india-a.csv',index=False)\n",
    "resultdf.to_csv('region-india-b.csv',index=False)"
   ]
  },
  {
   "cell_type": "code",
   "execution_count": null,
   "id": "858149eb",
   "metadata": {},
   "outputs": [],
   "source": []
  },
  {
   "cell_type": "code",
   "execution_count": null,
   "id": "c3f06fc9",
   "metadata": {},
   "outputs": [],
   "source": []
  }
 ],
 "metadata": {
  "kernelspec": {
   "display_name": "Python 3",
   "language": "python",
   "name": "python3"
  },
  "language_info": {
   "codemirror_mode": {
    "name": "ipython",
    "version": 3
   },
   "file_extension": ".py",
   "mimetype": "text/x-python",
   "name": "python",
   "nbconvert_exporter": "python",
   "pygments_lexer": "ipython3",
   "version": "3.8.8"
  }
 },
 "nbformat": 4,
 "nbformat_minor": 5
}
