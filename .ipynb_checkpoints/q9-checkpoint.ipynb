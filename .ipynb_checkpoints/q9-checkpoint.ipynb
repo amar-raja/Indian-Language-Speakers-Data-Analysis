{
 "cells": [
  {
   "cell_type": "code",
   "execution_count": 1,
   "id": "c3eba0aa",
   "metadata": {
    "execution": {
     "iopub.execute_input": "2021-11-09T05:36:26.461799Z",
     "iopub.status.busy": "2021-11-09T05:36:26.460640Z",
     "iopub.status.idle": "2021-11-09T05:36:26.481471Z",
     "shell.execute_reply": "2021-11-09T05:36:26.482472Z"
    }
   },
   "outputs": [],
   "source": [
    "#files used c19,c08"
   ]
  },
  {
   "cell_type": "code",
   "execution_count": 2,
   "id": "3777849b",
   "metadata": {
    "execution": {
     "iopub.execute_input": "2021-11-09T05:36:26.497927Z",
     "iopub.status.busy": "2021-11-09T05:36:26.494535Z",
     "iopub.status.idle": "2021-11-09T05:36:27.718878Z",
     "shell.execute_reply": "2021-11-09T05:36:27.716345Z"
    }
   },
   "outputs": [],
   "source": [
    "import numpy as np\n",
    "import pandas as pd\n",
    "import datetime as dt\n",
    "import warnings\n",
    "warnings.filterwarnings('ignore')"
   ]
  },
  {
   "cell_type": "code",
   "execution_count": 3,
   "id": "3a547509",
   "metadata": {
    "execution": {
     "iopub.execute_input": "2021-11-09T05:36:27.730805Z",
     "iopub.status.busy": "2021-11-09T05:36:27.729806Z",
     "iopub.status.idle": "2021-11-09T05:36:29.297804Z",
     "shell.execute_reply": "2021-11-09T05:36:29.298803Z"
    }
   },
   "outputs": [],
   "source": [
    "#ASSIGNING COL NAMES\n",
    "column_names = ['State', 'District', 'Name', 'TRU','Edu-level','Persons.2','Males.2','Females.2','Persons.3','Males.3','Females.3']\n",
    "#READING DATA\n",
    "df = pd.read_excel('DDW-C19-0000.xlsx',names=column_names,skiprows=5,skipfooter=3)"
   ]
  },
  {
   "cell_type": "code",
   "execution_count": 4,
   "id": "90716f4c",
   "metadata": {
    "execution": {
     "iopub.execute_input": "2021-11-09T05:36:29.327827Z",
     "iopub.status.busy": "2021-11-09T05:36:29.325834Z",
     "iopub.status.idle": "2021-11-09T05:36:29.344960Z",
     "shell.execute_reply": "2021-11-09T05:36:29.344960Z"
    }
   },
   "outputs": [
    {
     "data": {
      "text/plain": [
       "Index(['State', 'District', 'Name', 'TRU', 'Edu-level', 'Persons.2', 'Males.2',\n",
       "       'Females.2', 'Persons.3', 'Males.3', 'Females.3'],\n",
       "      dtype='object')"
      ]
     },
     "execution_count": 4,
     "metadata": {},
     "output_type": "execute_result"
    }
   ],
   "source": [
    "df.columns"
   ]
  },
  {
   "cell_type": "code",
   "execution_count": 5,
   "id": "b437be2b",
   "metadata": {
    "execution": {
     "iopub.execute_input": "2021-11-09T05:36:29.360376Z",
     "iopub.status.busy": "2021-11-09T05:36:29.358379Z",
     "iopub.status.idle": "2021-11-09T05:36:29.394420Z",
     "shell.execute_reply": "2021-11-09T05:36:29.392644Z"
    }
   },
   "outputs": [
    {
     "data": {
      "text/html": [
       "<div>\n",
       "<style scoped>\n",
       "    .dataframe tbody tr th:only-of-type {\n",
       "        vertical-align: middle;\n",
       "    }\n",
       "\n",
       "    .dataframe tbody tr th {\n",
       "        vertical-align: top;\n",
       "    }\n",
       "\n",
       "    .dataframe thead th {\n",
       "        text-align: right;\n",
       "    }\n",
       "</style>\n",
       "<table border=\"1\" class=\"dataframe\">\n",
       "  <thead>\n",
       "    <tr style=\"text-align: right;\">\n",
       "      <th></th>\n",
       "      <th>State</th>\n",
       "      <th>District</th>\n",
       "      <th>Name</th>\n",
       "      <th>TRU</th>\n",
       "      <th>Edu-level</th>\n",
       "      <th>Persons.2</th>\n",
       "      <th>Males.2</th>\n",
       "      <th>Females.2</th>\n",
       "      <th>Persons.3</th>\n",
       "      <th>Males.3</th>\n",
       "      <th>Females.3</th>\n",
       "    </tr>\n",
       "  </thead>\n",
       "  <tbody>\n",
       "    <tr>\n",
       "      <th>0</th>\n",
       "      <td>0</td>\n",
       "      <td>0</td>\n",
       "      <td>INDIA</td>\n",
       "      <td>Total</td>\n",
       "      <td>Total</td>\n",
       "      <td>314988770</td>\n",
       "      <td>176696383</td>\n",
       "      <td>138292387</td>\n",
       "      <td>86009580</td>\n",
       "      <td>50536832</td>\n",
       "      <td>35472748</td>\n",
       "    </tr>\n",
       "    <tr>\n",
       "      <th>1</th>\n",
       "      <td>0</td>\n",
       "      <td>0</td>\n",
       "      <td>INDIA</td>\n",
       "      <td>Total</td>\n",
       "      <td>Illiterate</td>\n",
       "      <td>42266268</td>\n",
       "      <td>17851584</td>\n",
       "      <td>24414684</td>\n",
       "      <td>3879858</td>\n",
       "      <td>1890285</td>\n",
       "      <td>1989573</td>\n",
       "    </tr>\n",
       "    <tr>\n",
       "      <th>2</th>\n",
       "      <td>0</td>\n",
       "      <td>0</td>\n",
       "      <td>INDIA</td>\n",
       "      <td>Total</td>\n",
       "      <td>Literate</td>\n",
       "      <td>272722502</td>\n",
       "      <td>158844799</td>\n",
       "      <td>113877703</td>\n",
       "      <td>82129722</td>\n",
       "      <td>48646547</td>\n",
       "      <td>33483175</td>\n",
       "    </tr>\n",
       "    <tr>\n",
       "      <th>3</th>\n",
       "      <td>0</td>\n",
       "      <td>0</td>\n",
       "      <td>INDIA</td>\n",
       "      <td>Total</td>\n",
       "      <td>Literate but below primary</td>\n",
       "      <td>29345104</td>\n",
       "      <td>16126959</td>\n",
       "      <td>13218145</td>\n",
       "      <td>3733616</td>\n",
       "      <td>2108024</td>\n",
       "      <td>1625592</td>\n",
       "    </tr>\n",
       "    <tr>\n",
       "      <th>4</th>\n",
       "      <td>0</td>\n",
       "      <td>0</td>\n",
       "      <td>INDIA</td>\n",
       "      <td>Total</td>\n",
       "      <td>Primary but below middle</td>\n",
       "      <td>48570544</td>\n",
       "      <td>26588496</td>\n",
       "      <td>21982048</td>\n",
       "      <td>8636296</td>\n",
       "      <td>4782211</td>\n",
       "      <td>3854085</td>\n",
       "    </tr>\n",
       "    <tr>\n",
       "      <th>5</th>\n",
       "      <td>0</td>\n",
       "      <td>0</td>\n",
       "      <td>INDIA</td>\n",
       "      <td>Total</td>\n",
       "      <td>Middle but below matric/secondary</td>\n",
       "      <td>43116661</td>\n",
       "      <td>25214857</td>\n",
       "      <td>17901804</td>\n",
       "      <td>10743350</td>\n",
       "      <td>6266289</td>\n",
       "      <td>4477061</td>\n",
       "    </tr>\n",
       "    <tr>\n",
       "      <th>6</th>\n",
       "      <td>0</td>\n",
       "      <td>0</td>\n",
       "      <td>INDIA</td>\n",
       "      <td>Total</td>\n",
       "      <td>Matric/Secondary but below graduate</td>\n",
       "      <td>93204075</td>\n",
       "      <td>56022449</td>\n",
       "      <td>37181626</td>\n",
       "      <td>33899219</td>\n",
       "      <td>20411147</td>\n",
       "      <td>13488072</td>\n",
       "    </tr>\n",
       "    <tr>\n",
       "      <th>7</th>\n",
       "      <td>0</td>\n",
       "      <td>0</td>\n",
       "      <td>INDIA</td>\n",
       "      <td>Total</td>\n",
       "      <td>Graduate and above</td>\n",
       "      <td>46958049</td>\n",
       "      <td>28285620</td>\n",
       "      <td>18672429</td>\n",
       "      <td>22146543</td>\n",
       "      <td>13316422</td>\n",
       "      <td>8830121</td>\n",
       "    </tr>\n",
       "    <tr>\n",
       "      <th>8</th>\n",
       "      <td>0</td>\n",
       "      <td>0</td>\n",
       "      <td>INDIA</td>\n",
       "      <td>Rural</td>\n",
       "      <td>Total</td>\n",
       "      <td>162641485</td>\n",
       "      <td>92988052</td>\n",
       "      <td>69653433</td>\n",
       "      <td>35383989</td>\n",
       "      <td>21771062</td>\n",
       "      <td>13612927</td>\n",
       "    </tr>\n",
       "    <tr>\n",
       "      <th>9</th>\n",
       "      <td>0</td>\n",
       "      <td>0</td>\n",
       "      <td>INDIA</td>\n",
       "      <td>Rural</td>\n",
       "      <td>Illiterate</td>\n",
       "      <td>30204008</td>\n",
       "      <td>12774715</td>\n",
       "      <td>17429293</td>\n",
       "      <td>2234076</td>\n",
       "      <td>1105619</td>\n",
       "      <td>1128457</td>\n",
       "    </tr>\n",
       "    <tr>\n",
       "      <th>10</th>\n",
       "      <td>0</td>\n",
       "      <td>0</td>\n",
       "      <td>INDIA</td>\n",
       "      <td>Rural</td>\n",
       "      <td>Literate</td>\n",
       "      <td>132437477</td>\n",
       "      <td>80213337</td>\n",
       "      <td>52224140</td>\n",
       "      <td>33149913</td>\n",
       "      <td>20665443</td>\n",
       "      <td>12484470</td>\n",
       "    </tr>\n",
       "    <tr>\n",
       "      <th>11</th>\n",
       "      <td>0</td>\n",
       "      <td>0</td>\n",
       "      <td>INDIA</td>\n",
       "      <td>Rural</td>\n",
       "      <td>Literate but below primary</td>\n",
       "      <td>18487727</td>\n",
       "      <td>10353027</td>\n",
       "      <td>8134700</td>\n",
       "      <td>1750972</td>\n",
       "      <td>1033945</td>\n",
       "      <td>717027</td>\n",
       "    </tr>\n",
       "    <tr>\n",
       "      <th>12</th>\n",
       "      <td>0</td>\n",
       "      <td>0</td>\n",
       "      <td>INDIA</td>\n",
       "      <td>Rural</td>\n",
       "      <td>Primary but below middle</td>\n",
       "      <td>28926164</td>\n",
       "      <td>16345445</td>\n",
       "      <td>12580719</td>\n",
       "      <td>4499137</td>\n",
       "      <td>2578263</td>\n",
       "      <td>1920874</td>\n",
       "    </tr>\n",
       "    <tr>\n",
       "      <th>13</th>\n",
       "      <td>0</td>\n",
       "      <td>0</td>\n",
       "      <td>INDIA</td>\n",
       "      <td>Rural</td>\n",
       "      <td>Middle but below matric/secondary</td>\n",
       "      <td>24957847</td>\n",
       "      <td>15068362</td>\n",
       "      <td>9889485</td>\n",
       "      <td>6010075</td>\n",
       "      <td>3608166</td>\n",
       "      <td>2401909</td>\n",
       "    </tr>\n",
       "    <tr>\n",
       "      <th>14</th>\n",
       "      <td>0</td>\n",
       "      <td>0</td>\n",
       "      <td>INDIA</td>\n",
       "      <td>Rural</td>\n",
       "      <td>Matric/Secondary but below graduate</td>\n",
       "      <td>42300193</td>\n",
       "      <td>26798111</td>\n",
       "      <td>15502082</td>\n",
       "      <td>14549061</td>\n",
       "      <td>9185784</td>\n",
       "      <td>5363277</td>\n",
       "    </tr>\n",
       "    <tr>\n",
       "      <th>15</th>\n",
       "      <td>0</td>\n",
       "      <td>0</td>\n",
       "      <td>INDIA</td>\n",
       "      <td>Rural</td>\n",
       "      <td>Graduate and above</td>\n",
       "      <td>11762090</td>\n",
       "      <td>8062603</td>\n",
       "      <td>3699487</td>\n",
       "      <td>5090441</td>\n",
       "      <td>3470061</td>\n",
       "      <td>1620380</td>\n",
       "    </tr>\n",
       "    <tr>\n",
       "      <th>16</th>\n",
       "      <td>0</td>\n",
       "      <td>0</td>\n",
       "      <td>INDIA</td>\n",
       "      <td>Urban</td>\n",
       "      <td>Total</td>\n",
       "      <td>152347285</td>\n",
       "      <td>83708331</td>\n",
       "      <td>68638954</td>\n",
       "      <td>50625591</td>\n",
       "      <td>28765770</td>\n",
       "      <td>21859821</td>\n",
       "    </tr>\n",
       "    <tr>\n",
       "      <th>17</th>\n",
       "      <td>0</td>\n",
       "      <td>0</td>\n",
       "      <td>INDIA</td>\n",
       "      <td>Urban</td>\n",
       "      <td>Illiterate</td>\n",
       "      <td>12062260</td>\n",
       "      <td>5076869</td>\n",
       "      <td>6985391</td>\n",
       "      <td>1645782</td>\n",
       "      <td>784666</td>\n",
       "      <td>861116</td>\n",
       "    </tr>\n",
       "    <tr>\n",
       "      <th>18</th>\n",
       "      <td>0</td>\n",
       "      <td>0</td>\n",
       "      <td>INDIA</td>\n",
       "      <td>Urban</td>\n",
       "      <td>Literate</td>\n",
       "      <td>140285025</td>\n",
       "      <td>78631462</td>\n",
       "      <td>61653563</td>\n",
       "      <td>48979809</td>\n",
       "      <td>27981104</td>\n",
       "      <td>20998705</td>\n",
       "    </tr>\n",
       "    <tr>\n",
       "      <th>19</th>\n",
       "      <td>0</td>\n",
       "      <td>0</td>\n",
       "      <td>INDIA</td>\n",
       "      <td>Urban</td>\n",
       "      <td>Literate but below primary</td>\n",
       "      <td>10857377</td>\n",
       "      <td>5773932</td>\n",
       "      <td>5083445</td>\n",
       "      <td>1982644</td>\n",
       "      <td>1074079</td>\n",
       "      <td>908565</td>\n",
       "    </tr>\n",
       "  </tbody>\n",
       "</table>\n",
       "</div>"
      ],
      "text/plain": [
       "    State  District   Name    TRU                            Edu-level  \\\n",
       "0       0         0  INDIA  Total                                Total   \n",
       "1       0         0  INDIA  Total                           Illiterate   \n",
       "2       0         0  INDIA  Total                             Literate   \n",
       "3       0         0  INDIA  Total           Literate but below primary   \n",
       "4       0         0  INDIA  Total             Primary but below middle   \n",
       "5       0         0  INDIA  Total    Middle but below matric/secondary   \n",
       "6       0         0  INDIA  Total  Matric/Secondary but below graduate   \n",
       "7       0         0  INDIA  Total                   Graduate and above   \n",
       "8       0         0  INDIA  Rural                                Total   \n",
       "9       0         0  INDIA  Rural                           Illiterate   \n",
       "10      0         0  INDIA  Rural                             Literate   \n",
       "11      0         0  INDIA  Rural           Literate but below primary   \n",
       "12      0         0  INDIA  Rural             Primary but below middle   \n",
       "13      0         0  INDIA  Rural    Middle but below matric/secondary   \n",
       "14      0         0  INDIA  Rural  Matric/Secondary but below graduate   \n",
       "15      0         0  INDIA  Rural                   Graduate and above   \n",
       "16      0         0  INDIA  Urban                                Total   \n",
       "17      0         0  INDIA  Urban                           Illiterate   \n",
       "18      0         0  INDIA  Urban                             Literate   \n",
       "19      0         0  INDIA  Urban           Literate but below primary   \n",
       "\n",
       "    Persons.2    Males.2  Females.2  Persons.3   Males.3  Females.3  \n",
       "0   314988770  176696383  138292387   86009580  50536832   35472748  \n",
       "1    42266268   17851584   24414684    3879858   1890285    1989573  \n",
       "2   272722502  158844799  113877703   82129722  48646547   33483175  \n",
       "3    29345104   16126959   13218145    3733616   2108024    1625592  \n",
       "4    48570544   26588496   21982048    8636296   4782211    3854085  \n",
       "5    43116661   25214857   17901804   10743350   6266289    4477061  \n",
       "6    93204075   56022449   37181626   33899219  20411147   13488072  \n",
       "7    46958049   28285620   18672429   22146543  13316422    8830121  \n",
       "8   162641485   92988052   69653433   35383989  21771062   13612927  \n",
       "9    30204008   12774715   17429293    2234076   1105619    1128457  \n",
       "10  132437477   80213337   52224140   33149913  20665443   12484470  \n",
       "11   18487727   10353027    8134700    1750972   1033945     717027  \n",
       "12   28926164   16345445   12580719    4499137   2578263    1920874  \n",
       "13   24957847   15068362    9889485    6010075   3608166    2401909  \n",
       "14   42300193   26798111   15502082   14549061   9185784    5363277  \n",
       "15   11762090    8062603    3699487    5090441   3470061    1620380  \n",
       "16  152347285   83708331   68638954   50625591  28765770   21859821  \n",
       "17   12062260    5076869    6985391    1645782    784666     861116  \n",
       "18  140285025   78631462   61653563   48979809  27981104   20998705  \n",
       "19   10857377    5773932    5083445    1982644   1074079     908565  "
      ]
     },
     "execution_count": 5,
     "metadata": {},
     "output_type": "execute_result"
    }
   ],
   "source": [
    "# df.head(20)"
   ]
  },
  {
   "cell_type": "code",
   "execution_count": 6,
   "id": "caf6c418",
   "metadata": {
    "execution": {
     "iopub.execute_input": "2021-11-09T05:36:29.404417Z",
     "iopub.status.busy": "2021-11-09T05:36:29.402424Z",
     "iopub.status.idle": "2021-11-09T05:36:29.424186Z",
     "shell.execute_reply": "2021-11-09T05:36:29.425185Z"
    }
   },
   "outputs": [
    {
     "data": {
      "text/plain": [
       "(864, 11)"
      ]
     },
     "execution_count": 6,
     "metadata": {},
     "output_type": "execute_result"
    }
   ],
   "source": [
    "df.shape"
   ]
  },
  {
   "cell_type": "code",
   "execution_count": 7,
   "id": "880df536",
   "metadata": {
    "execution": {
     "iopub.execute_input": "2021-11-09T05:36:29.434323Z",
     "iopub.status.busy": "2021-11-09T05:36:29.433324Z",
     "iopub.status.idle": "2021-11-09T05:36:29.456172Z",
     "shell.execute_reply": "2021-11-09T05:36:29.457169Z"
    }
   },
   "outputs": [
    {
     "data": {
      "text/plain": [
       "array(['Total', 'Illiterate', 'Literate', 'Literate but below primary',\n",
       "       'Primary but below middle', 'Middle but below matric/secondary',\n",
       "       'Matric/Secondary but below graduate', 'Graduate and above'],\n",
       "      dtype=object)"
      ]
     },
     "execution_count": 7,
     "metadata": {},
     "output_type": "execute_result"
    }
   ],
   "source": [
    "#UNIQUE LITERACY CATEGORIES \n",
    "df['Edu-level'].unique()"
   ]
  },
  {
   "cell_type": "code",
   "execution_count": 8,
   "id": "138ca87f",
   "metadata": {
    "execution": {
     "iopub.execute_input": "2021-11-09T05:36:29.470622Z",
     "iopub.status.busy": "2021-11-09T05:36:29.468582Z",
     "iopub.status.idle": "2021-11-09T05:36:29.489228Z",
     "shell.execute_reply": "2021-11-09T05:36:29.490966Z"
    }
   },
   "outputs": [],
   "source": [
    "# REMOVING URBAN AND RURAL ROWS and Edu-level TOTAL,LITERATE(it is removed as literacy has sub divisions)\n",
    "idx = df.loc[(df['TRU']!='Total') | (df['Edu-level'] == 'Total') |(df['Edu-level'] == 'Literate')].index\n",
    "df = df.drop(idx)"
   ]
  },
  {
   "cell_type": "code",
   "execution_count": 9,
   "id": "a0008c77",
   "metadata": {
    "execution": {
     "iopub.execute_input": "2021-11-09T05:36:29.498040Z",
     "iopub.status.busy": "2021-11-09T05:36:29.497002Z",
     "iopub.status.idle": "2021-11-09T05:36:29.505498Z",
     "shell.execute_reply": "2021-11-09T05:36:29.503505Z"
    }
   },
   "outputs": [],
   "source": [
    "# #EXACTLY TWO LANG\n",
    "# df['t_2_lang'] = df['Persons.2'] - df['Persons.3']\n",
    "# df['m_2_lang'] = df['Males.2'] - df['Males.3']\n",
    "# df['f_2_lang'] = df['Females.2'] - df['Females.3']\n"
   ]
  },
  {
   "cell_type": "code",
   "execution_count": 10,
   "id": "aff3aed9",
   "metadata": {
    "execution": {
     "iopub.execute_input": "2021-11-09T05:36:29.512384Z",
     "iopub.status.busy": "2021-11-09T05:36:29.511387Z",
     "iopub.status.idle": "2021-11-09T05:36:29.519703Z",
     "shell.execute_reply": "2021-11-09T05:36:29.521494Z"
    }
   },
   "outputs": [],
   "source": [
    "# df.reset_index(drop=True,inplace=True)"
   ]
  },
  {
   "cell_type": "code",
   "execution_count": null,
   "id": "25e76dd6",
   "metadata": {},
   "outputs": [],
   "source": []
  },
  {
   "cell_type": "markdown",
   "id": "5784ea1d",
   "metadata": {},
   "source": [
    "#### PREPROCESSING C08"
   ]
  },
  {
   "cell_type": "code",
   "execution_count": 11,
   "id": "67464aa1",
   "metadata": {
    "execution": {
     "iopub.execute_input": "2021-11-09T05:36:29.533000Z",
     "iopub.status.busy": "2021-11-09T05:36:29.530963Z",
     "iopub.status.idle": "2021-11-09T05:36:29.552228Z",
     "shell.execute_reply": "2021-11-09T05:36:29.550301Z"
    }
   },
   "outputs": [],
   "source": [
    "column_names = ['table_name', 'State','District', 'Name', 'TRU','Age-group', 'Persons', 'Males', 'Females', 'Persons.1', 'Males.1', 'Females.1', 'Persons.2', 'Males.2', 'Females.2', 'Persons.3', 'Males.3', 'Females.3', 'Persons.4', 'Males.4', 'Females.4', 'Persons.5', 'Males.5', 'Females.5', 'Persons.6', 'Males.6', 'Females.6', 'Persons.7', 'Males.7', 'Females.7', 'Persons.8',\n",
    "       'Males.8', 'Females.8', 'Persons.9', 'Males.9', 'Females.9', 'Persons.10', 'Males.10', 'Females.10', 'Persons.11', 'Males.11', 'Females.11', 'Persons.12', 'Males.12', 'Females.12']"
   ]
  },
  {
   "cell_type": "code",
   "execution_count": 12,
   "id": "eccb1419",
   "metadata": {
    "execution": {
     "iopub.execute_input": "2021-11-09T05:36:29.560568Z",
     "iopub.status.busy": "2021-11-09T05:36:29.560568Z",
     "iopub.status.idle": "2021-11-09T05:36:35.419986Z",
     "shell.execute_reply": "2021-11-09T05:36:35.421128Z"
    }
   },
   "outputs": [],
   "source": [
    "# DDW-0000C-08.xlsx\n",
    "lit_pop = pd.read_excel('DDW-0000C-08.xlsx',names=column_names,skiprows=6)"
   ]
  },
  {
   "cell_type": "code",
   "execution_count": 13,
   "id": "200a2066",
   "metadata": {
    "execution": {
     "iopub.execute_input": "2021-11-09T05:36:35.440269Z",
     "iopub.status.busy": "2021-11-09T05:36:35.439232Z",
     "iopub.status.idle": "2021-11-09T05:36:35.449177Z",
     "shell.execute_reply": "2021-11-09T05:36:35.451124Z"
    }
   },
   "outputs": [],
   "source": [
    "#Removing string \"State - \"\n",
    "lit_pop['Name'] = lit_pop['Name'].str.replace('State - ','')"
   ]
  },
  {
   "cell_type": "code",
   "execution_count": 14,
   "id": "da06ac8c",
   "metadata": {
    "execution": {
     "iopub.execute_input": "2021-11-09T05:36:35.508660Z",
     "iopub.status.busy": "2021-11-09T05:36:35.507395Z",
     "iopub.status.idle": "2021-11-09T05:36:35.517462Z",
     "shell.execute_reply": "2021-11-09T05:36:35.516418Z"
    }
   },
   "outputs": [
    {
     "data": {
      "text/html": [
       "<div>\n",
       "<style scoped>\n",
       "    .dataframe tbody tr th:only-of-type {\n",
       "        vertical-align: middle;\n",
       "    }\n",
       "\n",
       "    .dataframe tbody tr th {\n",
       "        vertical-align: top;\n",
       "    }\n",
       "\n",
       "    .dataframe thead th {\n",
       "        text-align: right;\n",
       "    }\n",
       "</style>\n",
       "<table border=\"1\" class=\"dataframe\">\n",
       "  <thead>\n",
       "    <tr style=\"text-align: right;\">\n",
       "      <th></th>\n",
       "      <th>table_name</th>\n",
       "      <th>State</th>\n",
       "      <th>District</th>\n",
       "      <th>Name</th>\n",
       "      <th>TRU</th>\n",
       "      <th>Age-group</th>\n",
       "      <th>Persons</th>\n",
       "      <th>Males</th>\n",
       "      <th>Females</th>\n",
       "      <th>Persons.1</th>\n",
       "      <th>...</th>\n",
       "      <th>Females.9</th>\n",
       "      <th>Persons.10</th>\n",
       "      <th>Males.10</th>\n",
       "      <th>Females.10</th>\n",
       "      <th>Persons.11</th>\n",
       "      <th>Males.11</th>\n",
       "      <th>Females.11</th>\n",
       "      <th>Persons.12</th>\n",
       "      <th>Males.12</th>\n",
       "      <th>Females.12</th>\n",
       "    </tr>\n",
       "  </thead>\n",
       "  <tbody>\n",
       "    <tr>\n",
       "      <th>0</th>\n",
       "      <td>C2308</td>\n",
       "      <td>0</td>\n",
       "      <td>0</td>\n",
       "      <td>INDIA</td>\n",
       "      <td>Total</td>\n",
       "      <td>All ages</td>\n",
       "      <td>1210854977</td>\n",
       "      <td>623270258</td>\n",
       "      <td>587584719</td>\n",
       "      <td>447216165</td>\n",
       "      <td>...</td>\n",
       "      <td>345724</td>\n",
       "      <td>7238719</td>\n",
       "      <td>5354161</td>\n",
       "      <td>1884558</td>\n",
       "      <td>68288971</td>\n",
       "      <td>42120460</td>\n",
       "      <td>26168511</td>\n",
       "      <td>3031570</td>\n",
       "      <td>1647116</td>\n",
       "      <td>1384454</td>\n",
       "    </tr>\n",
       "    <tr>\n",
       "      <th>1</th>\n",
       "      <td>C2308</td>\n",
       "      <td>0</td>\n",
       "      <td>0</td>\n",
       "      <td>INDIA</td>\n",
       "      <td>Total</td>\n",
       "      <td>0-6</td>\n",
       "      <td>164515253</td>\n",
       "      <td>85752254</td>\n",
       "      <td>78762999</td>\n",
       "      <td>164515253</td>\n",
       "      <td>...</td>\n",
       "      <td>0</td>\n",
       "      <td>0</td>\n",
       "      <td>0</td>\n",
       "      <td>0</td>\n",
       "      <td>0</td>\n",
       "      <td>0</td>\n",
       "      <td>0</td>\n",
       "      <td>0</td>\n",
       "      <td>0</td>\n",
       "      <td>0</td>\n",
       "    </tr>\n",
       "    <tr>\n",
       "      <th>2</th>\n",
       "      <td>C2308</td>\n",
       "      <td>0</td>\n",
       "      <td>0</td>\n",
       "      <td>INDIA</td>\n",
       "      <td>Total</td>\n",
       "      <td>7</td>\n",
       "      <td>24826640</td>\n",
       "      <td>12903364</td>\n",
       "      <td>11923276</td>\n",
       "      <td>6748214</td>\n",
       "      <td>...</td>\n",
       "      <td>0</td>\n",
       "      <td>0</td>\n",
       "      <td>0</td>\n",
       "      <td>0</td>\n",
       "      <td>0</td>\n",
       "      <td>0</td>\n",
       "      <td>0</td>\n",
       "      <td>136465</td>\n",
       "      <td>75715</td>\n",
       "      <td>60750</td>\n",
       "    </tr>\n",
       "    <tr>\n",
       "      <th>3</th>\n",
       "      <td>C2308</td>\n",
       "      <td>0</td>\n",
       "      <td>0</td>\n",
       "      <td>INDIA</td>\n",
       "      <td>Total</td>\n",
       "      <td>8</td>\n",
       "      <td>26968373</td>\n",
       "      <td>14061937</td>\n",
       "      <td>12906436</td>\n",
       "      <td>4131414</td>\n",
       "      <td>...</td>\n",
       "      <td>0</td>\n",
       "      <td>0</td>\n",
       "      <td>0</td>\n",
       "      <td>0</td>\n",
       "      <td>0</td>\n",
       "      <td>0</td>\n",
       "      <td>0</td>\n",
       "      <td>96524</td>\n",
       "      <td>52561</td>\n",
       "      <td>43963</td>\n",
       "    </tr>\n",
       "    <tr>\n",
       "      <th>4</th>\n",
       "      <td>C2308</td>\n",
       "      <td>0</td>\n",
       "      <td>0</td>\n",
       "      <td>INDIA</td>\n",
       "      <td>Total</td>\n",
       "      <td>9</td>\n",
       "      <td>23424638</td>\n",
       "      <td>12214985</td>\n",
       "      <td>11209653</td>\n",
       "      <td>2491904</td>\n",
       "      <td>...</td>\n",
       "      <td>0</td>\n",
       "      <td>0</td>\n",
       "      <td>0</td>\n",
       "      <td>0</td>\n",
       "      <td>0</td>\n",
       "      <td>0</td>\n",
       "      <td>0</td>\n",
       "      <td>70452</td>\n",
       "      <td>38456</td>\n",
       "      <td>31996</td>\n",
       "    </tr>\n",
       "    <tr>\n",
       "      <th>5</th>\n",
       "      <td>C2308</td>\n",
       "      <td>0</td>\n",
       "      <td>0</td>\n",
       "      <td>INDIA</td>\n",
       "      <td>Total</td>\n",
       "      <td>10</td>\n",
       "      <td>30552107</td>\n",
       "      <td>16089436</td>\n",
       "      <td>14462671</td>\n",
       "      <td>3454505</td>\n",
       "      <td>...</td>\n",
       "      <td>0</td>\n",
       "      <td>0</td>\n",
       "      <td>0</td>\n",
       "      <td>0</td>\n",
       "      <td>0</td>\n",
       "      <td>0</td>\n",
       "      <td>0</td>\n",
       "      <td>85652</td>\n",
       "      <td>47423</td>\n",
       "      <td>38229</td>\n",
       "    </tr>\n",
       "    <tr>\n",
       "      <th>6</th>\n",
       "      <td>C2308</td>\n",
       "      <td>0</td>\n",
       "      <td>0</td>\n",
       "      <td>INDIA</td>\n",
       "      <td>Total</td>\n",
       "      <td>11</td>\n",
       "      <td>24740946</td>\n",
       "      <td>12962604</td>\n",
       "      <td>11778342</td>\n",
       "      <td>1988473</td>\n",
       "      <td>...</td>\n",
       "      <td>0</td>\n",
       "      <td>0</td>\n",
       "      <td>0</td>\n",
       "      <td>0</td>\n",
       "      <td>0</td>\n",
       "      <td>0</td>\n",
       "      <td>0</td>\n",
       "      <td>65030</td>\n",
       "      <td>35877</td>\n",
       "      <td>29153</td>\n",
       "    </tr>\n",
       "    <tr>\n",
       "      <th>7</th>\n",
       "      <td>C2308</td>\n",
       "      <td>0</td>\n",
       "      <td>0</td>\n",
       "      <td>INDIA</td>\n",
       "      <td>Total</td>\n",
       "      <td>12</td>\n",
       "      <td>27877307</td>\n",
       "      <td>14637892</td>\n",
       "      <td>13239415</td>\n",
       "      <td>2391529</td>\n",
       "      <td>...</td>\n",
       "      <td>0</td>\n",
       "      <td>0</td>\n",
       "      <td>0</td>\n",
       "      <td>0</td>\n",
       "      <td>0</td>\n",
       "      <td>0</td>\n",
       "      <td>0</td>\n",
       "      <td>68452</td>\n",
       "      <td>37773</td>\n",
       "      <td>30679</td>\n",
       "    </tr>\n",
       "    <tr>\n",
       "      <th>8</th>\n",
       "      <td>C2308</td>\n",
       "      <td>0</td>\n",
       "      <td>0</td>\n",
       "      <td>INDIA</td>\n",
       "      <td>Total</td>\n",
       "      <td>13</td>\n",
       "      <td>24280683</td>\n",
       "      <td>12563775</td>\n",
       "      <td>11716908</td>\n",
       "      <td>1810476</td>\n",
       "      <td>...</td>\n",
       "      <td>0</td>\n",
       "      <td>0</td>\n",
       "      <td>0</td>\n",
       "      <td>0</td>\n",
       "      <td>0</td>\n",
       "      <td>0</td>\n",
       "      <td>0</td>\n",
       "      <td>56720</td>\n",
       "      <td>30680</td>\n",
       "      <td>26040</td>\n",
       "    </tr>\n",
       "    <tr>\n",
       "      <th>9</th>\n",
       "      <td>C2308</td>\n",
       "      <td>0</td>\n",
       "      <td>0</td>\n",
       "      <td>INDIA</td>\n",
       "      <td>Total</td>\n",
       "      <td>14</td>\n",
       "      <td>25258169</td>\n",
       "      <td>13165128</td>\n",
       "      <td>12093041</td>\n",
       "      <td>2100785</td>\n",
       "      <td>...</td>\n",
       "      <td>0</td>\n",
       "      <td>0</td>\n",
       "      <td>0</td>\n",
       "      <td>0</td>\n",
       "      <td>0</td>\n",
       "      <td>0</td>\n",
       "      <td>0</td>\n",
       "      <td>58561</td>\n",
       "      <td>31901</td>\n",
       "      <td>26660</td>\n",
       "    </tr>\n",
       "  </tbody>\n",
       "</table>\n",
       "<p>10 rows × 45 columns</p>\n",
       "</div>"
      ],
      "text/plain": [
       "  table_name  State  District   Name    TRU Age-group     Persons      Males  \\\n",
       "0      C2308      0         0  INDIA  Total  All ages  1210854977  623270258   \n",
       "1      C2308      0         0  INDIA  Total       0-6   164515253   85752254   \n",
       "2      C2308      0         0  INDIA  Total         7    24826640   12903364   \n",
       "3      C2308      0         0  INDIA  Total         8    26968373   14061937   \n",
       "4      C2308      0         0  INDIA  Total         9    23424638   12214985   \n",
       "5      C2308      0         0  INDIA  Total        10    30552107   16089436   \n",
       "6      C2308      0         0  INDIA  Total        11    24740946   12962604   \n",
       "7      C2308      0         0  INDIA  Total        12    27877307   14637892   \n",
       "8      C2308      0         0  INDIA  Total        13    24280683   12563775   \n",
       "9      C2308      0         0  INDIA  Total        14    25258169   13165128   \n",
       "\n",
       "     Females  Persons.1  ...  Females.9  Persons.10  Males.10  Females.10  \\\n",
       "0  587584719  447216165  ...     345724     7238719   5354161     1884558   \n",
       "1   78762999  164515253  ...          0           0         0           0   \n",
       "2   11923276    6748214  ...          0           0         0           0   \n",
       "3   12906436    4131414  ...          0           0         0           0   \n",
       "4   11209653    2491904  ...          0           0         0           0   \n",
       "5   14462671    3454505  ...          0           0         0           0   \n",
       "6   11778342    1988473  ...          0           0         0           0   \n",
       "7   13239415    2391529  ...          0           0         0           0   \n",
       "8   11716908    1810476  ...          0           0         0           0   \n",
       "9   12093041    2100785  ...          0           0         0           0   \n",
       "\n",
       "   Persons.11  Males.11  Females.11  Persons.12  Males.12  Females.12  \n",
       "0    68288971  42120460    26168511     3031570   1647116     1384454  \n",
       "1           0         0           0           0         0           0  \n",
       "2           0         0           0      136465     75715       60750  \n",
       "3           0         0           0       96524     52561       43963  \n",
       "4           0         0           0       70452     38456       31996  \n",
       "5           0         0           0       85652     47423       38229  \n",
       "6           0         0           0       65030     35877       29153  \n",
       "7           0         0           0       68452     37773       30679  \n",
       "8           0         0           0       56720     30680       26040  \n",
       "9           0         0           0       58561     31901       26660  \n",
       "\n",
       "[10 rows x 45 columns]"
      ]
     },
     "execution_count": 14,
     "metadata": {},
     "output_type": "execute_result"
    }
   ],
   "source": [
    "# lit_pop.head(10)"
   ]
  },
  {
   "cell_type": "code",
   "execution_count": 15,
   "id": "0652b7e4",
   "metadata": {
    "execution": {
     "iopub.execute_input": "2021-11-09T05:36:35.528407Z",
     "iopub.status.busy": "2021-11-09T05:36:35.526330Z",
     "iopub.status.idle": "2021-11-09T05:36:35.550861Z",
     "shell.execute_reply": "2021-11-09T05:36:35.552295Z"
    }
   },
   "outputs": [
    {
     "data": {
      "text/plain": [
       "(3132, 45)"
      ]
     },
     "execution_count": 15,
     "metadata": {},
     "output_type": "execute_result"
    }
   ],
   "source": [
    "lit_pop.shape"
   ]
  },
  {
   "cell_type": "code",
   "execution_count": 16,
   "id": "f6306d68",
   "metadata": {
    "execution": {
     "iopub.execute_input": "2021-11-09T05:36:35.564945Z",
     "iopub.status.busy": "2021-11-09T05:36:35.562948Z",
     "iopub.status.idle": "2021-11-09T05:36:35.581509Z",
     "shell.execute_reply": "2021-11-09T05:36:35.582512Z"
    }
   },
   "outputs": [],
   "source": [
    "#DROPPING TRU = (URBAN,RURAL) and AGE-GROUP = (All ages) as they are not needed\n",
    "idx = lit_pop.loc[(lit_pop['TRU']!='Total') | (lit_pop['Age-group'] !='All ages')].index\n",
    "lit_pop = lit_pop.drop(idx)"
   ]
  },
  {
   "cell_type": "code",
   "execution_count": 17,
   "id": "2a3f96f1",
   "metadata": {
    "execution": {
     "iopub.execute_input": "2021-11-09T05:36:35.594354Z",
     "iopub.status.busy": "2021-11-09T05:36:35.593194Z",
     "iopub.status.idle": "2021-11-09T05:36:35.613942Z",
     "shell.execute_reply": "2021-11-09T05:36:35.612633Z"
    }
   },
   "outputs": [],
   "source": [
    "lit_pop.reset_index(drop=True,inplace=True)"
   ]
  },
  {
   "cell_type": "markdown",
   "id": "d03f8dfc",
   "metadata": {},
   "source": [
    "COMBINING BASED ON GROUPINGS WE NEED"
   ]
  },
  {
   "cell_type": "code",
   "execution_count": 18,
   "id": "aa528822",
   "metadata": {
    "execution": {
     "iopub.execute_input": "2021-11-09T05:36:35.658209Z",
     "iopub.status.busy": "2021-11-09T05:36:35.655731Z",
     "iopub.status.idle": "2021-11-09T05:36:35.676117Z",
     "shell.execute_reply": "2021-11-09T05:36:35.674008Z"
    }
   },
   "outputs": [],
   "source": [
    "newdf_m = pd.DataFrame()       #MALE DATAFRAME\n",
    "newdf_f = pd.DataFrame()        #FEMALE DATAFRAME\n",
    "\n",
    "# newdf_m['Name'] = lit_pop['Name']\n",
    "# newdf_f['Name'] = lit_pop['Name']\n",
    "\n",
    "newdf_m['ill'] = lit_pop['Males.1']                        #ILLITERACY\n",
    "newdf_f['ill'] = lit_pop['Females.1']\n",
    "\n",
    "# newdf['lbp'] = lit_pop['Persons.3'] + lit_pop['Persons.4']  #LITERACY BUT BELOW PRIMARY\n",
    "newdf_m['lbp_m'] = lit_pop['Persons.3']+lit_pop['Males.4']\n",
    "newdf_f['lbp_f'] = lit_pop['Persons.3']+lit_pop['Females.4']\n",
    "\n",
    "newdf_m['pbm_m'] = lit_pop['Males.5']                         #PRIMARY BUT BELOW MIDDLE\n",
    "newdf_f['pbm_f'] = lit_pop['Females.5']\n",
    "\n",
    "newdf_m['mbm_m'] = lit_pop['Males.6']                          # MIDDLE BUT BELOW MATRIC\n",
    "newdf_f['mbm_f'] = lit_pop['Females.6']\n",
    "\n",
    "#MATRIC BUT BELOW GRAD = Matric/Secondary  +     Higher secondary/Intermediate+ \n",
    "#                        Non-technical diploma   +    Technical diploma or certificate\n",
    "\n",
    "newdf_m['mbg_m'] = lit_pop['Males.7']+lit_pop['Males.8']+lit_pop['Males.9']+lit_pop['Males.10']     #MATRIC BUT BELOW GRAD\n",
    "newdf_f['mbg_f'] = lit_pop['Females.7']+lit_pop['Females.8']+lit_pop['Females.9']+lit_pop['Females.10']\n",
    "\n",
    "newdf_m['gaa_m'] = lit_pop['Males.11']                          #GRADUATE AND ABOVE\n",
    "newdf_f['gaa_f'] = lit_pop['Females.11']"
   ]
  },
  {
   "cell_type": "code",
   "execution_count": 19,
   "id": "7a346dfd",
   "metadata": {
    "execution": {
     "iopub.execute_input": "2021-11-09T05:36:35.680633Z",
     "iopub.status.busy": "2021-11-09T05:36:35.680633Z",
     "iopub.status.idle": "2021-11-09T05:36:35.692705Z",
     "shell.execute_reply": "2021-11-09T05:36:35.694741Z"
    }
   },
   "outputs": [],
   "source": [
    "# newdf_f"
   ]
  },
  {
   "cell_type": "code",
   "execution_count": 20,
   "id": "b59cbd58",
   "metadata": {
    "execution": {
     "iopub.execute_input": "2021-11-09T05:36:35.704617Z",
     "iopub.status.busy": "2021-11-09T05:36:35.702623Z",
     "iopub.status.idle": "2021-11-09T05:36:35.710257Z",
     "shell.execute_reply": "2021-11-09T05:36:35.707614Z"
    }
   },
   "outputs": [],
   "source": [
    "# COMMENT-->\n",
    "# BUT THERE IS A NOTE IN C19(last line of file) which says this\n",
    "#MATRIC BUT BELOW GRAD = Matric/Secondary  + Non-technical diploma   +    Technical diploma or certificate\n",
    "# (i.e) no HIGER SECONDARY\n",
    "# then we can use this instead of above matric but below graduate\n",
    "\n",
    "# newdf_m['mbg_m'] = lit_pop['Males.7']+lit_pop['Males.9']+lit_pop['Males.10']     #MATRIC BUT BELOW GRAD\n",
    "# newdf_f['mbg_f'] = lit_pop['Females.7']+lit_pop['Females.9']+lit_pop['Females.10']\n",
    "\n",
    "\n"
   ]
  },
  {
   "cell_type": "code",
   "execution_count": 21,
   "id": "2368fae9",
   "metadata": {
    "execution": {
     "iopub.execute_input": "2021-11-09T05:36:35.731901Z",
     "iopub.status.busy": "2021-11-09T05:36:35.730863Z",
     "iopub.status.idle": "2021-11-09T05:36:35.739586Z",
     "shell.execute_reply": "2021-11-09T05:36:35.739586Z"
    }
   },
   "outputs": [],
   "source": [
    "# TRANSPOSING MAKES each category values AS A ROW\n",
    "# and then we convert rows into columns to ease calculations\n",
    "# this will result in the format required for c19 file respectively\n",
    "\n",
    "conv_df_m = pd.melt(newdf_m.transpose())\n",
    "conv_df_f = pd.melt(newdf_f.transpose())"
   ]
  },
  {
   "cell_type": "code",
   "execution_count": 22,
   "id": "c344b31f",
   "metadata": {
    "execution": {
     "iopub.execute_input": "2021-11-09T05:36:35.748485Z",
     "iopub.status.busy": "2021-11-09T05:36:35.747489Z",
     "iopub.status.idle": "2021-11-09T05:36:35.757382Z",
     "shell.execute_reply": "2021-11-09T05:36:35.758379Z"
    }
   },
   "outputs": [],
   "source": [
    "# conv_df_f"
   ]
  },
  {
   "cell_type": "code",
   "execution_count": 23,
   "id": "defbe5da",
   "metadata": {
    "execution": {
     "iopub.execute_input": "2021-11-09T05:36:35.770021Z",
     "iopub.status.busy": "2021-11-09T05:36:35.763691Z",
     "iopub.status.idle": "2021-11-09T05:36:35.790137Z",
     "shell.execute_reply": "2021-11-09T05:36:35.791990Z"
    }
   },
   "outputs": [
    {
     "data": {
      "text/plain": [
       "((216, 11), (216, 2), (216, 2))"
      ]
     },
     "execution_count": 23,
     "metadata": {},
     "output_type": "execute_result"
    }
   ],
   "source": [
    "df.shape,conv_df_m.shape,conv_df_f.shape"
   ]
  },
  {
   "cell_type": "code",
   "execution_count": 24,
   "id": "a9efde68",
   "metadata": {
    "execution": {
     "iopub.execute_input": "2021-11-09T05:36:35.805602Z",
     "iopub.status.busy": "2021-11-09T05:36:35.802535Z",
     "iopub.status.idle": "2021-11-09T05:36:35.822133Z",
     "shell.execute_reply": "2021-11-09T05:36:35.824125Z"
    }
   },
   "outputs": [
    {
     "data": {
      "text/plain": [
       "Index(['State', 'District', 'Name', 'TRU', 'Edu-level', 'Persons.2', 'Males.2',\n",
       "       'Females.2', 'Persons.3', 'Males.3', 'Females.3'],\n",
       "      dtype='object')"
      ]
     },
     "execution_count": 24,
     "metadata": {},
     "output_type": "execute_result"
    }
   ],
   "source": [
    "df.columns"
   ]
  },
  {
   "cell_type": "code",
   "execution_count": 25,
   "id": "1cfa2c3d",
   "metadata": {
    "execution": {
     "iopub.execute_input": "2021-11-09T05:36:35.839606Z",
     "iopub.status.busy": "2021-11-09T05:36:35.837612Z",
     "iopub.status.idle": "2021-11-09T05:36:35.856796Z",
     "shell.execute_reply": "2021-11-09T05:36:35.858790Z"
    }
   },
   "outputs": [],
   "source": [
    "#EXACTLY TWO LANG\n",
    "df['t_2_lang'] = df['Persons.2'] - df['Persons.3']\n",
    "df['m_2_lang'] = df['Males.2'] - df['Males.3']\n",
    "df['f_2_lang'] = df['Females.2'] - df['Females.3']"
   ]
  },
  {
   "cell_type": "code",
   "execution_count": 26,
   "id": "39ec6679",
   "metadata": {
    "execution": {
     "iopub.execute_input": "2021-11-09T05:36:35.870102Z",
     "iopub.status.busy": "2021-11-09T05:36:35.867963Z",
     "iopub.status.idle": "2021-11-09T05:36:35.891019Z",
     "shell.execute_reply": "2021-11-09T05:36:35.888800Z"
    }
   },
   "outputs": [],
   "source": [
    "df.reset_index(drop=True,inplace=True)"
   ]
  },
  {
   "cell_type": "markdown",
   "id": "dead53f9",
   "metadata": {},
   "source": [
    "CALCULATING EXACTLY TWOLANG RATIO and THREE OR MORE LANG RATIOS FOR MALE AND FEMALE"
   ]
  },
  {
   "cell_type": "code",
   "execution_count": 27,
   "id": "bd1d053f",
   "metadata": {
    "execution": {
     "iopub.execute_input": "2021-11-09T05:36:35.910995Z",
     "iopub.status.busy": "2021-11-09T05:36:35.907192Z",
     "iopub.status.idle": "2021-11-09T05:36:35.919421Z",
     "shell.execute_reply": "2021-11-09T05:36:35.919421Z"
    }
   },
   "outputs": [],
   "source": [
    "#twolang male/female respectively\n",
    "df['tw_r_m'] = df['m_2_lang']/conv_df_m['value']\n",
    "df['tw_r_f'] = df['f_2_lang']/conv_df_f['value']\n",
    "#three lang male/female respectively\n",
    "df['th_r_m'] = df['Males.3']/conv_df_m['value']\n",
    "df['th_r_f'] = df['Females.3']/conv_df_f['value']"
   ]
  },
  {
   "cell_type": "code",
   "execution_count": 28,
   "id": "7bbc345a",
   "metadata": {
    "execution": {
     "iopub.execute_input": "2021-11-09T05:36:35.939881Z",
     "iopub.status.busy": "2021-11-09T05:36:35.938883Z",
     "iopub.status.idle": "2021-11-09T05:36:35.956566Z",
     "shell.execute_reply": "2021-11-09T05:36:35.955093Z"
    }
   },
   "outputs": [],
   "source": [
    "#calculating onelang ratios using twolang and three lang male/female respectively\n",
    "df['one_r_m'] = 1-(df['tw_r_m'] + df['th_r_m'])\n",
    "df['one_r_f'] = 1-(df['tw_r_f'] + df['th_r_f'])"
   ]
  },
  {
   "cell_type": "code",
   "execution_count": null,
   "id": "8e48cee6",
   "metadata": {},
   "outputs": [],
   "source": []
  },
  {
   "cell_type": "code",
   "execution_count": 29,
   "id": "73e6d9fb",
   "metadata": {
    "execution": {
     "iopub.execute_input": "2021-11-09T05:36:35.970092Z",
     "iopub.status.busy": "2021-11-09T05:36:35.968100Z",
     "iopub.status.idle": "2021-11-09T05:36:35.972116Z",
     "shell.execute_reply": "2021-11-09T05:36:35.973116Z"
    }
   },
   "outputs": [],
   "source": [
    "#TO CALCULATE \"iteracy group with highest ratio of population\"\n",
    "def the_func(df_new):\n",
    "    indexes = []\n",
    "    for i in range(36):     #iterating for states\n",
    "        t = i*6\n",
    "        indexes.append(df_new.iloc[t:t+6,-1].idxmax())   #finding index of maxratio\n",
    "        \n",
    "    df_new = df_new.iloc[indexes]      #taking only indexes of maxratio\n",
    "    return df_new"
   ]
  },
  {
   "cell_type": "markdown",
   "id": "d7647fed",
   "metadata": {},
   "source": [
    "creating SEPERATE DATAFRAMES FOR EACH CATEGORY OF LANG"
   ]
  },
  {
   "cell_type": "code",
   "execution_count": 30,
   "id": "07298beb",
   "metadata": {
    "execution": {
     "iopub.execute_input": "2021-11-09T05:36:35.989349Z",
     "iopub.status.busy": "2021-11-09T05:36:35.987349Z",
     "iopub.status.idle": "2021-11-09T05:36:36.055368Z",
     "shell.execute_reply": "2021-11-09T05:36:36.055368Z"
    }
   },
   "outputs": [],
   "source": [
    "df_one_lang_male = the_func(df[['State','Edu-level','one_r_m']])\n",
    "df_one_lang_female = the_func(df[['State','Edu-level','one_r_f']])\n",
    "\n",
    "df_one_lang_male.reset_index(inplace=True,drop=True)\n",
    "df_one_lang_female.reset_index(inplace=True,drop=True)\n",
    "\n",
    "#COMBINING MALE AND FEMALE INTOA SINGLE DATAFRAME\n",
    "df_one_lang = df_one_lang_male.copy()\n",
    "df_one_lang[['Edu-level-female','one_r_f']] = df_one_lang_female[['Edu-level','one_r_f']]"
   ]
  },
  {
   "cell_type": "code",
   "execution_count": 31,
   "id": "867cbb1d",
   "metadata": {
    "execution": {
     "iopub.execute_input": "2021-11-09T05:36:36.126881Z",
     "iopub.status.busy": "2021-11-09T05:36:36.070070Z",
     "iopub.status.idle": "2021-11-09T05:36:36.136056Z",
     "shell.execute_reply": "2021-11-09T05:36:36.136056Z"
    }
   },
   "outputs": [],
   "source": [
    "df_two_lang_male = the_func(df[['State','Edu-level','tw_r_m']])\n",
    "df_two_lang_female = the_func(df[['State','Edu-level','tw_r_f']])\n",
    "\n",
    "df_two_lang_male.reset_index(inplace=True,drop=True)\n",
    "df_two_lang_female.reset_index(inplace=True,drop=True)\n",
    "\n",
    "#COMBINING MALE AND FEMALE INTOA SINGLE DATAFRAME\n",
    "df_two_lang = df_two_lang_male.copy()\n",
    "df_two_lang[['Edu-level-female','tw_r_f']] = df_two_lang_female[['Edu-level','tw_r_f']]"
   ]
  },
  {
   "cell_type": "code",
   "execution_count": 32,
   "id": "870f42ce",
   "metadata": {
    "execution": {
     "iopub.execute_input": "2021-11-09T05:36:36.194575Z",
     "iopub.status.busy": "2021-11-09T05:36:36.187930Z",
     "iopub.status.idle": "2021-11-09T05:36:36.213837Z",
     "shell.execute_reply": "2021-11-09T05:36:36.215645Z"
    }
   },
   "outputs": [],
   "source": [
    "df_three_lang_male = the_func(df[['State','Edu-level','th_r_m']])\n",
    "df_three_lang_female = the_func(df[['State','Edu-level','th_r_f']])\n",
    "\n",
    "df_three_lang_male.reset_index(inplace=True,drop=True)\n",
    "df_three_lang_female.reset_index(inplace=True,drop=True)\n",
    "\n",
    "#COMBINING MALE AND FEMALE INTOA SINGLE DATAFRAME\n",
    "df_three_lang = df_three_lang_male.copy()\n",
    "df_three_lang[['Edu-level-female','th_r_f']] = df_three_lang_female[['Edu-level','th_r_f']]"
   ]
  },
  {
   "cell_type": "code",
   "execution_count": null,
   "id": "92dd38fa",
   "metadata": {},
   "outputs": [],
   "source": []
  },
  {
   "cell_type": "code",
   "execution_count": 33,
   "id": "7e577db3",
   "metadata": {
    "execution": {
     "iopub.execute_input": "2021-11-09T05:36:36.231760Z",
     "iopub.status.busy": "2021-11-09T05:36:36.229766Z",
     "iopub.status.idle": "2021-11-09T05:36:36.250292Z",
     "shell.execute_reply": "2021-11-09T05:36:36.251294Z"
    }
   },
   "outputs": [],
   "source": [
    "#CHANGING COLUMN NAMES\n",
    "df_one_lang.rename(columns={'State':'state/ut','Edu-level':'literacy-group-males','one_r_m':'ratio-males','Edu-level-female':'literacy-group-females','one_r_f':'ratio-females'}, inplace=True)\n",
    "df_two_lang.rename(columns={'State':'state/ut','Edu-level':'literacy-group-males','tw_r_m':'ratio-males','Edu-level-female':'literacy-group-females','tw_r_f':'ratio-females'}, inplace=True)\n",
    "df_three_lang.rename(columns={'State':'state/ut','Edu-level':'literacy-group-males','th_r_m':'ratio-males','Edu-level-female':'literacy-group-females','th_r_f':'ratio-females'}, inplace=True)"
   ]
  },
  {
   "cell_type": "code",
   "execution_count": 34,
   "id": "b931a60c",
   "metadata": {
    "execution": {
     "iopub.execute_input": "2021-11-09T05:36:36.263291Z",
     "iopub.status.busy": "2021-11-09T05:36:36.261342Z",
     "iopub.status.idle": "2021-11-09T05:36:36.283679Z",
     "shell.execute_reply": "2021-11-09T05:36:36.283679Z"
    }
   },
   "outputs": [
    {
     "data": {
      "text/plain": [
       "Index(['state/ut', 'literacy-group-males', 'ratio-males',\n",
       "       'literacy-group-females', 'ratio-females'],\n",
       "      dtype='object')"
      ]
     },
     "execution_count": 34,
     "metadata": {},
     "output_type": "execute_result"
    }
   ],
   "source": [
    "df_two_lang.columns"
   ]
  },
  {
   "cell_type": "code",
   "execution_count": 35,
   "id": "e377effa",
   "metadata": {
    "execution": {
     "iopub.execute_input": "2021-11-09T05:36:36.292610Z",
     "iopub.status.busy": "2021-11-09T05:36:36.292610Z",
     "iopub.status.idle": "2021-11-09T05:36:36.325840Z",
     "shell.execute_reply": "2021-11-09T05:36:36.326560Z"
    }
   },
   "outputs": [],
   "source": [
    "#WRTITNG TO CSVS\n",
    "\n",
    "df_one_lang.to_csv('literacy-gender-c.csv',index=False)\n",
    "df_two_lang.to_csv('literacy-gender-b.csv',index=False)\n",
    "df_three_lang.to_csv('literacy-gender-a.csv',index=False)"
   ]
  },
  {
   "cell_type": "code",
   "execution_count": null,
   "id": "d8610ae1",
   "metadata": {},
   "outputs": [],
   "source": []
  }
 ],
 "metadata": {
  "kernelspec": {
   "display_name": "Python 3",
   "language": "python",
   "name": "python3"
  },
  "language_info": {
   "codemirror_mode": {
    "name": "ipython",
    "version": 3
   },
   "file_extension": ".py",
   "mimetype": "text/x-python",
   "name": "python",
   "nbconvert_exporter": "python",
   "pygments_lexer": "ipython3",
   "version": "3.8.8"
  }
 },
 "nbformat": 4,
 "nbformat_minor": 5
}
