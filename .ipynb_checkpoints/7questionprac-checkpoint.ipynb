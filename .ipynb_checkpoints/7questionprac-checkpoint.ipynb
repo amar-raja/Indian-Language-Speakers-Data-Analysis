{
 "cells": [
  {
   "cell_type": "code",
   "execution_count": 41,
   "id": "b38f9f2e",
   "metadata": {},
   "outputs": [],
   "source": [
    "import numpy as np\n",
    "import pandas as pd\n",
    "import datetime as dt\n",
    "import warnings\n",
    "warnings.filterwarnings('ignore')"
   ]
  },
  {
   "cell_type": "code",
   "execution_count": 42,
   "id": "0086160e",
   "metadata": {},
   "outputs": [],
   "source": [
    "#file codes BASED ON REGION\n",
    "north_c = ['0100','0200','0300','0400','0500','0600','0700']\n",
    "west_c =  ['0800','2400','2500','2600','2700','3000']\n",
    "central_c = ['0900','2200','2300']\n",
    "east_c = ['1000','1900','2000','2100']\n",
    "south_c = ['2800','2900','3100','3200','3300','3400']\n",
    "north_east_c = ['1100','1200','1300','1400','1500','1600','1700','1800','3500']"
   ]
  },
  {
   "cell_type": "code",
   "execution_count": 43,
   "id": "0486f77b",
   "metadata": {},
   "outputs": [
    {
     "name": "stdout",
     "output_type": "stream",
     "text": [
      "TOTAL NO.OF STATES:  35\n"
     ]
    }
   ],
   "source": [
    "print('TOTAL NO.OF STATES: ',len(north_c)+len(west_c)+len(central_c)+len(east_c)+len(south_c)+len(north_east_c))"
   ]
  },
  {
   "cell_type": "code",
   "execution_count": 44,
   "id": "a07421b0",
   "metadata": {},
   "outputs": [],
   "source": [
    "#STORING ALL FILECODES INTO A SINGLE LIST\n",
    "region_codes = [north_c,west_c,central_c,east_c,south_c,north_east_c]"
   ]
  },
  {
   "cell_type": "code",
   "execution_count": 45,
   "id": "0a30b21c",
   "metadata": {},
   "outputs": [
    {
     "data": {
      "text/plain": [
       "[['0100', '0200', '0300', '0400', '0500', '0600', '0700'],\n",
       " ['0800', '2400', '2500', '2600', '2700', '3000'],\n",
       " ['0900', '2200', '2300'],\n",
       " ['1000', '1900', '2000', '2100'],\n",
       " ['2800', '2900', '3100', '3200', '3300', '3400'],\n",
       " ['1100', '1200', '1300', '1400', '1500', '1600', '1700', '1800', '3500']]"
      ]
     },
     "execution_count": 45,
     "metadata": {},
     "output_type": "execute_result"
    }
   ],
   "source": [
    "region_codes"
   ]
  },
  {
   "cell_type": "markdown",
   "id": "c063a0a9",
   "metadata": {},
   "source": [
    "## READING ALL STATE/UT FILES "
   ]
  },
  {
   "cell_type": "code",
   "execution_count": 46,
   "id": "2110e83a",
   "metadata": {},
   "outputs": [],
   "source": [
    "#NAMES OF COLUMNS\n",
    "col_names = ['Code', 'region', 'Code.1', 'Name', 'Persons', 'Males', 'Females', 'Code.2', '1 st subsidiary languages', 'Persons.2', 'Males.2', 'Females.2', 'Code.3', '2nd subsidiary languages', 'Persons.3', 'Males.3', 'Females.3']"
   ]
  },
  {
   "cell_type": "code",
   "execution_count": 47,
   "id": "f5bf5c82",
   "metadata": {},
   "outputs": [],
   "source": [
    "#STORING ALL STATE/UT DATAFRAMES INTO A LIST OF DATAFRAMES\n",
    "all_df = []"
   ]
  },
  {
   "cell_type": "code",
   "execution_count": 48,
   "id": "52acdbd3",
   "metadata": {},
   "outputs": [],
   "source": [
    "# region_codes=[['0100']]"
   ]
  },
  {
   "cell_type": "code",
   "execution_count": 49,
   "id": "93be6155",
   "metadata": {},
   "outputs": [],
   "source": [
    "for i in region_codes:\n",
    "    for c in i:\n",
    "        f_name = 'c17\\DDW-C17-'+c+'.XLSX'                 #NAME OF THE FILE\n",
    "        file = pd.read_excel(f_name,skiprows=5,names=col_names)    # READING FILE ONE BY ONE\n",
    "        \n",
    "        l2 = file[['Code.2','Persons.2']]\n",
    "        l3 = file[['Code.3','Persons.3']]\n",
    "        \n",
    "        file = file[['Code', 'region', 'Code.1', 'Name', 'Persons']]  #TAKING ONLY REQUIRED COLUMN(TOTAL SPEAKERS OF LANGUAGE)\n",
    "        \n",
    "        file.dropna(inplace=True)              #DROPPING NA values\n",
    "        l2.dropna(inplace=True)\n",
    "        l3.dropna(inplace=True)\n",
    "        \n",
    "        l2 = l2.groupby(['Code.2']).agg({'Persons.2':sum})\n",
    "        l3 = l3.groupby(['Code.3']).agg({'Persons.3':sum})\n",
    "        \n",
    "        l2.reset_index(inplace=True)\n",
    "        l3.reset_index(inplace=True)\n",
    "        \n",
    "        file = pd.merge(file,l2,how='left',left_on='Code.1',right_on='Code.2')\n",
    "        file = pd.merge(file,l3,how='left',left_on='Code.1',right_on='Code.3')\n",
    "        \n",
    "        file['Persons'] = file['Persons'] + file['Persons.2'] + file['Persons.3']\n",
    "        \n",
    "        \n",
    "        file = file.sort_values('Persons',ascending=False)    # SORTING BASED ON NUMBER OF SPEAKERS\n",
    "        all_df.append(file)                #APPENDING DF TO A LIST\n",
    "\n",
    "    "
   ]
  },
  {
   "cell_type": "markdown",
   "id": "690c5e87",
   "metadata": {},
   "source": [
    "CLASSIFYING STATES/UT DATAFRAMES INTO RESPECTIVE REGIONS"
   ]
  },
  {
   "cell_type": "code",
   "execution_count": 50,
   "id": "076e9efe",
   "metadata": {},
   "outputs": [],
   "source": [
    "north = pd.concat(all_df[:7])\n",
    "west = pd.concat(all_df[7:13])\n",
    "central = pd.concat(all_df[13:16])\n",
    "east = pd.concat(all_df[16:20])\n",
    "south = pd.concat(all_df[20:26])\n",
    "north_east = pd.concat(all_df[26:35])"
   ]
  },
  {
   "cell_type": "code",
   "execution_count": 51,
   "id": "adf0d755",
   "metadata": {},
   "outputs": [],
   "source": [
    "#PERFORMED GROUPBY LANGUAGE AND SUMMED NUMBER OF SPEAKERS,\n",
    "# THEN SORTED THE DATA TO GET TOP 3 LANGUAGES FOR EACH REGION"
   ]
  },
  {
   "cell_type": "code",
   "execution_count": 52,
   "id": "e19f34ac",
   "metadata": {},
   "outputs": [],
   "source": [
    "north = north.groupby(['Name']).agg({'Persons':sum})\n",
    "north = north.sort_values('Persons',ascending=False)\n",
    "north.reset_index(inplace=True)\n",
    "\n",
    "#GETTTING TOP 3 HIGHEST SPOKEN LANGUAGE IN THAT REGION\n",
    "north = north[0:3]\n",
    "north['region'] = 'North'\n"
   ]
  },
  {
   "cell_type": "code",
   "execution_count": 53,
   "id": "7ddc7f28",
   "metadata": {},
   "outputs": [],
   "source": [
    "west = west.groupby('Name').agg({'Persons':sum})\n",
    "west = west.sort_values('Persons',ascending=False)\n",
    "west.reset_index(inplace=True)\n",
    "\n",
    "#GETTTING TOP 3 HIGHEST SPOKEN LANGUAGE IN THAT REGION\n",
    "west = west[0:3]\n",
    "west['region'] = 'West'"
   ]
  },
  {
   "cell_type": "code",
   "execution_count": 54,
   "id": "727f3b3a",
   "metadata": {},
   "outputs": [],
   "source": [
    "central = central.groupby('Name').agg({'Persons':sum})\n",
    "central = central.sort_values('Persons',ascending=False)\n",
    "central.reset_index(inplace=True)\n",
    "\n",
    "#GETTTING TOP 3 HIGHEST SPOKEN LANGUAGE IN THAT REGION\n",
    "central = central[0:3]\n",
    "central['region'] = 'Central'"
   ]
  },
  {
   "cell_type": "code",
   "execution_count": 55,
   "id": "1a8b5828",
   "metadata": {},
   "outputs": [],
   "source": [
    "east = east.groupby('Name').agg({'Persons':sum})\n",
    "east = east.sort_values('Persons',ascending=False)\n",
    "east.reset_index(inplace=True)\n",
    "\n",
    "#GETTTING TOP 3 HIGHEST SPOKEN LANGUAGE IN THAT REGION\n",
    "east = east[0:3]\n",
    "east['region'] = 'East'"
   ]
  },
  {
   "cell_type": "code",
   "execution_count": 56,
   "id": "ff6ca894",
   "metadata": {},
   "outputs": [],
   "source": [
    "south = south.groupby('Name').agg({'Persons':sum})\n",
    "south = south.sort_values('Persons',ascending=False)\n",
    "south.reset_index(inplace=True)\n",
    "\n",
    "#GETTTING TOP 3 HIGHEST SPOKEN LANGUAGE IN THAT REGION\n",
    "south = south[0:3]\n",
    "south['region'] = 'South'"
   ]
  },
  {
   "cell_type": "code",
   "execution_count": 57,
   "id": "34c079f6",
   "metadata": {},
   "outputs": [],
   "source": [
    "north_east = north_east.groupby('Name').agg({'Persons':sum})\n",
    "north_east = north_east.sort_values('Persons',ascending=False)\n",
    "north_east.reset_index(inplace=True)\n",
    "\n",
    "#GETTTING TOP 3 HIGHEST SPOKEN LANGUAGE IN THAT REGION\n",
    "north_east = north_east[0:3]\n",
    "north_east['region'] = 'North-East'"
   ]
  },
  {
   "cell_type": "code",
   "execution_count": 58,
   "id": "74a0450a",
   "metadata": {},
   "outputs": [
    {
     "data": {
      "text/html": [
       "<div>\n",
       "<style scoped>\n",
       "    .dataframe tbody tr th:only-of-type {\n",
       "        vertical-align: middle;\n",
       "    }\n",
       "\n",
       "    .dataframe tbody tr th {\n",
       "        vertical-align: top;\n",
       "    }\n",
       "\n",
       "    .dataframe thead th {\n",
       "        text-align: right;\n",
       "    }\n",
       "</style>\n",
       "<table border=\"1\" class=\"dataframe\">\n",
       "  <thead>\n",
       "    <tr style=\"text-align: right;\">\n",
       "      <th></th>\n",
       "      <th>Name</th>\n",
       "      <th>Persons</th>\n",
       "      <th>region</th>\n",
       "    </tr>\n",
       "  </thead>\n",
       "  <tbody>\n",
       "    <tr>\n",
       "      <th>0</th>\n",
       "      <td>ASSAMESE</td>\n",
       "      <td>23497578.0</td>\n",
       "      <td>North-East</td>\n",
       "    </tr>\n",
       "    <tr>\n",
       "      <th>1</th>\n",
       "      <td>BENGALI</td>\n",
       "      <td>15914819.0</td>\n",
       "      <td>North-East</td>\n",
       "    </tr>\n",
       "    <tr>\n",
       "      <th>2</th>\n",
       "      <td>HINDI</td>\n",
       "      <td>11038404.0</td>\n",
       "      <td>North-East</td>\n",
       "    </tr>\n",
       "  </tbody>\n",
       "</table>\n",
       "</div>"
      ],
      "text/plain": [
       "       Name     Persons      region\n",
       "0  ASSAMESE  23497578.0  North-East\n",
       "1  BENGALI   15914819.0  North-East\n",
       "2    HINDI   11038404.0  North-East"
      ]
     },
     "execution_count": 58,
     "metadata": {},
     "output_type": "execute_result"
    }
   ],
   "source": [
    "north_east"
   ]
  },
  {
   "cell_type": "code",
   "execution_count": 59,
   "id": "320063ea",
   "metadata": {},
   "outputs": [],
   "source": [
    "#CONCATINATING ALL REGIONS INTO A SINGLE DATAFRAME\n",
    "finaldf = pd.concat([north,west,central,east,south,north_east])"
   ]
  },
  {
   "cell_type": "code",
   "execution_count": 60,
   "id": "a3084836",
   "metadata": {},
   "outputs": [],
   "source": [
    "#TAKING ONLY REQUIRED COLUMNS\n",
    "finaldf = finaldf[['region','Name']] "
   ]
  },
  {
   "cell_type": "code",
   "execution_count": 61,
   "id": "5d05b3a3",
   "metadata": {},
   "outputs": [
    {
     "data": {
      "text/html": [
       "<div>\n",
       "<style scoped>\n",
       "    .dataframe tbody tr th:only-of-type {\n",
       "        vertical-align: middle;\n",
       "    }\n",
       "\n",
       "    .dataframe tbody tr th {\n",
       "        vertical-align: top;\n",
       "    }\n",
       "\n",
       "    .dataframe thead th {\n",
       "        text-align: right;\n",
       "    }\n",
       "</style>\n",
       "<table border=\"1\" class=\"dataframe\">\n",
       "  <thead>\n",
       "    <tr style=\"text-align: right;\">\n",
       "      <th></th>\n",
       "      <th>region</th>\n",
       "      <th>Name</th>\n",
       "    </tr>\n",
       "  </thead>\n",
       "  <tbody>\n",
       "    <tr>\n",
       "      <th>0</th>\n",
       "      <td>North</td>\n",
       "      <td>HINDI</td>\n",
       "    </tr>\n",
       "    <tr>\n",
       "      <th>1</th>\n",
       "      <td>North</td>\n",
       "      <td>PUNJABI</td>\n",
       "    </tr>\n",
       "    <tr>\n",
       "      <th>2</th>\n",
       "      <td>North</td>\n",
       "      <td>ENGLISH</td>\n",
       "    </tr>\n",
       "    <tr>\n",
       "      <th>0</th>\n",
       "      <td>West</td>\n",
       "      <td>HINDI</td>\n",
       "    </tr>\n",
       "    <tr>\n",
       "      <th>1</th>\n",
       "      <td>West</td>\n",
       "      <td>MARATHI</td>\n",
       "    </tr>\n",
       "  </tbody>\n",
       "</table>\n",
       "</div>"
      ],
      "text/plain": [
       "  region      Name\n",
       "0  North    HINDI \n",
       "1  North  PUNJABI \n",
       "2  North  ENGLISH \n",
       "0   West    HINDI \n",
       "1   West  MARATHI "
      ]
     },
     "execution_count": 61,
     "metadata": {},
     "output_type": "execute_result"
    }
   ],
   "source": [
    "finaldf.head()"
   ]
  },
  {
   "cell_type": "markdown",
   "id": "ca6a2115",
   "metadata": {},
   "source": [
    "CREATING THE RESULTANT DATAFRAME"
   ]
  },
  {
   "cell_type": "code",
   "execution_count": 62,
   "id": "56de6c28",
   "metadata": {},
   "outputs": [],
   "source": [
    "reg = finaldf.region.unique()   #STORING REGIONS\n",
    "t = finaldf.Name.values         # STORING LANGUAGES AS A LIST\n"
   ]
  },
  {
   "cell_type": "code",
   "execution_count": 63,
   "id": "1a81f213",
   "metadata": {},
   "outputs": [],
   "source": [
    "#RESULTANT DATAFRAME\n",
    "resultdf = pd.DataFrame(columns=['region','language-1','language-2', 'language-3'])"
   ]
  },
  {
   "cell_type": "code",
   "execution_count": 64,
   "id": "d7071eaf",
   "metadata": {},
   "outputs": [],
   "source": [
    "for i in range(6):\n",
    "    resultdf.loc[i] = [reg[i],t[i*3+0],t[i*3+1],t[i*3+2]]     #APPENDING EACH REGION WITH 3 LANGUAGES TO \"resultdf\""
   ]
  },
  {
   "cell_type": "code",
   "execution_count": 65,
   "id": "3b6dba36",
   "metadata": {},
   "outputs": [
    {
     "data": {
      "text/html": [
       "<div>\n",
       "<style scoped>\n",
       "    .dataframe tbody tr th:only-of-type {\n",
       "        vertical-align: middle;\n",
       "    }\n",
       "\n",
       "    .dataframe tbody tr th {\n",
       "        vertical-align: top;\n",
       "    }\n",
       "\n",
       "    .dataframe thead th {\n",
       "        text-align: right;\n",
       "    }\n",
       "</style>\n",
       "<table border=\"1\" class=\"dataframe\">\n",
       "  <thead>\n",
       "    <tr style=\"text-align: right;\">\n",
       "      <th></th>\n",
       "      <th>region</th>\n",
       "      <th>language-1</th>\n",
       "      <th>language-2</th>\n",
       "      <th>language-3</th>\n",
       "    </tr>\n",
       "  </thead>\n",
       "  <tbody>\n",
       "    <tr>\n",
       "      <th>0</th>\n",
       "      <td>North</td>\n",
       "      <td>HINDI</td>\n",
       "      <td>PUNJABI</td>\n",
       "      <td>ENGLISH</td>\n",
       "    </tr>\n",
       "    <tr>\n",
       "      <th>1</th>\n",
       "      <td>West</td>\n",
       "      <td>HINDI</td>\n",
       "      <td>MARATHI</td>\n",
       "      <td>GUJARATI</td>\n",
       "    </tr>\n",
       "    <tr>\n",
       "      <th>2</th>\n",
       "      <td>Central</td>\n",
       "      <td>HINDI</td>\n",
       "      <td>ENGLISH</td>\n",
       "      <td>URDU</td>\n",
       "    </tr>\n",
       "    <tr>\n",
       "      <th>3</th>\n",
       "      <td>East</td>\n",
       "      <td>HINDI</td>\n",
       "      <td>BENGALI</td>\n",
       "      <td>ODIA</td>\n",
       "    </tr>\n",
       "    <tr>\n",
       "      <th>4</th>\n",
       "      <td>South</td>\n",
       "      <td>TELUGU</td>\n",
       "      <td>TAMIL</td>\n",
       "      <td>KANNADA</td>\n",
       "    </tr>\n",
       "    <tr>\n",
       "      <th>5</th>\n",
       "      <td>North-East</td>\n",
       "      <td>ASSAMESE</td>\n",
       "      <td>BENGALI</td>\n",
       "      <td>HINDI</td>\n",
       "    </tr>\n",
       "  </tbody>\n",
       "</table>\n",
       "</div>"
      ],
      "text/plain": [
       "       region language-1 language-2 language-3\n",
       "0       North     HINDI    PUNJABI    ENGLISH \n",
       "1        West     HINDI    MARATHI    GUJARATI\n",
       "2     Central     HINDI    ENGLISH        URDU\n",
       "3        East     HINDI    BENGALI       ODIA \n",
       "4       South    TELUGU      TAMIL     KANNADA\n",
       "5  North-East   ASSAMESE   BENGALI      HINDI "
      ]
     },
     "execution_count": 65,
     "metadata": {},
     "output_type": "execute_result"
    }
   ],
   "source": [
    "resultdf"
   ]
  },
  {
   "cell_type": "code",
   "execution_count": null,
   "id": "20d204f7",
   "metadata": {},
   "outputs": [],
   "source": [
    "#WRITING TO CSV\n",
    "\n",
    "# resultdf.to_csv('region-india-b.csv',index=False)"
   ]
  }
 ],
 "metadata": {
  "kernelspec": {
   "display_name": "Python 3",
   "language": "python",
   "name": "python3"
  },
  "language_info": {
   "codemirror_mode": {
    "name": "ipython",
    "version": 3
   },
   "file_extension": ".py",
   "mimetype": "text/x-python",
   "name": "python",
   "nbconvert_exporter": "python",
   "pygments_lexer": "ipython3",
   "version": "3.8.8"
  }
 },
 "nbformat": 4,
 "nbformat_minor": 5
}
