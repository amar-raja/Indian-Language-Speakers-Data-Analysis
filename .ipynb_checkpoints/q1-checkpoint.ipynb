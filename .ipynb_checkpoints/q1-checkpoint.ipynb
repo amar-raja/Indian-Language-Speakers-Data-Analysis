{
 "cells": [
  {
   "cell_type": "markdown",
   "id": "f99cd504",
   "metadata": {},
   "source": [
    "## 1)percentage of population of India who speaks only one language, exactly two languages, and  three languages or more"
   ]
  },
  {
   "cell_type": "code",
   "execution_count": 1,
   "id": "9219eb94",
   "metadata": {},
   "outputs": [],
   "source": [
    "import numpy as np\n",
    "import pandas as pd\n",
    "import datetime as dt\n",
    "import warnings\n",
    "warnings.filterwarnings('ignore')"
   ]
  },
  {
   "cell_type": "code",
   "execution_count": 2,
   "id": "988c87c5",
   "metadata": {},
   "outputs": [],
   "source": [
    "#ASSIGNING COL NAMES\n",
    "column_names = ['State', 'District', 'Name', 'TRU','Age-group','Persons.2','Males.2','Females.2','Persons.3','Males.3','Females.3']\n",
    "#READING DATA\n",
    "df = pd.read_excel('DDW-C18-0000.xlsx',names=column_names,skiprows=5)"
   ]
  },
  {
   "cell_type": "code",
   "execution_count": 3,
   "id": "9180815c",
   "metadata": {},
   "outputs": [],
   "source": [
    "#TAKING ONLY REQUIRED COLUMNS\n",
    "df = df[['State','Name','TRU','Age-group','Persons.2','Persons.3']]\n",
    "# REMOVING URBAN AND RURAL ROWS\n",
    "idx = df.loc[(df['TRU']=='Urban') | (df['TRU']=='Rural') | (df['Age-group'] !='Total')].index\n",
    "df = df.drop(idx)"
   ]
  },
  {
   "cell_type": "code",
   "execution_count": 4,
   "id": "d64e117e",
   "metadata": {},
   "outputs": [],
   "source": [
    "df.reset_index(inplace=True,drop=True)"
   ]
  },
  {
   "cell_type": "code",
   "execution_count": 5,
   "id": "4d3f279f",
   "metadata": {},
   "outputs": [
    {
     "data": {
      "text/html": [
       "<div>\n",
       "<style scoped>\n",
       "    .dataframe tbody tr th:only-of-type {\n",
       "        vertical-align: middle;\n",
       "    }\n",
       "\n",
       "    .dataframe tbody tr th {\n",
       "        vertical-align: top;\n",
       "    }\n",
       "\n",
       "    .dataframe thead th {\n",
       "        text-align: right;\n",
       "    }\n",
       "</style>\n",
       "<table border=\"1\" class=\"dataframe\">\n",
       "  <thead>\n",
       "    <tr style=\"text-align: right;\">\n",
       "      <th></th>\n",
       "      <th>State</th>\n",
       "      <th>Name</th>\n",
       "      <th>TRU</th>\n",
       "      <th>Age-group</th>\n",
       "      <th>Persons.2</th>\n",
       "      <th>Persons.3</th>\n",
       "    </tr>\n",
       "  </thead>\n",
       "  <tbody>\n",
       "    <tr>\n",
       "      <th>0</th>\n",
       "      <td>0</td>\n",
       "      <td>INDIA</td>\n",
       "      <td>Total</td>\n",
       "      <td>Total</td>\n",
       "      <td>314988770</td>\n",
       "      <td>86009580</td>\n",
       "    </tr>\n",
       "    <tr>\n",
       "      <th>1</th>\n",
       "      <td>1</td>\n",
       "      <td>JAMMU &amp; KASHMIR</td>\n",
       "      <td>Total</td>\n",
       "      <td>Total</td>\n",
       "      <td>6183190</td>\n",
       "      <td>2096220</td>\n",
       "    </tr>\n",
       "    <tr>\n",
       "      <th>2</th>\n",
       "      <td>2</td>\n",
       "      <td>HIMACHAL PRADESH</td>\n",
       "      <td>Total</td>\n",
       "      <td>Total</td>\n",
       "      <td>1242705</td>\n",
       "      <td>347286</td>\n",
       "    </tr>\n",
       "    <tr>\n",
       "      <th>3</th>\n",
       "      <td>3</td>\n",
       "      <td>PUNJAB</td>\n",
       "      <td>Total</td>\n",
       "      <td>Total</td>\n",
       "      <td>13035224</td>\n",
       "      <td>7829913</td>\n",
       "    </tr>\n",
       "    <tr>\n",
       "      <th>4</th>\n",
       "      <td>4</td>\n",
       "      <td>CHANDIGARH</td>\n",
       "      <td>Total</td>\n",
       "      <td>Total</td>\n",
       "      <td>579920</td>\n",
       "      <td>321979</td>\n",
       "    </tr>\n",
       "  </tbody>\n",
       "</table>\n",
       "</div>"
      ],
      "text/plain": [
       "   State              Name    TRU Age-group  Persons.2  Persons.3\n",
       "0      0             INDIA  Total     Total  314988770   86009580\n",
       "1      1   JAMMU & KASHMIR  Total     Total    6183190    2096220\n",
       "2      2  HIMACHAL PRADESH  Total     Total    1242705     347286\n",
       "3      3            PUNJAB  Total     Total   13035224    7829913\n",
       "4      4        CHANDIGARH  Total     Total     579920     321979"
      ]
     },
     "execution_count": 5,
     "metadata": {},
     "output_type": "execute_result"
    }
   ],
   "source": [
    "df.head()"
   ]
  },
  {
   "cell_type": "code",
   "execution_count": 6,
   "id": "fb037387",
   "metadata": {},
   "outputs": [
    {
     "data": {
      "text/plain": [
       "(36, 6)"
      ]
     },
     "execution_count": 6,
     "metadata": {},
     "output_type": "execute_result"
    }
   ],
   "source": [
    "df.shape"
   ]
  },
  {
   "cell_type": "markdown",
   "id": "6bdbf94b",
   "metadata": {},
   "source": [
    "PREPROCESSING CENSUS POPULATION DATA"
   ]
  },
  {
   "cell_type": "code",
   "execution_count": 7,
   "id": "e4f924ed",
   "metadata": {},
   "outputs": [],
   "source": [
    "censuscols = ['State','Level','Name','TRU','TOT_P']\n",
    "census_data = pd.read_excel(r'DDW_PCA0000_2011_Indiastatedist.xlsx',usecols=censuscols)"
   ]
  },
  {
   "cell_type": "code",
   "execution_count": 8,
   "id": "b59cb36a",
   "metadata": {},
   "outputs": [],
   "source": [
    "#dropping rows OF TRU =(rural,urban) as not needed\n",
    "a = census_data.loc[(census_data['TRU']=='Rural') | (census_data['TRU']=='Urban') | (census_data['Level'] == 'DISTRICT')].index\n",
    "census_data = census_data.drop(a)"
   ]
  },
  {
   "cell_type": "code",
   "execution_count": 9,
   "id": "b9f7d019",
   "metadata": {},
   "outputs": [],
   "source": [
    "census_data.reset_index(inplace=True,drop=True)"
   ]
  },
  {
   "cell_type": "code",
   "execution_count": 10,
   "id": "bd1589ca",
   "metadata": {},
   "outputs": [
    {
     "name": "stdout",
     "output_type": "stream",
     "text": [
      "State             0\n",
      "Level         India\n",
      "Name          India\n",
      "TRU           Total\n",
      "TOT_P    1210854977\n",
      "Name: 0, dtype: object\n"
     ]
    }
   ],
   "source": [
    "print(census_data.loc[0])\n",
    "census_data.iloc[0,[1,2]] = ['INDIA','INDIA']\n"
   ]
  },
  {
   "cell_type": "code",
   "execution_count": 11,
   "id": "325be775",
   "metadata": {},
   "outputs": [
    {
     "data": {
      "text/plain": [
       "[]"
      ]
     },
     "execution_count": 11,
     "metadata": {},
     "output_type": "execute_result"
    }
   ],
   "source": [
    "ls1 = df['Name'].values            #STATE NAMES IN C18FILE\n",
    "ls2 = census_data['Name'].values   #STATE NAMES IN CENSUSPOPULATION FILE\n",
    "\n",
    "[i for i in ls1 if i not in ls2]  # checking all states name are matching or not"
   ]
  },
  {
   "cell_type": "code",
   "execution_count": 12,
   "id": "595d9783",
   "metadata": {},
   "outputs": [
    {
     "data": {
      "text/html": [
       "<div>\n",
       "<style scoped>\n",
       "    .dataframe tbody tr th:only-of-type {\n",
       "        vertical-align: middle;\n",
       "    }\n",
       "\n",
       "    .dataframe tbody tr th {\n",
       "        vertical-align: top;\n",
       "    }\n",
       "\n",
       "    .dataframe thead th {\n",
       "        text-align: right;\n",
       "    }\n",
       "</style>\n",
       "<table border=\"1\" class=\"dataframe\">\n",
       "  <thead>\n",
       "    <tr style=\"text-align: right;\">\n",
       "      <th></th>\n",
       "      <th>State</th>\n",
       "      <th>Level</th>\n",
       "      <th>Name</th>\n",
       "      <th>TRU</th>\n",
       "      <th>TOT_P</th>\n",
       "    </tr>\n",
       "  </thead>\n",
       "  <tbody>\n",
       "    <tr>\n",
       "      <th>0</th>\n",
       "      <td>0</td>\n",
       "      <td>INDIA</td>\n",
       "      <td>INDIA</td>\n",
       "      <td>Total</td>\n",
       "      <td>1210854977</td>\n",
       "    </tr>\n",
       "    <tr>\n",
       "      <th>1</th>\n",
       "      <td>1</td>\n",
       "      <td>STATE</td>\n",
       "      <td>JAMMU &amp; KASHMIR</td>\n",
       "      <td>Total</td>\n",
       "      <td>12541302</td>\n",
       "    </tr>\n",
       "    <tr>\n",
       "      <th>2</th>\n",
       "      <td>2</td>\n",
       "      <td>STATE</td>\n",
       "      <td>HIMACHAL PRADESH</td>\n",
       "      <td>Total</td>\n",
       "      <td>6864602</td>\n",
       "    </tr>\n",
       "    <tr>\n",
       "      <th>3</th>\n",
       "      <td>3</td>\n",
       "      <td>STATE</td>\n",
       "      <td>PUNJAB</td>\n",
       "      <td>Total</td>\n",
       "      <td>27743338</td>\n",
       "    </tr>\n",
       "    <tr>\n",
       "      <th>4</th>\n",
       "      <td>4</td>\n",
       "      <td>STATE</td>\n",
       "      <td>CHANDIGARH</td>\n",
       "      <td>Total</td>\n",
       "      <td>1055450</td>\n",
       "    </tr>\n",
       "  </tbody>\n",
       "</table>\n",
       "</div>"
      ],
      "text/plain": [
       "   State  Level              Name    TRU       TOT_P\n",
       "0      0  INDIA             INDIA  Total  1210854977\n",
       "1      1  STATE   JAMMU & KASHMIR  Total    12541302\n",
       "2      2  STATE  HIMACHAL PRADESH  Total     6864602\n",
       "3      3  STATE            PUNJAB  Total    27743338\n",
       "4      4  STATE        CHANDIGARH  Total     1055450"
      ]
     },
     "execution_count": 12,
     "metadata": {},
     "output_type": "execute_result"
    }
   ],
   "source": [
    "census_data.head()"
   ]
  },
  {
   "cell_type": "code",
   "execution_count": null,
   "id": "0cde6962",
   "metadata": {},
   "outputs": [],
   "source": []
  },
  {
   "cell_type": "markdown",
   "id": "a8629457",
   "metadata": {},
   "source": [
    "CALCULATING PERCENTAGES OF LANGUAGE SPEAKERS"
   ]
  },
  {
   "cell_type": "code",
   "execution_count": 32,
   "id": "b7adb983",
   "metadata": {},
   "outputs": [],
   "source": [
    "#CREATING A COPY OF DATAFRAME\n",
    "newdf = df.copy()"
   ]
  },
  {
   "cell_type": "markdown",
   "id": "d9a7d9bf",
   "metadata": {},
   "source": [
    "##### IN C18 FILE\n",
    "column--\"Number speaking second language\" is \"NUMBER OF PEOPLE SPEAKING TWO OR MORE LANGUAGES \"\n",
    "\n",
    "column--\"Number speaking third language\"  is \"NUMBER OF PEOPLE SPEAKING THREE OR MORE LANGUAGES \"\n"
   ]
  },
  {
   "cell_type": "code",
   "execution_count": 33,
   "id": "6ccb9001",
   "metadata": {},
   "outputs": [],
   "source": [
    "#COMMENT--\n",
    "# COLUMN SECOND LANGUAGE IN C18 cannot be \"exactly two language\" because this leads to some of the states \n",
    "# have percentages more than 100 so it has to be \"TWO OR MORE LANGUAGES\""
   ]
  },
  {
   "cell_type": "code",
   "execution_count": null,
   "id": "97759e31",
   "metadata": {},
   "outputs": [],
   "source": []
  },
  {
   "cell_type": "code",
   "execution_count": 34,
   "id": "ef34aa95",
   "metadata": {},
   "outputs": [],
   "source": [
    "#NUMBER OF SPEAKERS OF EACH CATEGORY\n",
    "newdf['only1lang'] = census_data['TOT_P'] - newdf['Persons.2']   #EXACTLY ONE LANG\n",
    "newdf['only2lang'] = newdf['Persons.2'] - newdf['Persons.3']    #EXACTLY TWO LANGUAGES"
   ]
  },
  {
   "cell_type": "code",
   "execution_count": 35,
   "id": "2a54ffe7",
   "metadata": {},
   "outputs": [],
   "source": [
    "#ADDING POPULATION COLUMN TO THE LANGUAGE SPEAKERS DATAFRAME\n",
    "newdf['censuspopulation'] = census_data['TOT_P']\n",
    "# newdf['verf'] = newdf['only1lang'] + newdf['only2lang'] + newdf['Persons.3']"
   ]
  },
  {
   "cell_type": "code",
   "execution_count": 41,
   "id": "0275d857",
   "metadata": {},
   "outputs": [
    {
     "data": {
      "text/html": [
       "<div>\n",
       "<style scoped>\n",
       "    .dataframe tbody tr th:only-of-type {\n",
       "        vertical-align: middle;\n",
       "    }\n",
       "\n",
       "    .dataframe tbody tr th {\n",
       "        vertical-align: top;\n",
       "    }\n",
       "\n",
       "    .dataframe thead th {\n",
       "        text-align: right;\n",
       "    }\n",
       "</style>\n",
       "<table border=\"1\" class=\"dataframe\">\n",
       "  <thead>\n",
       "    <tr style=\"text-align: right;\">\n",
       "      <th></th>\n",
       "      <th>state-code</th>\n",
       "      <th>percent-one</th>\n",
       "      <th>percent-two</th>\n",
       "      <th>percent-three</th>\n",
       "    </tr>\n",
       "  </thead>\n",
       "  <tbody>\n",
       "    <tr>\n",
       "      <th>0</th>\n",
       "      <td>0</td>\n",
       "      <td>73.986251</td>\n",
       "      <td>18.910538</td>\n",
       "      <td>7.103211</td>\n",
       "    </tr>\n",
       "    <tr>\n",
       "      <th>1</th>\n",
       "      <td>1</td>\n",
       "      <td>50.697384</td>\n",
       "      <td>32.588084</td>\n",
       "      <td>16.714533</td>\n",
       "    </tr>\n",
       "    <tr>\n",
       "      <th>2</th>\n",
       "      <td>2</td>\n",
       "      <td>81.896911</td>\n",
       "      <td>13.044005</td>\n",
       "      <td>5.059084</td>\n",
       "    </tr>\n",
       "    <tr>\n",
       "      <th>3</th>\n",
       "      <td>3</td>\n",
       "      <td>53.014940</td>\n",
       "      <td>18.762382</td>\n",
       "      <td>28.222678</td>\n",
       "    </tr>\n",
       "    <tr>\n",
       "      <th>4</th>\n",
       "      <td>4</td>\n",
       "      <td>45.054716</td>\n",
       "      <td>24.438960</td>\n",
       "      <td>30.506324</td>\n",
       "    </tr>\n",
       "  </tbody>\n",
       "</table>\n",
       "</div>"
      ],
      "text/plain": [
       "   state-code  percent-one  percent-two  percent-three\n",
       "0           0    73.986251    18.910538       7.103211\n",
       "1           1    50.697384    32.588084      16.714533\n",
       "2           2    81.896911    13.044005       5.059084\n",
       "3           3    53.014940    18.762382      28.222678\n",
       "4           4    45.054716    24.438960      30.506324"
      ]
     },
     "execution_count": 41,
     "metadata": {},
     "output_type": "execute_result"
    }
   ],
   "source": [
    "newdf.head()"
   ]
  },
  {
   "cell_type": "code",
   "execution_count": 37,
   "id": "0698f68c",
   "metadata": {},
   "outputs": [],
   "source": [
    "#CALCULATING PERCENTAGES OF EACH CATEGORY SPEAKERS\n",
    "newdf['percent-one'] = (newdf['only1lang']/newdf['censuspopulation'])*100\n",
    "newdf['percent-two'] = (newdf['only2lang']/newdf['censuspopulation'])*100\n",
    "newdf['percent-three'] = (newdf['Persons.3']/newdf['censuspopulation'])*100"
   ]
  },
  {
   "cell_type": "code",
   "execution_count": 38,
   "id": "22b837ff",
   "metadata": {},
   "outputs": [],
   "source": [
    "#RENAMING COLUMMN NAME\n",
    "newdf.rename(columns={'State': 'state-code'}, inplace=True)"
   ]
  },
  {
   "cell_type": "code",
   "execution_count": 39,
   "id": "7e729161",
   "metadata": {},
   "outputs": [],
   "source": [
    "#TAKING ONLY REQUIRED COLUMNS FOR OUTPUT\n",
    "newdf = newdf[['state-code','percent-one','percent-two', 'percent-three']]"
   ]
  },
  {
   "cell_type": "code",
   "execution_count": 40,
   "id": "e50a05b2",
   "metadata": {},
   "outputs": [],
   "source": [
    "#WRITING TO CSV\n",
    "newdf.to_csv('percent-india.csv',index=False)"
   ]
  },
  {
   "cell_type": "code",
   "execution_count": null,
   "id": "b38e7c5c",
   "metadata": {},
   "outputs": [],
   "source": []
  },
  {
   "cell_type": "code",
   "execution_count": null,
   "id": "d02371dd",
   "metadata": {},
   "outputs": [],
   "source": []
  }
 ],
 "metadata": {
  "kernelspec": {
   "display_name": "Python 3",
   "language": "python",
   "name": "python3"
  },
  "language_info": {
   "codemirror_mode": {
    "name": "ipython",
    "version": 3
   },
   "file_extension": ".py",
   "mimetype": "text/x-python",
   "name": "python",
   "nbconvert_exporter": "python",
   "pygments_lexer": "ipython3",
   "version": "3.8.8"
  }
 },
 "nbformat": 4,
 "nbformat_minor": 5
}
