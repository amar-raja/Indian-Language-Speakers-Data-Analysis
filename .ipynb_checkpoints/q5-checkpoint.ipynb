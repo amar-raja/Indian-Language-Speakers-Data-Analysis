{
 "cells": [
  {
   "cell_type": "markdown",
   "id": "a79219f8",
   "metadata": {},
   "source": [
    "## 5)age group in India that has the highest percentage of people speaking                            three languages or more"
   ]
  },
  {
   "cell_type": "code",
   "execution_count": 1,
   "id": "4e7e66bd",
   "metadata": {
    "execution": {
     "iopub.execute_input": "2021-11-09T10:17:58.270173Z",
     "iopub.status.busy": "2021-11-09T10:17:58.270173Z",
     "iopub.status.idle": "2021-11-09T10:17:58.285795Z",
     "shell.execute_reply": "2021-11-09T10:17:58.285795Z"
    }
   },
   "outputs": [],
   "source": [
    "#files used-- c18,c14(population by age)"
   ]
  },
  {
   "cell_type": "code",
   "execution_count": 2,
   "id": "607d2c04",
   "metadata": {
    "execution": {
     "iopub.execute_input": "2021-11-09T10:17:58.301415Z",
     "iopub.status.busy": "2021-11-09T10:17:58.301415Z",
     "iopub.status.idle": "2021-11-09T10:17:59.475574Z",
     "shell.execute_reply": "2021-11-09T10:17:59.475574Z"
    }
   },
   "outputs": [],
   "source": [
    "import numpy as np\n",
    "import pandas as pd\n",
    "import datetime as dt\n",
    "import warnings\n",
    "warnings.filterwarnings('ignore')"
   ]
  },
  {
   "cell_type": "code",
   "execution_count": 3,
   "id": "f8980324",
   "metadata": {
    "execution": {
     "iopub.execute_input": "2021-11-09T10:17:59.491195Z",
     "iopub.status.busy": "2021-11-09T10:17:59.475574Z",
     "iopub.status.idle": "2021-11-09T10:18:01.068946Z",
     "shell.execute_reply": "2021-11-09T10:18:01.068946Z"
    }
   },
   "outputs": [],
   "source": [
    "#ASSIGNING COL NAMES\n",
    "column_names = ['State', 'District', 'Name', 'TRU','Age-group','Persons.2','Males.2','Females.2','Persons.3','Males.3','Females.3']\n",
    "#READING DATA\n",
    "df = pd.read_excel('DDW-C18-0000.xlsx',names=column_names,skiprows=5)\n",
    "# df = pd.read_excel('DDW-C18-0000.xlsx',skiprows=1)"
   ]
  },
  {
   "cell_type": "code",
   "execution_count": 4,
   "id": "93f19272",
   "metadata": {
    "execution": {
     "iopub.execute_input": "2021-11-09T10:18:01.084567Z",
     "iopub.status.busy": "2021-11-09T10:18:01.084567Z",
     "iopub.status.idle": "2021-11-09T10:18:01.100189Z",
     "shell.execute_reply": "2021-11-09T10:18:01.100189Z"
    }
   },
   "outputs": [
    {
     "data": {
      "text/plain": [
       "Index(['State', 'District', 'Name', 'TRU', 'Age-group', 'Persons.2', 'Males.2',\n",
       "       'Females.2', 'Persons.3', 'Males.3', 'Females.3'],\n",
       "      dtype='object')"
      ]
     },
     "execution_count": 4,
     "metadata": {},
     "output_type": "execute_result"
    }
   ],
   "source": [
    "df.columns"
   ]
  },
  {
   "cell_type": "code",
   "execution_count": 5,
   "id": "c05d1dff",
   "metadata": {
    "execution": {
     "iopub.execute_input": "2021-11-09T10:18:01.115810Z",
     "iopub.status.busy": "2021-11-09T10:18:01.100189Z",
     "iopub.status.idle": "2021-11-09T10:18:01.131432Z",
     "shell.execute_reply": "2021-11-09T10:18:01.131432Z"
    }
   },
   "outputs": [
    {
     "data": {
      "text/plain": [
       "array(['Total', '5-9', '10-14', '15-19', '20-24', '25-29', '30-49',\n",
       "       '50-69', '70+', 'Age not stated'], dtype=object)"
      ]
     },
     "execution_count": 5,
     "metadata": {},
     "output_type": "execute_result"
    }
   ],
   "source": [
    "df['Age-group'].unique()"
   ]
  },
  {
   "cell_type": "code",
   "execution_count": 6,
   "id": "364bd7bf",
   "metadata": {
    "execution": {
     "iopub.execute_input": "2021-11-09T10:18:01.147055Z",
     "iopub.status.busy": "2021-11-09T10:18:01.147055Z",
     "iopub.status.idle": "2021-11-09T10:18:01.162674Z",
     "shell.execute_reply": "2021-11-09T10:18:01.162674Z"
    }
   },
   "outputs": [],
   "source": [
    "#TAKING ONLY REQUIRED COLUMNS\n",
    "df = df[['State','Name','TRU','Age-group','Persons.3']]\n",
    "# REMOVING URBAN AND RURAL ROWS AND AGE\n",
    "idx = df.loc[(df['TRU']!='Total') | (df['Age-group'] == 'Total')].index\n",
    "df = df.drop(idx)"
   ]
  },
  {
   "cell_type": "code",
   "execution_count": 7,
   "id": "afd21b7b",
   "metadata": {
    "execution": {
     "iopub.execute_input": "2021-11-09T10:18:01.162674Z",
     "iopub.status.busy": "2021-11-09T10:18:01.162674Z",
     "iopub.status.idle": "2021-11-09T10:18:01.178296Z",
     "shell.execute_reply": "2021-11-09T10:18:01.178296Z"
    }
   },
   "outputs": [],
   "source": [
    "df['Age-group'] = df['Age-group'].str.replace('5-9','05-09')   #BECAUSE IT IS USEFUL WHILE SORTING DATA"
   ]
  },
  {
   "cell_type": "code",
   "execution_count": null,
   "id": "83b116c1",
   "metadata": {},
   "outputs": [],
   "source": []
  },
  {
   "cell_type": "markdown",
   "id": "b94b5ae6",
   "metadata": {},
   "source": [
    "PREPROCESSING C14 file (POPULATION BY AGE)"
   ]
  },
  {
   "cell_type": "code",
   "execution_count": 8,
   "id": "bdf843cb",
   "metadata": {
    "execution": {
     "iopub.execute_input": "2021-11-09T10:18:01.193918Z",
     "iopub.status.busy": "2021-11-09T10:18:01.193918Z",
     "iopub.status.idle": "2021-11-09T10:18:01.318886Z",
     "shell.execute_reply": "2021-11-09T10:18:01.318886Z"
    }
   },
   "outputs": [],
   "source": [
    "#ASSIGNING COL NAMES\n",
    "column_names = ['table_name', 'State','District', 'Name','Age-group', 'Persons', 'Males', 'Females','Persons.1', 'Males.1', 'Females.1', 'Persons.2', 'Males.2', 'Females.2']\n",
    "#READING DATA\n",
    "age_pop = pd.read_excel('DDW-0000C-14.xls',names=column_names,skiprows=6)\n"
   ]
  },
  {
   "cell_type": "code",
   "execution_count": 9,
   "id": "9d577d8f",
   "metadata": {
    "execution": {
     "iopub.execute_input": "2021-11-09T10:18:01.318886Z",
     "iopub.status.busy": "2021-11-09T10:18:01.318886Z",
     "iopub.status.idle": "2021-11-09T10:18:01.334507Z",
     "shell.execute_reply": "2021-11-09T10:18:01.334507Z"
    }
   },
   "outputs": [
    {
     "data": {
      "text/plain": [
       "array(['All ages', '0-4', '5-9', '10-14', '15-19', '20-24', '25-29',\n",
       "       '30-34', '35-39', '40-44', '45-49', '50-54', '55-59', '60-64',\n",
       "       '65-69', '70-74', '75-79', '80+', 'Age not stated'], dtype=object)"
      ]
     },
     "execution_count": 9,
     "metadata": {},
     "output_type": "execute_result"
    }
   ],
   "source": [
    "age_pop['Age-group'].unique()"
   ]
  },
  {
   "cell_type": "code",
   "execution_count": 10,
   "id": "01215b36",
   "metadata": {
    "execution": {
     "iopub.execute_input": "2021-11-09T10:18:01.334507Z",
     "iopub.status.busy": "2021-11-09T10:18:01.334507Z",
     "iopub.status.idle": "2021-11-09T10:18:01.350130Z",
     "shell.execute_reply": "2021-11-09T10:18:01.350130Z"
    }
   },
   "outputs": [],
   "source": [
    "# REMOVING AGE_GROUP \"0-4\" as not needed for analysis\n",
    "ix = age_pop.loc[(age_pop['Age-group'] == 'All ages') | (age_pop['Age-group'] == '0-4')].index\n",
    "age_pop = age_pop.drop(ix)"
   ]
  },
  {
   "cell_type": "code",
   "execution_count": 11,
   "id": "c6f10f8d",
   "metadata": {
    "execution": {
     "iopub.execute_input": "2021-11-09T10:18:01.350130Z",
     "iopub.status.busy": "2021-11-09T10:18:01.350130Z",
     "iopub.status.idle": "2021-11-09T10:18:01.365750Z",
     "shell.execute_reply": "2021-11-09T10:18:01.365750Z"
    }
   },
   "outputs": [],
   "source": [
    "#MAKING SOME SPELLING CHANGES\n",
    "age_pop['Name'] = age_pop['Name'].str.replace('State - ','')\n",
    "age_pop['Name'] = age_pop['Name'].str.replace('India','INDIA')"
   ]
  },
  {
   "cell_type": "code",
   "execution_count": 12,
   "id": "84310260",
   "metadata": {
    "execution": {
     "iopub.execute_input": "2021-11-09T10:18:01.365750Z",
     "iopub.status.busy": "2021-11-09T10:18:01.365750Z",
     "iopub.status.idle": "2021-11-09T10:18:01.381371Z",
     "shell.execute_reply": "2021-11-09T10:18:01.381371Z"
    }
   },
   "outputs": [],
   "source": [
    "age_pop['Age-group'] = age_pop['Age-group'].str.replace('5-9','05-09')       #BECAUSE IT IS USEFUL WHILE SORTING DATA"
   ]
  },
  {
   "cell_type": "code",
   "execution_count": 13,
   "id": "e8178062",
   "metadata": {
    "execution": {
     "iopub.execute_input": "2021-11-09T10:18:01.381371Z",
     "iopub.status.busy": "2021-11-09T10:18:01.381371Z",
     "iopub.status.idle": "2021-11-09T10:18:01.396992Z",
     "shell.execute_reply": "2021-11-09T10:18:01.396992Z"
    }
   },
   "outputs": [],
   "source": [
    "age_pop.reset_index(drop=True,inplace=True)"
   ]
  },
  {
   "cell_type": "code",
   "execution_count": 14,
   "id": "952a26a0",
   "metadata": {
    "execution": {
     "iopub.execute_input": "2021-11-09T10:18:01.396992Z",
     "iopub.status.busy": "2021-11-09T10:18:01.396992Z",
     "iopub.status.idle": "2021-11-09T10:18:01.412614Z",
     "shell.execute_reply": "2021-11-09T10:18:01.412614Z"
    }
   },
   "outputs": [
    {
     "data": {
      "text/plain": [
       "(612, 14)"
      ]
     },
     "execution_count": 14,
     "metadata": {},
     "output_type": "execute_result"
    }
   ],
   "source": [
    "# age_pop.shape"
   ]
  },
  {
   "cell_type": "code",
   "execution_count": 15,
   "id": "33b9eb5e",
   "metadata": {
    "execution": {
     "iopub.execute_input": "2021-11-09T10:18:01.412614Z",
     "iopub.status.busy": "2021-11-09T10:18:01.412614Z",
     "iopub.status.idle": "2021-11-09T10:18:01.428235Z",
     "shell.execute_reply": "2021-11-09T10:18:01.428235Z"
    }
   },
   "outputs": [],
   "source": [
    "#TAKING ONLY REQUIRED COLUMNS\n",
    "age_pop = age_pop[['Name', 'Age-group', 'Persons']]"
   ]
  },
  {
   "cell_type": "code",
   "execution_count": 16,
   "id": "50fa8639",
   "metadata": {
    "execution": {
     "iopub.execute_input": "2021-11-09T10:18:01.428235Z",
     "iopub.status.busy": "2021-11-09T10:18:01.428235Z",
     "iopub.status.idle": "2021-11-09T10:18:01.444212Z",
     "shell.execute_reply": "2021-11-09T10:18:01.444212Z"
    }
   },
   "outputs": [
    {
     "data": {
      "text/plain": [
       "array([126928126, 132709212, 120526449, 111424222, 101413965,  88594951,\n",
       "        85140684,  72438112,  62318327,  49069254,  39146055,  37663707,\n",
       "        26454983,  19208842,   9232503,  11289005,   4489802], dtype=int64)"
      ]
     },
     "execution_count": 16,
     "metadata": {},
     "output_type": "execute_result"
    }
   ],
   "source": [
    "age_pop[age_pop['Name'] == 'INDIA']['Persons'].values"
   ]
  },
  {
   "cell_type": "code",
   "execution_count": 17,
   "id": "4e82a4d5",
   "metadata": {
    "execution": {
     "iopub.execute_input": "2021-11-09T10:18:01.444212Z",
     "iopub.status.busy": "2021-11-09T10:18:01.444212Z",
     "iopub.status.idle": "2021-11-09T10:18:01.472080Z",
     "shell.execute_reply": "2021-11-09T10:18:01.472080Z"
    }
   },
   "outputs": [],
   "source": [
    "# age_pop.head()"
   ]
  },
  {
   "cell_type": "markdown",
   "id": "6c5cc8dc",
   "metadata": {},
   "source": [
    "### CONVERITING ROWS INTO CLOUMNS OF AGE GROUPS to ease calculations"
   ]
  },
  {
   "cell_type": "code",
   "execution_count": 18,
   "id": "37158fad",
   "metadata": {
    "execution": {
     "iopub.execute_input": "2021-11-09T10:18:01.477087Z",
     "iopub.status.busy": "2021-11-09T10:18:01.477087Z",
     "iopub.status.idle": "2021-11-09T10:18:01.510687Z",
     "shell.execute_reply": "2021-11-09T10:18:01.510964Z"
    }
   },
   "outputs": [],
   "source": [
    "t = age_pop.pivot_table(index=['Name'],columns='Age-group')"
   ]
  },
  {
   "cell_type": "code",
   "execution_count": 19,
   "id": "5193a7bd",
   "metadata": {
    "execution": {
     "iopub.execute_input": "2021-11-09T10:18:01.515671Z",
     "iopub.status.busy": "2021-11-09T10:18:01.514665Z",
     "iopub.status.idle": "2021-11-09T10:18:01.533706Z",
     "shell.execute_reply": "2021-11-09T10:18:01.533706Z"
    }
   },
   "outputs": [],
   "source": [
    "t =t.droplevel(0,axis=1)   #DROOPING MULTIINDEX FOR COLUMNS"
   ]
  },
  {
   "cell_type": "code",
   "execution_count": 20,
   "id": "66e48dfe",
   "metadata": {
    "execution": {
     "iopub.execute_input": "2021-11-09T10:18:01.533706Z",
     "iopub.status.busy": "2021-11-09T10:18:01.533706Z",
     "iopub.status.idle": "2021-11-09T10:18:01.549327Z",
     "shell.execute_reply": "2021-11-09T10:18:01.549327Z"
    }
   },
   "outputs": [],
   "source": [
    "t.reset_index(inplace=True)"
   ]
  },
  {
   "cell_type": "code",
   "execution_count": 21,
   "id": "ad640b39",
   "metadata": {
    "execution": {
     "iopub.execute_input": "2021-11-09T10:18:01.549327Z",
     "iopub.status.busy": "2021-11-09T10:18:01.549327Z",
     "iopub.status.idle": "2021-11-09T10:18:01.580570Z",
     "shell.execute_reply": "2021-11-09T10:18:01.580570Z"
    }
   },
   "outputs": [
    {
     "data": {
      "text/html": [
       "<div>\n",
       "<style scoped>\n",
       "    .dataframe tbody tr th:only-of-type {\n",
       "        vertical-align: middle;\n",
       "    }\n",
       "\n",
       "    .dataframe tbody tr th {\n",
       "        vertical-align: top;\n",
       "    }\n",
       "\n",
       "    .dataframe thead th {\n",
       "        text-align: right;\n",
       "    }\n",
       "</style>\n",
       "<table border=\"1\" class=\"dataframe\">\n",
       "  <thead>\n",
       "    <tr style=\"text-align: right;\">\n",
       "      <th>Age-group</th>\n",
       "      <th>Name</th>\n",
       "      <th>05-09</th>\n",
       "      <th>10-14</th>\n",
       "      <th>15-19</th>\n",
       "      <th>20-24</th>\n",
       "      <th>25-29</th>\n",
       "      <th>30-34</th>\n",
       "      <th>35-39</th>\n",
       "      <th>40-44</th>\n",
       "      <th>45-49</th>\n",
       "      <th>50-54</th>\n",
       "      <th>55-59</th>\n",
       "      <th>60-64</th>\n",
       "      <th>65-69</th>\n",
       "      <th>70-74</th>\n",
       "      <th>75-79</th>\n",
       "      <th>80+</th>\n",
       "      <th>Age not stated</th>\n",
       "    </tr>\n",
       "  </thead>\n",
       "  <tbody>\n",
       "    <tr>\n",
       "      <th>0</th>\n",
       "      <td>ANDAMAN &amp; NICOBAR ISLANDS (35)</td>\n",
       "      <td>30454</td>\n",
       "      <td>33467</td>\n",
       "      <td>33026</td>\n",
       "      <td>37115</td>\n",
       "      <td>41722</td>\n",
       "      <td>35723</td>\n",
       "      <td>32842</td>\n",
       "      <td>26735</td>\n",
       "      <td>23861</td>\n",
       "      <td>17296</td>\n",
       "      <td>13794</td>\n",
       "      <td>10376</td>\n",
       "      <td>6226</td>\n",
       "      <td>4098</td>\n",
       "      <td>2251</td>\n",
       "      <td>2473</td>\n",
       "      <td>368</td>\n",
       "    </tr>\n",
       "    <tr>\n",
       "      <th>1</th>\n",
       "      <td>ANDHRA PRADESH (28)</td>\n",
       "      <td>7304432</td>\n",
       "      <td>8201595</td>\n",
       "      <td>8093747</td>\n",
       "      <td>8132094</td>\n",
       "      <td>7799036</td>\n",
       "      <td>6584371</td>\n",
       "      <td>6507339</td>\n",
       "      <td>5399473</td>\n",
       "      <td>4657269</td>\n",
       "      <td>3657386</td>\n",
       "      <td>2909598</td>\n",
       "      <td>3199837</td>\n",
       "      <td>2167854</td>\n",
       "      <td>1519358</td>\n",
       "      <td>636989</td>\n",
       "      <td>754203</td>\n",
       "      <td>771431</td>\n",
       "    </tr>\n",
       "    <tr>\n",
       "      <th>2</th>\n",
       "      <td>ARUNACHAL PRADESH (12)</td>\n",
       "      <td>171123</td>\n",
       "      <td>179359</td>\n",
       "      <td>155968</td>\n",
       "      <td>131696</td>\n",
       "      <td>123714</td>\n",
       "      <td>101171</td>\n",
       "      <td>94391</td>\n",
       "      <td>78603</td>\n",
       "      <td>63679</td>\n",
       "      <td>46110</td>\n",
       "      <td>29886</td>\n",
       "      <td>25445</td>\n",
       "      <td>14973</td>\n",
       "      <td>10647</td>\n",
       "      <td>5135</td>\n",
       "      <td>7439</td>\n",
       "      <td>1509</td>\n",
       "    </tr>\n",
       "    <tr>\n",
       "      <th>3</th>\n",
       "      <td>ASSAM (18)</td>\n",
       "      <td>3544339</td>\n",
       "      <td>3491727</td>\n",
       "      <td>3068581</td>\n",
       "      <td>2909405</td>\n",
       "      <td>2815147</td>\n",
       "      <td>2330060</td>\n",
       "      <td>2260473</td>\n",
       "      <td>1831206</td>\n",
       "      <td>1595249</td>\n",
       "      <td>1192363</td>\n",
       "      <td>856825</td>\n",
       "      <td>775698</td>\n",
       "      <td>503642</td>\n",
       "      <td>385277</td>\n",
       "      <td>184352</td>\n",
       "      <td>229575</td>\n",
       "      <td>18824</td>\n",
       "    </tr>\n",
       "    <tr>\n",
       "      <th>4</th>\n",
       "      <td>BIHAR (10)</td>\n",
       "      <td>15036277</td>\n",
       "      <td>13919882</td>\n",
       "      <td>9472695</td>\n",
       "      <td>8064735</td>\n",
       "      <td>7671705</td>\n",
       "      <td>7055737</td>\n",
       "      <td>6457261</td>\n",
       "      <td>5165692</td>\n",
       "      <td>4270374</td>\n",
       "      <td>3312740</td>\n",
       "      <td>2796678</td>\n",
       "      <td>3008008</td>\n",
       "      <td>2089779</td>\n",
       "      <td>1379531</td>\n",
       "      <td>550479</td>\n",
       "      <td>679348</td>\n",
       "      <td>403502</td>\n",
       "    </tr>\n",
       "  </tbody>\n",
       "</table>\n",
       "</div>"
      ],
      "text/plain": [
       "Age-group                            Name     05-09     10-14    15-19  \\\n",
       "0          ANDAMAN & NICOBAR ISLANDS (35)     30454     33467    33026   \n",
       "1                     ANDHRA PRADESH (28)   7304432   8201595  8093747   \n",
       "2                  ARUNACHAL PRADESH (12)    171123    179359   155968   \n",
       "3                              ASSAM (18)   3544339   3491727  3068581   \n",
       "4                              BIHAR (10)  15036277  13919882  9472695   \n",
       "\n",
       "Age-group    20-24    25-29    30-34    35-39    40-44    45-49    50-54  \\\n",
       "0            37115    41722    35723    32842    26735    23861    17296   \n",
       "1          8132094  7799036  6584371  6507339  5399473  4657269  3657386   \n",
       "2           131696   123714   101171    94391    78603    63679    46110   \n",
       "3          2909405  2815147  2330060  2260473  1831206  1595249  1192363   \n",
       "4          8064735  7671705  7055737  6457261  5165692  4270374  3312740   \n",
       "\n",
       "Age-group    55-59    60-64    65-69    70-74   75-79     80+  Age not stated  \n",
       "0            13794    10376     6226     4098    2251    2473             368  \n",
       "1          2909598  3199837  2167854  1519358  636989  754203          771431  \n",
       "2            29886    25445    14973    10647    5135    7439            1509  \n",
       "3           856825   775698   503642   385277  184352  229575           18824  \n",
       "4          2796678  3008008  2089779  1379531  550479  679348          403502  "
      ]
     },
     "execution_count": 21,
     "metadata": {},
     "output_type": "execute_result"
    }
   ],
   "source": [
    "# t.head()"
   ]
  },
  {
   "cell_type": "code",
   "execution_count": 22,
   "id": "b6ffc1a0",
   "metadata": {
    "execution": {
     "iopub.execute_input": "2021-11-09T10:18:01.580570Z",
     "iopub.status.busy": "2021-11-09T10:18:01.580570Z",
     "iopub.status.idle": "2021-11-09T10:18:01.596191Z",
     "shell.execute_reply": "2021-11-09T10:18:01.596191Z"
    }
   },
   "outputs": [
    {
     "data": {
      "text/html": [
       "<div>\n",
       "<style scoped>\n",
       "    .dataframe tbody tr th:only-of-type {\n",
       "        vertical-align: middle;\n",
       "    }\n",
       "\n",
       "    .dataframe tbody tr th {\n",
       "        vertical-align: top;\n",
       "    }\n",
       "\n",
       "    .dataframe thead th {\n",
       "        text-align: right;\n",
       "    }\n",
       "</style>\n",
       "<table border=\"1\" class=\"dataframe\">\n",
       "  <thead>\n",
       "    <tr style=\"text-align: right;\">\n",
       "      <th>Age-group</th>\n",
       "      <th>70-74</th>\n",
       "      <th>75-79</th>\n",
       "      <th>80+</th>\n",
       "      <th>Age not stated</th>\n",
       "    </tr>\n",
       "  </thead>\n",
       "  <tbody>\n",
       "    <tr>\n",
       "      <th>0</th>\n",
       "      <td>4098</td>\n",
       "      <td>2251</td>\n",
       "      <td>2473</td>\n",
       "      <td>368</td>\n",
       "    </tr>\n",
       "  </tbody>\n",
       "</table>\n",
       "</div>"
      ],
      "text/plain": [
       "Age-group  70-74  75-79   80+  Age not stated\n",
       "0           4098   2251  2473             368"
      ]
     },
     "execution_count": 22,
     "metadata": {},
     "output_type": "execute_result"
    }
   ],
   "source": [
    "t.iloc[[0],[14,15,16,17]]"
   ]
  },
  {
   "cell_type": "code",
   "execution_count": 23,
   "id": "8603d3d9",
   "metadata": {
    "execution": {
     "iopub.execute_input": "2021-11-09T10:18:01.596191Z",
     "iopub.status.busy": "2021-11-09T10:18:01.596191Z",
     "iopub.status.idle": "2021-11-09T10:18:01.611813Z",
     "shell.execute_reply": "2021-11-09T10:18:01.611813Z"
    }
   },
   "outputs": [],
   "source": [
    "#COMBINING AGE GROUPS AS REQUIRED FOR C-19 AGE GROUP FILE\n",
    "t['30-49'] = t.iloc[:,6] + t.iloc[:,7] +t.iloc[:,8] +t.iloc[:,9]\n",
    "t['50-69'] = t.iloc[:,10] + t.iloc[:,11] +t.iloc[:,12] +t.iloc[:,13]\n",
    "t['70+'] = t.iloc[:,14] + t.iloc[:,15] +t.iloc[:,16]"
   ]
  },
  {
   "cell_type": "code",
   "execution_count": 24,
   "id": "3a48d7d5",
   "metadata": {
    "execution": {
     "iopub.execute_input": "2021-11-09T10:18:01.611813Z",
     "iopub.status.busy": "2021-11-09T10:18:01.611813Z",
     "iopub.status.idle": "2021-11-09T10:18:01.627433Z",
     "shell.execute_reply": "2021-11-09T10:18:01.627433Z"
    }
   },
   "outputs": [],
   "source": []
  },
  {
   "cell_type": "code",
   "execution_count": 25,
   "id": "d971a61f",
   "metadata": {
    "execution": {
     "iopub.execute_input": "2021-11-09T10:18:01.627433Z",
     "iopub.status.busy": "2021-11-09T10:18:01.627433Z",
     "iopub.status.idle": "2021-11-09T10:18:01.643055Z",
     "shell.execute_reply": "2021-11-09T10:18:01.643055Z"
    }
   },
   "outputs": [],
   "source": [
    "#TAKING ONLY REQUIRED FORMAT AGEGROUPS\n",
    "t = t[['Name', '05-09', '10-14', '15-19', '20-24', '25-29','30-49', '50-69', '70+','Age not stated']]"
   ]
  },
  {
   "cell_type": "code",
   "execution_count": 26,
   "id": "63156469",
   "metadata": {
    "execution": {
     "iopub.execute_input": "2021-11-09T10:18:01.648565Z",
     "iopub.status.busy": "2021-11-09T10:18:01.648565Z",
     "iopub.status.idle": "2021-11-09T10:18:01.664193Z",
     "shell.execute_reply": "2021-11-09T10:18:01.664193Z"
    }
   },
   "outputs": [
    {
     "data": {
      "text/html": [
       "<div>\n",
       "<style scoped>\n",
       "    .dataframe tbody tr th:only-of-type {\n",
       "        vertical-align: middle;\n",
       "    }\n",
       "\n",
       "    .dataframe tbody tr th {\n",
       "        vertical-align: top;\n",
       "    }\n",
       "\n",
       "    .dataframe thead th {\n",
       "        text-align: right;\n",
       "    }\n",
       "</style>\n",
       "<table border=\"1\" class=\"dataframe\">\n",
       "  <thead>\n",
       "    <tr style=\"text-align: right;\">\n",
       "      <th>Age-group</th>\n",
       "      <th>Name</th>\n",
       "      <th>05-09</th>\n",
       "      <th>10-14</th>\n",
       "      <th>15-19</th>\n",
       "      <th>20-24</th>\n",
       "      <th>25-29</th>\n",
       "      <th>30-49</th>\n",
       "      <th>50-69</th>\n",
       "      <th>70+</th>\n",
       "      <th>Age not stated</th>\n",
       "    </tr>\n",
       "  </thead>\n",
       "  <tbody>\n",
       "    <tr>\n",
       "      <th>0</th>\n",
       "      <td>ANDAMAN &amp; NICOBAR ISLANDS (35)</td>\n",
       "      <td>30454</td>\n",
       "      <td>33467</td>\n",
       "      <td>33026</td>\n",
       "      <td>37115</td>\n",
       "      <td>41722</td>\n",
       "      <td>119161</td>\n",
       "      <td>47692</td>\n",
       "      <td>8822</td>\n",
       "      <td>368</td>\n",
       "    </tr>\n",
       "    <tr>\n",
       "      <th>1</th>\n",
       "      <td>ANDHRA PRADESH (28)</td>\n",
       "      <td>7304432</td>\n",
       "      <td>8201595</td>\n",
       "      <td>8093747</td>\n",
       "      <td>8132094</td>\n",
       "      <td>7799036</td>\n",
       "      <td>23148452</td>\n",
       "      <td>11934675</td>\n",
       "      <td>2910550</td>\n",
       "      <td>771431</td>\n",
       "    </tr>\n",
       "    <tr>\n",
       "      <th>2</th>\n",
       "      <td>ARUNACHAL PRADESH (12)</td>\n",
       "      <td>171123</td>\n",
       "      <td>179359</td>\n",
       "      <td>155968</td>\n",
       "      <td>131696</td>\n",
       "      <td>123714</td>\n",
       "      <td>337844</td>\n",
       "      <td>116414</td>\n",
       "      <td>23221</td>\n",
       "      <td>1509</td>\n",
       "    </tr>\n",
       "    <tr>\n",
       "      <th>3</th>\n",
       "      <td>ASSAM (18)</td>\n",
       "      <td>3544339</td>\n",
       "      <td>3491727</td>\n",
       "      <td>3068581</td>\n",
       "      <td>2909405</td>\n",
       "      <td>2815147</td>\n",
       "      <td>8016988</td>\n",
       "      <td>3328528</td>\n",
       "      <td>799204</td>\n",
       "      <td>18824</td>\n",
       "    </tr>\n",
       "    <tr>\n",
       "      <th>4</th>\n",
       "      <td>BIHAR (10)</td>\n",
       "      <td>15036277</td>\n",
       "      <td>13919882</td>\n",
       "      <td>9472695</td>\n",
       "      <td>8064735</td>\n",
       "      <td>7671705</td>\n",
       "      <td>22949064</td>\n",
       "      <td>11207205</td>\n",
       "      <td>2609358</td>\n",
       "      <td>403502</td>\n",
       "    </tr>\n",
       "  </tbody>\n",
       "</table>\n",
       "</div>"
      ],
      "text/plain": [
       "Age-group                            Name     05-09     10-14    15-19  \\\n",
       "0          ANDAMAN & NICOBAR ISLANDS (35)     30454     33467    33026   \n",
       "1                     ANDHRA PRADESH (28)   7304432   8201595  8093747   \n",
       "2                  ARUNACHAL PRADESH (12)    171123    179359   155968   \n",
       "3                              ASSAM (18)   3544339   3491727  3068581   \n",
       "4                              BIHAR (10)  15036277  13919882  9472695   \n",
       "\n",
       "Age-group    20-24    25-29     30-49     50-69      70+  Age not stated  \n",
       "0            37115    41722    119161     47692     8822             368  \n",
       "1          8132094  7799036  23148452  11934675  2910550          771431  \n",
       "2           131696   123714    337844    116414    23221            1509  \n",
       "3          2909405  2815147   8016988   3328528   799204           18824  \n",
       "4          8064735  7671705  22949064  11207205  2609358          403502  "
      ]
     },
     "execution_count": 26,
     "metadata": {},
     "output_type": "execute_result"
    }
   ],
   "source": [
    "# t.head()"
   ]
  },
  {
   "cell_type": "code",
   "execution_count": 27,
   "id": "d7e661c3",
   "metadata": {
    "execution": {
     "iopub.execute_input": "2021-11-09T10:18:01.664193Z",
     "iopub.status.busy": "2021-11-09T10:18:01.664193Z",
     "iopub.status.idle": "2021-11-09T10:18:01.679813Z",
     "shell.execute_reply": "2021-11-09T10:18:01.679813Z"
    }
   },
   "outputs": [],
   "source": [
    "#CONVERTING COLUMNS INTO ROWS (AGE-GROUPS)\n",
    "t=pd.melt(t,id_vars=['Name'])"
   ]
  },
  {
   "cell_type": "code",
   "execution_count": 28,
   "id": "db9b7ec9",
   "metadata": {
    "execution": {
     "iopub.execute_input": "2021-11-09T10:18:01.679813Z",
     "iopub.status.busy": "2021-11-09T10:18:01.679813Z",
     "iopub.status.idle": "2021-11-09T10:18:01.695434Z",
     "shell.execute_reply": "2021-11-09T10:18:01.695434Z"
    }
   },
   "outputs": [],
   "source": [
    "t = t.groupby(['Name','Age-group']).first()\n",
    "t.reset_index(inplace=True)"
   ]
  },
  {
   "cell_type": "code",
   "execution_count": 29,
   "id": "8a99be5f",
   "metadata": {
    "execution": {
     "iopub.execute_input": "2021-11-09T10:18:01.695434Z",
     "iopub.status.busy": "2021-11-09T10:18:01.695434Z",
     "iopub.status.idle": "2021-11-09T10:18:01.711056Z",
     "shell.execute_reply": "2021-11-09T10:18:01.711056Z"
    }
   },
   "outputs": [
    {
     "data": {
      "text/html": [
       "<div>\n",
       "<style scoped>\n",
       "    .dataframe tbody tr th:only-of-type {\n",
       "        vertical-align: middle;\n",
       "    }\n",
       "\n",
       "    .dataframe tbody tr th {\n",
       "        vertical-align: top;\n",
       "    }\n",
       "\n",
       "    .dataframe thead th {\n",
       "        text-align: right;\n",
       "    }\n",
       "</style>\n",
       "<table border=\"1\" class=\"dataframe\">\n",
       "  <thead>\n",
       "    <tr style=\"text-align: right;\">\n",
       "      <th></th>\n",
       "      <th>Name</th>\n",
       "      <th>Age-group</th>\n",
       "      <th>value</th>\n",
       "    </tr>\n",
       "  </thead>\n",
       "  <tbody>\n",
       "    <tr>\n",
       "      <th>0</th>\n",
       "      <td>ANDAMAN &amp; NICOBAR ISLANDS (35)</td>\n",
       "      <td>05-09</td>\n",
       "      <td>30454</td>\n",
       "    </tr>\n",
       "    <tr>\n",
       "      <th>1</th>\n",
       "      <td>ANDAMAN &amp; NICOBAR ISLANDS (35)</td>\n",
       "      <td>10-14</td>\n",
       "      <td>33467</td>\n",
       "    </tr>\n",
       "    <tr>\n",
       "      <th>2</th>\n",
       "      <td>ANDAMAN &amp; NICOBAR ISLANDS (35)</td>\n",
       "      <td>15-19</td>\n",
       "      <td>33026</td>\n",
       "    </tr>\n",
       "    <tr>\n",
       "      <th>3</th>\n",
       "      <td>ANDAMAN &amp; NICOBAR ISLANDS (35)</td>\n",
       "      <td>20-24</td>\n",
       "      <td>37115</td>\n",
       "    </tr>\n",
       "    <tr>\n",
       "      <th>4</th>\n",
       "      <td>ANDAMAN &amp; NICOBAR ISLANDS (35)</td>\n",
       "      <td>25-29</td>\n",
       "      <td>41722</td>\n",
       "    </tr>\n",
       "    <tr>\n",
       "      <th>...</th>\n",
       "      <td>...</td>\n",
       "      <td>...</td>\n",
       "      <td>...</td>\n",
       "    </tr>\n",
       "    <tr>\n",
       "      <th>319</th>\n",
       "      <td>WEST BENGAL (19)</td>\n",
       "      <td>25-29</td>\n",
       "      <td>7997909</td>\n",
       "    </tr>\n",
       "    <tr>\n",
       "      <th>320</th>\n",
       "      <td>WEST BENGAL (19)</td>\n",
       "      <td>30-49</td>\n",
       "      <td>25343015</td>\n",
       "    </tr>\n",
       "    <tr>\n",
       "      <th>321</th>\n",
       "      <td>WEST BENGAL (19)</td>\n",
       "      <td>50-69</td>\n",
       "      <td>12254977</td>\n",
       "    </tr>\n",
       "    <tr>\n",
       "      <th>322</th>\n",
       "      <td>WEST BENGAL (19)</td>\n",
       "      <td>70+</td>\n",
       "      <td>3013935</td>\n",
       "    </tr>\n",
       "    <tr>\n",
       "      <th>323</th>\n",
       "      <td>WEST BENGAL (19)</td>\n",
       "      <td>Age not stated</td>\n",
       "      <td>112451</td>\n",
       "    </tr>\n",
       "  </tbody>\n",
       "</table>\n",
       "<p>324 rows × 3 columns</p>\n",
       "</div>"
      ],
      "text/plain": [
       "                               Name       Age-group     value\n",
       "0    ANDAMAN & NICOBAR ISLANDS (35)           05-09     30454\n",
       "1    ANDAMAN & NICOBAR ISLANDS (35)           10-14     33467\n",
       "2    ANDAMAN & NICOBAR ISLANDS (35)           15-19     33026\n",
       "3    ANDAMAN & NICOBAR ISLANDS (35)           20-24     37115\n",
       "4    ANDAMAN & NICOBAR ISLANDS (35)           25-29     41722\n",
       "..                              ...             ...       ...\n",
       "319                WEST BENGAL (19)           25-29   7997909\n",
       "320                WEST BENGAL (19)           30-49  25343015\n",
       "321                WEST BENGAL (19)           50-69  12254977\n",
       "322                WEST BENGAL (19)             70+   3013935\n",
       "323                WEST BENGAL (19)  Age not stated    112451\n",
       "\n",
       "[324 rows x 3 columns]"
      ]
     },
     "execution_count": 29,
     "metadata": {},
     "output_type": "execute_result"
    }
   ],
   "source": [
    "t           # WE HAVE POPULATION FOR EACH GROUP AS REQUIRED FOR C18 FILE"
   ]
  },
  {
   "cell_type": "code",
   "execution_count": 30,
   "id": "8670cf99",
   "metadata": {
    "execution": {
     "iopub.execute_input": "2021-11-09T10:18:01.711056Z",
     "iopub.status.busy": "2021-11-09T10:18:01.711056Z",
     "iopub.status.idle": "2021-11-09T10:18:01.726677Z",
     "shell.execute_reply": "2021-11-09T10:18:01.726677Z"
    }
   },
   "outputs": [
    {
     "data": {
      "text/plain": [
       "((324, 3), (324, 5))"
      ]
     },
     "execution_count": 30,
     "metadata": {},
     "output_type": "execute_result"
    }
   ],
   "source": [
    "t.shape,df.shape"
   ]
  },
  {
   "cell_type": "markdown",
   "id": "3a76eb77",
   "metadata": {},
   "source": [
    "## FINDING PERCENTAGES OF EACH AGE GROUP"
   ]
  },
  {
   "cell_type": "code",
   "execution_count": 31,
   "id": "4c0e3b13",
   "metadata": {
    "execution": {
     "iopub.execute_input": "2021-11-09T10:18:01.726677Z",
     "iopub.status.busy": "2021-11-09T10:18:01.726677Z",
     "iopub.status.idle": "2021-11-09T10:18:01.742298Z",
     "shell.execute_reply": "2021-11-09T10:18:01.742298Z"
    }
   },
   "outputs": [],
   "source": [
    "df = df.sort_values(['Name','Age-group'])    # TO MATCH WITH POPULATION DATAFRAME"
   ]
  },
  {
   "cell_type": "code",
   "execution_count": 32,
   "id": "bd15100f",
   "metadata": {
    "execution": {
     "iopub.execute_input": "2021-11-09T10:18:01.742298Z",
     "iopub.status.busy": "2021-11-09T10:18:01.742298Z",
     "iopub.status.idle": "2021-11-09T10:18:01.757920Z",
     "shell.execute_reply": "2021-11-09T10:18:01.757920Z"
    }
   },
   "outputs": [],
   "source": [
    "df.reset_index(inplace=True,drop=True)"
   ]
  },
  {
   "cell_type": "code",
   "execution_count": 33,
   "id": "7e30e7f5",
   "metadata": {
    "execution": {
     "iopub.execute_input": "2021-11-09T10:18:01.757920Z",
     "iopub.status.busy": "2021-11-09T10:18:01.757920Z",
     "iopub.status.idle": "2021-11-09T10:18:01.773541Z",
     "shell.execute_reply": "2021-11-09T10:18:01.773541Z"
    }
   },
   "outputs": [],
   "source": [
    "# df.head(10)"
   ]
  },
  {
   "cell_type": "code",
   "execution_count": 34,
   "id": "b902742f",
   "metadata": {
    "execution": {
     "iopub.execute_input": "2021-11-09T10:18:01.773541Z",
     "iopub.status.busy": "2021-11-09T10:18:01.773541Z",
     "iopub.status.idle": "2021-11-09T10:18:01.789162Z",
     "shell.execute_reply": "2021-11-09T10:18:01.789162Z"
    }
   },
   "outputs": [],
   "source": [
    "# t.head()"
   ]
  },
  {
   "cell_type": "code",
   "execution_count": 35,
   "id": "2700d84e",
   "metadata": {
    "execution": {
     "iopub.execute_input": "2021-11-09T10:18:01.789162Z",
     "iopub.status.busy": "2021-11-09T10:18:01.789162Z",
     "iopub.status.idle": "2021-11-09T10:18:01.814795Z",
     "shell.execute_reply": "2021-11-09T10:18:01.814795Z"
    }
   },
   "outputs": [],
   "source": [
    "df['population'] = t['value']    #ADDING POPULATION COLUMN AS A COLUMN"
   ]
  },
  {
   "cell_type": "code",
   "execution_count": 36,
   "id": "0971ddb7",
   "metadata": {
    "execution": {
     "iopub.execute_input": "2021-11-09T10:18:01.819458Z",
     "iopub.status.busy": "2021-11-09T10:18:01.819458Z",
     "iopub.status.idle": "2021-11-09T10:18:01.839777Z",
     "shell.execute_reply": "2021-11-09T10:18:01.839777Z"
    }
   },
   "outputs": [],
   "source": [
    "df['percentage'] = df['Persons.3'] / t['value']   #CALCULATING RATIO"
   ]
  },
  {
   "cell_type": "code",
   "execution_count": 37,
   "id": "7a356d05",
   "metadata": {
    "execution": {
     "iopub.execute_input": "2021-11-09T10:18:01.839777Z",
     "iopub.status.busy": "2021-11-09T10:18:01.839777Z",
     "iopub.status.idle": "2021-11-09T10:18:01.855403Z",
     "shell.execute_reply": "2021-11-09T10:18:01.855403Z"
    }
   },
   "outputs": [
    {
     "data": {
      "text/plain": [
       "(324, 7)"
      ]
     },
     "execution_count": 37,
     "metadata": {},
     "output_type": "execute_result"
    }
   ],
   "source": [
    "df.shape"
   ]
  },
  {
   "cell_type": "code",
   "execution_count": 38,
   "id": "f42186bc",
   "metadata": {
    "execution": {
     "iopub.execute_input": "2021-11-09T10:18:01.871024Z",
     "iopub.status.busy": "2021-11-09T10:18:01.871024Z",
     "iopub.status.idle": "2021-11-09T10:18:01.886646Z",
     "shell.execute_reply": "2021-11-09T10:18:01.886646Z"
    }
   },
   "outputs": [],
   "source": [
    "#finding indexes of maxratio\n",
    "indexes = []\n",
    "for i in range(36):         #iterating for states\n",
    "    t = i*9                 \n",
    "    indexes.append(df.iloc[t:t+9,-1].idxmax())      #finding index of maxratio"
   ]
  },
  {
   "cell_type": "code",
   "execution_count": 39,
   "id": "f507571a",
   "metadata": {
    "execution": {
     "iopub.execute_input": "2021-11-09T10:18:01.886646Z",
     "iopub.status.busy": "2021-11-09T10:18:01.886646Z",
     "iopub.status.idle": "2021-11-09T10:18:01.902268Z",
     "shell.execute_reply": "2021-11-09T10:18:01.902268Z"
    }
   },
   "outputs": [],
   "source": [
    "#MAXRATIO ROWS ARE STORED INTO A DATAFRAME\n",
    "finaldf = df.iloc[indexes]"
   ]
  },
  {
   "cell_type": "code",
   "execution_count": 40,
   "id": "b5ac50a8",
   "metadata": {
    "execution": {
     "iopub.execute_input": "2021-11-09T10:18:01.902268Z",
     "iopub.status.busy": "2021-11-09T10:18:01.902268Z",
     "iopub.status.idle": "2021-11-09T10:18:01.917888Z",
     "shell.execute_reply": "2021-11-09T10:18:01.917888Z"
    }
   },
   "outputs": [],
   "source": []
  },
  {
   "cell_type": "code",
   "execution_count": 41,
   "id": "6b70eff9",
   "metadata": {
    "execution": {
     "iopub.execute_input": "2021-11-09T10:18:01.917888Z",
     "iopub.status.busy": "2021-11-09T10:18:01.917888Z",
     "iopub.status.idle": "2021-11-09T10:18:01.933510Z",
     "shell.execute_reply": "2021-11-09T10:18:01.933510Z"
    }
   },
   "outputs": [],
   "source": [
    "#TAKING ONLY REQUIRED COLUMNS AND RENAMING\n",
    "resultdf = finaldf[['State','Age-group','percentage']]\n",
    "resultdf.rename(columns={'State':'state/ut','Age-group':'age-group'})\n",
    "resultdf.reset_index(inplace=True,drop=True)"
   ]
  },
  {
   "cell_type": "code",
   "execution_count": 42,
   "id": "a6e41feb",
   "metadata": {
    "execution": {
     "iopub.execute_input": "2021-11-09T10:18:01.940053Z",
     "iopub.status.busy": "2021-11-09T10:18:01.940053Z",
     "iopub.status.idle": "2021-11-09T10:18:01.950056Z",
     "shell.execute_reply": "2021-11-09T10:18:01.950056Z"
    }
   },
   "outputs": [],
   "source": [
    "#SORTING OUTPUT FILE ON STATEID\n",
    "resultdf.sort_values(['State'],inplace = True)\n",
    "resultdf.reset_index(drop=True,inplace=True)"
   ]
  },
  {
   "cell_type": "code",
   "execution_count": 43,
   "id": "fff49efa",
   "metadata": {
    "execution": {
     "iopub.execute_input": "2021-11-09T10:18:01.950056Z",
     "iopub.status.busy": "2021-11-09T10:18:01.950056Z",
     "iopub.status.idle": "2021-11-09T10:18:01.965682Z",
     "shell.execute_reply": "2021-11-09T10:18:01.965682Z"
    }
   },
   "outputs": [],
   "source": []
  },
  {
   "cell_type": "code",
   "execution_count": 44,
   "id": "645b8b13",
   "metadata": {
    "execution": {
     "iopub.execute_input": "2021-11-09T10:18:01.965682Z",
     "iopub.status.busy": "2021-11-09T10:18:01.965682Z",
     "iopub.status.idle": "2021-11-09T10:18:01.981303Z",
     "shell.execute_reply": "2021-11-09T10:18:01.981303Z"
    }
   },
   "outputs": [],
   "source": [
    "#WRITING TO CSV\n",
    "resultdf.to_csv('age-india.csv',index=False)"
   ]
  }
 ],
 "metadata": {
  "kernelspec": {
   "display_name": "Python 3",
   "language": "python",
   "name": "python3"
  },
  "language_info": {
   "codemirror_mode": {
    "name": "ipython",
    "version": 3
   },
   "file_extension": ".py",
   "mimetype": "text/x-python",
   "name": "python",
   "nbconvert_exporter": "python",
   "pygments_lexer": "ipython3",
   "version": "3.8.8"
  }
 },
 "nbformat": 4,
 "nbformat_minor": 5
}
