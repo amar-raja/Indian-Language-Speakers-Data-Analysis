{
 "cells": [
  {
   "cell_type": "code",
   "execution_count": 1,
   "id": "d70a4d69",
   "metadata": {},
   "outputs": [],
   "source": [
    "import numpy as np\n",
    "import pandas as pd\n",
    "import datetime as dt\n",
    "import warnings\n",
    "warnings.filterwarnings('ignore')"
   ]
  },
  {
   "cell_type": "code",
   "execution_count": 2,
   "id": "5e72112b",
   "metadata": {},
   "outputs": [],
   "source": [
    "pd.set_option('display.max_columns',30)\n",
    "pd.set_option('display.max_rows',10000)\n",
    "pd.set_option('display.width',400)"
   ]
  },
  {
   "cell_type": "code",
   "execution_count": 3,
   "id": "5d175bf5",
   "metadata": {},
   "outputs": [],
   "source": [
    "#ASSIGNING COL NAMES\n",
    "column_names = ['State', 'District', 'Name', 'TRU','Age-group','Persons.2','Males.2','Females.2','Persons.3','Males.3','Females.3']\n",
    "#READING DATA\n",
    "df = pd.read_excel('DDW-C18-0000.xlsx',names=column_names,skiprows=5)"
   ]
  },
  {
   "cell_type": "code",
   "execution_count": 4,
   "id": "f6d23b39",
   "metadata": {},
   "outputs": [
    {
     "data": {
      "text/plain": [
       "Index(['State', 'District', 'Name', 'TRU', 'Age-group', 'Persons.2', 'Males.2', 'Females.2', 'Persons.3', 'Males.3', 'Females.3'], dtype='object')"
      ]
     },
     "execution_count": 4,
     "metadata": {},
     "output_type": "execute_result"
    }
   ],
   "source": [
    "df.columns"
   ]
  },
  {
   "cell_type": "code",
   "execution_count": 5,
   "id": "7970f114",
   "metadata": {},
   "outputs": [],
   "source": [
    "#TAKING ONLY REQUIRED COLUMNS\n",
    "df = df[['State','Name','TRU','Age-group','Persons.3','Males.3', 'Females.3']]\n",
    "# REMOVING URBAN AND RURAL ROWS\n",
    "idx = df.loc[(df['TRU']=='Total') | (df['Age-group'] !='Total')].index\n",
    "df = df.drop(idx)"
   ]
  },
  {
   "cell_type": "code",
   "execution_count": 9,
   "id": "8e7eb78a",
   "metadata": {},
   "outputs": [
    {
     "data": {
      "text/html": [
       "<div>\n",
       "<style scoped>\n",
       "    .dataframe tbody tr th:only-of-type {\n",
       "        vertical-align: middle;\n",
       "    }\n",
       "\n",
       "    .dataframe tbody tr th {\n",
       "        vertical-align: top;\n",
       "    }\n",
       "\n",
       "    .dataframe thead th {\n",
       "        text-align: right;\n",
       "    }\n",
       "</style>\n",
       "<table border=\"1\" class=\"dataframe\">\n",
       "  <thead>\n",
       "    <tr style=\"text-align: right;\">\n",
       "      <th></th>\n",
       "      <th>State</th>\n",
       "      <th>Name</th>\n",
       "      <th>TRU</th>\n",
       "      <th>Age-group</th>\n",
       "      <th>Persons.3</th>\n",
       "      <th>Males.3</th>\n",
       "      <th>Females.3</th>\n",
       "    </tr>\n",
       "  </thead>\n",
       "  <tbody>\n",
       "    <tr>\n",
       "      <th>0</th>\n",
       "      <td>0</td>\n",
       "      <td>INDIA</td>\n",
       "      <td>Rural</td>\n",
       "      <td>Total</td>\n",
       "      <td>35383989</td>\n",
       "      <td>21771062</td>\n",
       "      <td>13612927</td>\n",
       "    </tr>\n",
       "    <tr>\n",
       "      <th>1</th>\n",
       "      <td>0</td>\n",
       "      <td>INDIA</td>\n",
       "      <td>Urban</td>\n",
       "      <td>Total</td>\n",
       "      <td>50625591</td>\n",
       "      <td>28765770</td>\n",
       "      <td>21859821</td>\n",
       "    </tr>\n",
       "    <tr>\n",
       "      <th>2</th>\n",
       "      <td>1</td>\n",
       "      <td>JAMMU &amp; KASHMIR</td>\n",
       "      <td>Rural</td>\n",
       "      <td>Total</td>\n",
       "      <td>1258724</td>\n",
       "      <td>778704</td>\n",
       "      <td>480020</td>\n",
       "    </tr>\n",
       "    <tr>\n",
       "      <th>3</th>\n",
       "      <td>1</td>\n",
       "      <td>JAMMU &amp; KASHMIR</td>\n",
       "      <td>Urban</td>\n",
       "      <td>Total</td>\n",
       "      <td>837496</td>\n",
       "      <td>480052</td>\n",
       "      <td>357444</td>\n",
       "    </tr>\n",
       "    <tr>\n",
       "      <th>4</th>\n",
       "      <td>2</td>\n",
       "      <td>HIMACHAL PRADESH</td>\n",
       "      <td>Rural</td>\n",
       "      <td>Total</td>\n",
       "      <td>280817</td>\n",
       "      <td>163039</td>\n",
       "      <td>117778</td>\n",
       "    </tr>\n",
       "  </tbody>\n",
       "</table>\n",
       "</div>"
      ],
      "text/plain": [
       "   State              Name    TRU Age-group  Persons.3   Males.3  Females.3\n",
       "0      0             INDIA  Rural     Total   35383989  21771062   13612927\n",
       "1      0             INDIA  Urban     Total   50625591  28765770   21859821\n",
       "2      1   JAMMU & KASHMIR  Rural     Total    1258724    778704     480020\n",
       "3      1   JAMMU & KASHMIR  Urban     Total     837496    480052     357444\n",
       "4      2  HIMACHAL PRADESH  Rural     Total     280817    163039     117778"
      ]
     },
     "execution_count": 9,
     "metadata": {},
     "output_type": "execute_result"
    }
   ],
   "source": [
    "df.head()"
   ]
  },
  {
   "cell_type": "code",
   "execution_count": 8,
   "id": "5e8dda2b",
   "metadata": {},
   "outputs": [],
   "source": [
    "df.reset_index(inplace=True,drop=True)"
   ]
  },
  {
   "cell_type": "code",
   "execution_count": null,
   "id": "73009809",
   "metadata": {},
   "outputs": [],
   "source": [
    "# urban-percentage, rural-percentage\n",
    "df['urban-percentage'] = df[]\n",
    "df['rural-percentage']"
   ]
  }
 ],
 "metadata": {
  "kernelspec": {
   "display_name": "Python 3",
   "language": "python",
   "name": "python3"
  },
  "language_info": {
   "codemirror_mode": {
    "name": "ipython",
    "version": 3
   },
   "file_extension": ".py",
   "mimetype": "text/x-python",
   "name": "python",
   "nbconvert_exporter": "python",
   "pygments_lexer": "ipython3",
   "version": "3.8.8"
  }
 },
 "nbformat": 4,
 "nbformat_minor": 5
}
