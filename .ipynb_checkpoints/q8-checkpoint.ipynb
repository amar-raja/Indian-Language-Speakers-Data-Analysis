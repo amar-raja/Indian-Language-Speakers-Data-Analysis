{
 "cells": [
  {
   "cell_type": "markdown",
   "id": "117e32c7",
   "metadata": {},
   "source": [
    "## 8)Age group of males and females that has the highest ratio of population that can speak 3 or more languages"
   ]
  },
  {
   "cell_type": "code",
   "execution_count": 1,
   "id": "3b81b2b6",
   "metadata": {
    "execution": {
     "iopub.execute_input": "2021-11-09T10:18:45.517485Z",
     "iopub.status.busy": "2021-11-09T10:18:45.517485Z",
     "iopub.status.idle": "2021-11-09T10:18:46.564112Z",
     "shell.execute_reply": "2021-11-09T10:18:46.564112Z"
    }
   },
   "outputs": [],
   "source": [
    "import numpy as np\n",
    "import pandas as pd\n",
    "import datetime as dt\n",
    "import warnings\n",
    "warnings.filterwarnings('ignore')"
   ]
  },
  {
   "cell_type": "code",
   "execution_count": 2,
   "id": "ddbd47f4",
   "metadata": {
    "execution": {
     "iopub.execute_input": "2021-11-09T10:18:46.579734Z",
     "iopub.status.busy": "2021-11-09T10:18:46.564112Z",
     "iopub.status.idle": "2021-11-09T10:18:47.970028Z",
     "shell.execute_reply": "2021-11-09T10:18:47.970028Z"
    }
   },
   "outputs": [],
   "source": [
    "#ASSIGNING COL NAMES\n",
    "column_names = ['State', 'District', 'Name', 'TRU','Age-group','Persons.2','Males.2','Females.2','Persons.3','Males.3','Females.3']\n",
    "#READING DATA\n",
    "df = pd.read_excel('DDW-C18-0000.xlsx',names=column_names,skiprows=5)"
   ]
  },
  {
   "cell_type": "code",
   "execution_count": 3,
   "id": "3bd869e3",
   "metadata": {
    "execution": {
     "iopub.execute_input": "2021-11-09T10:18:47.970028Z",
     "iopub.status.busy": "2021-11-09T10:18:47.970028Z",
     "iopub.status.idle": "2021-11-09T10:18:47.985650Z",
     "shell.execute_reply": "2021-11-09T10:18:47.985650Z"
    }
   },
   "outputs": [
    {
     "data": {
      "text/plain": [
       "Index(['State', 'District', 'Name', 'TRU', 'Age-group', 'Persons.2', 'Males.2',\n",
       "       'Females.2', 'Persons.3', 'Males.3', 'Females.3'],\n",
       "      dtype='object')"
      ]
     },
     "execution_count": 3,
     "metadata": {},
     "output_type": "execute_result"
    }
   ],
   "source": [
    "df.columns"
   ]
  },
  {
   "cell_type": "code",
   "execution_count": 4,
   "id": "d2f7b1b1",
   "metadata": {
    "execution": {
     "iopub.execute_input": "2021-11-09T10:18:47.985650Z",
     "iopub.status.busy": "2021-11-09T10:18:47.985650Z",
     "iopub.status.idle": "2021-11-09T10:18:48.001271Z",
     "shell.execute_reply": "2021-11-09T10:18:48.001271Z"
    }
   },
   "outputs": [],
   "source": [
    "#TAKING ONLY REQUIRED COLUMNS\n",
    "# df = df[['State','Name','TRU','Age-group','Persons.3']]\n",
    "# REMOVING URBAN AND RURAL ROWS\n",
    "idx = df.loc[(df['TRU']!='Total') | (df['Age-group'] == 'Total')].index\n",
    "df = df.drop(idx)"
   ]
  },
  {
   "cell_type": "code",
   "execution_count": 5,
   "id": "b6db3a12",
   "metadata": {
    "execution": {
     "iopub.execute_input": "2021-11-09T10:18:48.001271Z",
     "iopub.status.busy": "2021-11-09T10:18:48.001271Z",
     "iopub.status.idle": "2021-11-09T10:18:48.016892Z",
     "shell.execute_reply": "2021-11-09T10:18:48.016892Z"
    }
   },
   "outputs": [],
   "source": [
    "df['Age-group'] = df['Age-group'].str.replace('5-9','05-09')          #BECAUSE IT IS USEFUL WHILE SORTING DATA"
   ]
  },
  {
   "cell_type": "code",
   "execution_count": null,
   "id": "b6c4d9f7",
   "metadata": {},
   "outputs": [],
   "source": []
  },
  {
   "cell_type": "code",
   "execution_count": 6,
   "id": "30c66d64",
   "metadata": {
    "execution": {
     "iopub.execute_input": "2021-11-09T10:18:48.016892Z",
     "iopub.status.busy": "2021-11-09T10:18:48.016892Z",
     "iopub.status.idle": "2021-11-09T10:18:48.032514Z",
     "shell.execute_reply": "2021-11-09T10:18:48.032514Z"
    }
   },
   "outputs": [],
   "source": [
    "#EXACTLY TWO LANGUAGES\n",
    "df['m_2_lang'] = df['Males.2'] - df['Males.3']\n",
    "df['f_2_lang'] = df['Females.2'] - df['Females.3']\n"
   ]
  },
  {
   "cell_type": "code",
   "execution_count": 7,
   "id": "e4f581ec",
   "metadata": {
    "execution": {
     "iopub.execute_input": "2021-11-09T10:18:48.032514Z",
     "iopub.status.busy": "2021-11-09T10:18:48.032514Z",
     "iopub.status.idle": "2021-11-09T10:18:48.048135Z",
     "shell.execute_reply": "2021-11-09T10:18:48.048135Z"
    }
   },
   "outputs": [
    {
     "data": {
      "text/plain": [
       "Index(['State', 'District', 'Name', 'TRU', 'Age-group', 'Persons.2', 'Males.2',\n",
       "       'Females.2', 'Persons.3', 'Males.3', 'Females.3', 'm_2_lang',\n",
       "       'f_2_lang'],\n",
       "      dtype='object')"
      ]
     },
     "execution_count": 7,
     "metadata": {},
     "output_type": "execute_result"
    }
   ],
   "source": [
    "df.columns"
   ]
  },
  {
   "cell_type": "code",
   "execution_count": null,
   "id": "7a2a8a01",
   "metadata": {},
   "outputs": [],
   "source": []
  },
  {
   "cell_type": "markdown",
   "id": "d5c029b2",
   "metadata": {},
   "source": [
    "PREPROCESSING C14 file (POPULATION BY AGE)"
   ]
  },
  {
   "cell_type": "code",
   "execution_count": 8,
   "id": "576c2f27",
   "metadata": {
    "execution": {
     "iopub.execute_input": "2021-11-09T10:18:48.048135Z",
     "iopub.status.busy": "2021-11-09T10:18:48.048135Z",
     "iopub.status.idle": "2021-11-09T10:18:48.110620Z",
     "shell.execute_reply": "2021-11-09T10:18:48.110620Z"
    }
   },
   "outputs": [],
   "source": [
    "#ASSIGNING COL NAMES\n",
    "column_names = ['table_name', 'State','District', 'Name','Age-group', 'Tot_Persons', 'Tot_Males', 'Tot_Females','Persons.1', 'Males.1', 'Females.1', 'Persons.2', 'Males.2', 'Females.2']\n",
    "#READING DATA\n",
    "age_pop = pd.read_excel('DDW-0000C-14.xls',names=column_names,skiprows=6)"
   ]
  },
  {
   "cell_type": "code",
   "execution_count": 9,
   "id": "1b35dae6",
   "metadata": {
    "execution": {
     "iopub.execute_input": "2021-11-09T10:18:48.110620Z",
     "iopub.status.busy": "2021-11-09T10:18:48.110620Z",
     "iopub.status.idle": "2021-11-09T10:18:48.126242Z",
     "shell.execute_reply": "2021-11-09T10:18:48.126242Z"
    }
   },
   "outputs": [
    {
     "data": {
      "text/plain": [
       "array(['All ages', '0-4', '5-9', '10-14', '15-19', '20-24', '25-29',\n",
       "       '30-34', '35-39', '40-44', '45-49', '50-54', '55-59', '60-64',\n",
       "       '65-69', '70-74', '75-79', '80+', 'Age not stated'], dtype=object)"
      ]
     },
     "execution_count": 9,
     "metadata": {},
     "output_type": "execute_result"
    }
   ],
   "source": [
    "age_pop['Age-group'].unique()"
   ]
  },
  {
   "cell_type": "code",
   "execution_count": 10,
   "id": "9e9ccdd2",
   "metadata": {
    "execution": {
     "iopub.execute_input": "2021-11-09T10:18:48.126242Z",
     "iopub.status.busy": "2021-11-09T10:18:48.126242Z",
     "iopub.status.idle": "2021-11-09T10:18:48.141863Z",
     "shell.execute_reply": "2021-11-09T10:18:48.141863Z"
    }
   },
   "outputs": [],
   "source": [
    "# REMOVING AGE_GROUP \"0-4\"  and 'ALL AGES' as not needed for analysis\n",
    "ix = age_pop.loc[(age_pop['Age-group'] == 'All ages') | (age_pop['Age-group'] == '0-4')].index\n",
    "age_pop = age_pop.drop(ix)"
   ]
  },
  {
   "cell_type": "code",
   "execution_count": 11,
   "id": "cf561228",
   "metadata": {
    "execution": {
     "iopub.execute_input": "2021-11-09T10:18:48.141863Z",
     "iopub.status.busy": "2021-11-09T10:18:48.141863Z",
     "iopub.status.idle": "2021-11-09T10:18:48.157484Z",
     "shell.execute_reply": "2021-11-09T10:18:48.157484Z"
    }
   },
   "outputs": [],
   "source": [
    "#MAKING SOME SPELLING CHANGES\n",
    "age_pop['Name'] = age_pop['Name'].str.replace('State - ','')\n",
    "age_pop['Name'] = age_pop['Name'].str.replace('India','INDIA')"
   ]
  },
  {
   "cell_type": "code",
   "execution_count": 12,
   "id": "4ed62955",
   "metadata": {
    "execution": {
     "iopub.execute_input": "2021-11-09T10:18:48.157484Z",
     "iopub.status.busy": "2021-11-09T10:18:48.157484Z",
     "iopub.status.idle": "2021-11-09T10:18:48.173105Z",
     "shell.execute_reply": "2021-11-09T10:18:48.173105Z"
    }
   },
   "outputs": [],
   "source": [
    "#REMOVING UNNECESSARY CHARACTERS\n",
    "age_pop['Name'] = age_pop['Name'].str.replace('\\(([0-9]*)\\)','',regex=True)\n",
    "age_pop['Name'] = age_pop['Name'].str.rstrip()    #REMOVING TRAILING_SPACE"
   ]
  },
  {
   "cell_type": "code",
   "execution_count": 13,
   "id": "8b557bc0",
   "metadata": {
    "execution": {
     "iopub.execute_input": "2021-11-09T10:18:48.173105Z",
     "iopub.status.busy": "2021-11-09T10:18:48.173105Z",
     "iopub.status.idle": "2021-11-09T10:18:48.188727Z",
     "shell.execute_reply": "2021-11-09T10:18:48.188727Z"
    }
   },
   "outputs": [],
   "source": [
    "age_pop['Age-group'] = age_pop['Age-group'].str.replace('5-9','05-09')               #BECAUSE IT IS USEFUL WHILE SORTING DATA"
   ]
  },
  {
   "cell_type": "code",
   "execution_count": 14,
   "id": "981ac29c",
   "metadata": {
    "execution": {
     "iopub.execute_input": "2021-11-09T10:18:48.188727Z",
     "iopub.status.busy": "2021-11-09T10:18:48.188727Z",
     "iopub.status.idle": "2021-11-09T10:18:48.204348Z",
     "shell.execute_reply": "2021-11-09T10:18:48.204348Z"
    }
   },
   "outputs": [],
   "source": [
    "#TAKING ONLY REQUIRED COLUMNS\n",
    "age_pop = age_pop[['Name', 'Age-group', 'Tot_Persons','Tot_Males', 'Tot_Females']]"
   ]
  },
  {
   "cell_type": "code",
   "execution_count": 15,
   "id": "49386651",
   "metadata": {
    "execution": {
     "iopub.execute_input": "2021-11-09T10:18:48.204348Z",
     "iopub.status.busy": "2021-11-09T10:18:48.204348Z",
     "iopub.status.idle": "2021-11-09T10:18:48.219969Z",
     "shell.execute_reply": "2021-11-09T10:18:48.219969Z"
    }
   },
   "outputs": [],
   "source": [
    "age_pop.reset_index(drop=True,inplace=True)"
   ]
  },
  {
   "cell_type": "code",
   "execution_count": 16,
   "id": "a801cfaf",
   "metadata": {
    "execution": {
     "iopub.execute_input": "2021-11-09T10:18:48.219969Z",
     "iopub.status.busy": "2021-11-09T10:18:48.219969Z",
     "iopub.status.idle": "2021-11-09T10:18:48.235590Z",
     "shell.execute_reply": "2021-11-09T10:18:48.235590Z"
    }
   },
   "outputs": [],
   "source": [
    "# age_pop.head(20)\n",
    "# age_pop.sort_values(['Name','Age-group'])"
   ]
  },
  {
   "cell_type": "code",
   "execution_count": 17,
   "id": "7a12f412",
   "metadata": {
    "execution": {
     "iopub.execute_input": "2021-11-09T10:18:48.235590Z",
     "iopub.status.busy": "2021-11-09T10:18:48.235590Z",
     "iopub.status.idle": "2021-11-09T10:18:48.251212Z",
     "shell.execute_reply": "2021-11-09T10:18:48.251212Z"
    }
   },
   "outputs": [],
   "source": [
    "#CHECKING STATE NAMES MATCHING\n",
    "# pop_names = age_pop['Name'].unique()\n",
    "# pop_names\n",
    "\n",
    "# c18_names = df['Name'].unique()\n",
    "# c18_names\n",
    "\n",
    "# [i for i in pop_names if i not in c18_names]"
   ]
  },
  {
   "cell_type": "code",
   "execution_count": null,
   "id": "f04b9c3a",
   "metadata": {},
   "outputs": [],
   "source": []
  },
  {
   "cell_type": "markdown",
   "id": "9690aaa0",
   "metadata": {},
   "source": [
    "### CONVERITING ROWS INTO CLOUMNS OF AGE GROUPS to ease calculations"
   ]
  },
  {
   "cell_type": "code",
   "execution_count": 18,
   "id": "48174cc6",
   "metadata": {
    "execution": {
     "iopub.execute_input": "2021-11-09T10:18:48.251212Z",
     "iopub.status.busy": "2021-11-09T10:18:48.251212Z",
     "iopub.status.idle": "2021-11-09T10:18:48.282455Z",
     "shell.execute_reply": "2021-11-09T10:18:48.282455Z"
    }
   },
   "outputs": [],
   "source": [
    "t = age_pop.pivot_table(index=['Name'],columns='Age-group')"
   ]
  },
  {
   "cell_type": "code",
   "execution_count": 19,
   "id": "0ec73acd",
   "metadata": {
    "execution": {
     "iopub.execute_input": "2021-11-09T10:18:48.282455Z",
     "iopub.status.busy": "2021-11-09T10:18:48.282455Z",
     "iopub.status.idle": "2021-11-09T10:18:48.298076Z",
     "shell.execute_reply": "2021-11-09T10:18:48.298076Z"
    }
   },
   "outputs": [],
   "source": [
    "t =t.droplevel(0,axis=1)   #DROOPING MULTIINDEX FOR COLUMNS\n",
    "# t.droplevel(0,axis=0)"
   ]
  },
  {
   "cell_type": "code",
   "execution_count": 20,
   "id": "d97ceac4",
   "metadata": {
    "execution": {
     "iopub.execute_input": "2021-11-09T10:18:48.298076Z",
     "iopub.status.busy": "2021-11-09T10:18:48.298076Z",
     "iopub.status.idle": "2021-11-09T10:18:48.313697Z",
     "shell.execute_reply": "2021-11-09T10:18:48.313697Z"
    }
   },
   "outputs": [],
   "source": [
    "t.reset_index(inplace=True)"
   ]
  },
  {
   "cell_type": "code",
   "execution_count": 21,
   "id": "bac74a68",
   "metadata": {
    "execution": {
     "iopub.execute_input": "2021-11-09T10:18:48.313697Z",
     "iopub.status.busy": "2021-11-09T10:18:48.313697Z",
     "iopub.status.idle": "2021-11-09T10:18:48.344939Z",
     "shell.execute_reply": "2021-11-09T10:18:48.344939Z"
    }
   },
   "outputs": [
    {
     "data": {
      "text/html": [
       "<div>\n",
       "<style scoped>\n",
       "    .dataframe tbody tr th:only-of-type {\n",
       "        vertical-align: middle;\n",
       "    }\n",
       "\n",
       "    .dataframe tbody tr th {\n",
       "        vertical-align: top;\n",
       "    }\n",
       "\n",
       "    .dataframe thead th {\n",
       "        text-align: right;\n",
       "    }\n",
       "</style>\n",
       "<table border=\"1\" class=\"dataframe\">\n",
       "  <thead>\n",
       "    <tr style=\"text-align: right;\">\n",
       "      <th>Age-group</th>\n",
       "      <th>Name</th>\n",
       "      <th>05-09</th>\n",
       "      <th>10-14</th>\n",
       "      <th>15-19</th>\n",
       "      <th>20-24</th>\n",
       "      <th>25-29</th>\n",
       "      <th>30-34</th>\n",
       "      <th>35-39</th>\n",
       "      <th>40-44</th>\n",
       "      <th>45-49</th>\n",
       "      <th>...</th>\n",
       "      <th>40-44</th>\n",
       "      <th>45-49</th>\n",
       "      <th>50-54</th>\n",
       "      <th>55-59</th>\n",
       "      <th>60-64</th>\n",
       "      <th>65-69</th>\n",
       "      <th>70-74</th>\n",
       "      <th>75-79</th>\n",
       "      <th>80+</th>\n",
       "      <th>Age not stated</th>\n",
       "    </tr>\n",
       "  </thead>\n",
       "  <tbody>\n",
       "    <tr>\n",
       "      <th>0</th>\n",
       "      <td>ANDAMAN &amp; NICOBAR ISLANDS</td>\n",
       "      <td>14942</td>\n",
       "      <td>16349</td>\n",
       "      <td>15760</td>\n",
       "      <td>17587</td>\n",
       "      <td>19492</td>\n",
       "      <td>16364</td>\n",
       "      <td>15672</td>\n",
       "      <td>11922</td>\n",
       "      <td>10591</td>\n",
       "      <td>...</td>\n",
       "      <td>26735</td>\n",
       "      <td>23861</td>\n",
       "      <td>17296</td>\n",
       "      <td>13794</td>\n",
       "      <td>10376</td>\n",
       "      <td>6226</td>\n",
       "      <td>4098</td>\n",
       "      <td>2251</td>\n",
       "      <td>2473</td>\n",
       "      <td>368</td>\n",
       "    </tr>\n",
       "    <tr>\n",
       "      <th>1</th>\n",
       "      <td>ANDHRA PRADESH</td>\n",
       "      <td>3544034</td>\n",
       "      <td>3992711</td>\n",
       "      <td>3897440</td>\n",
       "      <td>4076397</td>\n",
       "      <td>3989149</td>\n",
       "      <td>3283964</td>\n",
       "      <td>3308827</td>\n",
       "      <td>2605075</td>\n",
       "      <td>2282636</td>\n",
       "      <td>...</td>\n",
       "      <td>5399473</td>\n",
       "      <td>4657269</td>\n",
       "      <td>3657386</td>\n",
       "      <td>2909598</td>\n",
       "      <td>3199837</td>\n",
       "      <td>2167854</td>\n",
       "      <td>1519358</td>\n",
       "      <td>636989</td>\n",
       "      <td>754203</td>\n",
       "      <td>771431</td>\n",
       "    </tr>\n",
       "    <tr>\n",
       "      <th>2</th>\n",
       "      <td>ARUNACHAL PRADESH</td>\n",
       "      <td>84424</td>\n",
       "      <td>88920</td>\n",
       "      <td>77295</td>\n",
       "      <td>65663</td>\n",
       "      <td>60348</td>\n",
       "      <td>48709</td>\n",
       "      <td>46180</td>\n",
       "      <td>35742</td>\n",
       "      <td>28506</td>\n",
       "      <td>...</td>\n",
       "      <td>78603</td>\n",
       "      <td>63679</td>\n",
       "      <td>46110</td>\n",
       "      <td>29886</td>\n",
       "      <td>25445</td>\n",
       "      <td>14973</td>\n",
       "      <td>10647</td>\n",
       "      <td>5135</td>\n",
       "      <td>7439</td>\n",
       "      <td>1509</td>\n",
       "    </tr>\n",
       "    <tr>\n",
       "      <th>3</th>\n",
       "      <td>ASSAM</td>\n",
       "      <td>1737993</td>\n",
       "      <td>1702346</td>\n",
       "      <td>1473092</td>\n",
       "      <td>1493825</td>\n",
       "      <td>1422105</td>\n",
       "      <td>1155813</td>\n",
       "      <td>1106794</td>\n",
       "      <td>865743</td>\n",
       "      <td>749168</td>\n",
       "      <td>...</td>\n",
       "      <td>1831206</td>\n",
       "      <td>1595249</td>\n",
       "      <td>1192363</td>\n",
       "      <td>856825</td>\n",
       "      <td>775698</td>\n",
       "      <td>503642</td>\n",
       "      <td>385277</td>\n",
       "      <td>184352</td>\n",
       "      <td>229575</td>\n",
       "      <td>18824</td>\n",
       "    </tr>\n",
       "    <tr>\n",
       "      <th>4</th>\n",
       "      <td>BIHAR</td>\n",
       "      <td>7239918</td>\n",
       "      <td>6596051</td>\n",
       "      <td>4182114</td>\n",
       "      <td>3854150</td>\n",
       "      <td>3843018</td>\n",
       "      <td>3545141</td>\n",
       "      <td>3149100</td>\n",
       "      <td>2408883</td>\n",
       "      <td>2060380</td>\n",
       "      <td>...</td>\n",
       "      <td>5165692</td>\n",
       "      <td>4270374</td>\n",
       "      <td>3312740</td>\n",
       "      <td>2796678</td>\n",
       "      <td>3008008</td>\n",
       "      <td>2089779</td>\n",
       "      <td>1379531</td>\n",
       "      <td>550479</td>\n",
       "      <td>679348</td>\n",
       "      <td>403502</td>\n",
       "    </tr>\n",
       "  </tbody>\n",
       "</table>\n",
       "<p>5 rows × 52 columns</p>\n",
       "</div>"
      ],
      "text/plain": [
       "Age-group                       Name    05-09    10-14    15-19    20-24  \\\n",
       "0          ANDAMAN & NICOBAR ISLANDS    14942    16349    15760    17587   \n",
       "1                     ANDHRA PRADESH  3544034  3992711  3897440  4076397   \n",
       "2                  ARUNACHAL PRADESH    84424    88920    77295    65663   \n",
       "3                              ASSAM  1737993  1702346  1473092  1493825   \n",
       "4                              BIHAR  7239918  6596051  4182114  3854150   \n",
       "\n",
       "Age-group    25-29    30-34    35-39    40-44    45-49  ...    40-44    45-49  \\\n",
       "0            19492    16364    15672    11922    10591  ...    26735    23861   \n",
       "1          3989149  3283964  3308827  2605075  2282636  ...  5399473  4657269   \n",
       "2            60348    48709    46180    35742    28506  ...    78603    63679   \n",
       "3          1422105  1155813  1106794   865743   749168  ...  1831206  1595249   \n",
       "4          3843018  3545141  3149100  2408883  2060380  ...  5165692  4270374   \n",
       "\n",
       "Age-group    50-54    55-59    60-64    65-69    70-74   75-79     80+  \\\n",
       "0            17296    13794    10376     6226     4098    2251    2473   \n",
       "1          3657386  2909598  3199837  2167854  1519358  636989  754203   \n",
       "2            46110    29886    25445    14973    10647    5135    7439   \n",
       "3          1192363   856825   775698   503642   385277  184352  229575   \n",
       "4          3312740  2796678  3008008  2089779  1379531  550479  679348   \n",
       "\n",
       "Age-group  Age not stated  \n",
       "0                     368  \n",
       "1                  771431  \n",
       "2                    1509  \n",
       "3                   18824  \n",
       "4                  403502  \n",
       "\n",
       "[5 rows x 52 columns]"
      ]
     },
     "execution_count": 21,
     "metadata": {},
     "output_type": "execute_result"
    }
   ],
   "source": [
    "t.head()"
   ]
  },
  {
   "cell_type": "code",
   "execution_count": 22,
   "id": "6f774a3a",
   "metadata": {
    "execution": {
     "iopub.execute_input": "2021-11-09T10:18:48.344939Z",
     "iopub.status.busy": "2021-11-09T10:18:48.344939Z",
     "iopub.status.idle": "2021-11-09T10:18:48.360561Z",
     "shell.execute_reply": "2021-11-09T10:18:48.360561Z"
    }
   },
   "outputs": [
    {
     "data": {
      "text/html": [
       "<div>\n",
       "<style scoped>\n",
       "    .dataframe tbody tr th:only-of-type {\n",
       "        vertical-align: middle;\n",
       "    }\n",
       "\n",
       "    .dataframe tbody tr th {\n",
       "        vertical-align: top;\n",
       "    }\n",
       "\n",
       "    .dataframe thead th {\n",
       "        text-align: right;\n",
       "    }\n",
       "</style>\n",
       "<table border=\"1\" class=\"dataframe\">\n",
       "  <thead>\n",
       "    <tr style=\"text-align: right;\">\n",
       "      <th>Age-group</th>\n",
       "      <th>30-34</th>\n",
       "      <th>35-39</th>\n",
       "      <th>40-44</th>\n",
       "      <th>45-49</th>\n",
       "    </tr>\n",
       "  </thead>\n",
       "  <tbody>\n",
       "    <tr>\n",
       "      <th>0</th>\n",
       "      <td>19359</td>\n",
       "      <td>17170</td>\n",
       "      <td>14813</td>\n",
       "      <td>13270</td>\n",
       "    </tr>\n",
       "  </tbody>\n",
       "</table>\n",
       "</div>"
      ],
      "text/plain": [
       "Age-group  30-34  35-39  40-44  45-49\n",
       "0          19359  17170  14813  13270"
      ]
     },
     "execution_count": 22,
     "metadata": {},
     "output_type": "execute_result"
    }
   ],
   "source": [
    "t.iloc[[0],[23,24,25,26]]"
   ]
  },
  {
   "cell_type": "code",
   "execution_count": 23,
   "id": "7e98166a",
   "metadata": {
    "execution": {
     "iopub.execute_input": "2021-11-09T10:18:48.360561Z",
     "iopub.status.busy": "2021-11-09T10:18:48.360561Z",
     "iopub.status.idle": "2021-11-09T10:18:48.376182Z",
     "shell.execute_reply": "2021-11-09T10:18:48.376182Z"
    }
   },
   "outputs": [
    {
     "data": {
      "text/html": [
       "<div>\n",
       "<style scoped>\n",
       "    .dataframe tbody tr th:only-of-type {\n",
       "        vertical-align: middle;\n",
       "    }\n",
       "\n",
       "    .dataframe tbody tr th {\n",
       "        vertical-align: top;\n",
       "    }\n",
       "\n",
       "    .dataframe thead th {\n",
       "        text-align: right;\n",
       "    }\n",
       "</style>\n",
       "<table border=\"1\" class=\"dataframe\">\n",
       "  <thead>\n",
       "    <tr style=\"text-align: right;\">\n",
       "      <th>Age-group</th>\n",
       "      <th>30-34</th>\n",
       "      <th>35-39</th>\n",
       "      <th>40-44</th>\n",
       "      <th>45-49</th>\n",
       "    </tr>\n",
       "  </thead>\n",
       "  <tbody>\n",
       "    <tr>\n",
       "      <th>0</th>\n",
       "      <td>35723</td>\n",
       "      <td>32842</td>\n",
       "      <td>26735</td>\n",
       "      <td>23861</td>\n",
       "    </tr>\n",
       "  </tbody>\n",
       "</table>\n",
       "</div>"
      ],
      "text/plain": [
       "Age-group  30-34  35-39  40-44  45-49\n",
       "0          35723  32842  26735  23861"
      ]
     },
     "execution_count": 23,
     "metadata": {},
     "output_type": "execute_result"
    }
   ],
   "source": [
    "# t.iloc[[0],[10,11,12,13]]\n",
    "t.iloc[[0],[40,41,42,43]]"
   ]
  },
  {
   "cell_type": "code",
   "execution_count": 24,
   "id": "70b02d64",
   "metadata": {
    "execution": {
     "iopub.execute_input": "2021-11-09T10:18:48.376182Z",
     "iopub.status.busy": "2021-11-09T10:18:48.376182Z",
     "iopub.status.idle": "2021-11-09T10:18:48.391804Z",
     "shell.execute_reply": "2021-11-09T10:18:48.391804Z"
    }
   },
   "outputs": [],
   "source": [
    "#COMBINING AGE GROUPS AS REQUIRED FOR C-19 AGE GROUP FILE\n",
    "def add_groups():\n",
    "    ls1=['f','m','t']\n",
    "    for i in range(3):  #as there are 3 categories(feeemale,male,total population)\n",
    "#         t['30-49'+str(ls1[i])] = t.iloc[:,6+i*17] + t.iloc[:,7+i*17] +t.iloc[:,8+i*17] +t.iloc[:,9+i*17]\n",
    "        t['30-49'+str(ls1[i])] = t.iloc[:,6+i*17] + t.iloc[:,7+i*17] +t.iloc[:,8+i*17] +t.iloc[:,9+i*17]\n",
    "        t['50-69'+str(ls1[i])] = t.iloc[:,10+i*17] + t.iloc[:,11+i*17] +t.iloc[:,12+i*17] +t.iloc[:,13+i*17]\n",
    "        t['70+'+str(ls1[i])] = t.iloc[:,14+i*17] + t.iloc[:,15+i*17] +t.iloc[:,16+i*17]"
   ]
  },
  {
   "cell_type": "code",
   "execution_count": 25,
   "id": "135fb8e1",
   "metadata": {
    "execution": {
     "iopub.execute_input": "2021-11-09T10:18:48.407425Z",
     "iopub.status.busy": "2021-11-09T10:18:48.391804Z",
     "iopub.status.idle": "2021-11-09T10:18:48.407425Z",
     "shell.execute_reply": "2021-11-09T10:18:48.407425Z"
    }
   },
   "outputs": [],
   "source": [
    "#CALLING ABOVE FUNCTION\n",
    "add_groups()"
   ]
  },
  {
   "cell_type": "code",
   "execution_count": 26,
   "id": "ffde612a",
   "metadata": {
    "execution": {
     "iopub.execute_input": "2021-11-09T10:18:48.407425Z",
     "iopub.status.busy": "2021-11-09T10:18:48.407425Z",
     "iopub.status.idle": "2021-11-09T10:18:48.423046Z",
     "shell.execute_reply": "2021-11-09T10:18:48.423046Z"
    }
   },
   "outputs": [],
   "source": [
    "#TAKING ONLY REQUIRED FORMAT AGEGROUPS\n",
    "df_age_fem = t.iloc[:,[0,1,2,3,4,5,52,53,54,17]]\n",
    "df_age_mal = t.iloc[:,[0,18,19,20,21,22,55,56,57,34]]\n",
    "df_age_tot = t.iloc[:,[0,35,36,37,38,39,58,59,60,51]]"
   ]
  },
  {
   "cell_type": "code",
   "execution_count": 27,
   "id": "88540461",
   "metadata": {
    "execution": {
     "iopub.execute_input": "2021-11-09T10:18:48.423046Z",
     "iopub.status.busy": "2021-11-09T10:18:48.423046Z",
     "iopub.status.idle": "2021-11-09T10:18:48.454289Z",
     "shell.execute_reply": "2021-11-09T10:18:48.454289Z"
    }
   },
   "outputs": [],
   "source": [
    "df_age_fem=pd.melt(df_age_fem,id_vars=['Name'])\n",
    "\n",
    "df_age_fem = df_age_fem.groupby(['Name','Age-group']).first()\n",
    "\n",
    "df_age_fem.reset_index(inplace=True)\n",
    "\n",
    "df_age_fem['Age-group'] = df_age_fem['Age-group'].replace({'30-49f':'30-49','50-69f':'50-69','70+f':'70+'})"
   ]
  },
  {
   "cell_type": "code",
   "execution_count": 28,
   "id": "bf51f316",
   "metadata": {
    "execution": {
     "iopub.execute_input": "2021-11-09T10:18:48.454289Z",
     "iopub.status.busy": "2021-11-09T10:18:48.454289Z",
     "iopub.status.idle": "2021-11-09T10:18:48.469910Z",
     "shell.execute_reply": "2021-11-09T10:18:48.469910Z"
    }
   },
   "outputs": [],
   "source": [
    "df_age_mal=pd.melt(df_age_mal,id_vars=['Name'])\n",
    "\n",
    "df_age_mal = df_age_mal.groupby(['Name','Age-group']).first()\n",
    "\n",
    "df_age_mal.reset_index(inplace=True)\n",
    "\n",
    "df_age_mal['Age-group'] = df_age_mal['Age-group'].replace({'30-49m':'30-49','50-69m':'50-69','70+m':'70+'})"
   ]
  },
  {
   "cell_type": "code",
   "execution_count": 29,
   "id": "e26be2e8",
   "metadata": {
    "execution": {
     "iopub.execute_input": "2021-11-09T10:18:48.469910Z",
     "iopub.status.busy": "2021-11-09T10:18:48.469910Z",
     "iopub.status.idle": "2021-11-09T10:18:48.485532Z",
     "shell.execute_reply": "2021-11-09T10:18:48.485532Z"
    }
   },
   "outputs": [],
   "source": [
    "df_age_tot=pd.melt(df_age_tot,id_vars=['Name'])\n",
    "\n",
    "df_age_tot = df_age_tot.groupby(['Name','Age-group']).first()\n",
    "\n",
    "df_age_tot.reset_index(inplace=True)\n",
    "\n",
    "df_age_tot['Age-group'] = df_age_tot['Age-group'].replace({'30-49t':'30-49','50-69t':'50-69','70+t':'70+'})"
   ]
  },
  {
   "cell_type": "code",
   "execution_count": 30,
   "id": "c5a1dc52",
   "metadata": {
    "execution": {
     "iopub.execute_input": "2021-11-09T10:18:48.485532Z",
     "iopub.status.busy": "2021-11-09T10:18:48.485532Z",
     "iopub.status.idle": "2021-11-09T10:18:48.501153Z",
     "shell.execute_reply": "2021-11-09T10:18:48.501153Z"
    }
   },
   "outputs": [],
   "source": [
    "#STORING ALL INTO A SINGLE DATAFRAME\n",
    "df_age = pd.DataFrame()\n",
    "df_age[['Name','Age-group','tot_pop']] = df_age_tot\n",
    "df_age['mal_pop'] = df_age_mal['value']\n",
    "df_age['fem_pop'] = df_age_fem['value']"
   ]
  },
  {
   "cell_type": "code",
   "execution_count": 31,
   "id": "8f003228",
   "metadata": {
    "execution": {
     "iopub.execute_input": "2021-11-09T10:18:48.501153Z",
     "iopub.status.busy": "2021-11-09T10:18:48.501153Z",
     "iopub.status.idle": "2021-11-09T10:18:48.516774Z",
     "shell.execute_reply": "2021-11-09T10:18:48.516774Z"
    }
   },
   "outputs": [
    {
     "data": {
      "text/html": [
       "<div>\n",
       "<style scoped>\n",
       "    .dataframe tbody tr th:only-of-type {\n",
       "        vertical-align: middle;\n",
       "    }\n",
       "\n",
       "    .dataframe tbody tr th {\n",
       "        vertical-align: top;\n",
       "    }\n",
       "\n",
       "    .dataframe thead th {\n",
       "        text-align: right;\n",
       "    }\n",
       "</style>\n",
       "<table border=\"1\" class=\"dataframe\">\n",
       "  <thead>\n",
       "    <tr style=\"text-align: right;\">\n",
       "      <th></th>\n",
       "      <th>Name</th>\n",
       "      <th>Age-group</th>\n",
       "      <th>tot_pop</th>\n",
       "      <th>mal_pop</th>\n",
       "      <th>fem_pop</th>\n",
       "    </tr>\n",
       "  </thead>\n",
       "  <tbody>\n",
       "    <tr>\n",
       "      <th>0</th>\n",
       "      <td>ANDAMAN &amp; NICOBAR ISLANDS</td>\n",
       "      <td>05-09</td>\n",
       "      <td>30454</td>\n",
       "      <td>15512</td>\n",
       "      <td>14942</td>\n",
       "    </tr>\n",
       "    <tr>\n",
       "      <th>1</th>\n",
       "      <td>ANDAMAN &amp; NICOBAR ISLANDS</td>\n",
       "      <td>10-14</td>\n",
       "      <td>33467</td>\n",
       "      <td>17118</td>\n",
       "      <td>16349</td>\n",
       "    </tr>\n",
       "    <tr>\n",
       "      <th>2</th>\n",
       "      <td>ANDAMAN &amp; NICOBAR ISLANDS</td>\n",
       "      <td>15-19</td>\n",
       "      <td>33026</td>\n",
       "      <td>17266</td>\n",
       "      <td>15760</td>\n",
       "    </tr>\n",
       "    <tr>\n",
       "      <th>3</th>\n",
       "      <td>ANDAMAN &amp; NICOBAR ISLANDS</td>\n",
       "      <td>20-24</td>\n",
       "      <td>37115</td>\n",
       "      <td>19528</td>\n",
       "      <td>17587</td>\n",
       "    </tr>\n",
       "    <tr>\n",
       "      <th>4</th>\n",
       "      <td>ANDAMAN &amp; NICOBAR ISLANDS</td>\n",
       "      <td>25-29</td>\n",
       "      <td>41722</td>\n",
       "      <td>22230</td>\n",
       "      <td>19492</td>\n",
       "    </tr>\n",
       "  </tbody>\n",
       "</table>\n",
       "</div>"
      ],
      "text/plain": [
       "                        Name Age-group  tot_pop  mal_pop  fem_pop\n",
       "0  ANDAMAN & NICOBAR ISLANDS     05-09    30454    15512    14942\n",
       "1  ANDAMAN & NICOBAR ISLANDS     10-14    33467    17118    16349\n",
       "2  ANDAMAN & NICOBAR ISLANDS     15-19    33026    17266    15760\n",
       "3  ANDAMAN & NICOBAR ISLANDS     20-24    37115    19528    17587\n",
       "4  ANDAMAN & NICOBAR ISLANDS     25-29    41722    22230    19492"
      ]
     },
     "execution_count": 31,
     "metadata": {},
     "output_type": "execute_result"
    }
   ],
   "source": [
    "df_age.head()"
   ]
  },
  {
   "cell_type": "markdown",
   "id": "51f037a2",
   "metadata": {},
   "source": [
    "population by age processing completed"
   ]
  },
  {
   "cell_type": "code",
   "execution_count": 32,
   "id": "a851071c",
   "metadata": {
    "execution": {
     "iopub.execute_input": "2021-11-09T10:18:48.516774Z",
     "iopub.status.busy": "2021-11-09T10:18:48.516774Z",
     "iopub.status.idle": "2021-11-09T10:18:48.532396Z",
     "shell.execute_reply": "2021-11-09T10:18:48.532396Z"
    }
   },
   "outputs": [],
   "source": [
    "df = df.sort_values(['Name','Age-group'])\n",
    "df.reset_index(inplace=True,drop=True)"
   ]
  },
  {
   "cell_type": "code",
   "execution_count": 33,
   "id": "16308f59",
   "metadata": {
    "execution": {
     "iopub.execute_input": "2021-11-09T10:18:48.532396Z",
     "iopub.status.busy": "2021-11-09T10:18:48.532396Z",
     "iopub.status.idle": "2021-11-09T10:18:48.548016Z",
     "shell.execute_reply": "2021-11-09T10:18:48.548016Z"
    }
   },
   "outputs": [],
   "source": [
    "#ADDING POPULATION COLUMNS TO THE MAIN DATA FRAME\n",
    "df['tot_pop'] = df_age['tot_pop']\n",
    "df['mal_pop'] = df_age['mal_pop']\n",
    "df['fem_pop'] = df_age['fem_pop']"
   ]
  },
  {
   "cell_type": "code",
   "execution_count": 34,
   "id": "65af4d94",
   "metadata": {
    "execution": {
     "iopub.execute_input": "2021-11-09T10:18:48.548016Z",
     "iopub.status.busy": "2021-11-09T10:18:48.548016Z",
     "iopub.status.idle": "2021-11-09T10:18:48.563638Z",
     "shell.execute_reply": "2021-11-09T10:18:48.563638Z"
    }
   },
   "outputs": [],
   "source": [
    "#TWO LANG RATIO\n",
    "df['tw_r_m'] = df['m_2_lang'] / df['mal_pop']\n",
    "df['tw_r_f'] = df['f_2_lang'] / df['fem_pop']\n",
    "#THREE LANG RATIO\n",
    "df['th_r_m'] = df['Males.3'] / df['mal_pop']\n",
    "df['th_r_f'] = df['Females.3'] / df['fem_pop']\n",
    "#ONE LANG RATIO\n",
    "df['one_r_m'] = 1-(df['tw_r_m'] + df['th_r_m'])\n",
    "df['one_r_f'] = 1-(df['tw_r_f'] + df['th_r_f'])\n"
   ]
  },
  {
   "cell_type": "code",
   "execution_count": null,
   "id": "d3517ff2",
   "metadata": {},
   "outputs": [],
   "source": []
  },
  {
   "cell_type": "code",
   "execution_count": 35,
   "id": "2035611b",
   "metadata": {
    "execution": {
     "iopub.execute_input": "2021-11-09T10:18:48.563638Z",
     "iopub.status.busy": "2021-11-09T10:18:48.563638Z",
     "iopub.status.idle": "2021-11-09T10:18:48.579268Z",
     "shell.execute_reply": "2021-11-09T10:18:48.579268Z"
    }
   },
   "outputs": [],
   "source": [
    "#TO CALCULATE \"Age group with highest ratio of population\"\n",
    "def the_func(df_new):\n",
    "    indexes = []\n",
    "    for i in range(36):\n",
    "        t = i*9\n",
    "        indexes.append(df_new.iloc[t:t+9,-1].idxmax())             #finding index of maxratio\n",
    "        \n",
    "    df_new = df_new.iloc[indexes]              #taking only indexes of maxratio\n",
    "    return df_new"
   ]
  },
  {
   "cell_type": "code",
   "execution_count": 36,
   "id": "362e3dea",
   "metadata": {
    "execution": {
     "iopub.execute_input": "2021-11-09T10:18:48.579268Z",
     "iopub.status.busy": "2021-11-09T10:18:48.579268Z",
     "iopub.status.idle": "2021-11-09T10:18:48.610502Z",
     "shell.execute_reply": "2021-11-09T10:18:48.610502Z"
    }
   },
   "outputs": [],
   "source": [
    "#creating SEPERATE DATAFRAMES FOR EACH CATEGORY OF LANG\n",
    "df_one_lang_male = the_func(df[['State','Age-group','one_r_m']])\n",
    "df_one_lang_female = the_func(df[['State','Age-group','one_r_f']])\n",
    "\n",
    "df_one_lang_male.reset_index(inplace=True,drop=True)\n",
    "df_one_lang_female.reset_index(inplace=True,drop=True)\n",
    "\n",
    "\n",
    "df_one_lang = df_one_lang_male.copy()\n",
    "df_one_lang[['Age-group-female','one_r_f']] = df_one_lang_female[['Age-group','one_r_f']]"
   ]
  },
  {
   "cell_type": "code",
   "execution_count": 37,
   "id": "d4ded9df",
   "metadata": {
    "execution": {
     "iopub.execute_input": "2021-11-09T10:18:48.626124Z",
     "iopub.status.busy": "2021-11-09T10:18:48.610502Z",
     "iopub.status.idle": "2021-11-09T10:18:48.642750Z",
     "shell.execute_reply": "2021-11-09T10:18:48.642750Z"
    }
   },
   "outputs": [],
   "source": [
    "df_two_lang_male = the_func(df[['State','Age-group','tw_r_m']])\n",
    "df_two_lang_female = the_func(df[['State','Age-group','tw_r_f']])\n",
    "\n",
    "df_two_lang_male.reset_index(inplace=True,drop=True)\n",
    "df_two_lang_female.reset_index(inplace=True,drop=True)\n",
    "\n",
    "df_two_lang = df_two_lang_male.copy()\n",
    "df_two_lang[['Age-group-female','tw_r_f']] = df_two_lang_female[['Age-group','tw_r_f']]"
   ]
  },
  {
   "cell_type": "code",
   "execution_count": 38,
   "id": "2066f120",
   "metadata": {
    "execution": {
     "iopub.execute_input": "2021-11-09T10:18:48.659382Z",
     "iopub.status.busy": "2021-11-09T10:18:48.659382Z",
     "iopub.status.idle": "2021-11-09T10:18:48.675514Z",
     "shell.execute_reply": "2021-11-09T10:18:48.675514Z"
    }
   },
   "outputs": [],
   "source": [
    "df_three_lang_male = the_func(df[['State','Age-group','th_r_m']])\n",
    "df_three_lang_female = the_func(df[['State','Age-group','th_r_f']])\n",
    "\n",
    "df_three_lang_male.reset_index(inplace=True,drop=True)\n",
    "df_three_lang_female.reset_index(inplace=True,drop=True)\n",
    "\n",
    "df_three_lang = df_three_lang_male.copy()\n",
    "df_three_lang[['Age-group-female','th_r_f']] = df_three_lang_female[['Age-group','th_r_f']]\n"
   ]
  },
  {
   "cell_type": "code",
   "execution_count": null,
   "id": "1b019f82",
   "metadata": {},
   "outputs": [],
   "source": []
  },
  {
   "cell_type": "code",
   "execution_count": 39,
   "id": "050e3896",
   "metadata": {
    "execution": {
     "iopub.execute_input": "2021-11-09T10:18:48.675514Z",
     "iopub.status.busy": "2021-11-09T10:18:48.675514Z",
     "iopub.status.idle": "2021-11-09T10:18:48.691644Z",
     "shell.execute_reply": "2021-11-09T10:18:48.691644Z"
    }
   },
   "outputs": [],
   "source": [
    "#there will be an issue with old version of MSword which displays '5-9' as '5-Sept' and '10-14' as 'OCT-14'\n",
    "# so we add '\\t' which will work fine now\n",
    "\n",
    "df_one_lang= df_one_lang.replace({'05-09':'5-9'+'\\t','10-14':'10-14'+'\\t'})\n",
    "df_two_lang = df_two_lang.replace({'05-09':'5-9'+'\\t','10-14':'10-14'+'\\t'})\n",
    "df_three_lang = df_three_lang.replace({'05-09':'5-9'+'\\t','10-14':'10-14'+'\\t'})"
   ]
  },
  {
   "cell_type": "code",
   "execution_count": 40,
   "id": "7392367e",
   "metadata": {
    "execution": {
     "iopub.execute_input": "2021-11-09T10:18:48.691644Z",
     "iopub.status.busy": "2021-11-09T10:18:48.691644Z",
     "iopub.status.idle": "2021-11-09T10:18:48.707269Z",
     "shell.execute_reply": "2021-11-09T10:18:48.707269Z"
    }
   },
   "outputs": [
    {
     "data": {
      "text/plain": [
       "Index(['State', 'Age-group', 'one_r_m', 'Age-group-female', 'one_r_f'], dtype='object')"
      ]
     },
     "execution_count": 40,
     "metadata": {},
     "output_type": "execute_result"
    }
   ],
   "source": [
    "df_one_lang.columns"
   ]
  },
  {
   "cell_type": "code",
   "execution_count": 41,
   "id": "f5cda950",
   "metadata": {},
   "outputs": [],
   "source": [
    "#SORTING ON STATEID\n",
    "df_one_lang.sort_values(['State'],inplace=True)\n",
    "df_two_lang.sort_values(['State'],inplace=True)\n",
    "df_three_lang.sort_values(['State'],inplace=True)"
   ]
  },
  {
   "cell_type": "code",
   "execution_count": 42,
   "id": "fbdf31ff",
   "metadata": {
    "execution": {
     "iopub.execute_input": "2021-11-09T10:18:48.707269Z",
     "iopub.status.busy": "2021-11-09T10:18:48.707269Z",
     "iopub.status.idle": "2021-11-09T10:18:48.722891Z",
     "shell.execute_reply": "2021-11-09T10:18:48.722891Z"
    }
   },
   "outputs": [],
   "source": [
    "#CHANGING COLUMN NAMES\n",
    "df_one_lang.rename(columns={'State':'state/ut','Age-group':'age-group-males','one_r_m':'ratio-males','Edu-level-female':'age-group-females','one_r_f':'ratio-females'}, inplace=True)\n",
    "df_two_lang.rename(columns={'State':'state/ut','Age-group':'age-group-males','tw_r_m':'ratio-males','Edu-level-female':'age-group-females','tw_r_f':'ratio-females'}, inplace=True)\n",
    "df_three_lang.rename(columns={'State':'state/ut','Age-group':'age-group-males','th_r_m':'ratio-males','Edu-level-female':'age-group-females','th_r_f':'ratio-females'}, inplace=True)"
   ]
  },
  {
   "cell_type": "code",
   "execution_count": 43,
   "id": "7e713461",
   "metadata": {
    "execution": {
     "iopub.execute_input": "2021-11-09T10:18:48.722891Z",
     "iopub.status.busy": "2021-11-09T10:18:48.722891Z",
     "iopub.status.idle": "2021-11-09T10:18:48.738512Z",
     "shell.execute_reply": "2021-11-09T10:18:48.738512Z"
    }
   },
   "outputs": [],
   "source": [
    "#WRTITNG TO CSVS\n",
    "\n",
    "df_one_lang.to_csv('age-gender-c.csv',index=False)\n",
    "df_two_lang.to_csv('age-gender-b.csv',index=False)\n",
    "df_three_lang.to_csv('age-gender-a.csv',index=False)\n"
   ]
  }
 ],
 "metadata": {
  "kernelspec": {
   "display_name": "Python 3",
   "language": "python",
   "name": "python3"
  },
  "language_info": {
   "codemirror_mode": {
    "name": "ipython",
    "version": 3
   },
   "file_extension": ".py",
   "mimetype": "text/x-python",
   "name": "python",
   "nbconvert_exporter": "python",
   "pygments_lexer": "ipython3",
   "version": "3.8.8"
  }
 },
 "nbformat": 4,
 "nbformat_minor": 5
}
