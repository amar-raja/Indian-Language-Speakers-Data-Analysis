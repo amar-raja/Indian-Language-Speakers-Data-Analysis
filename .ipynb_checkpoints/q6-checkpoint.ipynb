{
 "cells": [
  {
   "cell_type": "markdown",
   "id": "a2156705",
   "metadata": {},
   "source": [
    "## 6)Literacy group in India that has the highest percentage of people speaking three languages or more"
   ]
  },
  {
   "cell_type": "code",
   "execution_count": 1,
   "id": "0363b91a",
   "metadata": {
    "execution": {
     "iopub.execute_input": "2021-11-09T10:18:09.391392Z",
     "iopub.status.busy": "2021-11-09T10:18:09.391392Z",
     "iopub.status.idle": "2021-11-09T10:18:09.407014Z",
     "shell.execute_reply": "2021-11-09T10:18:09.407014Z"
    }
   },
   "outputs": [],
   "source": [
    "#files used c19,c08(pop by literacy)"
   ]
  },
  {
   "cell_type": "code",
   "execution_count": 2,
   "id": "4df32325",
   "metadata": {
    "execution": {
     "iopub.execute_input": "2021-11-09T10:18:09.407014Z",
     "iopub.status.busy": "2021-11-09T10:18:09.407014Z",
     "iopub.status.idle": "2021-11-09T10:18:09.985001Z",
     "shell.execute_reply": "2021-11-09T10:18:09.985001Z"
    }
   },
   "outputs": [],
   "source": [
    "import numpy as np\n",
    "import pandas as pd\n",
    "import datetime as dt\n",
    "import warnings\n",
    "warnings.filterwarnings('ignore')"
   ]
  },
  {
   "cell_type": "code",
   "execution_count": 3,
   "id": "af64e0b1",
   "metadata": {
    "execution": {
     "iopub.execute_input": "2021-11-09T10:18:09.985001Z",
     "iopub.status.busy": "2021-11-09T10:18:09.985001Z",
     "iopub.status.idle": "2021-11-09T10:18:11.203464Z",
     "shell.execute_reply": "2021-11-09T10:18:11.203464Z"
    }
   },
   "outputs": [],
   "source": [
    "#ASSIGNING COL NAMES\n",
    "column_names = ['State', 'District', 'Name', 'TRU','Edu-level','Persons.2','Males.2','Females.2','Persons.3','Males.3','Females.3']\n",
    "#READING DATA\n",
    "df = pd.read_excel('DDW-C19-0000.xlsx',names=column_names,skiprows=5,skipfooter=3)\n",
    "#check skipfooter once again"
   ]
  },
  {
   "cell_type": "code",
   "execution_count": 4,
   "id": "d8c7cdf4",
   "metadata": {
    "execution": {
     "iopub.execute_input": "2021-11-09T10:18:11.234707Z",
     "iopub.status.busy": "2021-11-09T10:18:11.219085Z",
     "iopub.status.idle": "2021-11-09T10:18:11.250328Z",
     "shell.execute_reply": "2021-11-09T10:18:11.250328Z"
    }
   },
   "outputs": [
    {
     "data": {
      "text/plain": [
       "Index(['State', 'District', 'Name', 'TRU', 'Edu-level', 'Persons.2', 'Males.2',\n",
       "       'Females.2', 'Persons.3', 'Males.3', 'Females.3'],\n",
       "      dtype='object')"
      ]
     },
     "execution_count": 4,
     "metadata": {},
     "output_type": "execute_result"
    }
   ],
   "source": [
    "df.columns"
   ]
  },
  {
   "cell_type": "code",
   "execution_count": 5,
   "id": "0e90709f",
   "metadata": {
    "execution": {
     "iopub.execute_input": "2021-11-09T10:18:11.250328Z",
     "iopub.status.busy": "2021-11-09T10:18:11.250328Z",
     "iopub.status.idle": "2021-11-09T10:18:11.265950Z",
     "shell.execute_reply": "2021-11-09T10:18:11.265950Z"
    }
   },
   "outputs": [],
   "source": [
    "# df.head()"
   ]
  },
  {
   "cell_type": "code",
   "execution_count": 6,
   "id": "f336368a",
   "metadata": {
    "execution": {
     "iopub.execute_input": "2021-11-09T10:18:11.265950Z",
     "iopub.status.busy": "2021-11-09T10:18:11.265950Z",
     "iopub.status.idle": "2021-11-09T10:18:11.281571Z",
     "shell.execute_reply": "2021-11-09T10:18:11.281571Z"
    }
   },
   "outputs": [
    {
     "data": {
      "text/plain": [
       "(864, 11)"
      ]
     },
     "execution_count": 6,
     "metadata": {},
     "output_type": "execute_result"
    }
   ],
   "source": [
    "df.shape"
   ]
  },
  {
   "cell_type": "code",
   "execution_count": 7,
   "id": "7c8c4aa8",
   "metadata": {
    "execution": {
     "iopub.execute_input": "2021-11-09T10:18:11.297192Z",
     "iopub.status.busy": "2021-11-09T10:18:11.297192Z",
     "iopub.status.idle": "2021-11-09T10:18:11.312813Z",
     "shell.execute_reply": "2021-11-09T10:18:11.312813Z"
    }
   },
   "outputs": [
    {
     "data": {
      "text/plain": [
       "array(['Total', 'Illiterate', 'Literate', 'Literate but below primary',\n",
       "       'Primary but below middle', 'Middle but below matric/secondary',\n",
       "       'Matric/Secondary but below graduate', 'Graduate and above'],\n",
       "      dtype=object)"
      ]
     },
     "execution_count": 7,
     "metadata": {},
     "output_type": "execute_result"
    }
   ],
   "source": [
    "df['Edu-level'].unique()"
   ]
  },
  {
   "cell_type": "code",
   "execution_count": 8,
   "id": "74384bff",
   "metadata": {
    "execution": {
     "iopub.execute_input": "2021-11-09T10:18:11.328435Z",
     "iopub.status.busy": "2021-11-09T10:18:11.328435Z",
     "iopub.status.idle": "2021-11-09T10:18:11.344056Z",
     "shell.execute_reply": "2021-11-09T10:18:11.344056Z"
    }
   },
   "outputs": [],
   "source": [
    "#TAKING ONLY REQUIRED COLUMNS\n",
    "df = df[['State','Name','TRU','Edu-level','Persons.3']]\n",
    "# REMOVING URBAN AND RURAL ROWS\n",
    "# idx = df.loc[(df['TRU']!='Total') | (df['Edu-level'] == 'Total') | (df['Edu-level'] == 'Illiterate')|(df['Edu-level'] == 'Literate')].index\n",
    "idx = df.loc[(df['TRU']!='Total') | (df['Edu-level'] == 'Total') |(df['Edu-level'] == 'Literate')].index\n",
    "df = df.drop(idx)"
   ]
  },
  {
   "cell_type": "code",
   "execution_count": 9,
   "id": "8d8a0302",
   "metadata": {
    "execution": {
     "iopub.execute_input": "2021-11-09T10:18:11.344056Z",
     "iopub.status.busy": "2021-11-09T10:18:11.344056Z",
     "iopub.status.idle": "2021-11-09T10:18:11.359677Z",
     "shell.execute_reply": "2021-11-09T10:18:11.359677Z"
    }
   },
   "outputs": [],
   "source": [
    "df.reset_index(drop=True,inplace=True)"
   ]
  },
  {
   "cell_type": "code",
   "execution_count": null,
   "id": "fe516084",
   "metadata": {},
   "outputs": [],
   "source": []
  },
  {
   "cell_type": "markdown",
   "id": "f0bc3f1d",
   "metadata": {},
   "source": [
    "#### PREPROCESSING C08"
   ]
  },
  {
   "cell_type": "code",
   "execution_count": 10,
   "id": "a5fbb0a9",
   "metadata": {
    "execution": {
     "iopub.execute_input": "2021-11-09T10:18:11.375299Z",
     "iopub.status.busy": "2021-11-09T10:18:11.359677Z",
     "iopub.status.idle": "2021-11-09T10:18:11.375299Z",
     "shell.execute_reply": "2021-11-09T10:18:11.375299Z"
    }
   },
   "outputs": [],
   "source": [
    "column_names = ['table_name', 'State','District', 'Name', 'TRU','Age-group', 'Persons', 'Males', 'Females', 'Persons.1', 'Males.1', 'Females.1', 'Persons.2', 'Males.2', 'Females.2', 'Persons.3', 'Males.3', 'Females.3', 'Persons.4', 'Males.4', 'Females.4', 'Persons.5', 'Males.5', 'Females.5', 'Persons.6', 'Males.6', 'Females.6', 'Persons.7', 'Males.7', 'Females.7', 'Persons.8',\n",
    "       'Males.8', 'Females.8', 'Persons.9', 'Males.9', 'Females.9', 'Persons.10', 'Males.10', 'Females.10', 'Persons.11', 'Males.11', 'Females.11', 'Persons.12', 'Males.12', 'Females.12']"
   ]
  },
  {
   "cell_type": "code",
   "execution_count": 11,
   "id": "0571022d",
   "metadata": {
    "execution": {
     "iopub.execute_input": "2021-11-09T10:18:11.375299Z",
     "iopub.status.busy": "2021-11-09T10:18:11.375299Z",
     "iopub.status.idle": "2021-11-09T10:18:15.142597Z",
     "shell.execute_reply": "2021-11-09T10:18:15.142597Z"
    }
   },
   "outputs": [],
   "source": [
    "# DDW-0000C-08.xlsx\n",
    "lit_pop = pd.read_excel('DDW-0000C-08.xlsx',names=column_names,skiprows=6)"
   ]
  },
  {
   "cell_type": "code",
   "execution_count": 12,
   "id": "5cc47d2c",
   "metadata": {
    "execution": {
     "iopub.execute_input": "2021-11-09T10:18:15.142597Z",
     "iopub.status.busy": "2021-11-09T10:18:15.142597Z",
     "iopub.status.idle": "2021-11-09T10:18:15.158218Z",
     "shell.execute_reply": "2021-11-09T10:18:15.158218Z"
    }
   },
   "outputs": [],
   "source": [
    "# lit_pop.head(10)"
   ]
  },
  {
   "cell_type": "code",
   "execution_count": 13,
   "id": "14330596",
   "metadata": {
    "execution": {
     "iopub.execute_input": "2021-11-09T10:18:15.158218Z",
     "iopub.status.busy": "2021-11-09T10:18:15.158218Z",
     "iopub.status.idle": "2021-11-09T10:18:15.173839Z",
     "shell.execute_reply": "2021-11-09T10:18:15.173839Z"
    }
   },
   "outputs": [],
   "source": [
    "#MAKING SOME SPELLING CHANGES\n",
    "lit_pop['Name'] = lit_pop['Name'].str.replace('State - ','')"
   ]
  },
  {
   "cell_type": "code",
   "execution_count": 14,
   "id": "ff421d1c",
   "metadata": {
    "execution": {
     "iopub.execute_input": "2021-11-09T10:18:15.173839Z",
     "iopub.status.busy": "2021-11-09T10:18:15.173839Z",
     "iopub.status.idle": "2021-11-09T10:18:15.189460Z",
     "shell.execute_reply": "2021-11-09T10:18:15.189460Z"
    }
   },
   "outputs": [
    {
     "data": {
      "text/plain": [
       "(3132, 45)"
      ]
     },
     "execution_count": 14,
     "metadata": {},
     "output_type": "execute_result"
    }
   ],
   "source": [
    "lit_pop.shape"
   ]
  },
  {
   "cell_type": "code",
   "execution_count": 15,
   "id": "b1e27a2f",
   "metadata": {
    "execution": {
     "iopub.execute_input": "2021-11-09T10:18:15.189460Z",
     "iopub.status.busy": "2021-11-09T10:18:15.189460Z",
     "iopub.status.idle": "2021-11-09T10:18:15.205082Z",
     "shell.execute_reply": "2021-11-09T10:18:15.205082Z"
    }
   },
   "outputs": [],
   "source": [
    "# REMOVING URBAN AND RURAL ROWS and AGE-GROUP \"TOTAL\" as they are not needed\n",
    "idx = lit_pop.loc[(lit_pop['TRU']!='Total') | (lit_pop['Age-group'] !='All ages')].index\n",
    "lit_pop = lit_pop.drop(idx)"
   ]
  },
  {
   "cell_type": "code",
   "execution_count": 16,
   "id": "6d89c537",
   "metadata": {
    "execution": {
     "iopub.execute_input": "2021-11-09T10:18:15.205082Z",
     "iopub.status.busy": "2021-11-09T10:18:15.205082Z",
     "iopub.status.idle": "2021-11-09T10:18:15.220704Z",
     "shell.execute_reply": "2021-11-09T10:18:15.220704Z"
    }
   },
   "outputs": [],
   "source": [
    "lit_pop.reset_index(drop=True,inplace=True)"
   ]
  },
  {
   "cell_type": "code",
   "execution_count": null,
   "id": "2bd66cf2",
   "metadata": {},
   "outputs": [],
   "source": []
  },
  {
   "cell_type": "markdown",
   "id": "2e0eadd4",
   "metadata": {},
   "source": [
    "COMBINING BASED ON GROUPINGS WE NEED"
   ]
  },
  {
   "cell_type": "code",
   "execution_count": 17,
   "id": "f42cf7ca",
   "metadata": {
    "execution": {
     "iopub.execute_input": "2021-11-09T10:18:15.220704Z",
     "iopub.status.busy": "2021-11-09T10:18:15.220704Z",
     "iopub.status.idle": "2021-11-09T10:18:15.236324Z",
     "shell.execute_reply": "2021-11-09T10:18:15.236324Z"
    }
   },
   "outputs": [],
   "source": [
    "newdf = pd.DataFrame()"
   ]
  },
  {
   "cell_type": "code",
   "execution_count": 18,
   "id": "61d0213a",
   "metadata": {
    "execution": {
     "iopub.execute_input": "2021-11-09T10:18:15.236324Z",
     "iopub.status.busy": "2021-11-09T10:18:15.236324Z",
     "iopub.status.idle": "2021-11-09T10:18:15.251945Z",
     "shell.execute_reply": "2021-11-09T10:18:15.251945Z"
    }
   },
   "outputs": [],
   "source": [
    "# newdf['Name'] = lit_pop['Name']\n",
    "\n",
    "newdf['ill'] = lit_pop['Persons.1']                             #ILLITERATE\n",
    "newdf['lbp'] = lit_pop['Persons.3'] + lit_pop['Persons.4']   #LITERACY BUT BELOW PRIMARY\n",
    "newdf['pbm'] = lit_pop['Persons.5']                         #PRIMARY BUT BELOW MIDDLE\n",
    "newdf['mbm'] = lit_pop['Persons.6']                          # MIDDLE BUT BELOW MATRIC\n",
    "\n",
    "newdf['mbg'] = lit_pop['Persons.7']+lit_pop['Persons.8']+lit_pop['Persons.9']+lit_pop['Persons.10']     #MATRIC BUT BELOW GRAD\n",
    "newdf['gaa'] = lit_pop['Persons.11']                          #GRADUATE AND ABOVE\n"
   ]
  },
  {
   "cell_type": "code",
   "execution_count": 19,
   "id": "9048e5d4",
   "metadata": {
    "execution": {
     "iopub.execute_input": "2021-11-09T10:18:15.251945Z",
     "iopub.status.busy": "2021-11-09T10:18:15.251945Z",
     "iopub.status.idle": "2021-11-09T10:18:15.267567Z",
     "shell.execute_reply": "2021-11-09T10:18:15.267567Z"
    }
   },
   "outputs": [],
   "source": [
    "# TRANSPOSING MAKES each category values AS A ROW\n",
    "# and then we convert rows into columns to ease calculations\n",
    "# this will result in the format required for c19 file respectively\n",
    "\n",
    "conv_df = pd.melt(newdf.transpose())"
   ]
  },
  {
   "cell_type": "code",
   "execution_count": 20,
   "id": "9a52cb33",
   "metadata": {
    "execution": {
     "iopub.execute_input": "2021-11-09T10:18:15.267567Z",
     "iopub.status.busy": "2021-11-09T10:18:15.267567Z",
     "iopub.status.idle": "2021-11-09T10:18:15.283188Z",
     "shell.execute_reply": "2021-11-09T10:18:15.283188Z"
    }
   },
   "outputs": [],
   "source": [
    "df['group_perc'] = df['Persons.3']/conv_df['value']"
   ]
  },
  {
   "cell_type": "code",
   "execution_count": 21,
   "id": "2640503a",
   "metadata": {
    "execution": {
     "iopub.execute_input": "2021-11-09T10:18:15.283188Z",
     "iopub.status.busy": "2021-11-09T10:18:15.283188Z",
     "iopub.status.idle": "2021-11-09T10:18:15.314431Z",
     "shell.execute_reply": "2021-11-09T10:18:15.314431Z"
    }
   },
   "outputs": [
    {
     "data": {
      "text/html": [
       "<div>\n",
       "<style scoped>\n",
       "    .dataframe tbody tr th:only-of-type {\n",
       "        vertical-align: middle;\n",
       "    }\n",
       "\n",
       "    .dataframe tbody tr th {\n",
       "        vertical-align: top;\n",
       "    }\n",
       "\n",
       "    .dataframe thead th {\n",
       "        text-align: right;\n",
       "    }\n",
       "</style>\n",
       "<table border=\"1\" class=\"dataframe\">\n",
       "  <thead>\n",
       "    <tr style=\"text-align: right;\">\n",
       "      <th></th>\n",
       "      <th>State</th>\n",
       "      <th>Name</th>\n",
       "      <th>TRU</th>\n",
       "      <th>Edu-level</th>\n",
       "      <th>Persons.3</th>\n",
       "      <th>group_perc</th>\n",
       "    </tr>\n",
       "  </thead>\n",
       "  <tbody>\n",
       "    <tr>\n",
       "      <th>0</th>\n",
       "      <td>0</td>\n",
       "      <td>INDIA</td>\n",
       "      <td>Total</td>\n",
       "      <td>Illiterate</td>\n",
       "      <td>3879858</td>\n",
       "      <td>0.008676</td>\n",
       "    </tr>\n",
       "    <tr>\n",
       "      <th>1</th>\n",
       "      <td>0</td>\n",
       "      <td>INDIA</td>\n",
       "      <td>Total</td>\n",
       "      <td>Literate but below primary</td>\n",
       "      <td>3733616</td>\n",
       "      <td>0.020509</td>\n",
       "    </tr>\n",
       "    <tr>\n",
       "      <th>2</th>\n",
       "      <td>0</td>\n",
       "      <td>INDIA</td>\n",
       "      <td>Total</td>\n",
       "      <td>Primary but below middle</td>\n",
       "      <td>8636296</td>\n",
       "      <td>0.046893</td>\n",
       "    </tr>\n",
       "    <tr>\n",
       "      <th>3</th>\n",
       "      <td>0</td>\n",
       "      <td>INDIA</td>\n",
       "      <td>Total</td>\n",
       "      <td>Middle but below matric/secondary</td>\n",
       "      <td>10743350</td>\n",
       "      <td>0.080232</td>\n",
       "    </tr>\n",
       "    <tr>\n",
       "      <th>4</th>\n",
       "      <td>0</td>\n",
       "      <td>INDIA</td>\n",
       "      <td>Total</td>\n",
       "      <td>Matric/Secondary but below graduate</td>\n",
       "      <td>33899219</td>\n",
       "      <td>0.176381</td>\n",
       "    </tr>\n",
       "  </tbody>\n",
       "</table>\n",
       "</div>"
      ],
      "text/plain": [
       "   State   Name    TRU                            Edu-level  Persons.3  \\\n",
       "0      0  INDIA  Total                           Illiterate    3879858   \n",
       "1      0  INDIA  Total           Literate but below primary    3733616   \n",
       "2      0  INDIA  Total             Primary but below middle    8636296   \n",
       "3      0  INDIA  Total    Middle but below matric/secondary   10743350   \n",
       "4      0  INDIA  Total  Matric/Secondary but below graduate   33899219   \n",
       "\n",
       "   group_perc  \n",
       "0    0.008676  \n",
       "1    0.020509  \n",
       "2    0.046893  \n",
       "3    0.080232  \n",
       "4    0.176381  "
      ]
     },
     "execution_count": 21,
     "metadata": {},
     "output_type": "execute_result"
    }
   ],
   "source": [
    "df.head()"
   ]
  },
  {
   "cell_type": "code",
   "execution_count": 22,
   "id": "7c8deb59",
   "metadata": {
    "execution": {
     "iopub.execute_input": "2021-11-09T10:18:15.314431Z",
     "iopub.status.busy": "2021-11-09T10:18:15.314431Z",
     "iopub.status.idle": "2021-11-09T10:18:15.330052Z",
     "shell.execute_reply": "2021-11-09T10:18:15.330052Z"
    }
   },
   "outputs": [
    {
     "data": {
      "text/plain": [
       "Index(['State', 'Name', 'TRU', 'Edu-level', 'Persons.3', 'group_perc'], dtype='object')"
      ]
     },
     "execution_count": 22,
     "metadata": {},
     "output_type": "execute_result"
    }
   ],
   "source": [
    "df.columns"
   ]
  },
  {
   "cell_type": "code",
   "execution_count": 23,
   "id": "f6fee40e",
   "metadata": {
    "execution": {
     "iopub.execute_input": "2021-11-09T10:18:15.330052Z",
     "iopub.status.busy": "2021-11-09T10:18:15.330052Z",
     "iopub.status.idle": "2021-11-09T10:18:15.345673Z",
     "shell.execute_reply": "2021-11-09T10:18:15.345673Z"
    }
   },
   "outputs": [],
   "source": [
    "#finding index of maxratio\n",
    "indexes = []\n",
    "for i in range(36):\n",
    "    t = i*6                        #number of categories in a state\n",
    "    indexes.append(df.iloc[t:t+6,-1].idxmax())   #finding index of maxratio"
   ]
  },
  {
   "cell_type": "code",
   "execution_count": 24,
   "id": "aa9104c8",
   "metadata": {
    "execution": {
     "iopub.execute_input": "2021-11-09T10:18:15.345673Z",
     "iopub.status.busy": "2021-11-09T10:18:15.345673Z",
     "iopub.status.idle": "2021-11-09T10:18:15.361294Z",
     "shell.execute_reply": "2021-11-09T10:18:15.361294Z"
    }
   },
   "outputs": [],
   "source": [
    "#MAXRATIO ROWS ARE STORED INTO A DATAFRAME\n",
    "finaldf = df.iloc[indexes]"
   ]
  },
  {
   "cell_type": "code",
   "execution_count": 25,
   "id": "71e22c31",
   "metadata": {
    "execution": {
     "iopub.execute_input": "2021-11-09T10:18:15.361294Z",
     "iopub.status.busy": "2021-11-09T10:18:15.361294Z",
     "iopub.status.idle": "2021-11-09T10:18:15.376916Z",
     "shell.execute_reply": "2021-11-09T10:18:15.376916Z"
    }
   },
   "outputs": [],
   "source": [
    "#SORTING DF ON STATEID\n",
    "finaldf = finaldf.sort_values(['State'])\n",
    "finaldf.reset_index(drop=True,inplace=True)"
   ]
  },
  {
   "cell_type": "code",
   "execution_count": 26,
   "id": "d327544e",
   "metadata": {
    "execution": {
     "iopub.execute_input": "2021-11-09T10:18:15.376916Z",
     "iopub.status.busy": "2021-11-09T10:18:15.376916Z",
     "iopub.status.idle": "2021-11-09T10:18:15.392538Z",
     "shell.execute_reply": "2021-11-09T10:18:15.392538Z"
    }
   },
   "outputs": [],
   "source": [
    "#TAKING ONLY REQUIRED COLUMNS AND RENAMING\n",
    "finaldf = finaldf[['State','Name','Edu-level','group_perc']]"
   ]
  },
  {
   "cell_type": "code",
   "execution_count": 27,
   "id": "15e1adc8",
   "metadata": {
    "execution": {
     "iopub.execute_input": "2021-11-09T10:18:15.392538Z",
     "iopub.status.busy": "2021-11-09T10:18:15.392538Z",
     "iopub.status.idle": "2021-11-09T10:18:15.408159Z",
     "shell.execute_reply": "2021-11-09T10:18:15.408159Z"
    }
   },
   "outputs": [],
   "source": [
    "resultdf = finaldf[['State','Edu-level','group_perc']]"
   ]
  },
  {
   "cell_type": "code",
   "execution_count": 28,
   "id": "14e70c49",
   "metadata": {
    "execution": {
     "iopub.execute_input": "2021-11-09T10:18:15.423781Z",
     "iopub.status.busy": "2021-11-09T10:18:15.408159Z",
     "iopub.status.idle": "2021-11-09T10:18:15.439401Z",
     "shell.execute_reply": "2021-11-09T10:18:15.439401Z"
    }
   },
   "outputs": [],
   "source": [
    "resultdf.rename(columns={'State':'state/ut','Edu-level':'literacy-group','group_perc':'percentage'},inplace=True)\n",
    "# resultdf.head()"
   ]
  },
  {
   "cell_type": "code",
   "execution_count": 29,
   "id": "a2c479e6",
   "metadata": {
    "execution": {
     "iopub.execute_input": "2021-11-09T10:18:15.439401Z",
     "iopub.status.busy": "2021-11-09T10:18:15.439401Z",
     "iopub.status.idle": "2021-11-09T10:18:15.455023Z",
     "shell.execute_reply": "2021-11-09T10:18:15.455023Z"
    }
   },
   "outputs": [],
   "source": [
    "#WRITING TO CSV\n",
    "resultdf.to_csv('literacy-india.csv',index=False)"
   ]
  },
  {
   "cell_type": "code",
   "execution_count": 30,
   "id": "01ac6766",
   "metadata": {
    "execution": {
     "iopub.execute_input": "2021-11-09T10:18:15.455023Z",
     "iopub.status.busy": "2021-11-09T10:18:15.455023Z",
     "iopub.status.idle": "2021-11-09T10:18:15.470644Z",
     "shell.execute_reply": "2021-11-09T10:18:15.470644Z"
    }
   },
   "outputs": [],
   "source": [
    "#completed"
   ]
  },
  {
   "cell_type": "code",
   "execution_count": null,
   "id": "600c1600",
   "metadata": {},
   "outputs": [],
   "source": []
  }
 ],
 "metadata": {
  "kernelspec": {
   "display_name": "Python 3",
   "language": "python",
   "name": "python3"
  },
  "language_info": {
   "codemirror_mode": {
    "name": "ipython",
    "version": 3
   },
   "file_extension": ".py",
   "mimetype": "text/x-python",
   "name": "python",
   "nbconvert_exporter": "python",
   "pygments_lexer": "ipython3",
   "version": "3.8.8"
  }
 },
 "nbformat": 4,
 "nbformat_minor": 5
}
