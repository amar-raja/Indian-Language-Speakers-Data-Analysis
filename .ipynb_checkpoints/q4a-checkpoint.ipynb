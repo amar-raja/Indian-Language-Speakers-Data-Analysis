{
 "cells": [
  {
   "cell_type": "markdown",
   "id": "53376d28",
   "metadata": {},
   "source": [
    "### 4)TOP 3 STATES and WORST 3 STATES FOR -- 3-to-2 LANGUAGE RATIO  and 2-to-1 LANGUAGE RATIO"
   ]
  },
  {
   "cell_type": "code",
   "execution_count": 1,
   "id": "abd473be",
   "metadata": {},
   "outputs": [],
   "source": [
    "import numpy as np\n",
    "import pandas as pd\n",
    "import datetime as dt\n",
    "import warnings\n",
    "warnings.filterwarnings('ignore')"
   ]
  },
  {
   "cell_type": "code",
   "execution_count": 2,
   "id": "53c8fbcb",
   "metadata": {},
   "outputs": [],
   "source": [
    "pd.set_option('display.max_columns',30)\n",
    "pd.set_option('display.max_rows',10000)\n",
    "pd.set_option('display.width',400)"
   ]
  },
  {
   "cell_type": "code",
   "execution_count": 3,
   "id": "129d79a9",
   "metadata": {},
   "outputs": [],
   "source": [
    "#ASSIGNING COL NAMES\n",
    "column_names = ['State', 'District', 'Name', 'TRU','Age-group','Persons.2','Males.2','Females.2','Persons.3','Males.3','Females.3']\n",
    "#READING DATA\n",
    "df = pd.read_excel('DDW-C18-0000.xlsx',names=column_names,skiprows=5)"
   ]
  },
  {
   "cell_type": "code",
   "execution_count": 4,
   "id": "ec4a8a87",
   "metadata": {},
   "outputs": [],
   "source": [
    "#TAKING ONLY REQUIRED COLUMNS \"TWO or MORE LANGUAGES\" and \"THREE OR MORE LANGUAGES\"\n",
    "df = df[['State','Name','TRU','Age-group','Persons.2','Persons.3']]\n",
    "\n",
    "# REMOVING URBAN AND RURAL ROWS AND AGE-GROUP CATEGORIES OTHER THAN TOTAL\n",
    "idx = df.loc[(df['TRU']!='Total') | (df['Age-group'] !='Total')].index\n",
    "df = df.drop(idx)"
   ]
  },
  {
   "cell_type": "code",
   "execution_count": 5,
   "id": "b4f9a49c",
   "metadata": {},
   "outputs": [],
   "source": [
    "df.reset_index(inplace=True,drop=True)"
   ]
  },
  {
   "cell_type": "code",
   "execution_count": 6,
   "id": "64cf050c",
   "metadata": {},
   "outputs": [
    {
     "data": {
      "text/html": [
       "<div>\n",
       "<style scoped>\n",
       "    .dataframe tbody tr th:only-of-type {\n",
       "        vertical-align: middle;\n",
       "    }\n",
       "\n",
       "    .dataframe tbody tr th {\n",
       "        vertical-align: top;\n",
       "    }\n",
       "\n",
       "    .dataframe thead th {\n",
       "        text-align: right;\n",
       "    }\n",
       "</style>\n",
       "<table border=\"1\" class=\"dataframe\">\n",
       "  <thead>\n",
       "    <tr style=\"text-align: right;\">\n",
       "      <th></th>\n",
       "      <th>State</th>\n",
       "      <th>Name</th>\n",
       "      <th>TRU</th>\n",
       "      <th>Age-group</th>\n",
       "      <th>Persons.2</th>\n",
       "      <th>Persons.3</th>\n",
       "    </tr>\n",
       "  </thead>\n",
       "  <tbody>\n",
       "    <tr>\n",
       "      <th>0</th>\n",
       "      <td>0</td>\n",
       "      <td>INDIA</td>\n",
       "      <td>Total</td>\n",
       "      <td>Total</td>\n",
       "      <td>314988770</td>\n",
       "      <td>86009580</td>\n",
       "    </tr>\n",
       "    <tr>\n",
       "      <th>1</th>\n",
       "      <td>1</td>\n",
       "      <td>JAMMU &amp; KASHMIR</td>\n",
       "      <td>Total</td>\n",
       "      <td>Total</td>\n",
       "      <td>6183190</td>\n",
       "      <td>2096220</td>\n",
       "    </tr>\n",
       "    <tr>\n",
       "      <th>2</th>\n",
       "      <td>2</td>\n",
       "      <td>HIMACHAL PRADESH</td>\n",
       "      <td>Total</td>\n",
       "      <td>Total</td>\n",
       "      <td>1242705</td>\n",
       "      <td>347286</td>\n",
       "    </tr>\n",
       "    <tr>\n",
       "      <th>3</th>\n",
       "      <td>3</td>\n",
       "      <td>PUNJAB</td>\n",
       "      <td>Total</td>\n",
       "      <td>Total</td>\n",
       "      <td>13035224</td>\n",
       "      <td>7829913</td>\n",
       "    </tr>\n",
       "    <tr>\n",
       "      <th>4</th>\n",
       "      <td>4</td>\n",
       "      <td>CHANDIGARH</td>\n",
       "      <td>Total</td>\n",
       "      <td>Total</td>\n",
       "      <td>579920</td>\n",
       "      <td>321979</td>\n",
       "    </tr>\n",
       "  </tbody>\n",
       "</table>\n",
       "</div>"
      ],
      "text/plain": [
       "   State              Name    TRU Age-group  Persons.2  Persons.3\n",
       "0      0             INDIA  Total     Total  314988770   86009580\n",
       "1      1   JAMMU & KASHMIR  Total     Total    6183190    2096220\n",
       "2      2  HIMACHAL PRADESH  Total     Total    1242705     347286\n",
       "3      3            PUNJAB  Total     Total   13035224    7829913\n",
       "4      4        CHANDIGARH  Total     Total     579920     321979"
      ]
     },
     "execution_count": 6,
     "metadata": {},
     "output_type": "execute_result"
    }
   ],
   "source": [
    "df.head()"
   ]
  },
  {
   "cell_type": "code",
   "execution_count": 7,
   "id": "a7e24424",
   "metadata": {},
   "outputs": [],
   "source": [
    "# CALCULATING EXACTLY TWO-LANG\n",
    "df['only2lang'] = df['Persons.2'] - df['Persons.3']"
   ]
  },
  {
   "cell_type": "code",
   "execution_count": 8,
   "id": "f4c02b28",
   "metadata": {},
   "outputs": [],
   "source": [
    "#CALCULATING RATIO 3 to 2 lang\n",
    "df['r3to2'] = df['Persons.3'] / df['only2lang']"
   ]
  },
  {
   "cell_type": "code",
   "execution_count": 9,
   "id": "da320b80",
   "metadata": {},
   "outputs": [],
   "source": [
    "#THIS df is used for  2to1lang ratio CALCULATION AFTERWARDS so creating a COPY\n",
    "org_df = df.copy()"
   ]
  },
  {
   "cell_type": "code",
   "execution_count": 10,
   "id": "e4536498",
   "metadata": {},
   "outputs": [],
   "source": [
    "df = df.sort_values(['r3to2'])   #SORTING DATAFRAME IN ASCENDING ORDER OF RATIOS"
   ]
  },
  {
   "cell_type": "code",
   "execution_count": 11,
   "id": "92fab86a",
   "metadata": {},
   "outputs": [
    {
     "data": {
      "text/html": [
       "<div>\n",
       "<style scoped>\n",
       "    .dataframe tbody tr th:only-of-type {\n",
       "        vertical-align: middle;\n",
       "    }\n",
       "\n",
       "    .dataframe tbody tr th {\n",
       "        vertical-align: top;\n",
       "    }\n",
       "\n",
       "    .dataframe thead th {\n",
       "        text-align: right;\n",
       "    }\n",
       "</style>\n",
       "<table border=\"1\" class=\"dataframe\">\n",
       "  <thead>\n",
       "    <tr style=\"text-align: right;\">\n",
       "      <th></th>\n",
       "      <th>State</th>\n",
       "      <th>Name</th>\n",
       "      <th>TRU</th>\n",
       "      <th>Age-group</th>\n",
       "      <th>Persons.2</th>\n",
       "      <th>Persons.3</th>\n",
       "      <th>only2lang</th>\n",
       "      <th>r3to2</th>\n",
       "    </tr>\n",
       "  </thead>\n",
       "  <tbody>\n",
       "    <tr>\n",
       "      <th>10</th>\n",
       "      <td>10</td>\n",
       "      <td>BIHAR</td>\n",
       "      <td>Total</td>\n",
       "      <td>Total</td>\n",
       "      <td>16761785</td>\n",
       "      <td>1682572</td>\n",
       "      <td>15079213</td>\n",
       "      <td>0.111582</td>\n",
       "    </tr>\n",
       "    <tr>\n",
       "      <th>5</th>\n",
       "      <td>5</td>\n",
       "      <td>UTTARAKHAND</td>\n",
       "      <td>Total</td>\n",
       "      <td>Total</td>\n",
       "      <td>1757756</td>\n",
       "      <td>187822</td>\n",
       "      <td>1569934</td>\n",
       "      <td>0.119637</td>\n",
       "    </tr>\n",
       "    <tr>\n",
       "      <th>9</th>\n",
       "      <td>9</td>\n",
       "      <td>UTTAR PRADESH</td>\n",
       "      <td>Total</td>\n",
       "      <td>Total</td>\n",
       "      <td>22873609</td>\n",
       "      <td>2585664</td>\n",
       "      <td>20287945</td>\n",
       "      <td>0.127448</td>\n",
       "    </tr>\n",
       "    <tr>\n",
       "      <th>33</th>\n",
       "      <td>33</td>\n",
       "      <td>TAMIL NADU</td>\n",
       "      <td>Total</td>\n",
       "      <td>Total</td>\n",
       "      <td>20416270</td>\n",
       "      <td>2447163</td>\n",
       "      <td>17969107</td>\n",
       "      <td>0.136187</td>\n",
       "    </tr>\n",
       "    <tr>\n",
       "      <th>22</th>\n",
       "      <td>22</td>\n",
       "      <td>CHHATTISGARH</td>\n",
       "      <td>Total</td>\n",
       "      <td>Total</td>\n",
       "      <td>3384223</td>\n",
       "      <td>422569</td>\n",
       "      <td>2961654</td>\n",
       "      <td>0.142680</td>\n",
       "    </tr>\n",
       "  </tbody>\n",
       "</table>\n",
       "</div>"
      ],
      "text/plain": [
       "    State           Name    TRU Age-group  Persons.2  Persons.3  only2lang     r3to2\n",
       "10     10          BIHAR  Total     Total   16761785    1682572   15079213  0.111582\n",
       "5       5    UTTARAKHAND  Total     Total    1757756     187822    1569934  0.119637\n",
       "9       9  UTTAR PRADESH  Total     Total   22873609    2585664   20287945  0.127448\n",
       "33     33     TAMIL NADU  Total     Total   20416270    2447163   17969107  0.136187\n",
       "22     22   CHHATTISGARH  Total     Total    3384223     422569    2961654  0.142680"
      ]
     },
     "execution_count": 11,
     "metadata": {},
     "output_type": "execute_result"
    }
   ],
   "source": [
    "df.head()"
   ]
  },
  {
   "cell_type": "code",
   "execution_count": 12,
   "id": "43c6fa8a",
   "metadata": {},
   "outputs": [],
   "source": [
    "#AN EMPTY DATAFRAME\n",
    "newdf = pd.DataFrame()"
   ]
  },
  {
   "cell_type": "code",
   "execution_count": 13,
   "id": "fa8bc2b0",
   "metadata": {},
   "outputs": [],
   "source": [
    "high = df.iloc[[-1,-2,-3],[0,-1]]            # SELECTING TOP 3 RATIOS as data is sorted and selecting columns statecode and ratio\n",
    "low = df.iloc[[0,1,2],[0,-1]]                # SELECTING LEAST 3 RATIOS and selecting columns statecode and ratio"
   ]
  },
  {
   "cell_type": "code",
   "execution_count": 14,
   "id": "5d3d2576",
   "metadata": {},
   "outputs": [],
   "source": [
    "#high\n",
    "#low"
   ]
  },
  {
   "cell_type": "code",
   "execution_count": 15,
   "id": "83c94718",
   "metadata": {},
   "outputs": [],
   "source": [
    "#APPENDING INTO A SINGLE DATAFRAME\n",
    "newdf = newdf.append([high,low])"
   ]
  },
  {
   "cell_type": "code",
   "execution_count": 16,
   "id": "37aa8a55",
   "metadata": {},
   "outputs": [],
   "source": [
    "newdf.reset_index(inplace=True,drop=True)"
   ]
  },
  {
   "cell_type": "code",
   "execution_count": 17,
   "id": "d9a47d9f",
   "metadata": {},
   "outputs": [
    {
     "data": {
      "text/plain": [
       "Index(['State', 'r3to2'], dtype='object')"
      ]
     },
     "execution_count": 17,
     "metadata": {},
     "output_type": "execute_result"
    }
   ],
   "source": [
    "newdf.columns"
   ]
  },
  {
   "cell_type": "code",
   "execution_count": 18,
   "id": "8c9ad11f",
   "metadata": {},
   "outputs": [
    {
     "data": {
      "text/html": [
       "<div>\n",
       "<style scoped>\n",
       "    .dataframe tbody tr th:only-of-type {\n",
       "        vertical-align: middle;\n",
       "    }\n",
       "\n",
       "    .dataframe tbody tr th {\n",
       "        vertical-align: top;\n",
       "    }\n",
       "\n",
       "    .dataframe thead th {\n",
       "        text-align: right;\n",
       "    }\n",
       "</style>\n",
       "<table border=\"1\" class=\"dataframe\">\n",
       "  <thead>\n",
       "    <tr style=\"text-align: right;\">\n",
       "      <th></th>\n",
       "      <th>State</th>\n",
       "      <th>r3to2</th>\n",
       "    </tr>\n",
       "  </thead>\n",
       "  <tbody>\n",
       "    <tr>\n",
       "      <th>0</th>\n",
       "      <td>30</td>\n",
       "      <td>1.925807</td>\n",
       "    </tr>\n",
       "    <tr>\n",
       "      <th>1</th>\n",
       "      <td>3</td>\n",
       "      <td>1.504216</td>\n",
       "    </tr>\n",
       "    <tr>\n",
       "      <th>2</th>\n",
       "      <td>4</td>\n",
       "      <td>1.248266</td>\n",
       "    </tr>\n",
       "    <tr>\n",
       "      <th>3</th>\n",
       "      <td>10</td>\n",
       "      <td>0.111582</td>\n",
       "    </tr>\n",
       "    <tr>\n",
       "      <th>4</th>\n",
       "      <td>5</td>\n",
       "      <td>0.119637</td>\n",
       "    </tr>\n",
       "    <tr>\n",
       "      <th>5</th>\n",
       "      <td>9</td>\n",
       "      <td>0.127448</td>\n",
       "    </tr>\n",
       "  </tbody>\n",
       "</table>\n",
       "</div>"
      ],
      "text/plain": [
       "   State     r3to2\n",
       "0     30  1.925807\n",
       "1      3  1.504216\n",
       "2      4  1.248266\n",
       "3     10  0.111582\n",
       "4      5  0.119637\n",
       "5      9  0.127448"
      ]
     },
     "execution_count": 18,
     "metadata": {},
     "output_type": "execute_result"
    }
   ],
   "source": [
    "newdf "
   ]
  },
  {
   "cell_type": "code",
   "execution_count": 19,
   "id": "f2e2ab89",
   "metadata": {},
   "outputs": [],
   "source": [
    "#RATIO 3-to-2 is completed"
   ]
  },
  {
   "cell_type": "markdown",
   "id": "37ac03c8",
   "metadata": {},
   "source": [
    "PREPROCESSING CENSUSDATA"
   ]
  },
  {
   "cell_type": "code",
   "execution_count": 20,
   "id": "1588d78a",
   "metadata": {},
   "outputs": [],
   "source": [
    "censuscols = ['State','Level','Name','TRU','TOT_P']\n",
    "census_data = pd.read_excel(r'DDW_PCA0000_2011_Indiastatedist.xlsx',usecols=censuscols)"
   ]
  },
  {
   "cell_type": "code",
   "execution_count": 21,
   "id": "a77245f0",
   "metadata": {},
   "outputs": [],
   "source": [
    "#dropping rows OF TRU =(rural,urban) as not needed\n",
    "a = census_data.loc[(census_data['TRU']=='Rural') | (census_data['TRU']=='Urban') | (census_data['Level'] == 'DISTRICT')].index\n",
    "census_data = census_data.drop(a)"
   ]
  },
  {
   "cell_type": "code",
   "execution_count": 22,
   "id": "0911c33e",
   "metadata": {},
   "outputs": [],
   "source": [
    "census_data.reset_index(inplace=True,drop=True)"
   ]
  },
  {
   "cell_type": "code",
   "execution_count": null,
   "id": "2ad84879",
   "metadata": {},
   "outputs": [],
   "source": []
  },
  {
   "cell_type": "markdown",
   "id": "822b70a6",
   "metadata": {},
   "source": [
    "### RATIO OF 1LANG TO 2lang"
   ]
  },
  {
   "cell_type": "code",
   "execution_count": 23,
   "id": "ebf4356c",
   "metadata": {},
   "outputs": [],
   "source": [
    "#CALCULATING ONLY ONE LANG SPEAKERS  and we use the saved dataframe above\n",
    "org_df['only1lang'] = census_data['TOT_P'] - org_df['Persons.2']"
   ]
  },
  {
   "cell_type": "code",
   "execution_count": 24,
   "id": "25f156c5",
   "metadata": {},
   "outputs": [
    {
     "data": {
      "text/html": [
       "<div>\n",
       "<style scoped>\n",
       "    .dataframe tbody tr th:only-of-type {\n",
       "        vertical-align: middle;\n",
       "    }\n",
       "\n",
       "    .dataframe tbody tr th {\n",
       "        vertical-align: top;\n",
       "    }\n",
       "\n",
       "    .dataframe thead th {\n",
       "        text-align: right;\n",
       "    }\n",
       "</style>\n",
       "<table border=\"1\" class=\"dataframe\">\n",
       "  <thead>\n",
       "    <tr style=\"text-align: right;\">\n",
       "      <th></th>\n",
       "      <th>State</th>\n",
       "      <th>Name</th>\n",
       "      <th>TRU</th>\n",
       "      <th>Age-group</th>\n",
       "      <th>Persons.2</th>\n",
       "      <th>Persons.3</th>\n",
       "      <th>only2lang</th>\n",
       "      <th>r3to2</th>\n",
       "      <th>only1lang</th>\n",
       "    </tr>\n",
       "  </thead>\n",
       "  <tbody>\n",
       "    <tr>\n",
       "      <th>0</th>\n",
       "      <td>0</td>\n",
       "      <td>INDIA</td>\n",
       "      <td>Total</td>\n",
       "      <td>Total</td>\n",
       "      <td>314988770</td>\n",
       "      <td>86009580</td>\n",
       "      <td>228979190</td>\n",
       "      <td>0.375622</td>\n",
       "      <td>895866207</td>\n",
       "    </tr>\n",
       "    <tr>\n",
       "      <th>1</th>\n",
       "      <td>1</td>\n",
       "      <td>JAMMU &amp; KASHMIR</td>\n",
       "      <td>Total</td>\n",
       "      <td>Total</td>\n",
       "      <td>6183190</td>\n",
       "      <td>2096220</td>\n",
       "      <td>4086970</td>\n",
       "      <td>0.512903</td>\n",
       "      <td>6358112</td>\n",
       "    </tr>\n",
       "    <tr>\n",
       "      <th>2</th>\n",
       "      <td>2</td>\n",
       "      <td>HIMACHAL PRADESH</td>\n",
       "      <td>Total</td>\n",
       "      <td>Total</td>\n",
       "      <td>1242705</td>\n",
       "      <td>347286</td>\n",
       "      <td>895419</td>\n",
       "      <td>0.387847</td>\n",
       "      <td>5621897</td>\n",
       "    </tr>\n",
       "    <tr>\n",
       "      <th>3</th>\n",
       "      <td>3</td>\n",
       "      <td>PUNJAB</td>\n",
       "      <td>Total</td>\n",
       "      <td>Total</td>\n",
       "      <td>13035224</td>\n",
       "      <td>7829913</td>\n",
       "      <td>5205311</td>\n",
       "      <td>1.504216</td>\n",
       "      <td>14708114</td>\n",
       "    </tr>\n",
       "    <tr>\n",
       "      <th>4</th>\n",
       "      <td>4</td>\n",
       "      <td>CHANDIGARH</td>\n",
       "      <td>Total</td>\n",
       "      <td>Total</td>\n",
       "      <td>579920</td>\n",
       "      <td>321979</td>\n",
       "      <td>257941</td>\n",
       "      <td>1.248266</td>\n",
       "      <td>475530</td>\n",
       "    </tr>\n",
       "  </tbody>\n",
       "</table>\n",
       "</div>"
      ],
      "text/plain": [
       "   State              Name    TRU Age-group  Persons.2  Persons.3  only2lang     r3to2  only1lang\n",
       "0      0             INDIA  Total     Total  314988770   86009580  228979190  0.375622  895866207\n",
       "1      1   JAMMU & KASHMIR  Total     Total    6183190    2096220    4086970  0.512903    6358112\n",
       "2      2  HIMACHAL PRADESH  Total     Total    1242705     347286     895419  0.387847    5621897\n",
       "3      3            PUNJAB  Total     Total   13035224    7829913    5205311  1.504216   14708114\n",
       "4      4        CHANDIGARH  Total     Total     579920     321979     257941  1.248266     475530"
      ]
     },
     "execution_count": 24,
     "metadata": {},
     "output_type": "execute_result"
    }
   ],
   "source": [
    "org_df.head()"
   ]
  },
  {
   "cell_type": "code",
   "execution_count": 25,
   "id": "e26c5b64",
   "metadata": {},
   "outputs": [],
   "source": [
    "#CALCULATING RATIOS\n",
    "org_df['r2to1'] = org_df['only2lang'] / org_df['only1lang']\n",
    "\n",
    "#SORTING DATAFRAME\n",
    "org_df = org_df.sort_values(['r2to1'])\n"
   ]
  },
  {
   "cell_type": "code",
   "execution_count": 26,
   "id": "f5a60efd",
   "metadata": {},
   "outputs": [],
   "source": [
    "#AN EMPTY DATAFRAME\n",
    "newdf2 = pd.DataFrame()"
   ]
  },
  {
   "cell_type": "code",
   "execution_count": 27,
   "id": "59fef18a",
   "metadata": {},
   "outputs": [],
   "source": [
    "high2 = org_df.iloc[[-1,-2,-3],[0,-1]]                 # SELECTING TOP 3 RATIOS as data is sorted\n",
    "low2 = org_df.iloc[[0,1,2],[0,-1]]                     # SELECTING LEAST 3 RATIOS"
   ]
  },
  {
   "cell_type": "code",
   "execution_count": 28,
   "id": "f3f470ef",
   "metadata": {},
   "outputs": [],
   "source": [
    "#high2\n",
    "#low2"
   ]
  },
  {
   "cell_type": "code",
   "execution_count": 29,
   "id": "287b56c7",
   "metadata": {},
   "outputs": [],
   "source": [
    "#APPENDING INTO A SINGLE DATAFRAME\n",
    "newdf2 = newdf2.append([high2,low2])"
   ]
  },
  {
   "cell_type": "code",
   "execution_count": 30,
   "id": "17312461",
   "metadata": {},
   "outputs": [],
   "source": [
    "newdf2.reset_index(inplace=True,drop=True)"
   ]
  },
  {
   "cell_type": "code",
   "execution_count": 31,
   "id": "56fc861e",
   "metadata": {},
   "outputs": [
    {
     "data": {
      "text/html": [
       "<div>\n",
       "<style scoped>\n",
       "    .dataframe tbody tr th:only-of-type {\n",
       "        vertical-align: middle;\n",
       "    }\n",
       "\n",
       "    .dataframe tbody tr th {\n",
       "        vertical-align: top;\n",
       "    }\n",
       "\n",
       "    .dataframe thead th {\n",
       "        text-align: right;\n",
       "    }\n",
       "</style>\n",
       "<table border=\"1\" class=\"dataframe\">\n",
       "  <thead>\n",
       "    <tr style=\"text-align: right;\">\n",
       "      <th></th>\n",
       "      <th>State</th>\n",
       "      <th>r2to1</th>\n",
       "    </tr>\n",
       "  </thead>\n",
       "  <tbody>\n",
       "    <tr>\n",
       "      <th>0</th>\n",
       "      <td>35</td>\n",
       "      <td>1.499862</td>\n",
       "    </tr>\n",
       "    <tr>\n",
       "      <th>1</th>\n",
       "      <td>30</td>\n",
       "      <td>1.157976</td>\n",
       "    </tr>\n",
       "    <tr>\n",
       "      <th>2</th>\n",
       "      <td>12</td>\n",
       "      <td>0.938953</td>\n",
       "    </tr>\n",
       "    <tr>\n",
       "      <th>3</th>\n",
       "      <td>8</td>\n",
       "      <td>0.105877</td>\n",
       "    </tr>\n",
       "    <tr>\n",
       "      <th>4</th>\n",
       "      <td>9</td>\n",
       "      <td>0.114661</td>\n",
       "    </tr>\n",
       "    <tr>\n",
       "      <th>5</th>\n",
       "      <td>22</td>\n",
       "      <td>0.133643</td>\n",
       "    </tr>\n",
       "  </tbody>\n",
       "</table>\n",
       "</div>"
      ],
      "text/plain": [
       "   State     r2to1\n",
       "0     35  1.499862\n",
       "1     30  1.157976\n",
       "2     12  0.938953\n",
       "3      8  0.105877\n",
       "4      9  0.114661\n",
       "5     22  0.133643"
      ]
     },
     "execution_count": 31,
     "metadata": {},
     "output_type": "execute_result"
    }
   ],
   "source": [
    "newdf2"
   ]
  },
  {
   "cell_type": "code",
   "execution_count": 32,
   "id": "b4a89fb0",
   "metadata": {},
   "outputs": [],
   "source": [
    "#WRITING TO CSV\n",
    "newdf.to_csv('3-to-2-ratio.csv',index = False)\n",
    "newdf2.to_csv('2-to-1-ratio.csv',index = False)"
   ]
  },
  {
   "cell_type": "code",
   "execution_count": null,
   "id": "96fafbca",
   "metadata": {},
   "outputs": [],
   "source": []
  }
 ],
 "metadata": {
  "kernelspec": {
   "display_name": "Python 3",
   "language": "python",
   "name": "python3"
  },
  "language_info": {
   "codemirror_mode": {
    "name": "ipython",
    "version": 3
   },
   "file_extension": ".py",
   "mimetype": "text/x-python",
   "name": "python",
   "nbconvert_exporter": "python",
   "pygments_lexer": "ipython3",
   "version": "3.8.8"
  }
 },
 "nbformat": 4,
 "nbformat_minor": 5
}
