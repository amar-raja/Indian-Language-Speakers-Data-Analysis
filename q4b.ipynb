{
 "cells": [
  {
   "cell_type": "code",
   "execution_count": 1,
   "id": "6fbe21a0",
   "metadata": {
    "execution": {
     "iopub.execute_input": "2021-11-09T11:09:10.339032Z",
     "iopub.status.busy": "2021-11-09T11:09:10.339032Z",
     "iopub.status.idle": "2021-11-09T11:09:11.432524Z",
     "shell.execute_reply": "2021-11-09T11:09:11.432524Z"
    }
   },
   "outputs": [],
   "source": [
    "import numpy as np\n",
    "import pandas as pd\n",
    "import datetime as dt\n",
    "import warnings\n",
    "warnings.filterwarnings('ignore')"
   ]
  },
  {
   "cell_type": "code",
   "execution_count": 2,
   "id": "5703e73c",
   "metadata": {
    "execution": {
     "iopub.execute_input": "2021-11-09T11:09:11.448148Z",
     "iopub.status.busy": "2021-11-09T11:09:11.432524Z",
     "iopub.status.idle": "2021-11-09T11:09:12.947795Z",
     "shell.execute_reply": "2021-11-09T11:09:12.947795Z"
    }
   },
   "outputs": [],
   "source": [
    "#ASSIGNING COL NAMES\n",
    "column_names = ['State', 'District', 'Name', 'TRU','Age-group','Persons.2','Males.2','Females.2','Persons.3','Males.3','Females.3']\n",
    "#READING DATA\n",
    "df = pd.read_excel('DDW-C18-0000.xlsx',names=column_names,skiprows=5)"
   ]
  },
  {
   "cell_type": "code",
   "execution_count": 3,
   "id": "ae40a920",
   "metadata": {
    "execution": {
     "iopub.execute_input": "2021-11-09T11:09:12.947795Z",
     "iopub.status.busy": "2021-11-09T11:09:12.947795Z",
     "iopub.status.idle": "2021-11-09T11:09:12.963410Z",
     "shell.execute_reply": "2021-11-09T11:09:12.963410Z"
    }
   },
   "outputs": [],
   "source": [
    "#TAKING ONLY REQUIRED COLUMNS \"TWO or MORE LANGUAGES\" and \"THREE OR MORE LANGUAGES\"\n",
    "df = df[['State','Name','TRU','Age-group','Persons.2','Persons.3']]"
   ]
  },
  {
   "cell_type": "code",
   "execution_count": 4,
   "id": "5bf6e941",
   "metadata": {
    "execution": {
     "iopub.execute_input": "2021-11-09T11:09:12.979033Z",
     "iopub.status.busy": "2021-11-09T11:09:12.963410Z",
     "iopub.status.idle": "2021-11-09T11:09:12.994655Z",
     "shell.execute_reply": "2021-11-09T11:09:12.994655Z"
    }
   },
   "outputs": [],
   "source": [
    "# REMOVING URBAN AND RURAL ROWS AND AGE-GROUP CATEGORIES OTHER THAN TOTAL\n",
    "idx = df.loc[(df['TRU']!='Total') | (df['Age-group'] !='Total')].index\n",
    "df = df.drop(idx)"
   ]
  },
  {
   "cell_type": "code",
   "execution_count": 5,
   "id": "87fdab88",
   "metadata": {
    "execution": {
     "iopub.execute_input": "2021-11-09T11:09:12.994655Z",
     "iopub.status.busy": "2021-11-09T11:09:12.994655Z",
     "iopub.status.idle": "2021-11-09T11:09:13.010278Z",
     "shell.execute_reply": "2021-11-09T11:09:13.010278Z"
    }
   },
   "outputs": [],
   "source": [
    "df.reset_index(inplace=True,drop=True)"
   ]
  },
  {
   "cell_type": "code",
   "execution_count": 6,
   "id": "0f75314b",
   "metadata": {
    "execution": {
     "iopub.execute_input": "2021-11-09T11:09:13.025898Z",
     "iopub.status.busy": "2021-11-09T11:09:13.025898Z",
     "iopub.status.idle": "2021-11-09T11:09:13.057193Z",
     "shell.execute_reply": "2021-11-09T11:09:13.057193Z"
    }
   },
   "outputs": [
    {
     "data": {
      "text/html": [
       "<div>\n",
       "<style scoped>\n",
       "    .dataframe tbody tr th:only-of-type {\n",
       "        vertical-align: middle;\n",
       "    }\n",
       "\n",
       "    .dataframe tbody tr th {\n",
       "        vertical-align: top;\n",
       "    }\n",
       "\n",
       "    .dataframe thead th {\n",
       "        text-align: right;\n",
       "    }\n",
       "</style>\n",
       "<table border=\"1\" class=\"dataframe\">\n",
       "  <thead>\n",
       "    <tr style=\"text-align: right;\">\n",
       "      <th></th>\n",
       "      <th>State</th>\n",
       "      <th>Name</th>\n",
       "      <th>TRU</th>\n",
       "      <th>Age-group</th>\n",
       "      <th>Persons.2</th>\n",
       "      <th>Persons.3</th>\n",
       "    </tr>\n",
       "  </thead>\n",
       "  <tbody>\n",
       "    <tr>\n",
       "      <th>0</th>\n",
       "      <td>0</td>\n",
       "      <td>INDIA</td>\n",
       "      <td>Total</td>\n",
       "      <td>Total</td>\n",
       "      <td>314988770</td>\n",
       "      <td>86009580</td>\n",
       "    </tr>\n",
       "    <tr>\n",
       "      <th>1</th>\n",
       "      <td>1</td>\n",
       "      <td>JAMMU &amp; KASHMIR</td>\n",
       "      <td>Total</td>\n",
       "      <td>Total</td>\n",
       "      <td>6183190</td>\n",
       "      <td>2096220</td>\n",
       "    </tr>\n",
       "    <tr>\n",
       "      <th>2</th>\n",
       "      <td>2</td>\n",
       "      <td>HIMACHAL PRADESH</td>\n",
       "      <td>Total</td>\n",
       "      <td>Total</td>\n",
       "      <td>1242705</td>\n",
       "      <td>347286</td>\n",
       "    </tr>\n",
       "    <tr>\n",
       "      <th>3</th>\n",
       "      <td>3</td>\n",
       "      <td>PUNJAB</td>\n",
       "      <td>Total</td>\n",
       "      <td>Total</td>\n",
       "      <td>13035224</td>\n",
       "      <td>7829913</td>\n",
       "    </tr>\n",
       "    <tr>\n",
       "      <th>4</th>\n",
       "      <td>4</td>\n",
       "      <td>CHANDIGARH</td>\n",
       "      <td>Total</td>\n",
       "      <td>Total</td>\n",
       "      <td>579920</td>\n",
       "      <td>321979</td>\n",
       "    </tr>\n",
       "  </tbody>\n",
       "</table>\n",
       "</div>"
      ],
      "text/plain": [
       "   State              Name    TRU Age-group  Persons.2  Persons.3\n",
       "0      0             INDIA  Total     Total  314988770   86009580\n",
       "1      1   JAMMU & KASHMIR  Total     Total    6183190    2096220\n",
       "2      2  HIMACHAL PRADESH  Total     Total    1242705     347286\n",
       "3      3            PUNJAB  Total     Total   13035224    7829913\n",
       "4      4        CHANDIGARH  Total     Total     579920     321979"
      ]
     },
     "execution_count": 6,
     "metadata": {},
     "output_type": "execute_result"
    }
   ],
   "source": [
    "df.head()"
   ]
  },
  {
   "cell_type": "code",
   "execution_count": 7,
   "id": "98bc377d",
   "metadata": {
    "execution": {
     "iopub.execute_input": "2021-11-09T11:09:13.057193Z",
     "iopub.status.busy": "2021-11-09T11:09:13.057193Z",
     "iopub.status.idle": "2021-11-09T11:09:13.072760Z",
     "shell.execute_reply": "2021-11-09T11:09:13.072760Z"
    }
   },
   "outputs": [],
   "source": [
    "# CALCULATING EXACTLY TWO-LANG\n",
    "df['only2lang'] = df['Persons.2'] - df['Persons.3']"
   ]
  },
  {
   "cell_type": "code",
   "execution_count": 8,
   "id": "0439aef9",
   "metadata": {
    "execution": {
     "iopub.execute_input": "2021-11-09T11:09:13.072760Z",
     "iopub.status.busy": "2021-11-09T11:09:13.072760Z",
     "iopub.status.idle": "2021-11-09T11:09:13.088381Z",
     "shell.execute_reply": "2021-11-09T11:09:13.088381Z"
    }
   },
   "outputs": [],
   "source": [
    "#CREATING A COPY FOR FURTHER USAGE\n",
    "org_df = df.copy()"
   ]
  },
  {
   "cell_type": "code",
   "execution_count": null,
   "id": "c15463da",
   "metadata": {},
   "outputs": [],
   "source": []
  },
  {
   "cell_type": "markdown",
   "id": "61e3ffa1",
   "metadata": {},
   "source": [
    "PREPROCESSING CENSUSDATA"
   ]
  },
  {
   "cell_type": "code",
   "execution_count": 9,
   "id": "340c7a77",
   "metadata": {
    "execution": {
     "iopub.execute_input": "2021-11-09T11:09:13.088381Z",
     "iopub.status.busy": "2021-11-09T11:09:13.088381Z",
     "iopub.status.idle": "2021-11-09T11:09:16.605910Z",
     "shell.execute_reply": "2021-11-09T11:09:16.605910Z"
    }
   },
   "outputs": [],
   "source": [
    "censuscols = ['State','Level','Name','TRU','TOT_P']\n",
    "census_data = pd.read_excel(r'DDW_PCA0000_2011_Indiastatedist.xlsx',usecols=censuscols)"
   ]
  },
  {
   "cell_type": "code",
   "execution_count": 10,
   "id": "831455c1",
   "metadata": {
    "execution": {
     "iopub.execute_input": "2021-11-09T11:09:16.605910Z",
     "iopub.status.busy": "2021-11-09T11:09:16.605910Z",
     "iopub.status.idle": "2021-11-09T11:09:16.621531Z",
     "shell.execute_reply": "2021-11-09T11:09:16.621531Z"
    }
   },
   "outputs": [],
   "source": [
    "#dropping rows OF TRU =(rural,urban) as not needed\n",
    "a = census_data.loc[(census_data['TRU']=='Rural') | (census_data['TRU']=='Urban') | (census_data['Level'] == 'DISTRICT')].index\n",
    "census_data = census_data.drop(a)"
   ]
  },
  {
   "cell_type": "code",
   "execution_count": 11,
   "id": "f410cba2",
   "metadata": {
    "execution": {
     "iopub.execute_input": "2021-11-09T11:09:16.621531Z",
     "iopub.status.busy": "2021-11-09T11:09:16.621531Z",
     "iopub.status.idle": "2021-11-09T11:09:16.637153Z",
     "shell.execute_reply": "2021-11-09T11:09:16.637153Z"
    }
   },
   "outputs": [],
   "source": [
    "census_data.reset_index(inplace=True,drop=True)"
   ]
  },
  {
   "cell_type": "code",
   "execution_count": null,
   "id": "c8d5cbd1",
   "metadata": {},
   "outputs": [],
   "source": []
  },
  {
   "cell_type": "markdown",
   "id": "92dd10ac",
   "metadata": {},
   "source": [
    "### RATIO OF 1LANG TO 2lang"
   ]
  },
  {
   "cell_type": "code",
   "execution_count": 12,
   "id": "b92422d5",
   "metadata": {
    "execution": {
     "iopub.execute_input": "2021-11-09T11:09:16.637153Z",
     "iopub.status.busy": "2021-11-09T11:09:16.637153Z",
     "iopub.status.idle": "2021-11-09T11:09:16.652774Z",
     "shell.execute_reply": "2021-11-09T11:09:16.652774Z"
    }
   },
   "outputs": [],
   "source": [
    "#CALCULATING ONLY ONE LANG SPEAKERS  and we use the saved dataframe above\n",
    "org_df['only1lang'] = census_data['TOT_P'] - org_df['Persons.2']"
   ]
  },
  {
   "cell_type": "code",
   "execution_count": 13,
   "id": "5f3dda8e",
   "metadata": {
    "execution": {
     "iopub.execute_input": "2021-11-09T11:09:16.652774Z",
     "iopub.status.busy": "2021-11-09T11:09:16.652774Z",
     "iopub.status.idle": "2021-11-09T11:09:16.668435Z",
     "shell.execute_reply": "2021-11-09T11:09:16.668435Z"
    }
   },
   "outputs": [
    {
     "data": {
      "text/html": [
       "<div>\n",
       "<style scoped>\n",
       "    .dataframe tbody tr th:only-of-type {\n",
       "        vertical-align: middle;\n",
       "    }\n",
       "\n",
       "    .dataframe tbody tr th {\n",
       "        vertical-align: top;\n",
       "    }\n",
       "\n",
       "    .dataframe thead th {\n",
       "        text-align: right;\n",
       "    }\n",
       "</style>\n",
       "<table border=\"1\" class=\"dataframe\">\n",
       "  <thead>\n",
       "    <tr style=\"text-align: right;\">\n",
       "      <th></th>\n",
       "      <th>State</th>\n",
       "      <th>Name</th>\n",
       "      <th>TRU</th>\n",
       "      <th>Age-group</th>\n",
       "      <th>Persons.2</th>\n",
       "      <th>Persons.3</th>\n",
       "      <th>only2lang</th>\n",
       "      <th>only1lang</th>\n",
       "    </tr>\n",
       "  </thead>\n",
       "  <tbody>\n",
       "    <tr>\n",
       "      <th>0</th>\n",
       "      <td>0</td>\n",
       "      <td>INDIA</td>\n",
       "      <td>Total</td>\n",
       "      <td>Total</td>\n",
       "      <td>314988770</td>\n",
       "      <td>86009580</td>\n",
       "      <td>228979190</td>\n",
       "      <td>895866207</td>\n",
       "    </tr>\n",
       "    <tr>\n",
       "      <th>1</th>\n",
       "      <td>1</td>\n",
       "      <td>JAMMU &amp; KASHMIR</td>\n",
       "      <td>Total</td>\n",
       "      <td>Total</td>\n",
       "      <td>6183190</td>\n",
       "      <td>2096220</td>\n",
       "      <td>4086970</td>\n",
       "      <td>6358112</td>\n",
       "    </tr>\n",
       "    <tr>\n",
       "      <th>2</th>\n",
       "      <td>2</td>\n",
       "      <td>HIMACHAL PRADESH</td>\n",
       "      <td>Total</td>\n",
       "      <td>Total</td>\n",
       "      <td>1242705</td>\n",
       "      <td>347286</td>\n",
       "      <td>895419</td>\n",
       "      <td>5621897</td>\n",
       "    </tr>\n",
       "    <tr>\n",
       "      <th>3</th>\n",
       "      <td>3</td>\n",
       "      <td>PUNJAB</td>\n",
       "      <td>Total</td>\n",
       "      <td>Total</td>\n",
       "      <td>13035224</td>\n",
       "      <td>7829913</td>\n",
       "      <td>5205311</td>\n",
       "      <td>14708114</td>\n",
       "    </tr>\n",
       "    <tr>\n",
       "      <th>4</th>\n",
       "      <td>4</td>\n",
       "      <td>CHANDIGARH</td>\n",
       "      <td>Total</td>\n",
       "      <td>Total</td>\n",
       "      <td>579920</td>\n",
       "      <td>321979</td>\n",
       "      <td>257941</td>\n",
       "      <td>475530</td>\n",
       "    </tr>\n",
       "  </tbody>\n",
       "</table>\n",
       "</div>"
      ],
      "text/plain": [
       "   State              Name    TRU Age-group  Persons.2  Persons.3  only2lang  \\\n",
       "0      0             INDIA  Total     Total  314988770   86009580  228979190   \n",
       "1      1   JAMMU & KASHMIR  Total     Total    6183190    2096220    4086970   \n",
       "2      2  HIMACHAL PRADESH  Total     Total    1242705     347286     895419   \n",
       "3      3            PUNJAB  Total     Total   13035224    7829913    5205311   \n",
       "4      4        CHANDIGARH  Total     Total     579920     321979     257941   \n",
       "\n",
       "   only1lang  \n",
       "0  895866207  \n",
       "1    6358112  \n",
       "2    5621897  \n",
       "3   14708114  \n",
       "4     475530  "
      ]
     },
     "execution_count": 13,
     "metadata": {},
     "output_type": "execute_result"
    }
   ],
   "source": [
    "org_df.head()"
   ]
  },
  {
   "cell_type": "code",
   "execution_count": 14,
   "id": "868f7982",
   "metadata": {
    "execution": {
     "iopub.execute_input": "2021-11-09T11:09:16.668435Z",
     "iopub.status.busy": "2021-11-09T11:09:16.668435Z",
     "iopub.status.idle": "2021-11-09T11:09:16.684017Z",
     "shell.execute_reply": "2021-11-09T11:09:16.684017Z"
    }
   },
   "outputs": [],
   "source": [
    "#CALCULATING RATIOS\n",
    "org_df['r2to1'] = org_df['only2lang'] / org_df['only1lang']"
   ]
  },
  {
   "cell_type": "code",
   "execution_count": 15,
   "id": "bea29e81",
   "metadata": {
    "execution": {
     "iopub.execute_input": "2021-11-09T11:09:16.684017Z",
     "iopub.status.busy": "2021-11-09T11:09:16.684017Z",
     "iopub.status.idle": "2021-11-09T11:09:16.699637Z",
     "shell.execute_reply": "2021-11-09T11:09:16.699637Z"
    }
   },
   "outputs": [],
   "source": [
    "#SORTING DATAFRAME\n",
    "org_df = org_df.sort_values(['r2to1'])"
   ]
  },
  {
   "cell_type": "code",
   "execution_count": 16,
   "id": "f99743ec",
   "metadata": {
    "execution": {
     "iopub.execute_input": "2021-11-09T11:09:16.699637Z",
     "iopub.status.busy": "2021-11-09T11:09:16.699637Z",
     "iopub.status.idle": "2021-11-09T11:09:16.715260Z",
     "shell.execute_reply": "2021-11-09T11:09:16.715260Z"
    }
   },
   "outputs": [],
   "source": [
    "#AN EMPTY DATAFRAME\n",
    "newdf2 = pd.DataFrame()"
   ]
  },
  {
   "cell_type": "code",
   "execution_count": 17,
   "id": "fc7de21a",
   "metadata": {
    "execution": {
     "iopub.execute_input": "2021-11-09T11:09:16.715260Z",
     "iopub.status.busy": "2021-11-09T11:09:16.715260Z",
     "iopub.status.idle": "2021-11-09T11:09:16.730881Z",
     "shell.execute_reply": "2021-11-09T11:09:16.730881Z"
    }
   },
   "outputs": [],
   "source": [
    "high2 = org_df.iloc[[-1,-2,-3],[0,-1]]                 # SELECTING TOP 3 RATIOS as data is sorted in ASCENDING ORDER OF RATIOS\n",
    "low2 = org_df.iloc[[0,1,2],[0,-1]]                     # SELECTING LEAST 3 RATIOS"
   ]
  },
  {
   "cell_type": "code",
   "execution_count": 18,
   "id": "c033d94c",
   "metadata": {
    "execution": {
     "iopub.execute_input": "2021-11-09T11:09:16.730881Z",
     "iopub.status.busy": "2021-11-09T11:09:16.730881Z",
     "iopub.status.idle": "2021-11-09T11:09:16.746533Z",
     "shell.execute_reply": "2021-11-09T11:09:16.746533Z"
    }
   },
   "outputs": [],
   "source": [
    "#high2\n",
    "#low2"
   ]
  },
  {
   "cell_type": "code",
   "execution_count": 19,
   "id": "d06ae823",
   "metadata": {
    "execution": {
     "iopub.execute_input": "2021-11-09T11:09:16.746533Z",
     "iopub.status.busy": "2021-11-09T11:09:16.746533Z",
     "iopub.status.idle": "2021-11-09T11:09:16.762123Z",
     "shell.execute_reply": "2021-11-09T11:09:16.762123Z"
    }
   },
   "outputs": [],
   "source": [
    "#APPENDING INTO A SINGLE DATAFRAME\n",
    "newdf2 = newdf2.append([high2,low2])\n",
    "\n",
    "newdf2.reset_index(inplace=True,drop=True)"
   ]
  },
  {
   "cell_type": "code",
   "execution_count": 20,
   "id": "54731eb8",
   "metadata": {
    "execution": {
     "iopub.execute_input": "2021-11-09T11:09:16.762123Z",
     "iopub.status.busy": "2021-11-09T11:09:16.762123Z",
     "iopub.status.idle": "2021-11-09T11:09:16.777745Z",
     "shell.execute_reply": "2021-11-09T11:09:16.777745Z"
    }
   },
   "outputs": [
    {
     "data": {
      "text/html": [
       "<div>\n",
       "<style scoped>\n",
       "    .dataframe tbody tr th:only-of-type {\n",
       "        vertical-align: middle;\n",
       "    }\n",
       "\n",
       "    .dataframe tbody tr th {\n",
       "        vertical-align: top;\n",
       "    }\n",
       "\n",
       "    .dataframe thead th {\n",
       "        text-align: right;\n",
       "    }\n",
       "</style>\n",
       "<table border=\"1\" class=\"dataframe\">\n",
       "  <thead>\n",
       "    <tr style=\"text-align: right;\">\n",
       "      <th></th>\n",
       "      <th>State</th>\n",
       "      <th>r2to1</th>\n",
       "    </tr>\n",
       "  </thead>\n",
       "  <tbody>\n",
       "    <tr>\n",
       "      <th>0</th>\n",
       "      <td>35</td>\n",
       "      <td>1.499862</td>\n",
       "    </tr>\n",
       "    <tr>\n",
       "      <th>1</th>\n",
       "      <td>30</td>\n",
       "      <td>1.157976</td>\n",
       "    </tr>\n",
       "    <tr>\n",
       "      <th>2</th>\n",
       "      <td>12</td>\n",
       "      <td>0.938953</td>\n",
       "    </tr>\n",
       "    <tr>\n",
       "      <th>3</th>\n",
       "      <td>8</td>\n",
       "      <td>0.105877</td>\n",
       "    </tr>\n",
       "    <tr>\n",
       "      <th>4</th>\n",
       "      <td>9</td>\n",
       "      <td>0.114661</td>\n",
       "    </tr>\n",
       "    <tr>\n",
       "      <th>5</th>\n",
       "      <td>22</td>\n",
       "      <td>0.133643</td>\n",
       "    </tr>\n",
       "  </tbody>\n",
       "</table>\n",
       "</div>"
      ],
      "text/plain": [
       "   State     r2to1\n",
       "0     35  1.499862\n",
       "1     30  1.157976\n",
       "2     12  0.938953\n",
       "3      8  0.105877\n",
       "4      9  0.114661\n",
       "5     22  0.133643"
      ]
     },
     "execution_count": 20,
     "metadata": {},
     "output_type": "execute_result"
    }
   ],
   "source": [
    "newdf2"
   ]
  },
  {
   "cell_type": "code",
   "execution_count": 21,
   "id": "28d67927",
   "metadata": {
    "execution": {
     "iopub.execute_input": "2021-11-09T11:09:16.777745Z",
     "iopub.status.busy": "2021-11-09T11:09:16.777745Z",
     "iopub.status.idle": "2021-11-09T11:09:16.793366Z",
     "shell.execute_reply": "2021-11-09T11:09:16.793366Z"
    }
   },
   "outputs": [],
   "source": [
    "#WRITING TO CSV\n",
    "newdf2.to_csv('2-to-1-ratio.csv',index = False)"
   ]
  },
  {
   "cell_type": "code",
   "execution_count": null,
   "id": "a2c8d51c",
   "metadata": {},
   "outputs": [],
   "source": []
  }
 ],
 "metadata": {
  "kernelspec": {
   "display_name": "Python 3",
   "language": "python",
   "name": "python3"
  },
  "language_info": {
   "codemirror_mode": {
    "name": "ipython",
    "version": 3
   },
   "file_extension": ".py",
   "mimetype": "text/x-python",
   "name": "python",
   "nbconvert_exporter": "python",
   "pygments_lexer": "ipython3",
   "version": "3.9.6"
  }
 },
 "nbformat": 4,
 "nbformat_minor": 5
}
