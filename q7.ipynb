{
 "cells": [
  {
   "cell_type": "markdown",
   "id": "6658f320",
   "metadata": {},
   "source": [
    "## 7)the top three most spoken languages in a region"
   ]
  },
  {
   "cell_type": "code",
   "execution_count": 1,
   "id": "fa3202c3",
   "metadata": {
    "execution": {
     "iopub.execute_input": "2021-11-09T11:09:40.302217Z",
     "iopub.status.busy": "2021-11-09T11:09:40.302217Z",
     "iopub.status.idle": "2021-11-09T11:09:40.880252Z",
     "shell.execute_reply": "2021-11-09T11:09:40.880252Z"
    }
   },
   "outputs": [],
   "source": [
    "import numpy as np\n",
    "import pandas as pd\n",
    "import datetime as dt\n",
    "import warnings\n",
    "warnings.filterwarnings('ignore')"
   ]
  },
  {
   "cell_type": "code",
   "execution_count": 2,
   "id": "d13cd726",
   "metadata": {
    "execution": {
     "iopub.execute_input": "2021-11-09T11:09:40.880252Z",
     "iopub.status.busy": "2021-11-09T11:09:40.880252Z",
     "iopub.status.idle": "2021-11-09T11:09:40.895868Z",
     "shell.execute_reply": "2021-11-09T11:09:40.895868Z"
    }
   },
   "outputs": [],
   "source": [
    "#file codes BASED ON REGION\n",
    "north_c = ['0100','0200','0300','0400','0500','0600','0700']\n",
    "west_c =  ['0800','2400','2500','2600','2700','3000']\n",
    "central_c = ['0900','2200','2300']\n",
    "east_c = ['1000','1900','2000','2100']\n",
    "south_c = ['2800','2900','3100','3200','3300','3400']\n",
    "north_east_c = ['1100','1200','1300','1400','1500','1600','1700','1800','3500']"
   ]
  },
  {
   "cell_type": "code",
   "execution_count": 3,
   "id": "6e2bfe54",
   "metadata": {
    "execution": {
     "iopub.execute_input": "2021-11-09T11:09:40.895868Z",
     "iopub.status.busy": "2021-11-09T11:09:40.895868Z",
     "iopub.status.idle": "2021-11-09T11:09:40.911448Z",
     "shell.execute_reply": "2021-11-09T11:09:40.911448Z"
    }
   },
   "outputs": [
    {
     "name": "stdout",
     "output_type": "stream",
     "text": [
      "TOTAL NO.OF STATES:  35\n"
     ]
    }
   ],
   "source": [
    "print('TOTAL NO.OF STATES: ',len(north_c)+len(west_c)+len(central_c)+len(east_c)+len(south_c)+len(north_east_c))"
   ]
  },
  {
   "cell_type": "code",
   "execution_count": 4,
   "id": "d9b59f05",
   "metadata": {
    "execution": {
     "iopub.execute_input": "2021-11-09T11:09:40.911448Z",
     "iopub.status.busy": "2021-11-09T11:09:40.911448Z",
     "iopub.status.idle": "2021-11-09T11:09:40.927101Z",
     "shell.execute_reply": "2021-11-09T11:09:40.927101Z"
    }
   },
   "outputs": [],
   "source": [
    "#STORING ALL FILECODES INTO A SINGLE LIST\n",
    "region_codes = [north_c,west_c,central_c,east_c,south_c,north_east_c]"
   ]
  },
  {
   "cell_type": "code",
   "execution_count": 5,
   "id": "494ca527",
   "metadata": {
    "execution": {
     "iopub.execute_input": "2021-11-09T11:09:40.927101Z",
     "iopub.status.busy": "2021-11-09T11:09:40.927101Z",
     "iopub.status.idle": "2021-11-09T11:09:40.942692Z",
     "shell.execute_reply": "2021-11-09T11:09:40.942692Z"
    }
   },
   "outputs": [
    {
     "data": {
      "text/plain": [
       "[['0100', '0200', '0300', '0400', '0500', '0600', '0700'],\n",
       " ['0800', '2400', '2500', '2600', '2700', '3000'],\n",
       " ['0900', '2200', '2300'],\n",
       " ['1000', '1900', '2000', '2100'],\n",
       " ['2800', '2900', '3100', '3200', '3300', '3400'],\n",
       " ['1100', '1200', '1300', '1400', '1500', '1600', '1700', '1800', '3500']]"
      ]
     },
     "execution_count": 5,
     "metadata": {},
     "output_type": "execute_result"
    }
   ],
   "source": [
    "region_codes"
   ]
  },
  {
   "cell_type": "markdown",
   "id": "053b9b37",
   "metadata": {},
   "source": [
    "## READING ALL STATE/UT FILES "
   ]
  },
  {
   "cell_type": "code",
   "execution_count": 6,
   "id": "d9ff653e",
   "metadata": {
    "execution": {
     "iopub.execute_input": "2021-11-09T11:09:40.942692Z",
     "iopub.status.busy": "2021-11-09T11:09:40.942692Z",
     "iopub.status.idle": "2021-11-09T11:09:40.958312Z",
     "shell.execute_reply": "2021-11-09T11:09:40.958312Z"
    }
   },
   "outputs": [],
   "source": [
    "#NAMES OF COLUMNS\n",
    "col_names = ['Code', 'region', 'Code.1', 'Name', 'Persons', 'Males', 'Females', 'Code.2', '1 st subsidiary languages', 'Persons.2', 'Males.2', 'Females.2', 'Code.3', '2nd subsidiary languages', 'Persons.3', 'Males.3', 'Females.3']"
   ]
  },
  {
   "cell_type": "code",
   "execution_count": 7,
   "id": "befcaca9",
   "metadata": {
    "execution": {
     "iopub.execute_input": "2021-11-09T11:09:40.958312Z",
     "iopub.status.busy": "2021-11-09T11:09:40.958312Z",
     "iopub.status.idle": "2021-11-09T11:09:40.973933Z",
     "shell.execute_reply": "2021-11-09T11:09:40.973933Z"
    }
   },
   "outputs": [],
   "source": [
    "#STORING ALL STATE/UT DATAFRAMES INTO A LIST OF DATAFRAMES\n",
    "mother_tongue_df = []    # for part-a\n",
    "all_df = [] # for part-b"
   ]
  },
  {
   "cell_type": "markdown",
   "id": "86118392",
   "metadata": {},
   "source": [
    "READING FILES AND PERFORMING SUMS OF SPEAKERS AS NEEDED"
   ]
  },
  {
   "cell_type": "code",
   "execution_count": 8,
   "id": "d1910212",
   "metadata": {
    "execution": {
     "iopub.execute_input": "2021-11-09T11:09:40.973933Z",
     "iopub.status.busy": "2021-11-09T11:09:40.973933Z",
     "iopub.status.idle": "2021-11-09T11:10:02.569252Z",
     "shell.execute_reply": "2021-11-09T11:10:02.569252Z"
    }
   },
   "outputs": [],
   "source": [
    "for i in region_codes:\n",
    "    for c in i:\n",
    "        f_name = 'c17\\DDW-C17-'+c+'.XLSX'                 #NAME OF THE FILE\n",
    "        file = pd.read_excel(f_name,skiprows=5,names=col_names)    # READING FILE ONE BY ONE\n",
    "        \n",
    "        l2 = file[['Code.2','Persons.2']]               #SECOND LANG SPEAKERS\n",
    "        l3 = file[['Code.3','Persons.3']]               #THIRD LANG SPEAKERS\n",
    "        \n",
    "        file = file[['Code', 'region', 'Code.1', 'Name', 'Persons']]  #TAKING ONLY REQUIRED COLUMN(TOTAL SPEAKERS OF LANGUAGE)\n",
    "        \n",
    "        file.dropna(inplace=True)              #DROPPING NA values\n",
    "        only_mt = file.copy()                    #storing COPY OF DATAFRAME FOR MOTHERTONGUE CALCULATION\n",
    "        \n",
    "        l2.dropna(inplace=True)\n",
    "        l3.dropna(inplace=True)\n",
    "        \n",
    "        l2 = l2.groupby(['Code.2']).agg({'Persons.2':sum})\n",
    "        l3 = l3.groupby(['Code.3']).agg({'Persons.3':sum})\n",
    "        \n",
    "        l2.reset_index(inplace=True)\n",
    "        l3.reset_index(inplace=True)\n",
    "        \n",
    "        file = pd.merge(file,l2,how='left',left_on='Code.1',right_on='Code.2')    #GROUPING ON LANGUAGE\n",
    "        file = pd.merge(file,l3,how='left',left_on='Code.1',right_on='Code.3')\n",
    "        \n",
    "        file['Persons'] = file['Persons'] + file['Persons.2'] + file['Persons.3']   #ADDING SPEAKERS OF RESPECTIVE LANG\n",
    "        \n",
    "        \n",
    "        \n",
    "        file = file.sort_values('Persons',ascending=False)    # SORTING BASED ON NUMBER OF SPEAKERS\n",
    "        only_mt = only_mt.sort_values('Persons',ascending=False) \n",
    "        \n",
    "        all_df.append(file)                #APPENDING DF TO A LIST for partB\n",
    "        mother_tongue_df.append(only_mt)   #APPENDING DF TO A LIST for partA"
   ]
  },
  {
   "cell_type": "code",
   "execution_count": null,
   "id": "00add76d",
   "metadata": {},
   "outputs": [],
   "source": []
  },
  {
   "cell_type": "markdown",
   "id": "e54d1f21",
   "metadata": {},
   "source": [
    "### CLASSIFYING STATES/UT DATAFRAMES INTO RESPECTIVE REGIONS"
   ]
  },
  {
   "cell_type": "code",
   "execution_count": 9,
   "id": "8b1bbe0a",
   "metadata": {
    "execution": {
     "iopub.execute_input": "2021-11-09T11:10:02.569252Z",
     "iopub.status.busy": "2021-11-09T11:10:02.569252Z",
     "iopub.status.idle": "2021-11-09T11:10:02.584910Z",
     "shell.execute_reply": "2021-11-09T11:10:02.584910Z"
    }
   },
   "outputs": [],
   "source": [
    "#REGION SLICING\n",
    "regions = [slice(0,7),slice(7,13),slice(13,16),slice(16,20),slice(20,26),slice(26,35)]"
   ]
  },
  {
   "cell_type": "code",
   "execution_count": 10,
   "id": "bdca9f95",
   "metadata": {
    "execution": {
     "iopub.execute_input": "2021-11-09T11:10:02.584910Z",
     "iopub.status.busy": "2021-11-09T11:10:02.584910Z",
     "iopub.status.idle": "2021-11-09T11:10:02.600532Z",
     "shell.execute_reply": "2021-11-09T11:10:02.600532Z"
    }
   },
   "outputs": [],
   "source": [
    "#COLLECTING TOP THREE LANGUAGES FOR EACH REGION\n",
    "newdf = []\n",
    "newdf_mt = []"
   ]
  },
  {
   "cell_type": "code",
   "execution_count": 11,
   "id": "d0b5c8e1",
   "metadata": {
    "execution": {
     "iopub.execute_input": "2021-11-09T11:10:02.600532Z",
     "iopub.status.busy": "2021-11-09T11:10:02.600532Z",
     "iopub.status.idle": "2021-11-09T11:10:02.663384Z",
     "shell.execute_reply": "2021-11-09T11:10:02.663384Z"
    }
   },
   "outputs": [],
   "source": [
    "for i in range(len(regions)):\n",
    "    names = ['North', 'West', 'Central', 'East', 'South', 'North-East']\n",
    "    #CONCATENITING RESPECTIVE REGION STATES\n",
    "    r1 = pd.concat(all_df[regions[i]])               #PARTB\n",
    "    r2 = pd.concat(mother_tongue_df[regions[i]])     #PARTA\n",
    "    \n",
    "    #SUMMING SPEAKERS\n",
    "    r1 = r1.groupby(['Name']).agg({'Persons':sum})\n",
    "    r1 = r1.sort_values('Persons',ascending=False)\n",
    "    r1.reset_index(inplace=True)\n",
    "    \n",
    "    r2 = r2.groupby(['Name']).agg({'Persons':sum})\n",
    "    r2 = r2.sort_values('Persons',ascending=False)\n",
    "    r2.reset_index(inplace=True)\n",
    "    \n",
    "    #GETTTING TOP 3 HIGHEST SPOKEN LANGUAGE IN THAT REGION\n",
    "    r1 = r1[0:3]\n",
    "    r2 = r2[0:3]\n",
    "    \n",
    "    r1['region'] = names[i]\n",
    "    r2['region'] = names[i]\n",
    "    \n",
    "    newdf.append(r1)\n",
    "    newdf_mt.append(r2)"
   ]
  },
  {
   "cell_type": "code",
   "execution_count": 12,
   "id": "e5ed7a12",
   "metadata": {
    "execution": {
     "iopub.execute_input": "2021-11-09T11:10:02.663384Z",
     "iopub.status.busy": "2021-11-09T11:10:02.663384Z",
     "iopub.status.idle": "2021-11-09T11:10:02.678638Z",
     "shell.execute_reply": "2021-11-09T11:10:02.678638Z"
    }
   },
   "outputs": [],
   "source": [
    "#CONCATINATING ALL REGIONS INTO A SINGLE DATAFRAME\n",
    "finaldf = pd.concat(newdf)\n",
    "finaldf_mt = pd.concat(newdf_mt)"
   ]
  },
  {
   "cell_type": "markdown",
   "id": "9b96b0b2",
   "metadata": {},
   "source": [
    "### CREATING THE RESULTANT DATAFRAME"
   ]
  },
  {
   "cell_type": "code",
   "execution_count": 13,
   "id": "307ee0bf",
   "metadata": {
    "execution": {
     "iopub.execute_input": "2021-11-09T11:10:02.678638Z",
     "iopub.status.busy": "2021-11-09T11:10:02.678638Z",
     "iopub.status.idle": "2021-11-09T11:10:02.694260Z",
     "shell.execute_reply": "2021-11-09T11:10:02.694260Z"
    }
   },
   "outputs": [],
   "source": [
    "reg = finaldf.region.unique()   #STORING REGIONS FOR PARTB\n",
    "t = finaldf.Name.values         # STORING LANGUAGES AS A LIST\n",
    "# ----\n",
    "reg_mt = finaldf_mt.region.unique()   #STORING REGIONS  FOR PARTA\n",
    "t_mt = finaldf_mt.Name.values         # STORING LANGUAGES AS A LIST"
   ]
  },
  {
   "cell_type": "code",
   "execution_count": 14,
   "id": "d95f5461",
   "metadata": {
    "execution": {
     "iopub.execute_input": "2021-11-09T11:10:02.694260Z",
     "iopub.status.busy": "2021-11-09T11:10:02.694260Z",
     "iopub.status.idle": "2021-11-09T11:10:02.709880Z",
     "shell.execute_reply": "2021-11-09T11:10:02.709880Z"
    }
   },
   "outputs": [],
   "source": [
    "#RESULTANT DATAFRAME\n",
    "resultdf = pd.DataFrame(columns=['region','language-1','language-2', 'language-3'])\n",
    "resultdf_mt = pd.DataFrame(columns=['region','language-1','language-2', 'language-3'])"
   ]
  },
  {
   "cell_type": "code",
   "execution_count": 15,
   "id": "7c01f73b",
   "metadata": {
    "execution": {
     "iopub.execute_input": "2021-11-09T11:10:02.709880Z",
     "iopub.status.busy": "2021-11-09T11:10:02.709880Z",
     "iopub.status.idle": "2021-11-09T11:10:02.741492Z",
     "shell.execute_reply": "2021-11-09T11:10:02.741492Z"
    }
   },
   "outputs": [],
   "source": [
    "for i in range(6):\n",
    "    resultdf.loc[i] = [reg[i],t[i*3+0],t[i*3+1],t[i*3+2]]     #APPENDING EACH REGION WITH 3 LANGUAGES TO \"resultdf\"\n",
    "    resultdf_mt.loc[i] = [reg_mt[i],t_mt[i*3+0],t_mt[i*3+1],t_mt[i*3+2]]     #APPENDING EACH REGION WITH 3 LANGUAGES TO \"resultdf\""
   ]
  },
  {
   "cell_type": "code",
   "execution_count": 16,
   "id": "2f41d7fa",
   "metadata": {
    "execution": {
     "iopub.execute_input": "2021-11-09T11:10:02.741492Z",
     "iopub.status.busy": "2021-11-09T11:10:02.741492Z",
     "iopub.status.idle": "2021-11-09T11:10:02.757089Z",
     "shell.execute_reply": "2021-11-09T11:10:02.757089Z"
    }
   },
   "outputs": [],
   "source": [
    "# resultdf"
   ]
  },
  {
   "cell_type": "code",
   "execution_count": 17,
   "id": "87289fb2",
   "metadata": {
    "execution": {
     "iopub.execute_input": "2021-11-09T11:10:02.757089Z",
     "iopub.status.busy": "2021-11-09T11:10:02.757089Z",
     "iopub.status.idle": "2021-11-09T11:10:02.772711Z",
     "shell.execute_reply": "2021-11-09T11:10:02.772711Z"
    }
   },
   "outputs": [],
   "source": [
    "# resultdf_mt"
   ]
  },
  {
   "cell_type": "code",
   "execution_count": 18,
   "id": "5b079005",
   "metadata": {
    "execution": {
     "iopub.execute_input": "2021-11-09T11:10:02.772711Z",
     "iopub.status.busy": "2021-11-09T11:10:02.772711Z",
     "iopub.status.idle": "2021-11-09T11:10:02.788336Z",
     "shell.execute_reply": "2021-11-09T11:10:02.788336Z"
    }
   },
   "outputs": [],
   "source": [
    "#WRITING TO CSV\n",
    "resultdf_mt.to_csv('region-india-a.csv',index=False)\n",
    "resultdf.to_csv('region-india-b.csv',index=False)"
   ]
  },
  {
   "cell_type": "code",
   "execution_count": null,
   "id": "858149eb",
   "metadata": {},
   "outputs": [],
   "source": []
  },
  {
   "cell_type": "code",
   "execution_count": null,
   "id": "c3f06fc9",
   "metadata": {},
   "outputs": [],
   "source": []
  }
 ],
 "metadata": {
  "kernelspec": {
   "display_name": "Python 3",
   "language": "python",
   "name": "python3"
  },
  "language_info": {
   "codemirror_mode": {
    "name": "ipython",
    "version": 3
   },
   "file_extension": ".py",
   "mimetype": "text/x-python",
   "name": "python",
   "nbconvert_exporter": "python",
   "pygments_lexer": "ipython3",
   "version": "3.9.6"
  }
 },
 "nbformat": 4,
 "nbformat_minor": 5
}
