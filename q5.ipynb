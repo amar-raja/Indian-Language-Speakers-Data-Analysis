{
 "cells": [
  {
   "cell_type": "markdown",
   "id": "a79219f8",
   "metadata": {},
   "source": [
    "## 5)age group in India that has the highest percentage of people speaking                            three languages or more"
   ]
  },
  {
   "cell_type": "code",
   "execution_count": 1,
   "id": "4e7e66bd",
   "metadata": {
    "execution": {
     "iopub.execute_input": "2021-11-09T11:09:21.623427Z",
     "iopub.status.busy": "2021-11-09T11:09:21.623427Z",
     "iopub.status.idle": "2021-11-09T11:09:21.639042Z",
     "shell.execute_reply": "2021-11-09T11:09:21.639042Z"
    }
   },
   "outputs": [],
   "source": [
    "#files used-- c18,c14(population by age)"
   ]
  },
  {
   "cell_type": "code",
   "execution_count": 2,
   "id": "607d2c04",
   "metadata": {
    "execution": {
     "iopub.execute_input": "2021-11-09T11:09:21.639042Z",
     "iopub.status.busy": "2021-11-09T11:09:21.639042Z",
     "iopub.status.idle": "2021-11-09T11:09:22.232649Z",
     "shell.execute_reply": "2021-11-09T11:09:22.232649Z"
    }
   },
   "outputs": [],
   "source": [
    "import numpy as np\n",
    "import pandas as pd\n",
    "import datetime as dt\n",
    "import warnings\n",
    "warnings.filterwarnings('ignore')"
   ]
  },
  {
   "cell_type": "code",
   "execution_count": 3,
   "id": "f8980324",
   "metadata": {
    "execution": {
     "iopub.execute_input": "2021-11-09T11:09:22.232649Z",
     "iopub.status.busy": "2021-11-09T11:09:22.232649Z",
     "iopub.status.idle": "2021-11-09T11:09:22.966860Z",
     "shell.execute_reply": "2021-11-09T11:09:22.966860Z"
    }
   },
   "outputs": [],
   "source": [
    "#ASSIGNING COL NAMES\n",
    "column_names = ['State', 'District', 'Name', 'TRU','Age-group','Persons.2','Males.2','Females.2','Persons.3','Males.3','Females.3']\n",
    "#READING DATA\n",
    "df = pd.read_excel('DDW-C18-0000.xlsx',names=column_names,skiprows=5)\n",
    "# df = pd.read_excel('DDW-C18-0000.xlsx',skiprows=1)"
   ]
  },
  {
   "cell_type": "code",
   "execution_count": 4,
   "id": "93f19272",
   "metadata": {
    "execution": {
     "iopub.execute_input": "2021-11-09T11:09:22.982474Z",
     "iopub.status.busy": "2021-11-09T11:09:22.982474Z",
     "iopub.status.idle": "2021-11-09T11:09:22.998095Z",
     "shell.execute_reply": "2021-11-09T11:09:22.998095Z"
    }
   },
   "outputs": [
    {
     "data": {
      "text/plain": [
       "Index(['State', 'District', 'Name', 'TRU', 'Age-group', 'Persons.2', 'Males.2',\n",
       "       'Females.2', 'Persons.3', 'Males.3', 'Females.3'],\n",
       "      dtype='object')"
      ]
     },
     "execution_count": 4,
     "metadata": {},
     "output_type": "execute_result"
    }
   ],
   "source": [
    "df.columns"
   ]
  },
  {
   "cell_type": "code",
   "execution_count": 5,
   "id": "c05d1dff",
   "metadata": {
    "execution": {
     "iopub.execute_input": "2021-11-09T11:09:22.998095Z",
     "iopub.status.busy": "2021-11-09T11:09:22.998095Z",
     "iopub.status.idle": "2021-11-09T11:09:23.013716Z",
     "shell.execute_reply": "2021-11-09T11:09:23.013716Z"
    }
   },
   "outputs": [
    {
     "data": {
      "text/plain": [
       "array(['Total', '5-9', '10-14', '15-19', '20-24', '25-29', '30-49',\n",
       "       '50-69', '70+', 'Age not stated'], dtype=object)"
      ]
     },
     "execution_count": 5,
     "metadata": {},
     "output_type": "execute_result"
    }
   ],
   "source": [
    "df['Age-group'].unique()"
   ]
  },
  {
   "cell_type": "code",
   "execution_count": 6,
   "id": "364bd7bf",
   "metadata": {
    "execution": {
     "iopub.execute_input": "2021-11-09T11:09:23.029338Z",
     "iopub.status.busy": "2021-11-09T11:09:23.029338Z",
     "iopub.status.idle": "2021-11-09T11:09:23.045014Z",
     "shell.execute_reply": "2021-11-09T11:09:23.045014Z"
    }
   },
   "outputs": [],
   "source": [
    "#TAKING ONLY REQUIRED COLUMNS\n",
    "df = df[['State','Name','TRU','Age-group','Persons.3']]\n",
    "# REMOVING URBAN AND RURAL ROWS AND AGE\n",
    "idx = df.loc[(df['TRU']!='Total') | (df['Age-group'] == 'Total')].index\n",
    "df = df.drop(idx)"
   ]
  },
  {
   "cell_type": "code",
   "execution_count": 7,
   "id": "afd21b7b",
   "metadata": {
    "execution": {
     "iopub.execute_input": "2021-11-09T11:09:23.045014Z",
     "iopub.status.busy": "2021-11-09T11:09:23.045014Z",
     "iopub.status.idle": "2021-11-09T11:09:23.060581Z",
     "shell.execute_reply": "2021-11-09T11:09:23.060581Z"
    }
   },
   "outputs": [],
   "source": [
    "df['Age-group'] = df['Age-group'].str.replace('5-9','05-09')   #BECAUSE IT IS USEFUL WHILE SORTING DATA"
   ]
  },
  {
   "cell_type": "code",
   "execution_count": null,
   "id": "83b116c1",
   "metadata": {},
   "outputs": [],
   "source": []
  },
  {
   "cell_type": "markdown",
   "id": "b94b5ae6",
   "metadata": {},
   "source": [
    "PREPROCESSING C14 file (POPULATION BY AGE)"
   ]
  },
  {
   "cell_type": "code",
   "execution_count": 8,
   "id": "bdf843cb",
   "metadata": {
    "execution": {
     "iopub.execute_input": "2021-11-09T11:09:23.060581Z",
     "iopub.status.busy": "2021-11-09T11:09:23.060581Z",
     "iopub.status.idle": "2021-11-09T11:09:23.169929Z",
     "shell.execute_reply": "2021-11-09T11:09:23.169929Z"
    }
   },
   "outputs": [],
   "source": [
    "#ASSIGNING COL NAMES\n",
    "column_names = ['table_name', 'State','District', 'Name','Age-group', 'Persons', 'Males', 'Females','Persons.1', 'Males.1', 'Females.1', 'Persons.2', 'Males.2', 'Females.2']\n",
    "#READING DATA\n",
    "age_pop = pd.read_excel('DDW-0000C-14.xls',names=column_names,skiprows=6)\n"
   ]
  },
  {
   "cell_type": "code",
   "execution_count": 9,
   "id": "9d577d8f",
   "metadata": {
    "execution": {
     "iopub.execute_input": "2021-11-09T11:09:23.169929Z",
     "iopub.status.busy": "2021-11-09T11:09:23.169929Z",
     "iopub.status.idle": "2021-11-09T11:09:23.201209Z",
     "shell.execute_reply": "2021-11-09T11:09:23.201209Z"
    }
   },
   "outputs": [
    {
     "data": {
      "text/plain": [
       "array(['All ages', '0-4', '5-9', '10-14', '15-19', '20-24', '25-29',\n",
       "       '30-34', '35-39', '40-44', '45-49', '50-54', '55-59', '60-64',\n",
       "       '65-69', '70-74', '75-79', '80+', 'Age not stated'], dtype=object)"
      ]
     },
     "execution_count": 9,
     "metadata": {},
     "output_type": "execute_result"
    }
   ],
   "source": [
    "age_pop['Age-group'].unique()"
   ]
  },
  {
   "cell_type": "code",
   "execution_count": 10,
   "id": "01215b36",
   "metadata": {
    "execution": {
     "iopub.execute_input": "2021-11-09T11:09:23.216798Z",
     "iopub.status.busy": "2021-11-09T11:09:23.216798Z",
     "iopub.status.idle": "2021-11-09T11:09:23.232417Z",
     "shell.execute_reply": "2021-11-09T11:09:23.232417Z"
    }
   },
   "outputs": [],
   "source": [
    "# REMOVING AGE_GROUP \"0-4\" as not needed for analysis\n",
    "ix = age_pop.loc[(age_pop['Age-group'] == 'All ages') | (age_pop['Age-group'] == '0-4')].index\n",
    "age_pop = age_pop.drop(ix)"
   ]
  },
  {
   "cell_type": "code",
   "execution_count": 11,
   "id": "c6f10f8d",
   "metadata": {
    "execution": {
     "iopub.execute_input": "2021-11-09T11:09:23.248046Z",
     "iopub.status.busy": "2021-11-09T11:09:23.248046Z",
     "iopub.status.idle": "2021-11-09T11:09:23.263657Z",
     "shell.execute_reply": "2021-11-09T11:09:23.263657Z"
    }
   },
   "outputs": [],
   "source": [
    "#MAKING SOME SPELLING CHANGES\n",
    "age_pop['Name'] = age_pop['Name'].str.replace('State - ','')\n",
    "age_pop['Name'] = age_pop['Name'].str.replace('India','INDIA')"
   ]
  },
  {
   "cell_type": "code",
   "execution_count": 12,
   "id": "84310260",
   "metadata": {
    "execution": {
     "iopub.execute_input": "2021-11-09T11:09:23.263657Z",
     "iopub.status.busy": "2021-11-09T11:09:23.263657Z",
     "iopub.status.idle": "2021-11-09T11:09:23.279280Z",
     "shell.execute_reply": "2021-11-09T11:09:23.279280Z"
    }
   },
   "outputs": [],
   "source": [
    "age_pop['Age-group'] = age_pop['Age-group'].str.replace('5-9','05-09')       #BECAUSE IT IS USEFUL WHILE SORTING DATA"
   ]
  },
  {
   "cell_type": "code",
   "execution_count": 13,
   "id": "e8178062",
   "metadata": {
    "execution": {
     "iopub.execute_input": "2021-11-09T11:09:23.279280Z",
     "iopub.status.busy": "2021-11-09T11:09:23.279280Z",
     "iopub.status.idle": "2021-11-09T11:09:23.294960Z",
     "shell.execute_reply": "2021-11-09T11:09:23.294960Z"
    }
   },
   "outputs": [],
   "source": [
    "age_pop.reset_index(drop=True,inplace=True)"
   ]
  },
  {
   "cell_type": "code",
   "execution_count": 14,
   "id": "952a26a0",
   "metadata": {
    "execution": {
     "iopub.execute_input": "2021-11-09T11:09:23.294960Z",
     "iopub.status.busy": "2021-11-09T11:09:23.294960Z",
     "iopub.status.idle": "2021-11-09T11:09:23.310522Z",
     "shell.execute_reply": "2021-11-09T11:09:23.310522Z"
    }
   },
   "outputs": [],
   "source": [
    "# age_pop.shape"
   ]
  },
  {
   "cell_type": "code",
   "execution_count": 15,
   "id": "33b9eb5e",
   "metadata": {
    "execution": {
     "iopub.execute_input": "2021-11-09T11:09:23.326148Z",
     "iopub.status.busy": "2021-11-09T11:09:23.310522Z",
     "iopub.status.idle": "2021-11-09T11:09:23.326148Z",
     "shell.execute_reply": "2021-11-09T11:09:23.326148Z"
    }
   },
   "outputs": [],
   "source": [
    "#TAKING ONLY REQUIRED COLUMNS\n",
    "age_pop = age_pop[['Name', 'Age-group', 'Persons']]"
   ]
  },
  {
   "cell_type": "code",
   "execution_count": 16,
   "id": "50fa8639",
   "metadata": {
    "execution": {
     "iopub.execute_input": "2021-11-09T11:09:23.341763Z",
     "iopub.status.busy": "2021-11-09T11:09:23.326148Z",
     "iopub.status.idle": "2021-11-09T11:09:23.357385Z",
     "shell.execute_reply": "2021-11-09T11:09:23.357385Z"
    }
   },
   "outputs": [
    {
     "data": {
      "text/plain": [
       "array([126928126, 132709212, 120526449, 111424222, 101413965,  88594951,\n",
       "        85140684,  72438112,  62318327,  49069254,  39146055,  37663707,\n",
       "        26454983,  19208842,   9232503,  11289005,   4489802], dtype=int64)"
      ]
     },
     "execution_count": 16,
     "metadata": {},
     "output_type": "execute_result"
    }
   ],
   "source": [
    "age_pop[age_pop['Name'] == 'INDIA']['Persons'].values"
   ]
  },
  {
   "cell_type": "code",
   "execution_count": 17,
   "id": "4e82a4d5",
   "metadata": {
    "execution": {
     "iopub.execute_input": "2021-11-09T11:09:23.357385Z",
     "iopub.status.busy": "2021-11-09T11:09:23.357385Z",
     "iopub.status.idle": "2021-11-09T11:09:23.373008Z",
     "shell.execute_reply": "2021-11-09T11:09:23.373008Z"
    }
   },
   "outputs": [],
   "source": [
    "# age_pop.head()"
   ]
  },
  {
   "cell_type": "markdown",
   "id": "6c5cc8dc",
   "metadata": {},
   "source": [
    "### CONVERITING ROWS INTO CLOUMNS OF AGE GROUPS to ease calculations"
   ]
  },
  {
   "cell_type": "code",
   "execution_count": 18,
   "id": "37158fad",
   "metadata": {
    "execution": {
     "iopub.execute_input": "2021-11-09T11:09:23.388629Z",
     "iopub.status.busy": "2021-11-09T11:09:23.388629Z",
     "iopub.status.idle": "2021-11-09T11:09:23.404249Z",
     "shell.execute_reply": "2021-11-09T11:09:23.404249Z"
    }
   },
   "outputs": [],
   "source": [
    "t = age_pop.pivot_table(index=['Name'],columns='Age-group')"
   ]
  },
  {
   "cell_type": "code",
   "execution_count": 19,
   "id": "5193a7bd",
   "metadata": {
    "execution": {
     "iopub.execute_input": "2021-11-09T11:09:23.419878Z",
     "iopub.status.busy": "2021-11-09T11:09:23.404249Z",
     "iopub.status.idle": "2021-11-09T11:09:23.419878Z",
     "shell.execute_reply": "2021-11-09T11:09:23.419878Z"
    }
   },
   "outputs": [],
   "source": [
    "t =t.droplevel(0,axis=1)   #DROOPING MULTIINDEX FOR COLUMNS"
   ]
  },
  {
   "cell_type": "code",
   "execution_count": 20,
   "id": "66e48dfe",
   "metadata": {
    "execution": {
     "iopub.execute_input": "2021-11-09T11:09:23.419878Z",
     "iopub.status.busy": "2021-11-09T11:09:23.419878Z",
     "iopub.status.idle": "2021-11-09T11:09:23.435531Z",
     "shell.execute_reply": "2021-11-09T11:09:23.435531Z"
    }
   },
   "outputs": [],
   "source": [
    "t.reset_index(inplace=True)"
   ]
  },
  {
   "cell_type": "code",
   "execution_count": 21,
   "id": "ad640b39",
   "metadata": {
    "execution": {
     "iopub.execute_input": "2021-11-09T11:09:23.435531Z",
     "iopub.status.busy": "2021-11-09T11:09:23.435531Z",
     "iopub.status.idle": "2021-11-09T11:09:23.451114Z",
     "shell.execute_reply": "2021-11-09T11:09:23.451114Z"
    }
   },
   "outputs": [],
   "source": [
    "# t.head()"
   ]
  },
  {
   "cell_type": "code",
   "execution_count": 22,
   "id": "b6ffc1a0",
   "metadata": {
    "execution": {
     "iopub.execute_input": "2021-11-09T11:09:23.451114Z",
     "iopub.status.busy": "2021-11-09T11:09:23.451114Z",
     "iopub.status.idle": "2021-11-09T11:09:23.482394Z",
     "shell.execute_reply": "2021-11-09T11:09:23.482394Z"
    }
   },
   "outputs": [
    {
     "data": {
      "text/html": [
       "<div>\n",
       "<style scoped>\n",
       "    .dataframe tbody tr th:only-of-type {\n",
       "        vertical-align: middle;\n",
       "    }\n",
       "\n",
       "    .dataframe tbody tr th {\n",
       "        vertical-align: top;\n",
       "    }\n",
       "\n",
       "    .dataframe thead th {\n",
       "        text-align: right;\n",
       "    }\n",
       "</style>\n",
       "<table border=\"1\" class=\"dataframe\">\n",
       "  <thead>\n",
       "    <tr style=\"text-align: right;\">\n",
       "      <th>Age-group</th>\n",
       "      <th>70-74</th>\n",
       "      <th>75-79</th>\n",
       "      <th>80+</th>\n",
       "      <th>Age not stated</th>\n",
       "    </tr>\n",
       "  </thead>\n",
       "  <tbody>\n",
       "    <tr>\n",
       "      <th>0</th>\n",
       "      <td>4098</td>\n",
       "      <td>2251</td>\n",
       "      <td>2473</td>\n",
       "      <td>368</td>\n",
       "    </tr>\n",
       "  </tbody>\n",
       "</table>\n",
       "</div>"
      ],
      "text/plain": [
       "Age-group  70-74  75-79   80+  Age not stated\n",
       "0           4098   2251  2473             368"
      ]
     },
     "execution_count": 22,
     "metadata": {},
     "output_type": "execute_result"
    }
   ],
   "source": [
    "t.iloc[[0],[14,15,16,17]]"
   ]
  },
  {
   "cell_type": "code",
   "execution_count": 23,
   "id": "8603d3d9",
   "metadata": {
    "execution": {
     "iopub.execute_input": "2021-11-09T11:09:23.497976Z",
     "iopub.status.busy": "2021-11-09T11:09:23.497976Z",
     "iopub.status.idle": "2021-11-09T11:09:23.513599Z",
     "shell.execute_reply": "2021-11-09T11:09:23.513599Z"
    }
   },
   "outputs": [],
   "source": [
    "#COMBINING AGE GROUPS AS REQUIRED FOR C-19 AGE GROUP FILE\n",
    "t['30-49'] = t.iloc[:,6] + t.iloc[:,7] +t.iloc[:,8] +t.iloc[:,9]\n",
    "t['50-69'] = t.iloc[:,10] + t.iloc[:,11] +t.iloc[:,12] +t.iloc[:,13]\n",
    "t['70+'] = t.iloc[:,14] + t.iloc[:,15] +t.iloc[:,16]"
   ]
  },
  {
   "cell_type": "code",
   "execution_count": null,
   "id": "3a48d7d5",
   "metadata": {
    "execution": {
     "iopub.execute_input": "2021-11-09T10:18:01.611813Z",
     "iopub.status.busy": "2021-11-09T10:18:01.611813Z",
     "iopub.status.idle": "2021-11-09T10:18:01.627433Z",
     "shell.execute_reply": "2021-11-09T10:18:01.627433Z"
    }
   },
   "outputs": [],
   "source": []
  },
  {
   "cell_type": "code",
   "execution_count": 24,
   "id": "d971a61f",
   "metadata": {
    "execution": {
     "iopub.execute_input": "2021-11-09T11:09:23.529219Z",
     "iopub.status.busy": "2021-11-09T11:09:23.513599Z",
     "iopub.status.idle": "2021-11-09T11:09:23.529219Z",
     "shell.execute_reply": "2021-11-09T11:09:23.529219Z"
    }
   },
   "outputs": [],
   "source": [
    "#TAKING ONLY REQUIRED FORMAT AGEGROUPS\n",
    "t = t[['Name', '05-09', '10-14', '15-19', '20-24', '25-29','30-49', '50-69', '70+','Age not stated']]"
   ]
  },
  {
   "cell_type": "code",
   "execution_count": 25,
   "id": "63156469",
   "metadata": {
    "execution": {
     "iopub.execute_input": "2021-11-09T11:09:23.529219Z",
     "iopub.status.busy": "2021-11-09T11:09:23.529219Z",
     "iopub.status.idle": "2021-11-09T11:09:23.544841Z",
     "shell.execute_reply": "2021-11-09T11:09:23.544841Z"
    }
   },
   "outputs": [],
   "source": [
    "# t.head()"
   ]
  },
  {
   "cell_type": "code",
   "execution_count": 26,
   "id": "d7e661c3",
   "metadata": {
    "execution": {
     "iopub.execute_input": "2021-11-09T11:09:23.560462Z",
     "iopub.status.busy": "2021-11-09T11:09:23.560462Z",
     "iopub.status.idle": "2021-11-09T11:09:23.577093Z",
     "shell.execute_reply": "2021-11-09T11:09:23.577093Z"
    }
   },
   "outputs": [],
   "source": [
    "#CONVERTING COLUMNS INTO ROWS (AGE-GROUPS)\n",
    "t=pd.melt(t,id_vars=['Name'])"
   ]
  },
  {
   "cell_type": "code",
   "execution_count": 27,
   "id": "db9b7ec9",
   "metadata": {
    "execution": {
     "iopub.execute_input": "2021-11-09T11:09:23.593234Z",
     "iopub.status.busy": "2021-11-09T11:09:23.577093Z",
     "iopub.status.idle": "2021-11-09T11:09:23.609374Z",
     "shell.execute_reply": "2021-11-09T11:09:23.609374Z"
    }
   },
   "outputs": [],
   "source": [
    "t = t.groupby(['Name','Age-group']).first()\n",
    "t.reset_index(inplace=True)"
   ]
  },
  {
   "cell_type": "code",
   "execution_count": 28,
   "id": "8a99be5f",
   "metadata": {
    "execution": {
     "iopub.execute_input": "2021-11-09T11:09:23.625512Z",
     "iopub.status.busy": "2021-11-09T11:09:23.625512Z",
     "iopub.status.idle": "2021-11-09T11:09:23.641141Z",
     "shell.execute_reply": "2021-11-09T11:09:23.641141Z"
    }
   },
   "outputs": [
    {
     "data": {
      "text/html": [
       "<div>\n",
       "<style scoped>\n",
       "    .dataframe tbody tr th:only-of-type {\n",
       "        vertical-align: middle;\n",
       "    }\n",
       "\n",
       "    .dataframe tbody tr th {\n",
       "        vertical-align: top;\n",
       "    }\n",
       "\n",
       "    .dataframe thead th {\n",
       "        text-align: right;\n",
       "    }\n",
       "</style>\n",
       "<table border=\"1\" class=\"dataframe\">\n",
       "  <thead>\n",
       "    <tr style=\"text-align: right;\">\n",
       "      <th></th>\n",
       "      <th>Name</th>\n",
       "      <th>Age-group</th>\n",
       "      <th>value</th>\n",
       "    </tr>\n",
       "  </thead>\n",
       "  <tbody>\n",
       "    <tr>\n",
       "      <th>0</th>\n",
       "      <td>ANDAMAN &amp; NICOBAR ISLANDS (35)</td>\n",
       "      <td>05-09</td>\n",
       "      <td>30454</td>\n",
       "    </tr>\n",
       "    <tr>\n",
       "      <th>1</th>\n",
       "      <td>ANDAMAN &amp; NICOBAR ISLANDS (35)</td>\n",
       "      <td>10-14</td>\n",
       "      <td>33467</td>\n",
       "    </tr>\n",
       "    <tr>\n",
       "      <th>2</th>\n",
       "      <td>ANDAMAN &amp; NICOBAR ISLANDS (35)</td>\n",
       "      <td>15-19</td>\n",
       "      <td>33026</td>\n",
       "    </tr>\n",
       "    <tr>\n",
       "      <th>3</th>\n",
       "      <td>ANDAMAN &amp; NICOBAR ISLANDS (35)</td>\n",
       "      <td>20-24</td>\n",
       "      <td>37115</td>\n",
       "    </tr>\n",
       "    <tr>\n",
       "      <th>4</th>\n",
       "      <td>ANDAMAN &amp; NICOBAR ISLANDS (35)</td>\n",
       "      <td>25-29</td>\n",
       "      <td>41722</td>\n",
       "    </tr>\n",
       "    <tr>\n",
       "      <th>...</th>\n",
       "      <td>...</td>\n",
       "      <td>...</td>\n",
       "      <td>...</td>\n",
       "    </tr>\n",
       "    <tr>\n",
       "      <th>319</th>\n",
       "      <td>WEST BENGAL (19)</td>\n",
       "      <td>25-29</td>\n",
       "      <td>7997909</td>\n",
       "    </tr>\n",
       "    <tr>\n",
       "      <th>320</th>\n",
       "      <td>WEST BENGAL (19)</td>\n",
       "      <td>30-49</td>\n",
       "      <td>25343015</td>\n",
       "    </tr>\n",
       "    <tr>\n",
       "      <th>321</th>\n",
       "      <td>WEST BENGAL (19)</td>\n",
       "      <td>50-69</td>\n",
       "      <td>12254977</td>\n",
       "    </tr>\n",
       "    <tr>\n",
       "      <th>322</th>\n",
       "      <td>WEST BENGAL (19)</td>\n",
       "      <td>70+</td>\n",
       "      <td>3013935</td>\n",
       "    </tr>\n",
       "    <tr>\n",
       "      <th>323</th>\n",
       "      <td>WEST BENGAL (19)</td>\n",
       "      <td>Age not stated</td>\n",
       "      <td>112451</td>\n",
       "    </tr>\n",
       "  </tbody>\n",
       "</table>\n",
       "<p>324 rows × 3 columns</p>\n",
       "</div>"
      ],
      "text/plain": [
       "                               Name       Age-group     value\n",
       "0    ANDAMAN & NICOBAR ISLANDS (35)           05-09     30454\n",
       "1    ANDAMAN & NICOBAR ISLANDS (35)           10-14     33467\n",
       "2    ANDAMAN & NICOBAR ISLANDS (35)           15-19     33026\n",
       "3    ANDAMAN & NICOBAR ISLANDS (35)           20-24     37115\n",
       "4    ANDAMAN & NICOBAR ISLANDS (35)           25-29     41722\n",
       "..                              ...             ...       ...\n",
       "319                WEST BENGAL (19)           25-29   7997909\n",
       "320                WEST BENGAL (19)           30-49  25343015\n",
       "321                WEST BENGAL (19)           50-69  12254977\n",
       "322                WEST BENGAL (19)             70+   3013935\n",
       "323                WEST BENGAL (19)  Age not stated    112451\n",
       "\n",
       "[324 rows x 3 columns]"
      ]
     },
     "execution_count": 28,
     "metadata": {},
     "output_type": "execute_result"
    }
   ],
   "source": [
    "t           # WE HAVE POPULATION FOR EACH GROUP AS REQUIRED FOR C18 FILE"
   ]
  },
  {
   "cell_type": "code",
   "execution_count": 29,
   "id": "8670cf99",
   "metadata": {
    "execution": {
     "iopub.execute_input": "2021-11-09T11:09:23.656763Z",
     "iopub.status.busy": "2021-11-09T11:09:23.641141Z",
     "iopub.status.idle": "2021-11-09T11:09:23.672382Z",
     "shell.execute_reply": "2021-11-09T11:09:23.672382Z"
    }
   },
   "outputs": [
    {
     "data": {
      "text/plain": [
       "((324, 3), (324, 5))"
      ]
     },
     "execution_count": 29,
     "metadata": {},
     "output_type": "execute_result"
    }
   ],
   "source": [
    "t.shape,df.shape"
   ]
  },
  {
   "cell_type": "markdown",
   "id": "3a76eb77",
   "metadata": {},
   "source": [
    "## FINDING PERCENTAGES OF EACH AGE GROUP"
   ]
  },
  {
   "cell_type": "code",
   "execution_count": 30,
   "id": "4c0e3b13",
   "metadata": {
    "execution": {
     "iopub.execute_input": "2021-11-09T11:09:23.688004Z",
     "iopub.status.busy": "2021-11-09T11:09:23.672382Z",
     "iopub.status.idle": "2021-11-09T11:09:23.688004Z",
     "shell.execute_reply": "2021-11-09T11:09:23.688004Z"
    }
   },
   "outputs": [],
   "source": [
    "df = df.sort_values(['Name','Age-group'])    # TO MATCH WITH POPULATION DATAFRAME"
   ]
  },
  {
   "cell_type": "code",
   "execution_count": 31,
   "id": "bd15100f",
   "metadata": {
    "execution": {
     "iopub.execute_input": "2021-11-09T11:09:23.703625Z",
     "iopub.status.busy": "2021-11-09T11:09:23.688004Z",
     "iopub.status.idle": "2021-11-09T11:09:23.703625Z",
     "shell.execute_reply": "2021-11-09T11:09:23.703625Z"
    }
   },
   "outputs": [],
   "source": [
    "df.reset_index(inplace=True,drop=True)"
   ]
  },
  {
   "cell_type": "code",
   "execution_count": 32,
   "id": "7e30e7f5",
   "metadata": {
    "execution": {
     "iopub.execute_input": "2021-11-09T11:09:23.703625Z",
     "iopub.status.busy": "2021-11-09T11:09:23.703625Z",
     "iopub.status.idle": "2021-11-09T11:09:23.719247Z",
     "shell.execute_reply": "2021-11-09T11:09:23.719247Z"
    }
   },
   "outputs": [],
   "source": [
    "# df.head(10)"
   ]
  },
  {
   "cell_type": "code",
   "execution_count": 33,
   "id": "b902742f",
   "metadata": {
    "execution": {
     "iopub.execute_input": "2021-11-09T11:09:23.734871Z",
     "iopub.status.busy": "2021-11-09T11:09:23.719247Z",
     "iopub.status.idle": "2021-11-09T11:09:23.734871Z",
     "shell.execute_reply": "2021-11-09T11:09:23.734871Z"
    }
   },
   "outputs": [],
   "source": [
    "# t.head()"
   ]
  },
  {
   "cell_type": "code",
   "execution_count": 34,
   "id": "2700d84e",
   "metadata": {
    "execution": {
     "iopub.execute_input": "2021-11-09T11:09:23.750490Z",
     "iopub.status.busy": "2021-11-09T11:09:23.734871Z",
     "iopub.status.idle": "2021-11-09T11:09:23.750490Z",
     "shell.execute_reply": "2021-11-09T11:09:23.750490Z"
    }
   },
   "outputs": [],
   "source": [
    "df['population'] = t['value']    #ADDING POPULATION COLUMN AS A COLUMN"
   ]
  },
  {
   "cell_type": "code",
   "execution_count": 35,
   "id": "0971ddb7",
   "metadata": {
    "execution": {
     "iopub.execute_input": "2021-11-09T11:09:23.750490Z",
     "iopub.status.busy": "2021-11-09T11:09:23.750490Z",
     "iopub.status.idle": "2021-11-09T11:09:23.766113Z",
     "shell.execute_reply": "2021-11-09T11:09:23.766113Z"
    }
   },
   "outputs": [],
   "source": [
    "df['percentage'] = df['Persons.3'] / t['value']   #CALCULATING RATIO"
   ]
  },
  {
   "cell_type": "code",
   "execution_count": 36,
   "id": "7a356d05",
   "metadata": {
    "execution": {
     "iopub.execute_input": "2021-11-09T11:09:23.766113Z",
     "iopub.status.busy": "2021-11-09T11:09:23.766113Z",
     "iopub.status.idle": "2021-11-09T11:09:23.781732Z",
     "shell.execute_reply": "2021-11-09T11:09:23.781732Z"
    }
   },
   "outputs": [
    {
     "data": {
      "text/plain": [
       "(324, 7)"
      ]
     },
     "execution_count": 36,
     "metadata": {},
     "output_type": "execute_result"
    }
   ],
   "source": [
    "df.shape"
   ]
  },
  {
   "cell_type": "code",
   "execution_count": 37,
   "id": "f42186bc",
   "metadata": {
    "execution": {
     "iopub.execute_input": "2021-11-09T11:09:23.797354Z",
     "iopub.status.busy": "2021-11-09T11:09:23.797354Z",
     "iopub.status.idle": "2021-11-09T11:09:23.812976Z",
     "shell.execute_reply": "2021-11-09T11:09:23.812976Z"
    }
   },
   "outputs": [],
   "source": [
    "#finding indexes of maxratio\n",
    "indexes = []\n",
    "for i in range(36):         #iterating for states\n",
    "    t = i*9                 \n",
    "    indexes.append(df.iloc[t:t+9,-1].idxmax())      #finding index of maxratio"
   ]
  },
  {
   "cell_type": "code",
   "execution_count": 38,
   "id": "f507571a",
   "metadata": {
    "execution": {
     "iopub.execute_input": "2021-11-09T11:09:23.812976Z",
     "iopub.status.busy": "2021-11-09T11:09:23.812976Z",
     "iopub.status.idle": "2021-11-09T11:09:23.828597Z",
     "shell.execute_reply": "2021-11-09T11:09:23.828597Z"
    }
   },
   "outputs": [],
   "source": [
    "#MAXRATIO ROWS ARE STORED INTO A DATAFRAME\n",
    "finaldf = df.iloc[indexes]"
   ]
  },
  {
   "cell_type": "code",
   "execution_count": null,
   "id": "b5ac50a8",
   "metadata": {
    "execution": {
     "iopub.execute_input": "2021-11-09T10:18:01.902268Z",
     "iopub.status.busy": "2021-11-09T10:18:01.902268Z",
     "iopub.status.idle": "2021-11-09T10:18:01.917888Z",
     "shell.execute_reply": "2021-11-09T10:18:01.917888Z"
    }
   },
   "outputs": [],
   "source": []
  },
  {
   "cell_type": "code",
   "execution_count": 39,
   "id": "6b70eff9",
   "metadata": {
    "execution": {
     "iopub.execute_input": "2021-11-09T11:09:23.844218Z",
     "iopub.status.busy": "2021-11-09T11:09:23.828597Z",
     "iopub.status.idle": "2021-11-09T11:09:23.844218Z",
     "shell.execute_reply": "2021-11-09T11:09:23.844218Z"
    }
   },
   "outputs": [],
   "source": [
    "#TAKING ONLY REQUIRED COLUMNS AND RENAMING\n",
    "resultdf = finaldf[['State','Age-group','percentage']]\n",
    "resultdf.rename(columns={'State':'state/ut','Age-group':'age-group'})\n",
    "resultdf.reset_index(inplace=True,drop=True)"
   ]
  },
  {
   "cell_type": "code",
   "execution_count": 40,
   "id": "a6e41feb",
   "metadata": {
    "execution": {
     "iopub.execute_input": "2021-11-09T11:09:23.844218Z",
     "iopub.status.busy": "2021-11-09T11:09:23.844218Z",
     "iopub.status.idle": "2021-11-09T11:09:23.859840Z",
     "shell.execute_reply": "2021-11-09T11:09:23.859840Z"
    }
   },
   "outputs": [],
   "source": [
    "#SORTING OUTPUT FILE ON STATEID\n",
    "resultdf.sort_values(['State'],inplace = True)\n",
    "resultdf.reset_index(drop=True,inplace=True)"
   ]
  },
  {
   "cell_type": "code",
   "execution_count": null,
   "id": "fff49efa",
   "metadata": {
    "execution": {
     "iopub.execute_input": "2021-11-09T10:18:01.950056Z",
     "iopub.status.busy": "2021-11-09T10:18:01.950056Z",
     "iopub.status.idle": "2021-11-09T10:18:01.965682Z",
     "shell.execute_reply": "2021-11-09T10:18:01.965682Z"
    }
   },
   "outputs": [],
   "source": []
  },
  {
   "cell_type": "code",
   "execution_count": 41,
   "id": "645b8b13",
   "metadata": {
    "execution": {
     "iopub.execute_input": "2021-11-09T11:09:23.859840Z",
     "iopub.status.busy": "2021-11-09T11:09:23.859840Z",
     "iopub.status.idle": "2021-11-09T11:09:23.875461Z",
     "shell.execute_reply": "2021-11-09T11:09:23.875461Z"
    }
   },
   "outputs": [],
   "source": [
    "#WRITING TO CSV\n",
    "resultdf.to_csv('age-india.csv',index=False)"
   ]
  }
 ],
 "metadata": {
  "kernelspec": {
   "display_name": "Python 3",
   "language": "python",
   "name": "python3"
  },
  "language_info": {
   "codemirror_mode": {
    "name": "ipython",
    "version": 3
   },
   "file_extension": ".py",
   "mimetype": "text/x-python",
   "name": "python",
   "nbconvert_exporter": "python",
   "pygments_lexer": "ipython3",
   "version": "3.9.6"
  }
 },
 "nbformat": 4,
 "nbformat_minor": 5
}
